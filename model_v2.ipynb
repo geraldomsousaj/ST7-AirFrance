{
 "cells": [
  {
   "cell_type": "code",
   "execution_count": 1,
   "metadata": {},
   "outputs": [],
   "source": [
    "from gurobipy import *\n",
    "#from passenger import *\n",
    "import pandas as pd\n",
    "\n",
    "import matplotlib.pyplot as plt\n",
    "import itertools\n",
    "import random"
   ]
  },
  {
   "cell_type": "markdown",
   "id": "a6dbe531",
   "metadata": {},
   "source": [
    "# Data and Variables"
   ]
  },
  {
   "cell_type": "markdown",
   "id": "8e104ca0",
   "metadata": {},
   "source": [
    "We need to represent and access info for all passengers: gender (weight), which group they belong to, if they need to transfer quickly, etc. For this purpose we created a the class _Passenger_. We also created the class _Group_ to represent each group (numer of women, men, transit time)."
   ]
  },
  {
   "cell_type": "code",
   "execution_count": 2,
   "metadata": {},
   "outputs": [],
   "source": [
    "passenger_id = 0\n",
    "\n",
    "class Passenger:\n",
    "    def __init__(self, group_index, passenger_id, description, transit_time=0):\n",
    "        \"\"\"\n",
    "            group_index : \n",
    "            passenger_id : \n",
    "            description : men, women, wheelchair, child\n",
    "            business_economic : class (Business, Economic)\n",
    "            transit_time : optional parameter (inf if there is not transit time)\n",
    "        \n",
    "        \"\"\"\n",
    "        self.group_index = group_index\n",
    "        self.passenger_id = passenger_id\n",
    "        self.description = description\n",
    "        # self.business_economic = business_economic\n",
    "        self.transit_time = transit_time\n",
    "        self.weight()\n",
    "    \n",
    "    def weight(self):\n",
    "        if self.description == 'women':\n",
    "            self.weight = 70\n",
    "        elif self.description == 'men':\n",
    "            self.weight = 85\n",
    "        elif self.description == 'child':\n",
    "            self.weight = 35\n",
    "        else: \n",
    "            self.weight = 70 # need to check this value\n",
    "\n",
    "class Group:\n",
    "\n",
    "    def __init__(self, id_group, num_women, num_men, transit_time=0):\n",
    "        self.id_group = id_group\n",
    "        self.num_women = num_women\n",
    "        self.num_men = num_men\n",
    "        self.transit_time = transit_time\n",
    "\n",
    "        self.members = []\n",
    "\n",
    "        global passenger_id\n",
    "\n",
    "        for i in range(self.num_women):\n",
    "            self.members.append(Passenger(\n",
    "                self.id_group,\n",
    "                passenger_id,\n",
    "                'women',\n",
    "                self.transit_time\n",
    "            ))\n",
    "            passenger_id+=1\n",
    "        \n",
    "        for i in range(self.num_men):\n",
    "            self.members.append(Passenger(\n",
    "                self.id_group,\n",
    "                passenger_id,\n",
    "                'men',\n",
    "                self.transit_time\n",
    "            ))\n",
    "            passenger_id+=1\n",
    "        \n",
    "        return\n",
    "    \n",
    "    \n"
   ]
  },
  {
   "cell_type": "markdown",
   "metadata": {},
   "source": [
    "We then create some functions to import the data from the spreadsheets."
   ]
  },
  {
   "cell_type": "code",
   "execution_count": 3,
   "metadata": {},
   "outputs": [],
   "source": [
    "def read_and_preprocess(file, date):\n",
    "    df = pd.read_excel(file, date)\n",
    "    \n",
    "    df['TransitTime (min)'] = df['TransitTime'].apply(lambda x: float(str(x).split(':')[0])*60+float(str(x).split(':')[1]))\n",
    "\n",
    "    df[['Femmes', 'Hommes', 'Enfants', 'WCHR', 'WCHB']] = df[['Femmes', 'Hommes', 'Enfants', 'WCHR', 'WCHB']].fillna(0)\n",
    "\n",
    "    return df\n",
    "\n",
    "def get_list_passengers(df):\n",
    "    list_groups = {}\n",
    "\n",
    "    for idx, row in df.iterrows():\n",
    "\n",
    "        list_groups[int(idx)] = Group(\n",
    "            id_group=int(idx),\n",
    "            num_women=int(row['Femmes']),\n",
    "            num_men=int(row['Hommes']),\n",
    "            transit_time=row['TransitTime (min)']\n",
    "        )\n",
    "    \n",
    "    return list_groups\n"
   ]
  },
  {
   "cell_type": "code",
   "execution_count": 4,
   "metadata": {},
   "outputs": [],
   "source": [
    "# Load Passengers\n",
    "\n",
    "df = read_and_preprocess('DataSeating - V3.xlsx', '21Oct')\n",
    "\n",
    "groups = get_list_passengers(df)\n",
    "\n",
    "passengers = list()\n",
    "\n",
    "for g in groups.keys():\n",
    "    passengers += groups[g].members\n",
    "\n",
    "passenger_from_id = {}\n",
    "for p in passengers:\n",
    "    passenger_from_id[p.passenger_id] = p"
   ]
  },
  {
   "cell_type": "markdown",
   "metadata": {},
   "source": [
    "As a final setup we define some problem parameters."
   ]
  },
  {
   "cell_type": "code",
   "execution_count": 5,
   "metadata": {},
   "outputs": [],
   "source": [
    "\n",
    "passengers_count = len(passengers)\n",
    "\n",
    "width = 6\n",
    "height = 28\n",
    "X = [-3, -2, -1, 0, 1, 2, 3]\n",
    "Y = list(range(-14,0)) + list(range(1,14+1))\n",
    "\n",
    "total_weight = sum(p.weight for p in passengers)\n"
   ]
  },
  {
   "cell_type": "code",
   "execution_count": 6,
   "metadata": {},
   "outputs": [
    {
     "data": {
      "text/plain": [
       "6"
      ]
     },
     "execution_count": 6,
     "metadata": {},
     "output_type": "execute_result"
    }
   ],
   "source": [
    "groups[5].members[0].passenger_id"
   ]
  },
  {
   "cell_type": "markdown",
   "metadata": {},
   "source": [
    "# Model Definition"
   ]
  },
  {
   "cell_type": "code",
   "execution_count": 7,
   "metadata": {},
   "outputs": [
    {
     "name": "stdout",
     "output_type": "stream",
     "text": [
      "Set parameter Username\n",
      "Academic license - for non-commercial use only - expires 2023-01-27\n"
     ]
    }
   ],
   "source": [
    "m = Model(\"model_v1\")"
   ]
  },
  {
   "cell_type": "markdown",
   "metadata": {},
   "source": [
    "The main decision variable here is the allocation $A^p_{(i~,~j)}$ : binary variable that says for each passenger with id $p$ if he is located at the seat in coordinates $(i~,~j)$.\n",
    "\n",
    "\n",
    "This is represented in python by the variable allocation[p, i, j].\n",
    "\n",
    "For instance, if passenger 1 is at the place : (2, 3), then allocation[1,2,3] = 1. Else, it equals 0."
   ]
  },
  {
   "cell_type": "code",
   "execution_count": 8,
   "metadata": {},
   "outputs": [],
   "source": [
    "# Allocation Variables\n",
    "allocation = m.addVars(passengers_count, width+1, height, vtype=GRB.BINARY, name=\"Allocation\")"
   ]
  },
  {
   "cell_type": "markdown",
   "metadata": {},
   "source": [
    "# Constraints"
   ]
  },
  {
   "cell_type": "markdown",
   "id": "3d2f5067",
   "metadata": {},
   "source": [
    "**At most 1 person per seat:** there can't be more than 1 person in each seat.\n",
    "\n",
    "$$\\sum_{p \\in \\text{Passengers}} A^p_{(i~,~j)} \\leq 1~~\\forall (i, j) \\in \\text{Seats}$$"
   ]
  },
  {
   "cell_type": "code",
   "execution_count": 9,
   "metadata": {},
   "outputs": [],
   "source": [
    "# Make sure that there is at most one person per seat\n",
    "C_limited_seat = m.addConstrs((quicksum([allocation[p.passenger_id,i,j] for p in passengers]) <= 1 for i in range(width+1) for j in range(height)))"
   ]
  },
  {
   "cell_type": "markdown",
   "id": "3d2f5067",
   "metadata": {},
   "source": [
    "**Every passenger is served:** every passenger should be allocated to precisely one seat.\n",
    "\n",
    "$$\\sum_{(i,j) \\in \\text{Seats}} A^p_{(i~,~j)} == 1~~\\forall p \\in \\text{Passengers}$$"
   ]
  },
  {
   "cell_type": "code",
   "execution_count": 10,
   "metadata": {},
   "outputs": [],
   "source": [
    "# Maker sure that everyone is seated and only in one spot\n",
    "C_serve_all = m.addConstrs((quicksum([allocation[p.passenger_id,i,j] for i in range(width+1) for j in range(height) ]) == 1 for p in passengers))"
   ]
  },
  {
   "cell_type": "markdown",
   "metadata": {},
   "source": [
    "**Empty Corridor**: there should be no passenger allocated to the corridor (i=3).\n",
    "$$A^p_{(i,j)}==0~~\\forall (p,i,j) \\in \\text{Passengers} \\times \\text{Seats}$$"
   ]
  },
  {
   "cell_type": "code",
   "execution_count": 11,
   "metadata": {},
   "outputs": [],
   "source": [
    "# Make sure that the corridor is not considered as a possible seat\n",
    "C_empty_corridor = m.addConstrs((0 == allocation[p,3,j] for p in range(passengers_count) for j in range(height)))"
   ]
  },
  {
   "cell_type": "markdown",
   "metadata": {},
   "source": [
    "**Barycenter Constraint:** the center of mass of the passengers must reside within a limited area. For this purpose the barycenter function is divided into its X and Y coordinate and then each constraint is divided into an inferior limit and a superior limit constraint.\n",
    "\n",
    "$$ \\frac{1}{w_t}\\sum_{(p,i,j) \\in \\text{Passengers} \\times \\text{Seats}} A^p_{(i,j)} \\cdot w(p) \\cdot X(i) \\leq B_{max}^X$$\n",
    "\n",
    "$$ \\frac{1}{w_t}\\sum_{(p,i,j) \\in \\text{Passengers} \\times \\text{Seats}} A^p_{(i,j)} \\cdot w(p) \\cdot X(i) \\geq B_{min}^X$$\n",
    "\n",
    "$$ \\frac{1}{w_t}\\sum_{(p,i,j) \\in \\text{Passengers} \\times \\text{Seats}} A^p_{(i,j)} \\cdot w(p) \\cdot Y(j) \\leq B_{max}^Y$$\n",
    "\n",
    "$$ \\frac{1}{w_t}\\sum_{(p,i,j) \\in \\text{Passengers} \\times \\text{Seats}} A^p_{(i,j)} \\cdot w(p) \\cdot Y(j) \\geq B_{min}^Y$$\n",
    "\n",
    "\n",
    "Where :\n",
    "- $w_t$ is the total weight of all passengers.\n",
    "- $w(p)$ is the weight of passenger with id $p$.\n",
    "- $X(i)$ is the distance in meters at coordinate i.\n",
    "- $Y(j)$ is the distance in meters at coordinate j.\n",
    "- $B_{max}^X$ is the upper bound of the barycenter in the X axis.\n",
    "- $B_{min}^X$ is the lower bound of the barycenter in the X axis.\n",
    "- $B_{max}^Y$ is the upper bound of the barycenter in the Y axis.\n",
    "- $B_{min}^Y$ is the lower bound of the barycenter in the Y axis.\n"
   ]
  },
  {
   "cell_type": "code",
   "execution_count": 12,
   "metadata": {},
   "outputs": [],
   "source": [
    "# Center of Mass function\n",
    "barycenter_X = quicksum([p.weight * allocation[p.passenger_id,i,j]*X[i] for p in passengers for i in range(width+1) for j in range(height)])/total_weight\n",
    "barycenter_Y = quicksum([p.weight * allocation[p.passenger_id,i,j]*Y[j] for p in passengers for i in range(width+1) for j in range(height)])/total_weight\n",
    "\n",
    "# Barycenter limits\n",
    "bary_lim_X = 1\n",
    "bary_lim_Y = 2\n",
    "\n",
    "# Make sure that the center of mass is centralized\n",
    "\n",
    "C_bary_X_p = m.addConstr(barycenter_X <=  bary_lim_X)\n",
    "C_bary_X_m = m.addConstr(barycenter_X >= -bary_lim_X)\n",
    "C_bary_Y_p = m.addConstr(barycenter_Y <=  bary_lim_Y)\n",
    "C_bary_Y_m = m.addConstr(barycenter_Y >= -bary_lim_Y)"
   ]
  },
  {
   "cell_type": "markdown",
   "metadata": {},
   "source": [
    "**Transit Time Constraint**: the people with a transit time inferior to 90 minutes should stay in the front.\n",
    "\n",
    "$$ A^p_{(i,j)} \\leq \\epsilon(p) ~~ \\forall (p,i,j) \\in \\text{Passengers in transit} \\times \\text{Columns} \\times \\text{Upper rows}$$\n",
    "\n",
    "Where $\\epsilon(p)$ is a new auxiliary variable that we want to minimize."
   ]
  },
  {
   "cell_type": "code",
   "execution_count": 13,
   "metadata": {},
   "outputs": [],
   "source": [
    "epsilon = m.addVars([p.passenger_id for p in passengers if p.transit_time < 90], vtype=GRB.BINARY)\n",
    "m.addConstrs(allocation[p.passenger_id,i,j] <= epsilon[p.passenger_id] for i in range(width+1) for j in range(height) for p in passengers if p.transit_time < 90 and j > 13);"
   ]
  },
  {
   "cell_type": "markdown",
   "metadata": {},
   "source": [
    "# Objective Function"
   ]
  },
  {
   "cell_type": "markdown",
   "metadata": {},
   "source": [
    "As a precise calculation of the satisfying function leads to a combinatorial explosion, we decided to instead try to reduce the rectangle formed by the distribution of people from the same group, in this way they try to collapse to the same region of the plane.\n",
    "\n",
    "For this we will need the following additional variables:\n",
    "- $i^G_{max}$: highest $i$ coordinate between members of group $G$.\n",
    "- $i^G_{min}$: lowest $i$ coordinate between members of group $G$.\n",
    "- $j^G_{max}$: highest $j$ coordinate between members of group $G$.\n",
    "- $j^G_{min}$: lowest $j$ coordinate between members of group $G$.\n",
    "- $\\Delta i^G$: $i^G_{max}-i^G_{min}$\n",
    "- $\\Delta j^G$: $j^G_{max}-j^G_{min}$\n",
    "\n",
    "The first 4 variables are set by defining inequality constraints based on the coordinates of the members of a group and the 2 last variables are set by defining equality constraints. Thus, our objective function becomes.\n",
    "\n",
    "$$ \\sum_{G \\in \\text{Groups}} \\Delta i^G + \\phi \\cdot \\Delta j^G + \\sum_{p \\in G} \\epsilon(p) $$\n",
    "\n",
    "Where $\\phi$ is a factor for giving priorities to grouping people in the same rows."
   ]
  },
  {
   "cell_type": "code",
   "execution_count": 14,
   "metadata": {},
   "outputs": [],
   "source": [
    "i_p = m.addVars(passengers_count, vtype=GRB.INTEGER, lb=0, ub=width, name=\"i_p\")\n",
    "j_p = m.addVars(passengers_count, vtype=GRB.INTEGER, lb=0, ub=height, name=\"j_p\")\n",
    "\n",
    "i_g_max = m.addVars(len(groups), vtype=GRB.INTEGER, lb=0, ub=width, name=\"i_g_max\")\n",
    "i_g_min = m.addVars(len(groups), vtype=GRB.INTEGER, lb=0, ub=width, name=\"i_g_min\")\n",
    "j_g_max = m.addVars(len(groups), vtype=GRB.INTEGER, lb=0, ub=height, name=\"j_g_max\")\n",
    "j_g_min = m.addVars(len(groups), vtype=GRB.INTEGER, lb=0, ub=height, name=\"j_g_min\")\n",
    "\n",
    "i_g_delta = m.addVars(len(groups), vtype=GRB.INTEGER, lb=0, ub=width, name=\"i_g_delta\")\n",
    "j_g_delta = m.addVars(len(groups), vtype=GRB.INTEGER, lb=0, ub=height, name=\"j_g_delta\")\n",
    "\n",
    "m.addConstrs((i_p[p] == quicksum([i*allocation[p,i,j] for i in range(width+1) for j in range(height)]) for p in range(passengers_count)))\n",
    "m.addConstrs((j_p[p] == quicksum([j*allocation[p,i,j] for i in range(width+1) for j in range(height)]) for p in range(passengers_count)))\n",
    "\n",
    "for g in range(len(groups)):\n",
    "    if len(groups[g].members) > 1 and  len(groups[g].members)  <= 3:\n",
    "    \n",
    "        m.addConstrs(( i_g_max[g] >= i_p[p.passenger_id] for p in groups[g].members ))\n",
    "        m.addConstrs(( i_g_min[g] <= i_p[p.passenger_id] for p in groups[g].members ))\n",
    "\n",
    "        m.addConstrs(( j_g_max[g] >= j_p[p.passenger_id] for p in groups[g].members ))\n",
    "        m.addConstrs(( j_g_min[g] <= j_p[p.passenger_id] for p in groups[g].members ))\n",
    "        \n",
    "        m.addConstr(i_g_delta[g] == i_g_max[g] - i_g_min[g])\n",
    "        m.addConstr(j_g_delta[g] == j_g_max[g] - j_g_min[g])\n",
    "\n",
    "        m.addConstr((i_g_delta[g] + j_g_delta[g] >= 1))\n",
    "\n",
    "\n",
    "def in_grid(i, j):\n",
    "    return i>=0 and j>=0 and j<height and i <= width\n",
    "\n",
    "e_allocation = lambda p, i, j: allocation[p,i,j] if in_grid(i,j) else 0\n",
    "\n",
    "\n",
    "m.setObjective( i_g_delta.sum() + 500*j_g_delta.sum() + epsilon.sum(), GRB.MINIMIZE)\n"
   ]
  },
  {
   "cell_type": "markdown",
   "metadata": {},
   "source": [
    "**Observation:** unfortunately our objective function couldn't calculate an optimal solution in due time. Thus for this delivery we only considered the $j$ coordinate which is really far away from being a good solution."
   ]
  },
  {
   "cell_type": "code",
   "execution_count": 15,
   "metadata": {},
   "outputs": [
    {
     "name": "stdout",
     "output_type": "stream",
     "text": [
      "Gurobi Optimizer version 9.5.0 build v9.5.0rc5 (win64)\n",
      "Thread count: 6 physical cores, 12 logical processors, using up to 12 threads\n",
      "Optimize a model with 14558 rows, 30659 columns and 246977 nonzeros\n",
      "Model fingerprint: 0x6ff823e6\n",
      "Variable types: 0 continuous, 30659 integer (29691 binary)\n",
      "Coefficient statistics:\n",
      "  Matrix range     [6e-03, 3e+01]\n",
      "  Objective range  [1e+00, 5e+02]\n",
      "  Bounds range     [1e+00, 3e+01]\n",
      "  RHS range        [1e+00, 2e+00]\n",
      "Presolve removed 13733 rows and 4957 columns\n",
      "Presolve time: 0.91s\n",
      "Presolved: 825 rows, 25702 columns, 117512 nonzeros\n",
      "Variable types: 2 continuous, 25700 integer (25368 binary)\n",
      "Found heuristic solution: objective 445701.00000\n",
      "Found heuristic solution: objective 29113.000000\n",
      "\n",
      "Root relaxation: objective 4.400000e+01, 1719 iterations, 0.29 seconds (0.21 work units)\n",
      "\n",
      "    Nodes    |    Current Node    |     Objective Bounds      |     Work\n",
      " Expl Unexpl |  Obj  Depth IntInf | Incumbent    BestBd   Gap | It/Node Time\n",
      "\n",
      "     0     0   44.00000    0  163 29113.0000   44.00000   100%     -    2s\n",
      "H    0     0                    29090.000000   44.00000   100%     -    2s\n",
      "H    0     0                    28554.000000   44.00000   100%     -    2s\n",
      "H    0     0                    19050.000000   44.00000   100%     -    3s\n",
      "     0     0   44.00000    0  342 19050.0000   44.00000   100%     -    3s\n",
      "H    0     0                    19045.000000   44.00000   100%     -    4s\n",
      "H    0     0                    6557.0000000   44.00000  99.3%     -    6s\n",
      "H    0     0                    6058.0000000   44.00000  99.3%     -    6s\n",
      "     0     0   44.00000    0  169 6058.00000   44.00000  99.3%     -    8s\n",
      "H    0     0                    4557.0000000   44.00000  99.0%     -    8s\n",
      "     0     0   44.00000    0  220 4557.00000   44.00000  99.0%     -    8s\n",
      "     0     0   44.00000    0  179 4557.00000   44.00000  99.0%     -   10s\n",
      "     0     0   44.00000    0  189 4557.00000   44.00000  99.0%     -   10s\n",
      "     0     0   44.00000    0  173 4557.00000   44.00000  99.0%     -   11s\n",
      "     0     0   44.00000    0  143 4557.00000   44.00000  99.0%     -   11s\n",
      "H    0     0                    4056.0000000   44.00000  98.9%     -   12s\n",
      "     0     2   44.00000    0  143 4056.00000   44.00000  98.9%     -   12s\n",
      "H   31    38                    1549.0000000   44.00000  97.2%   215   17s\n",
      "H   32    38                    1050.0000000   44.00000  95.8%   224   17s\n",
      "H   34    38                      49.0000000   44.00000  10.2%   230   17s\n",
      "H   78    84                      47.0000000   44.00000  6.38%   280   18s\n",
      "H  124   135                      45.0000000   44.00000  2.22%   274   19s\n",
      "\n",
      "Cutting planes:\n",
      "  Cover: 18\n",
      "  Clique: 2\n",
      "  MIR: 5\n",
      "  GUB cover: 5\n",
      "  Zero half: 32\n",
      "  RLT: 5\n",
      "  Relax-and-lift: 7\n",
      "\n",
      "Explored 147 nodes (83855 simplex iterations) in 21.14 seconds (14.16 work units)\n",
      "Thread count was 12 (of 12 available processors)\n",
      "\n",
      "Solution count 10: 45 47 49 ... 19045\n",
      "\n",
      "Optimal solution found (tolerance 1.00e-04)\n",
      "Best objective 4.500000000000e+01, best bound 4.500000000000e+01, gap 0.0000%\n"
     ]
    }
   ],
   "source": [
    "m.update()\n",
    "m.optimize()"
   ]
  },
  {
   "cell_type": "markdown",
   "metadata": {},
   "source": [
    "# Verifying Results\n",
    "- Green Seats: people travelling alone\n",
    "- Orange Seats: people travelling in group, the printed number corresponds to the group id.\n",
    "- Asterisk: people with transit time inferior to 90 minutes.\n",
    "- Blue Rectangle: limits of the acceptable barycenter.\n",
    "- Red Circle: actual barycenter."
   ]
  },
  {
   "cell_type": "code",
   "execution_count": 16,
   "metadata": {},
   "outputs": [
    {
     "name": "stdout",
     "output_type": "stream",
     "text": [
      "Center of Mass: (0.02, -0.85)\n",
      "Passenger ID:0 - Coordinate: (4, 11)\n",
      "Passenger ID:1 - Coordinate: (2, 11)\n",
      "Passenger ID:2 - Coordinate: (6, 1)\n",
      "Passenger ID:3 - Coordinate: (4, 9)\n",
      "Passenger ID:4 - Coordinate: (1, 17)\n",
      "Passenger ID:5 - Coordinate: (0, 17)\n",
      "Passenger ID:6 - Coordinate: (0, 22)\n",
      "Passenger ID:7 - Coordinate: (4, 17)\n",
      "Passenger ID:8 - Coordinate: (2, 2)\n",
      "Passenger ID:9 - Coordinate: (1, 2)\n",
      "Passenger ID:10 - Coordinate: (2, 24)\n",
      "Passenger ID:11 - Coordinate: (2, 10)\n",
      "Passenger ID:12 - Coordinate: (0, 27)\n",
      "Passenger ID:13 - Coordinate: (1, 27)\n",
      "Passenger ID:14 - Coordinate: (6, 2)\n",
      "Passenger ID:15 - Coordinate: (6, 27)\n",
      "Passenger ID:16 - Coordinate: (0, 10)\n",
      "Passenger ID:17 - Coordinate: (1, 10)\n",
      "Passenger ID:18 - Coordinate: (2, 25)\n",
      "Passenger ID:19 - Coordinate: (2, 14)\n",
      "Passenger ID:20 - Coordinate: (4, 10)\n",
      "Passenger ID:21 - Coordinate: (5, 10)\n",
      "Passenger ID:22 - Coordinate: (4, 20)\n",
      "Passenger ID:23 - Coordinate: (4, 8)\n",
      "Passenger ID:24 - Coordinate: (2, 1)\n",
      "Passenger ID:25 - Coordinate: (4, 13)\n",
      "Passenger ID:26 - Coordinate: (6, 13)\n",
      "Passenger ID:27 - Coordinate: (4, 5)\n",
      "Passenger ID:28 - Coordinate: (2, 12)\n",
      "Passenger ID:29 - Coordinate: (6, 0)\n",
      "Passenger ID:30 - Coordinate: (0, 6)\n",
      "Passenger ID:31 - Coordinate: (0, 7)\n",
      "Passenger ID:32 - Coordinate: (1, 7)\n",
      "Passenger ID:33 - Coordinate: (5, 13)\n",
      "Passenger ID:34 - Coordinate: (1, 1)\n",
      "Passenger ID:35 - Coordinate: (0, 1)\n",
      "Passenger ID:36 - Coordinate: (0, 8)\n",
      "Passenger ID:37 - Coordinate: (1, 8)\n",
      "Passenger ID:38 - Coordinate: (5, 2)\n",
      "Passenger ID:39 - Coordinate: (0, 2)\n",
      "Passenger ID:40 - Coordinate: (5, 21)\n",
      "Passenger ID:41 - Coordinate: (6, 21)\n",
      "Passenger ID:42 - Coordinate: (4, 16)\n",
      "Passenger ID:43 - Coordinate: (6, 20)\n",
      "Passenger ID:44 - Coordinate: (6, 14)\n",
      "Passenger ID:45 - Coordinate: (4, 15)\n",
      "Passenger ID:46 - Coordinate: (5, 15)\n",
      "Passenger ID:47 - Coordinate: (2, 3)\n",
      "Passenger ID:48 - Coordinate: (6, 17)\n",
      "Passenger ID:49 - Coordinate: (1, 26)\n",
      "Passenger ID:50 - Coordinate: (2, 26)\n",
      "Passenger ID:51 - Coordinate: (1, 11)\n",
      "Passenger ID:52 - Coordinate: (0, 11)\n",
      "Passenger ID:53 - Coordinate: (4, 7)\n",
      "Passenger ID:54 - Coordinate: (4, 19)\n",
      "Passenger ID:55 - Coordinate: (4, 18)\n",
      "Passenger ID:56 - Coordinate: (6, 26)\n",
      "Passenger ID:57 - Coordinate: (5, 26)\n",
      "Passenger ID:58 - Coordinate: (6, 5)\n",
      "Passenger ID:59 - Coordinate: (5, 5)\n",
      "Passenger ID:60 - Coordinate: (2, 7)\n",
      "Passenger ID:61 - Coordinate: (0, 26)\n",
      "Passenger ID:62 - Coordinate: (4, 3)\n",
      "Passenger ID:63 - Coordinate: (5, 7)\n",
      "Passenger ID:64 - Coordinate: (6, 7)\n",
      "Passenger ID:65 - Coordinate: (6, 11)\n",
      "Passenger ID:66 - Coordinate: (2, 8)\n",
      "Passenger ID:67 - Coordinate: (1, 6)\n",
      "Passenger ID:68 - Coordinate: (2, 5)\n",
      "Passenger ID:69 - Coordinate: (5, 11)\n",
      "Passenger ID:70 - Coordinate: (4, 24)\n",
      "Passenger ID:71 - Coordinate: (5, 24)\n",
      "Passenger ID:72 - Coordinate: (5, 3)\n",
      "Passenger ID:73 - Coordinate: (5, 9)\n",
      "Passenger ID:74 - Coordinate: (2, 19)\n",
      "Passenger ID:75 - Coordinate: (0, 3)\n",
      "Passenger ID:76 - Coordinate: (1, 3)\n",
      "Passenger ID:77 - Coordinate: (1, 20)\n",
      "Passenger ID:78 - Coordinate: (0, 20)\n",
      "Passenger ID:79 - Coordinate: (1, 15)\n",
      "Passenger ID:80 - Coordinate: (0, 15)\n",
      "Passenger ID:81 - Coordinate: (4, 4)\n",
      "Passenger ID:82 - Coordinate: (1, 13)\n",
      "Passenger ID:83 - Coordinate: (0, 13)\n",
      "Passenger ID:84 - Coordinate: (5, 16)\n",
      "Passenger ID:85 - Coordinate: (5, 1)\n",
      "Passenger ID:86 - Coordinate: (4, 1)\n",
      "Passenger ID:87 - Coordinate: (5, 4)\n",
      "Passenger ID:88 - Coordinate: (6, 18)\n",
      "Passenger ID:89 - Coordinate: (5, 18)\n",
      "Passenger ID:90 - Coordinate: (4, 14)\n",
      "Passenger ID:91 - Coordinate: (2, 0)\n",
      "Passenger ID:92 - Coordinate: (0, 0)\n",
      "Passenger ID:93 - Coordinate: (1, 0)\n",
      "Passenger ID:94 - Coordinate: (5, 22)\n",
      "Passenger ID:95 - Coordinate: (2, 4)\n",
      "Passenger ID:96 - Coordinate: (5, 8)\n",
      "Passenger ID:97 - Coordinate: (6, 8)\n",
      "Passenger ID:98 - Coordinate: (1, 5)\n",
      "Passenger ID:99 - Coordinate: (0, 5)\n",
      "Passenger ID:100 - Coordinate: (0, 23)\n",
      "Passenger ID:101 - Coordinate: (1, 23)\n",
      "Passenger ID:102 - Coordinate: (6, 9)\n",
      "Passenger ID:103 - Coordinate: (0, 16)\n",
      "Passenger ID:104 - Coordinate: (2, 13)\n",
      "Passenger ID:105 - Coordinate: (4, 25)\n",
      "Passenger ID:106 - Coordinate: (1, 19)\n",
      "Passenger ID:107 - Coordinate: (5, 12)\n",
      "Passenger ID:108 - Coordinate: (6, 12)\n",
      "Passenger ID:109 - Coordinate: (4, 22)\n",
      "Passenger ID:110 - Coordinate: (6, 10)\n",
      "Passenger ID:111 - Coordinate: (2, 17)\n",
      "Passenger ID:112 - Coordinate: (4, 21)\n",
      "Passenger ID:113 - Coordinate: (6, 16)\n",
      "Passenger ID:114 - Coordinate: (2, 16)\n",
      "Passenger ID:115 - Coordinate: (0, 19)\n",
      "Passenger ID:116 - Coordinate: (6, 22)\n",
      "Passenger ID:117 - Coordinate: (6, 4)\n",
      "Passenger ID:118 - Coordinate: (1, 4)\n",
      "Passenger ID:119 - Coordinate: (0, 4)\n",
      "Passenger ID:120 - Coordinate: (4, 6)\n",
      "Passenger ID:121 - Coordinate: (6, 24)\n",
      "Passenger ID:122 - Coordinate: (6, 3)\n",
      "Passenger ID:123 - Coordinate: (4, 23)\n",
      "Passenger ID:124 - Coordinate: (6, 6)\n",
      "Passenger ID:125 - Coordinate: (5, 6)\n",
      "Passenger ID:126 - Coordinate: (0, 9)\n",
      "Passenger ID:127 - Coordinate: (4, 12)\n",
      "Passenger ID:128 - Coordinate: (4, 27)\n",
      "Passenger ID:129 - Coordinate: (5, 27)\n",
      "Passenger ID:130 - Coordinate: (5, 17)\n",
      "Passenger ID:131 - Coordinate: (2, 27)\n",
      "Passenger ID:132 - Coordinate: (1, 9)\n",
      "Passenger ID:133 - Coordinate: (0, 25)\n",
      "Passenger ID:134 - Coordinate: (4, 2)\n",
      "Passenger ID:135 - Coordinate: (2, 9)\n",
      "Passenger ID:136 - Coordinate: (0, 21)\n",
      "Passenger ID:137 - Coordinate: (0, 12)\n",
      "Passenger ID:138 - Coordinate: (1, 12)\n",
      "Passenger ID:139 - Coordinate: (5, 0)\n",
      "Passenger ID:140 - Coordinate: (4, 0)\n",
      "Passenger ID:141 - Coordinate: (2, 20)\n",
      "Passenger ID:142 - Coordinate: (2, 23)\n",
      "Passenger ID:143 - Coordinate: (6, 23)\n",
      "Passenger ID:144 - Coordinate: (5, 19)\n",
      "Passenger ID:145 - Coordinate: (6, 19)\n",
      "Passenger ID:146 - Coordinate: (0, 14)\n",
      "Passenger ID:147 - Coordinate: (1, 14)\n",
      "Passenger ID:148 - Coordinate: (0, 18)\n",
      "Passenger ID:149 - Coordinate: (1, 18)\n",
      "Passenger ID:150 - Coordinate: (2, 6)\n"
     ]
    },
    {
     "data": {
      "text/plain": [
       "(-3.5, 3.5)"
      ]
     },
     "execution_count": 16,
     "metadata": {},
     "output_type": "execute_result"
    },
    {
     "data": {
      "image/png": "[encoded data removed]",
      "text/plain": [
       "<Figure size 360x720 with 1 Axes>"
      ]
     },
     "metadata": {
      "needs_background": "light"
     },
     "output_type": "display_data"
    }
   ],
   "source": [
    "cm_x = round(barycenter_X.getValue(),2)\n",
    "cm_y = round(barycenter_Y.getValue(),2)\n",
    "\n",
    "print(f\"Center of Mass: {(cm_x, cm_y)}\")\n",
    "\n",
    "\n",
    "fig = plt.figure(figsize=(5,10));\n",
    "for seat in itertools.product(X,Y):\n",
    "    if seat[0] != 0:\n",
    "        plt.plot(seat[0],seat[1],'s', color=\"gray\", markersize=15)\n",
    "\n",
    "plt.plot([bary_lim_X, bary_lim_X]  , [-bary_lim_Y, bary_lim_Y],   color=\"cyan\")\n",
    "plt.plot([-bary_lim_X, -bary_lim_X], [-bary_lim_Y, bary_lim_Y],   color=\"cyan\")\n",
    "plt.plot([-bary_lim_X, bary_lim_X] , [bary_lim_Y, bary_lim_Y],    color=\"cyan\")\n",
    "plt.plot([-bary_lim_X, bary_lim_X] , [-bary_lim_Y, -bary_lim_Y],   color=\"cyan\")\n",
    "\n",
    "#for g in range(len(groups)):\n",
    "    #print(j_g_max[g].x, j_g_min[g].x)\n",
    "\n",
    "for a in allocation:\n",
    "    if allocation[a].x == 1:\n",
    "        label = \"\"\n",
    "        if len(groups[passenger_from_id[a[0]].group_index].members) == 1:\n",
    "            color = \"green\"\n",
    "        else:\n",
    "            color = \"orange\"\n",
    "            label = label + str(passengers[a[0]].group_index)\n",
    "            \n",
    "\n",
    "        \n",
    "        #plt.plot(X[a[1]],Y[a[2]], 'o',color=colors[passengers[a[0]].group_index-1])\n",
    "        plt.plot(X[a[1]], Y[a[2]], 's', color=color, markersize=15)\n",
    "        plt.text(X[a[1]], Y[a[2]],label+\"*\"*(passenger_from_id[a[0]].transit_time < 90), ha=\"center\", va=\"center\")\n",
    "        print(f\"Passenger ID:{a[0]} - Coordinate: {(a[1], a[2])}\")\n",
    "plt.plot(cm_x,cm_y, \"o\", color=\"red\")\n",
    "plt.ylim([-14.5,14.5])\n",
    "plt.xlim([-3.5,3.5])"
   ]
  },
  {
   "cell_type": "code",
   "execution_count": 17,
   "metadata": {},
   "outputs": [
    {
     "data": {
      "text/plain": [
       "{0: <gurobi.Var i_g_delta[0] (value -0.0)>,\n",
       " 1: <gurobi.Var i_g_delta[1] (value -0.0)>,\n",
       " 2: <gurobi.Var i_g_delta[2] (value -0.0)>,\n",
       " 3: <gurobi.Var i_g_delta[3] (value -0.0)>,\n",
       " 4: <gurobi.Var i_g_delta[4] (value 1.0)>,\n",
       " 5: <gurobi.Var i_g_delta[5] (value -0.0)>,\n",
       " 6: <gurobi.Var i_g_delta[6] (value -0.0)>,\n",
       " 7: <gurobi.Var i_g_delta[7] (value 1.0)>,\n",
       " 8: <gurobi.Var i_g_delta[8] (value -0.0)>,\n",
       " 9: <gurobi.Var i_g_delta[9] (value -0.0)>,\n",
       " 10: <gurobi.Var i_g_delta[10] (value 1.0)>,\n",
       " 11: <gurobi.Var i_g_delta[11] (value -0.0)>,\n",
       " 12: <gurobi.Var i_g_delta[12] (value -0.0)>,\n",
       " 13: <gurobi.Var i_g_delta[13] (value 1.0)>,\n",
       " 14: <gurobi.Var i_g_delta[14] (value -0.0)>,\n",
       " 15: <gurobi.Var i_g_delta[15] (value -0.0)>,\n",
       " 16: <gurobi.Var i_g_delta[16] (value 1.0)>,\n",
       " 17: <gurobi.Var i_g_delta[17] (value -0.0)>,\n",
       " 18: <gurobi.Var i_g_delta[18] (value -0.0)>,\n",
       " 19: <gurobi.Var i_g_delta[19] (value -0.0)>,\n",
       " 20: <gurobi.Var i_g_delta[20] (value 1.0)>,\n",
       " 21: <gurobi.Var i_g_delta[21] (value -0.0)>,\n",
       " 22: <gurobi.Var i_g_delta[22] (value 1.0)>,\n",
       " 23: <gurobi.Var i_g_delta[23] (value 1.0)>,\n",
       " 24: <gurobi.Var i_g_delta[24] (value -0.0)>,\n",
       " 25: <gurobi.Var i_g_delta[25] (value -0.0)>,\n",
       " 26: <gurobi.Var i_g_delta[26] (value 1.0)>,\n",
       " 27: <gurobi.Var i_g_delta[27] (value -0.0)>,\n",
       " 28: <gurobi.Var i_g_delta[28] (value -0.0)>,\n",
       " 29: <gurobi.Var i_g_delta[29] (value -0.0)>,\n",
       " 30: <gurobi.Var i_g_delta[30] (value 1.0)>,\n",
       " 31: <gurobi.Var i_g_delta[31] (value -0.0)>,\n",
       " 32: <gurobi.Var i_g_delta[32] (value -0.0)>,\n",
       " 33: <gurobi.Var i_g_delta[33] (value 1.0)>,\n",
       " 34: <gurobi.Var i_g_delta[34] (value 1.0)>,\n",
       " 35: <gurobi.Var i_g_delta[35] (value -0.0)>,\n",
       " 36: <gurobi.Var i_g_delta[36] (value -0.0)>,\n",
       " 37: <gurobi.Var i_g_delta[37] (value -0.0)>,\n",
       " 38: <gurobi.Var i_g_delta[38] (value 1.0)>,\n",
       " 39: <gurobi.Var i_g_delta[39] (value -0.0)>,\n",
       " 40: <gurobi.Var i_g_delta[40] (value -0.0)>,\n",
       " 41: <gurobi.Var i_g_delta[41] (value -0.0)>,\n",
       " 42: <gurobi.Var i_g_delta[42] (value -0.0)>,\n",
       " 43: <gurobi.Var i_g_delta[43] (value -0.0)>,\n",
       " 44: <gurobi.Var i_g_delta[44] (value 1.0)>,\n",
       " 45: <gurobi.Var i_g_delta[45] (value -0.0)>,\n",
       " 46: <gurobi.Var i_g_delta[46] (value -0.0)>,\n",
       " 47: <gurobi.Var i_g_delta[47] (value -0.0)>,\n",
       " 48: <gurobi.Var i_g_delta[48] (value -0.0)>,\n",
       " 49: <gurobi.Var i_g_delta[49] (value -0.0)>,\n",
       " 50: <gurobi.Var i_g_delta[50] (value 1.0)>,\n",
       " 51: <gurobi.Var i_g_delta[51] (value -0.0)>,\n",
       " 52: <gurobi.Var i_g_delta[52] (value -0.0)>,\n",
       " 53: <gurobi.Var i_g_delta[53] (value -0.0)>,\n",
       " 54: <gurobi.Var i_g_delta[54] (value 1.0)>,\n",
       " 55: <gurobi.Var i_g_delta[55] (value 1.0)>,\n",
       " 56: <gurobi.Var i_g_delta[56] (value 1.0)>,\n",
       " 57: <gurobi.Var i_g_delta[57] (value -0.0)>,\n",
       " 58: <gurobi.Var i_g_delta[58] (value 1.0)>,\n",
       " 59: <gurobi.Var i_g_delta[59] (value -0.0)>,\n",
       " 60: <gurobi.Var i_g_delta[60] (value 1.0)>,\n",
       " 61: <gurobi.Var i_g_delta[61] (value -0.0)>,\n",
       " 62: <gurobi.Var i_g_delta[62] (value 1.0)>,\n",
       " 63: <gurobi.Var i_g_delta[63] (value -0.0)>,\n",
       " 64: <gurobi.Var i_g_delta[64] (value 2.0)>,\n",
       " 65: <gurobi.Var i_g_delta[65] (value -0.0)>,\n",
       " 66: <gurobi.Var i_g_delta[66] (value -0.0)>,\n",
       " 67: <gurobi.Var i_g_delta[67] (value 1.0)>,\n",
       " 68: <gurobi.Var i_g_delta[68] (value -0.0)>,\n",
       " 69: <gurobi.Var i_g_delta[69] (value -0.0)>,\n",
       " 70: <gurobi.Var i_g_delta[70] (value 1.0)>,\n",
       " 71: <gurobi.Var i_g_delta[71] (value -0.0)>,\n",
       " 72: <gurobi.Var i_g_delta[72] (value -0.0)>,\n",
       " 73: <gurobi.Var i_g_delta[73] (value -0.0)>,\n",
       " 74: <gurobi.Var i_g_delta[74] (value -0.0)>,\n",
       " 75: <gurobi.Var i_g_delta[75] (value -0.0)>,\n",
       " 76: <gurobi.Var i_g_delta[76] (value 1.0)>,\n",
       " 77: <gurobi.Var i_g_delta[77] (value -0.0)>,\n",
       " 78: <gurobi.Var i_g_delta[78] (value -0.0)>,\n",
       " 79: <gurobi.Var i_g_delta[79] (value -0.0)>,\n",
       " 80: <gurobi.Var i_g_delta[80] (value -0.0)>,\n",
       " 81: <gurobi.Var i_g_delta[81] (value -0.0)>,\n",
       " 82: <gurobi.Var i_g_delta[82] (value -0.0)>,\n",
       " 83: <gurobi.Var i_g_delta[83] (value -0.0)>,\n",
       " 84: <gurobi.Var i_g_delta[84] (value -0.0)>,\n",
       " 85: <gurobi.Var i_g_delta[85] (value -0.0)>,\n",
       " 86: <gurobi.Var i_g_delta[86] (value 1.0)>,\n",
       " 87: <gurobi.Var i_g_delta[87] (value -0.0)>,\n",
       " 88: <gurobi.Var i_g_delta[88] (value -0.0)>,\n",
       " 89: <gurobi.Var i_g_delta[89] (value -0.0)>,\n",
       " 90: <gurobi.Var i_g_delta[90] (value -0.0)>,\n",
       " 91: <gurobi.Var i_g_delta[91] (value 1.0)>,\n",
       " 92: <gurobi.Var i_g_delta[92] (value -0.0)>,\n",
       " 93: <gurobi.Var i_g_delta[93] (value -0.0)>,\n",
       " 94: <gurobi.Var i_g_delta[94] (value 1.0)>,\n",
       " 95: <gurobi.Var i_g_delta[95] (value -0.0)>,\n",
       " 96: <gurobi.Var i_g_delta[96] (value -0.0)>,\n",
       " 97: <gurobi.Var i_g_delta[97] (value -0.0)>,\n",
       " 98: <gurobi.Var i_g_delta[98] (value -0.0)>,\n",
       " 99: <gurobi.Var i_g_delta[99] (value -0.0)>,\n",
       " 100: <gurobi.Var i_g_delta[100] (value -0.0)>,\n",
       " 101: <gurobi.Var i_g_delta[101] (value -0.0)>,\n",
       " 102: <gurobi.Var i_g_delta[102] (value 1.0)>,\n",
       " 103: <gurobi.Var i_g_delta[103] (value 1.0)>,\n",
       " 104: <gurobi.Var i_g_delta[104] (value -0.0)>,\n",
       " 105: <gurobi.Var i_g_delta[105] (value -0.0)>,\n",
       " 106: <gurobi.Var i_g_delta[106] (value -0.0)>,\n",
       " 107: <gurobi.Var i_g_delta[107] (value 1.0)>,\n",
       " 108: <gurobi.Var i_g_delta[108] (value 1.0)>,\n",
       " 109: <gurobi.Var i_g_delta[109] (value 1.0)>,\n",
       " 110: <gurobi.Var i_g_delta[110] (value -0.0)>}"
      ]
     },
     "execution_count": 17,
     "metadata": {},
     "output_type": "execute_result"
    }
   ],
   "source": [
    "i_g_delta"
   ]
  }
 ],
 "metadata": {
  "interpreter": {
   "hash": "4edc6bdd590a5a6b92c48979e9e47f5638d187f6c4ff6a23aa9775e5ee8e38f8"
  },
  "kernelspec": {
   "display_name": "Python 3.9.10 64-bit (windows store)",
   "language": "python",
   "name": "python3"
  },
  "language_info": {
   "codemirror_mode": {
    "name": "ipython",
    "version": 3
   },
   "file_extension": ".py",
   "mimetype": "text/x-python",
   "name": "python",
   "nbconvert_exporter": "python",
   "pygments_lexer": "ipython3",
   "version": "3.9.10"
  },
  "orig_nbformat": 4
 },
 "nbformat": 4,
 "nbformat_minor": 2
}
