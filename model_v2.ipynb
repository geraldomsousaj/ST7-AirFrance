{
 "cells": [
  {
   "cell_type": "code",
<<<<<<< HEAD
   "execution_count": 1,
=======
   "execution_count": 25,
>>>>>>> 2cdb63817057e7aeafc94ea8ed9c350c6a113497
   "metadata": {},
   "outputs": [],
   "source": [
    "from gurobipy import *\n",
    "#from passenger import *\n",
    "import pandas as pd\n",
    "\n",
    "import matplotlib.pyplot as plt\n",
    "import itertools\n",
    "import random"
   ]
  },
  {
   "cell_type": "markdown",
   "id": "a6dbe531",
   "metadata": {},
   "source": [
    "# Data and Variables"
   ]
  },
  {
   "cell_type": "markdown",
   "id": "8e104ca0",
   "metadata": {},
   "source": [
    "We need to represent and access info for all passengers: gender (weight), which group they belong to, if they need to transfer quickly, etc. For this purpose we created a the class _Passenger_. We also created the class _Group_ to represent each group (numer of women, men, transit time)."
   ]
  },
  {
   "cell_type": "code",
<<<<<<< HEAD
   "execution_count": 2,
=======
   "execution_count": 26,
>>>>>>> 2cdb63817057e7aeafc94ea8ed9c350c6a113497
   "metadata": {},
   "outputs": [],
   "source": [
    "class Passenger(object):\n",
    "    id_counter = 0\n",
    "    def __init__(self, group_index, description, class_type, transit_time=0):\n",
    "        \"\"\"\n",
    "            group_index : \n",
    "            description : men, women, child, wheelchair, stretcher\n",
    "            transit_time : optional parameter (inf if there is not transit time)\n",
    "        \"\"\"\n",
    "\n",
    "        self.group_index = group_index\n",
    "        self.id = Passenger.id_counter\n",
    "        self.description = description\n",
    "        self.transit_time = transit_time\n",
    "        self.class_type = class_type\n",
    "        self.weight = self.get_weight()\n",
    "\n",
    "        Passenger.id_counter += 1\n",
    "\n",
    "    def get_weight(self):\n",
    "        if self.description == 'women':\n",
    "            return 70\n",
    "        elif self.description == 'men':\n",
    "            return 85\n",
    "        elif self.description == 'child':\n",
    "            return 35\n",
    "        else: \n",
    "            return 100 \n",
    "\n",
    "    def __str__(self):\n",
    "        return f\"{self.id}: ({self.description}, {self.group_index})\" \n",
    "\n",
    "    def __repr__(self):\n",
    "        return str(self)\n",
    "\n",
    "class Group:\n",
    "\n",
    "    def __init__(self, id, people_count, class_type, transit_time=0):\n",
    "        self.id = id\n",
    "        self.class_type = class_type\n",
    "        self.transit_time = transit_time\n",
    "\n",
    "        self.members = []\n",
    "\n",
    "        for desc in people_count:\n",
    "            for _ in range(people_count[desc]):\n",
    "                self.members.append(Passenger(\n",
    "                        self.id,\n",
    "                        desc,\n",
    "                        self.class_type,\n",
    "                        self.transit_time\n",
    "                    )) \n",
    "        \n",
    "    def __getitem__(self, arg):\n",
    "        return self.members[arg]\n",
    "\n",
    "    def __str__(self):\n",
    "        return f\"G{self.id}: \" + str(self.members)\n",
    "\n",
    "    def __repr__(self):\n",
    "        return str(self)\n",
    "    \n",
    "\n",
    "    def __len__(self):\n",
    "        return len(self.members)\n",
    "    \n",
    "\n",
    "\n"
   ]
  },
  {
   "cell_type": "markdown",
   "metadata": {},
   "source": [
    "We then create some functions to import the data from the spreadsheets."
   ]
  },
  {
   "cell_type": "code",
<<<<<<< HEAD
   "execution_count": 3,
=======
   "execution_count": 27,
>>>>>>> 2cdb63817057e7aeafc94ea8ed9c350c6a113497
   "metadata": {},
   "outputs": [],
   "source": [
    "def read_and_preprocess(file, date):\n",
    "    df = pd.read_excel(file, date)\n",
    "    \n",
    "    df.drop(df.tail(2).index, inplace=True)\n",
    "\n",
    "    df['TransitTime (min)'] = df['TransitTime'].apply(lambda x: float(str(x).split(':')[0])*60+float(str(x).split(':')[1]))\n",
    "\n",
    "    df[['Femmes', 'Hommes', 'Enfants', 'WCHR', 'WCHB']] = df[['Femmes', 'Hommes', 'Enfants', 'WCHR', 'WCHB']].fillna(0)\n",
    "\n",
    "    return df\n",
    "\n",
    "def get_list_passengers(df):\n",
    "    list_groups = {}\n",
    "\n",
    "    for idx, row in df.iterrows():\n",
    "\n",
    "\n",
    "        people_count = {\n",
    "            'women': int(row['Femmes']),\n",
    "            'men': int(row['Hommes']),\n",
    "            'child': int(row['Enfants']),\n",
    "            'wheelchair': int(row['WCHR']),\n",
    "            'stretcher': int(row['WCHB']),\n",
    "        }\n",
    "\n",
    "        list_groups[int(idx)] = Group(\n",
    "            id=int(row[\"Numéro du groupe\"])-1, # -1 temporary fix for ids\n",
    "            people_count = people_count,\n",
    "            class_type = row[\"Classe\"],\n",
    "            transit_time=row['TransitTime (min)']\n",
    "        )\n",
    "    \n",
    "    return list_groups\n",
    "\n",
    "\n"
   ]
  },
  {
   "cell_type": "code",
<<<<<<< HEAD
   "execution_count": 4,
=======
   "execution_count": 28,
   "metadata": {},
   "outputs": [
    {
     "name": "stdout",
     "output_type": "stream",
     "text": [
      "{'xmax': 28, 'ymax': 7, 'corridor_y': 4, 'max_transition_row': 13, 'exit': 12, 'seats': {'real': [[1, 1], [1, 2], [1, 3], [1, 5], [1, 6], [1, 7], [2, 1], [2, 2], [2, 3], [2, 5], [2, 6], [2, 7], [3, 1], [3, 2], [3, 3], [3, 5], [3, 6], [3, 7], [4, 1], [4, 2], [4, 3], [4, 5], [4, 6], [4, 7], [5, 1], [5, 2], [5, 3], [5, 5], [5, 6], [5, 7], [6, 1], [6, 2], [6, 3], [6, 5], [6, 6], [6, 7], [7, 1], [7, 2], [7, 3], [7, 5], [7, 6], [7, 7], [8, 1], [8, 2], [8, 3], [8, 5], [8, 6], [8, 7], [9, 1], [9, 2], [9, 3], [9, 5], [9, 6], [9, 7], [10, 1], [10, 2], [10, 3], [10, 5], [10, 6], [10, 7], [11, 1], [11, 2], [11, 3], [11, 5], [11, 6], [11, 7], [12, 1], [12, 2], [12, 3], [12, 5], [12, 6], [12, 7], [13, 1], [13, 2], [13, 3], [13, 5], [13, 6], [13, 7], [14, 1], [14, 2], [14, 3], [14, 5], [14, 6], [14, 7], [15, 1], [15, 2], [15, 3], [15, 5], [15, 6], [15, 7], [16, 1], [16, 2], [16, 3], [16, 5], [16, 6], [16, 7], [17, 1], [17, 2], [17, 3], [17, 5], [17, 6], [17, 7], [18, 1], [18, 2], [18, 3], [18, 5], [18, 6], [18, 7], [19, 1], [19, 2], [19, 3], [19, 5], [19, 6], [19, 7], [20, 1], [20, 2], [20, 3], [20, 5], [20, 6], [20, 7], [21, 1], [21, 2], [21, 3], [21, 5], [21, 6], [21, 7], [22, 1], [22, 2], [22, 3], [22, 5], [22, 6], [22, 7], [23, 1], [23, 2], [23, 3], [23, 5], [23, 6], [23, 7], [24, 1], [24, 2], [24, 3], [24, 5], [24, 6], [24, 7], [25, 1], [25, 2], [25, 3], [25, 5], [25, 6], [25, 7], [26, 1], [26, 2], [26, 3], [26, 5], [26, 6], [26, 7], [27, 1], [27, 2], [27, 3], [27, 5], [27, 6], [27, 7], [28, 1], [28, 2], [28, 3], [28, 5], [28, 6], [28, 7]], 'corridor': [[1, 4], [2, 4], [3, 4], [4, 4], [5, 4], [6, 4], [7, 4], [8, 4], [9, 4], [10, 4], [11, 4], [12, 4], [13, 4], [14, 4], [15, 4], [16, 4], [17, 4], [18, 4], [19, 4], [20, 4], [21, 4], [22, 4], [23, 4], [24, 4], [25, 4], [26, 4], [27, 4], [28, 4]], 'transition_possible_seats': [[1, 1], [1, 2], [1, 3], [1, 5], [1, 6], [1, 7], [2, 1], [2, 2], [2, 3], [2, 5], [2, 6], [2, 7], [3, 1], [3, 2], [3, 3], [3, 5], [3, 6], [3, 7], [4, 1], [4, 2], [4, 3], [4, 5], [4, 6], [4, 7], [5, 1], [5, 2], [5, 3], [5, 5], [5, 6], [5, 7], [6, 1], [6, 2], [6, 3], [6, 5], [6, 6], [6, 7], [7, 1], [7, 2], [7, 3], [7, 5], [7, 6], [7, 7], [8, 1], [8, 2], [8, 3], [8, 5], [8, 6], [8, 7], [9, 1], [9, 2], [9, 3], [9, 5], [9, 6], [9, 7], [10, 1], [10, 2], [10, 3], [10, 5], [10, 6], [10, 7], [11, 1], [11, 2], [11, 3], [11, 5], [11, 6], [11, 7], [12, 1], [12, 2], [12, 3], [12, 5], [12, 6], [12, 7], [13, 1], [13, 2], [13, 3], [13, 5], [13, 6], [13, 7]], 'business_class': [[1, 1], [1, 3], [2, 1], [2, 3], [2, 5], [2, 7], [3, 1], [3, 3], [3, 5], [3, 7], [4, 1], [4, 3], [4, 5], [4, 7], [5, 1], [5, 3], [5, 5], [5, 7], [6, 1], [6, 3], [6, 5], [6, 7], [7, 1], [7, 3], [7, 5], [7, 7], [8, 1], [8, 3], [8, 5], [8, 7], [9, 1], [9, 3], [9, 5], [9, 7]], 'exit_seats': [[12, 1], [12, 2], [12, 3], [12, 4], [12, 5], [12, 6], [12, 7]], 'econo_class': [[10, 1], [10, 2], [10, 3], [10, 5], [10, 6], [10, 7], [11, 1], [11, 2], [11, 3], [11, 5], [11, 6], [11, 7], [12, 1], [12, 2], [12, 3], [12, 5], [12, 6], [12, 7], [13, 1], [13, 2], [13, 3], [13, 5], [13, 6], [13, 7], [14, 1], [14, 2], [14, 3], [14, 5], [14, 6], [14, 7], [15, 1], [15, 2], [15, 3], [15, 5], [15, 6], [15, 7], [16, 1], [16, 2], [16, 3], [16, 5], [16, 6], [16, 7], [17, 1], [17, 2], [17, 3], [17, 5], [17, 6], [17, 7], [18, 1], [18, 2], [18, 3], [18, 5], [18, 6], [18, 7], [19, 1], [19, 2], [19, 3], [19, 5], [19, 6], [19, 7], [20, 1], [20, 2], [20, 3], [20, 5], [20, 6], [20, 7], [21, 1], [21, 2], [21, 3], [21, 5], [21, 6], [21, 7], [22, 1], [22, 2], [22, 3], [22, 5], [22, 6], [22, 7], [23, 1], [23, 2], [23, 3], [23, 5], [23, 6], [23, 7], [24, 1], [24, 2], [24, 3], [24, 5], [24, 6], [24, 7], [25, 1], [25, 2], [25, 3], [25, 5], [25, 6], [25, 7], [26, 1], [26, 2], [26, 3], [26, 5], [26, 6], [26, 7], [27, 1], [27, 2], [27, 3], [27, 5], [27, 6], [27, 7], [28, 1], [28, 2], [28, 3], [28, 5], [28, 6], [28, 7]]}}\n"
     ]
    }
   ],
   "source": [
    "airplane = dict()\n",
    "\n",
    "airplane['xmax'] = 28\n",
    "airplane['ymax'] = 7\n",
    "airplane['corridor_y'] = 4\n",
    "airplane['max_transition_row'] = 13\n",
    "airplane['exit'] = 12\n",
    "\n",
    "airplane['seats'] = dict()\n",
    "\n",
    "# considering there is only business class\n",
    "real_seats = []\n",
    "corridor_seats = []\n",
    "transition_seats = []\n",
    "business = [[1,1], [1,3]]\n",
    "\n",
    "for x in range(1, airplane['xmax']+1):\n",
    "    for y  in range(1, airplane['ymax']+1):\n",
    "        if y != airplane['corridor_y']:\n",
    "            real_seats.append([x, y])\n",
    "        if y == airplane['corridor_y']:\n",
    "            corridor_seats.append([x, y])\n",
    "        if x <= airplane['max_transition_row'] and y != airplane['corridor_y']:\n",
    "            transition_seats.append([x, y])\n",
    "\n",
    "for x in range(2, 10):\n",
    "    for y in range(1, 8, 2):\n",
    "        business.append([x, y])\n",
    "\n",
    "exit_seats = list()\n",
    "for y in range(1, 8):\n",
    "    if x!=4:\n",
    "        exit_seats.append([12, y])\n",
    "\n",
    "# economic class\n",
    "econo_class = list()\n",
    "for x in range(10, airplane['xmax']+1):\n",
    "    for y in range(1, airplane['ymax']+1):\n",
    "        if y!= airplane['corridor_y']:\n",
    "            econo_class.append([x, y])\n",
    "\n",
    "\n",
    "airplane['seats']['real'] = real_seats\n",
    "airplane['seats']['corridor'] = corridor_seats\n",
    "airplane['seats']['transition_possible_seats'] = transition_seats\n",
    "airplane['seats']['business_class'] = business\n",
    "airplane['seats']['exit_seats'] = exit_seats\n",
    "airplane['seats']['econo_class'] = econo_class\n",
    "\n",
    "del real_seats, corridor_seats, transition_seats, business, exit_seats, econo_class\n",
    "\n",
    "print(airplane)"
   ]
  },
  {
   "cell_type": "code",
   "execution_count": 29,
>>>>>>> 2cdb63817057e7aeafc94ea8ed9c350c6a113497
   "metadata": {},
   "outputs": [],
   "source": [
    "# Load Passengers in data\n",
    "\n",
    "df = read_and_preprocess('DataSeating.xlsx', '21Oct')\n",
    "\n",
    "groups = get_list_passengers(df)\n",
    "\n",
    "passengers = list()\n",
    "\n",
    "for g in groups.keys():\n",
    "    passengers += groups[g].members\n",
    "\n",
    "\n",
    "passenger_from_id = {}\n",
    "for p in passengers:\n",
<<<<<<< HEAD
    "    passenger_from_id[p.id] = p"
=======
    "    passenger_from_id[p.id] = p\n"
>>>>>>> 2cdb63817057e7aeafc94ea8ed9c350c6a113497
   ]
  },
  {
   "cell_type": "markdown",
   "metadata": {},
   "source": [
    "As a final setup we define some problem parameters."
   ]
  },
  {
   "cell_type": "code",
<<<<<<< HEAD
   "execution_count": 5,
=======
   "execution_count": 30,
>>>>>>> 2cdb63817057e7aeafc94ea8ed9c350c6a113497
   "metadata": {},
   "outputs": [],
   "source": [
    "\n",
    "passengers_count = len(passengers)\n",
    "\n",
    "width = airplane['ymax']-1\n",
    "height = airplane['xmax']\n",
    "X = [-3, -2, -1, 0, 1, 2, 3]\n",
    "Y = list(range(-14,0)) + list(range(1,14+1))\n",
    "\n",
    "total_weight = sum(p.weight for p in passengers)\n"
   ]
  },
  {
   "cell_type": "markdown",
   "metadata": {},
   "source": [
    "# Model Definition"
   ]
  },
  {
   "cell_type": "code",
<<<<<<< HEAD
   "execution_count": 6,
=======
   "execution_count": 31,
>>>>>>> 2cdb63817057e7aeafc94ea8ed9c350c6a113497
   "metadata": {},
   "outputs": [
    {
     "name": "stdout",
     "output_type": "stream",
     "text": [
      "Set parameter Username\n",
<<<<<<< HEAD
      "Academic license - for non-commercial use only - expires 2023-01-27\n"
=======
      "Academic license - for non-commercial use only - expires 2023-01-26\n"
>>>>>>> 2cdb63817057e7aeafc94ea8ed9c350c6a113497
     ]
    }
   ],
   "source": [
    "m = Model(\"model_v1\")"
   ]
  },
  {
   "cell_type": "markdown",
   "metadata": {},
   "source": [
    "The main decision variable here is the allocation $A^p_{(i~,~j)}$ : binary variable that says for each passenger with id $p$ if he is located at the seat in coordinates $(i~,~j)$.\n",
    "\n",
    "\n",
    "This is represented in python by the variable allocation[p, i, j].\n",
    "\n",
    "For instance, if passenger 1 is at the place : (2, 3), then allocation[1,2,3] = 1. Else, it equals 0."
   ]
  },
  {
   "cell_type": "code",
<<<<<<< HEAD
   "execution_count": 7,
=======
   "execution_count": 32,
>>>>>>> 2cdb63817057e7aeafc94ea8ed9c350c6a113497
   "metadata": {},
   "outputs": [],
   "source": [
    "# Allocation Variables\n",
    "allocation = m.addVars(passengers_count, width+1, height, vtype=GRB.BINARY, name=\"Allocation\")"
   ]
  },
  {
   "cell_type": "markdown",
   "metadata": {},
   "source": [
    "# Constraints"
   ]
  },
  {
   "cell_type": "markdown",
   "id": "3d2f5067",
   "metadata": {},
   "source": [
    "**At most 1 person per seat:** there can't be more than 1 person in each seat.\n",
    "\n",
    "$$\\sum_{p \\in \\text{Passengers}} A^p_{(i~,~j)} \\leq 1~~\\forall (i, j) \\in \\text{Seats}$$"
   ]
  },
  {
   "cell_type": "code",
<<<<<<< HEAD
   "execution_count": 8,
=======
   "execution_count": 33,
>>>>>>> 2cdb63817057e7aeafc94ea8ed9c350c6a113497
   "metadata": {},
   "outputs": [],
   "source": [
    "# Make sure that there is at most one person per seat\n",
    "C_limited_seat = m.addConstrs((quicksum([allocation[p.id,i,j] for p in passengers]) <= 1 for i in range(width+1) for j in range(height)))"
   ]
  },
  {
   "cell_type": "markdown",
   "id": "3d2f5067",
   "metadata": {},
   "source": [
    "**Every passenger is served:** every passenger should be allocated to precisely one seat.\n",
    "\n",
    "$$\\sum_{(i,j) \\in \\text{Seats}} A^p_{(i~,~j)} == 1~~\\forall p \\in \\text{Passengers}$$"
   ]
  },
  {
   "cell_type": "code",
<<<<<<< HEAD
   "execution_count": 9,
=======
   "execution_count": 34,
>>>>>>> 2cdb63817057e7aeafc94ea8ed9c350c6a113497
   "metadata": {},
   "outputs": [],
   "source": [
    "# Maker sure that everyone is seated and only in one spot\n",
    "C_serve_all = m.addConstrs((quicksum([allocation[p.id,i,j] for i in range(width+1) for j in range(height) ]) == 1 for p in passengers))"
   ]
  },
  {
   "cell_type": "markdown",
   "metadata": {},
   "source": [
    "**Empty Corridor**: there should be no passenger allocated to the corridor (i=3).\n",
    "$$A^p_{(i,j)}==0~~\\forall (p,i,j) \\in \\text{Passengers} \\times \\text{Seats}$$"
   ]
  },
  {
   "cell_type": "code",
<<<<<<< HEAD
   "execution_count": 10,
=======
   "execution_count": 35,
>>>>>>> 2cdb63817057e7aeafc94ea8ed9c350c6a113497
   "metadata": {},
   "outputs": [],
   "source": [
    "# Make sure that the corridor is not considered as a possible seat\n",
    "C_empty_corridor = m.addConstrs((0 == allocation[p,3,j] for p in range(passengers_count) for j in range(height)))"
   ]
  },
  {
   "cell_type": "markdown",
   "metadata": {},
   "source": [
    "**Barycenter Constraint:** the center of mass of the passengers must reside within a limited area. For this purpose the barycenter function is divided into its X and Y coordinate and then each constraint is divided into an inferior limit and a superior limit constraint.\n",
    "\n",
    "$$ \\frac{1}{w_t}\\sum_{(p,i,j) \\in \\text{Passengers} \\times \\text{Seats}} A^p_{(i,j)} \\cdot w(p) \\cdot X(i) \\leq B_{max}^X$$\n",
    "\n",
    "$$ \\frac{1}{w_t}\\sum_{(p,i,j) \\in \\text{Passengers} \\times \\text{Seats}} A^p_{(i,j)} \\cdot w(p) \\cdot X(i) \\geq B_{min}^X$$\n",
    "\n",
    "$$ \\frac{1}{w_t}\\sum_{(p,i,j) \\in \\text{Passengers} \\times \\text{Seats}} A^p_{(i,j)} \\cdot w(p) \\cdot Y(j) \\leq B_{max}^Y$$\n",
    "\n",
    "$$ \\frac{1}{w_t}\\sum_{(p,i,j) \\in \\text{Passengers} \\times \\text{Seats}} A^p_{(i,j)} \\cdot w(p) \\cdot Y(j) \\geq B_{min}^Y$$\n",
    "\n",
    "\n",
    "Where :\n",
    "- $w_t$ is the total weight of all passengers.\n",
    "- $w(p)$ is the weight of passenger with id $p$.\n",
    "- $X(i)$ is the distance in meters at coordinate i.\n",
    "- $Y(j)$ is the distance in meters at coordinate j.\n",
    "- $B_{max}^X$ is the upper bound of the barycenter in the X axis.\n",
    "- $B_{min}^X$ is the lower bound of the barycenter in the X axis.\n",
    "- $B_{max}^Y$ is the upper bound of the barycenter in the Y axis.\n",
    "- $B_{min}^Y$ is the lower bound of the barycenter in the Y axis.\n"
   ]
  },
  {
   "cell_type": "code",
<<<<<<< HEAD
   "execution_count": 11,
=======
   "execution_count": 36,
>>>>>>> 2cdb63817057e7aeafc94ea8ed9c350c6a113497
   "metadata": {},
   "outputs": [],
   "source": [
    "# Center of Mass function\n",
    "barycenter_X = quicksum([p.weight * allocation[p.id,i,j]*X[i] for p in passengers for i in range(width+1) for j in range(height)])/total_weight\n",
    "barycenter_Y = quicksum([p.weight * allocation[p.id,i,j]*Y[j] for p in passengers for i in range(width+1) for j in range(height)])/total_weight\n",
    "\n",
    "# Barycenter limits\n",
    "bary_lim_X = 1\n",
    "bary_lim_Y = 2\n",
    "\n",
    "# Make sure that the center of mass is centralized\n",
    "\n",
    "C_bary_X_p = m.addConstr(barycenter_X <=  bary_lim_X)\n",
    "C_bary_X_m = m.addConstr(barycenter_X >= -bary_lim_X)\n",
    "C_bary_Y_p = m.addConstr(barycenter_Y <=  bary_lim_Y)\n",
    "C_bary_Y_m = m.addConstr(barycenter_Y >= -bary_lim_Y)"
   ]
  },
  {
   "cell_type": "markdown",
   "metadata": {},
   "source": [
    "**Transit Time Constraint**: the people with a transit time inferior to 90 minutes should stay in the front.\n",
    "\n",
    "$$ A^p_{(i,j)} \\leq \\epsilon(p) ~~ \\forall (p,i,j) \\in \\text{Passengers in transit} \\times \\text{Columns} \\times \\text{Upper rows}$$\n",
    "\n",
    "Where $\\epsilon(p)$ is a new auxiliary variable that we want to minimize."
   ]
  },
  {
   "cell_type": "code",
<<<<<<< HEAD
   "execution_count": 12,
=======
   "execution_count": 37,
>>>>>>> 2cdb63817057e7aeafc94ea8ed9c350c6a113497
   "metadata": {},
   "outputs": [],
   "source": [
    "epsilon = m.addVars([p.id for p in passengers if p.transit_time < 90], vtype=GRB.BINARY)\n",
    "m.addConstrs(allocation[p.id,i,j] <= epsilon[p.id] for i in range(width+1) for j in range(height) for p in passengers if p.transit_time < 90 and j > 13);"
   ]
  },
  {
   "cell_type": "markdown",
   "metadata": {},
   "source": [
    "# Objective Function"
   ]
  },
  {
   "cell_type": "markdown",
   "metadata": {},
   "source": [
    "As a precise calculation of the satisfying function leads to a combinatorial explosion, we decided to instead try to reduce the rectangle formed by the distribution of people from the same group, in this way they try to collapse to the same region of the plane.\n",
    "\n",
    "For this we will need the following additional variables:\n",
    "- $i^G_{max}$: highest $i$ coordinate between members of group $G$.\n",
    "- $i^G_{min}$: lowest $i$ coordinate between members of group $G$.\n",
    "- $j^G_{max}$: highest $j$ coordinate between members of group $G$.\n",
    "- $j^G_{min}$: lowest $j$ coordinate between members of group $G$.\n",
    "- $\\Delta i^G$: $i^G_{max}-i^G_{min}$\n",
    "- $\\Delta j^G$: $j^G_{max}-j^G_{min}$\n",
    "\n",
    "The first 4 variables are set by defining inequality constraints based on the coordinates of the members of a group and the 2 last variables are set by defining equality constraints. Thus, our objective function becomes.\n",
    "\n",
    "$$ \\sum_{G \\in \\text{Groups}} \\Delta i^G + \\phi \\cdot \\Delta j^G + \\sum_{p \\in G} \\epsilon(p) $$\n",
    "\n",
    "Where $\\phi$ is a factor for giving priorities to grouping people in the same rows."
   ]
  },
  {
   "cell_type": "code",
<<<<<<< HEAD
   "execution_count": 13,
=======
   "execution_count": 38,
>>>>>>> 2cdb63817057e7aeafc94ea8ed9c350c6a113497
   "metadata": {},
   "outputs": [],
   "source": [
    "#i_p = m.addVars(passengers_count, vtype=GRB.INTEGER, lb=0, ub=width, name=\"i_p\")\n",
    "#j_p = m.addVars(passengers_count, vtype=GRB.INTEGER, lb=0, ub=height, name=\"j_p\")\n",
    "\n",
    "i_g_max = m.addVars(len(groups), vtype=GRB.INTEGER, lb=0, ub=width, name=\"i_g_max\")\n",
    "i_g_min = m.addVars(len(groups), vtype=GRB.INTEGER, lb=0, ub=width, name=\"i_g_min\")\n",
    "j_g_max = m.addVars(len(groups), vtype=GRB.INTEGER, lb=0, ub=height, name=\"j_g_max\")\n",
    "j_g_min = m.addVars(len(groups), vtype=GRB.INTEGER, lb=0, ub=height, name=\"j_g_min\")\n",
    "\n",
    "#i_g_delta = m.addVars(len(groups), vtype=GRB.INTEGER, lb=1, ub=width, name=\"i_g_delta\")\n",
    "#j_g_delta = m.addVars(len(groups), vtype=GRB.INTEGER, lb=0, ub=height, name=\"j_g_delta\")\n",
    "\n",
    "#m.addConstrs((i_p[p] == quicksum([i*allocation[p,i,j] for i in range(width+1) for j in range(height)]) for p in range(passengers_count)))\n",
    "#m.addConstrs((j_p[p] == quicksum([j*allocation[p,i,j] for i in range(width+1) for j in range(height)]) for p in range(passengers_count)))\n",
    "\n",
    "for g in range(len(groups)):\n",
    "    if len(groups[g].members) > 1 :\n",
    "    \n",
    "        m.addConstrs(( i_g_max[g] >= quicksum([i*allocation[p.id,i,j] for i in range(width+1) for j in range(height)]) for p in groups[g].members ))\n",
    "        m.addConstrs(( i_g_min[g] <= quicksum([i*allocation[p.id,i,j] for i in range(width+1) for j in range(height)]) for p in groups[g].members ))\n",
    "\n",
    "        m.addConstrs(( j_g_max[g] >= quicksum([j*allocation[p.id,i,j] for i in range(width+1) for j in range(height)]) for p in groups[g].members ))\n",
    "        m.addConstrs(( j_g_min[g] <= quicksum([j*allocation[p.id,i,j] for i in range(width+1) for j in range(height)]) for p in groups[g].members ))\n",
    "        \n",
    "        m.addConstr(i_g_max[g] >= i_g_min[g])\n",
    "        m.addConstr(j_g_max[g] >= j_g_min[g])\n",
    "\n",
    "        #m.addConstr(i_g_delta[g] == i_g_max[g] - i_g_min[g])\n",
    "        #m.addConstr(j_g_delta[g] == j_g_max[g] - j_g_min[g])\n",
    "\n",
    "        m.addConstr((i_g_max[g] - i_g_min[g] + j_g_max[g] - j_g_min[g] >= 1))\n",
    "\n",
    "\n",
    "def in_grid(i, j):\n",
    "    return i>=0 and j>=0 and j<height and i <= width\n",
    "\n",
    "e_allocation = lambda p, i, j: allocation[p,i,j] if in_grid(i,j) else 0\n",
    "\n",
    "\n",
<<<<<<< HEAD
    "m.setObjective( i_g_delta.sum() + 50*j_g_delta.sum() + epsilon.sum(), GRB.MINIMIZE)\n"
=======
    "m.setObjective( i_g_max.sum() - i_g_min.sum() + 50*j_g_max.sum() - 50*j_g_min.sum() + epsilon.sum(), GRB.MINIMIZE)\n"
>>>>>>> 2cdb63817057e7aeafc94ea8ed9c350c6a113497
   ]
  },
  {
   "cell_type": "markdown",
   "metadata": {},
   "source": [
    "**Observation:** unfortunately our objective function couldn't calculate an optimal solution in due time. Thus for this delivery we only considered the $j$ coordinate which is really far away from being a good solution."
   ]
  },
  {
   "cell_type": "code",
<<<<<<< HEAD
   "execution_count": 14,
=======
   "execution_count": 39,
>>>>>>> 2cdb63817057e7aeafc94ea8ed9c350c6a113497
   "metadata": {},
   "outputs": [
    {
     "name": "stdout",
     "output_type": "stream",
     "text": [
<<<<<<< HEAD
      "Set parameter MIPGap to value 0.05\n",
      "No parameters matching 'Focus' found\n",
      "Gurobi Optimizer version 9.5.0 build v9.5.0rc5 (win64)\n",
      "Thread count: 6 physical cores, 12 logical processors, using up to 12 threads\n",
      "Optimize a model with 14691 rows, 30858 columns and 248688 nonzeros\n",
      "Model fingerprint: 0x1a2ccc47\n",
      "Variable types: 0 continuous, 30858 integer (29888 binary)\n",
=======
      "Gurobi Optimizer version 9.5.0 build v9.5.0rc5 (mac64[rosetta2])\n",
      "Thread count: 8 physical cores, 8 logical processors, using up to 8 threads\n",
      "Optimize a model with 14425 rows, 30332 columns and 248160 nonzeros\n",
      "Model fingerprint: 0x32a0a4ba\n",
      "Variable types: 0 continuous, 30332 integer (29888 binary)\n",
>>>>>>> 2cdb63817057e7aeafc94ea8ed9c350c6a113497
      "Coefficient statistics:\n",
      "  Matrix range     [3e-03, 3e+01]\n",
      "  Objective range  [1e+00, 5e+01]\n",
      "  Bounds range     [1e+00, 3e+01]\n",
      "  RHS range        [1e+00, 2e+00]\n",
<<<<<<< HEAD
      "Presolve removed 13859 rows and 4986 columns\n",
      "Presolve time: 0.39s\n",
      "Presolved: 832 rows, 25872 columns, 118462 nonzeros\n",
      "Variable types: 2 continuous, 25870 integer (25536 binary)\n",
      "Found heuristic solution: objective 44751.000000\n",
      "Found heuristic solution: objective 4464.0000000\n",
      "\n",
      "Root relaxation: objective 4.500000e+01, 1607 iterations, 0.15 seconds (0.17 work units)\n",
=======
      "Found heuristic solution: objective -88217.00000\n",
      "Presolve removed 13686 rows and 4650 columns\n",
      "Presolve time: 1.62s\n",
      "Presolved: 739 rows, 25682 columns, 143345 nonzeros\n",
      "Variable types: 4 continuous, 25678 integer (25537 binary)\n",
      "\n",
      "Root relaxation: objective -1.068090e+05, 1607 iterations, 0.40 seconds (0.16 work units)\n",
      "Total elapsed time = 5.23s\n",
>>>>>>> 2cdb63817057e7aeafc94ea8ed9c350c6a113497
      "\n",
      "    Nodes    |    Current Node    |     Objective Bounds      |     Work\n",
      " Expl Unexpl |  Obj  Depth IntInf | Incumbent    BestBd   Gap | It/Node Time\n",
      "\n",
<<<<<<< HEAD
      "     0     0   45.00000    0  119 4464.00000   45.00000  99.0%     -    1s\n",
      "H    0     0                    3492.0000000   45.00000  98.7%     -    1s\n",
      "H    0     0                    3438.0000000   45.00000  98.7%     -    1s\n",
      "H    0     0                    3043.0000000   45.00000  98.5%     -    2s\n",
      "H    0     0                     903.0000000   45.00000  95.0%     -    2s\n",
      "     0     0   45.00000    0  326  903.00000   45.00000  95.0%     -    2s\n",
      "H    0     0                     361.0000000   45.00000  87.5%     -    3s\n",
      "H    0     0                     210.0000000   45.00000  78.6%     -    4s\n",
      "     0     0   45.00000    0  124  210.00000   45.00000  78.6%     -    5s\n",
      "     0     0   45.00000    0  123  210.00000   45.00000  78.6%     -    5s\n",
      "H    0     0                     208.0000000   45.00000  78.4%     -    6s\n",
      "     0     0   45.00000    0   88  208.00000   45.00000  78.4%     -    6s\n",
      "     0     0   45.00000    0  205  208.00000   45.00000  78.4%     -    6s\n",
      "H    0     0                     153.0000000   45.00000  70.6%     -    7s\n",
      "H    0     0                     151.0000000   45.00000  70.2%     -    7s\n",
      "     0     0   45.00000    0   76  151.00000   45.00000  70.2%     -    8s\n",
      "     0     0   45.00000    0  154  151.00000   45.00000  70.2%     -    8s\n",
      "     0     0   45.00000    0  128  151.00000   45.00000  70.2%     -    9s\n",
      "     0     0   45.00000    0  126  151.00000   45.00000  70.2%     -    9s\n",
      "     0     2   45.00000    0  114  151.00000   45.00000  70.2%     -   10s\n",
      "H   31    38                     145.0000000   45.00000  69.0%   311   12s\n",
      "H   32    38                      96.0000000   45.00000  53.1%   305   12s\n",
      "H   74    78                      47.0000000   45.00000  4.26%   244   14s\n",
      "\n",
      "Cutting planes:\n",
      "  Cover: 44\n",
      "  Clique: 1\n",
      "  MIR: 4\n",
      "  GUB cover: 15\n",
      "  Zero half: 48\n",
      "  RLT: 9\n",
      "  Relax-and-lift: 16\n",
      "\n",
      "Explored 83 nodes (81577 simplex iterations) in 14.73 seconds (12.81 work units)\n",
      "Thread count was 12 (of 12 available processors)\n",
      "\n",
      "Solution count 10: 47 96 145 ... 3043\n",
=======
      "     0     0 -106809.00    0  134 -88217.000 -106809.00  21.1%     -    5s\n",
      "H    0     0                    -102858.0000 -106809.00  3.84%     -    5s\n",
      "H    0     0                    -102859.0000 -106809.00  3.84%     -    7s\n",
      "H    0     0                    -102860.0000 -106809.00  3.84%     -   10s\n",
      "H    0     0                    -103414.0000 -106809.00  3.28%     -   10s\n",
      "H    0     0                    -104694.0000 -106809.00  2.02%     -   10s\n",
      "     0     0 -106809.00    0  347 -104694.00 -106809.00  2.02%     -   11s\n",
      "H    0     0                    -106374.0000 -106809.00  0.41%     -   22s\n",
      "     0     0 -106809.00    0  367 -106374.00 -106809.00  0.41%     -   22s\n",
      "H    0     0                    -106387.0000 -106809.00  0.40%     -   28s\n",
      "     0     0 -106809.00    0  145 -106387.00 -106809.00  0.40%     -   28s\n",
      "     0     0 -106809.00    0  238 -106387.00 -106809.00  0.40%     -   29s\n",
      "     0     0 -106809.00    0  133 -106387.00 -106809.00  0.40%     -   33s\n",
      "     0     0 -106809.00    0  251 -106387.00 -106809.00  0.40%     -   35s\n",
      "H    0     0                    -106538.0000 -106809.00  0.25%     -   39s\n",
      "     0     0 -106809.00    0  102 -106538.00 -106809.00  0.25%     -   39s\n",
      "     0     0 -106809.00    0  250 -106538.00 -106809.00  0.25%     -   40s\n",
      "     0     0 -106809.00    0   98 -106538.00 -106809.00  0.25%     -   43s\n",
      "     0     0 -106809.00    0   98 -106538.00 -106809.00  0.25%     -   43s\n",
      "     0     2 -106809.00    0   98 -106538.00 -106809.00  0.25%     -   46s\n",
      "    23    28 -106808.12    5  333 -106538.00 -106809.00  0.25%   855   50s\n",
      "H   31    34                    -106587.0000 -106809.00  0.21%   700   52s\n",
      "    55    61 -106808.12    7  281 -106587.00 -106809.00  0.21%   585   80s\n",
      "H   64    61                    -106744.0000 -106809.00  0.06%   521   80s\n",
      "    66    87 -106759.19    8  271 -106744.00 -106809.00  0.06%   700   86s\n",
      "   108   171 -106759.19   15  256 -106744.00 -106809.00  0.06%   974   91s\n",
      "   228   280 -106759.19   31  269 -106744.00 -106809.00  0.06%   842  100s\n",
      "   407   426     cutoff   48      -106744.00 -106809.00  0.06%   607  132s\n",
      "H  472   426                    -106748.0000 -106809.00  0.06%   537  133s\n",
      "H  597   426                    -106790.0000 -106809.00  0.02%   494  133s\n",
      "H  617   426                    -106793.0000 -106809.00  0.01%   495  133s\n",
      "   677   757     cutoff   73      -106793.00 -106809.00  0.01%   475  153s\n",
      "H  679   757                    -106794.0000 -106809.00  0.01%   473  153s\n",
      "  1053   934 -106808.12   24  286 -106794.00 -106809.00  0.01%   404  190s\n",
      "H 1059   934                    -106799.0000 -106809.00  0.01%   403  190s\n",
      "\n",
      "Cutting planes:\n",
      "  MIR: 75\n",
      "  StrongCG: 25\n",
      "  Zero half: 82\n",
      "  RLT: 4\n",
      "  Relax-and-lift: 35\n",
      "\n",
      "Explored 1490 nodes (595953 simplex iterations) in 191.22 seconds (60.90 work units)\n",
      "Thread count was 8 (of 8 available processors)\n",
      "\n",
      "Solution count 10: -106799 -106794 -106793 ... -106374\n",
>>>>>>> 2cdb63817057e7aeafc94ea8ed9c350c6a113497
      "\n",
      "Optimal solution found (tolerance 1.00e-04)\n",
      "Best objective -1.067990000000e+05, best bound -1.068090000000e+05, gap 0.0094%\n"
     ]
    }
   ],
   "source": [
<<<<<<< HEAD
    "#m.setParam('MIPGap', 0.05)\n",
    "m.setParam('Focus', 3)\n",
=======
    "#m.setParam(\"MIPFocus\", 3) \n",
    "#m.setParam(\"Cuts\", 2) \n",
    "#m.setParam('MIPGap', 0.06)\n",
>>>>>>> 2cdb63817057e7aeafc94ea8ed9c350c6a113497
    "m.update()\n",
    "m.optimize()"
   ]
  },
  {
   "cell_type": "markdown",
   "metadata": {},
   "source": [
    "# Verifying Results\n",
    "- Green Seats: people travelling alone\n",
    "- Orange Seats: people travelling in group, the printed number corresponds to the group id.\n",
    "- Asterisk: people with transit time inferior to 90 minutes.\n",
    "- Blue Rectangle: limits of the acceptable barycenter.\n",
    "- Red Circle: actual barycenter."
   ]
  },
  {
   "cell_type": "code",
<<<<<<< HEAD
   "execution_count": 15,
=======
   "execution_count": 40,
>>>>>>> 2cdb63817057e7aeafc94ea8ed9c350c6a113497
   "metadata": {},
   "outputs": [
    {
     "name": "stdout",
     "output_type": "stream",
     "text": [
<<<<<<< HEAD
      "Center of Mass: (-0.14, -0.86)\n",
      "Passenger ID:0 - Coordinate: (4, 6)\n",
      "Passenger ID:1 - Coordinate: (6, 13)\n",
      "Passenger ID:2 - Coordinate: (0, 16)\n",
      "Passenger ID:3 - Coordinate: (4, 5)\n",
      "Passenger ID:4 - Coordinate: (0, 17)\n",
      "Passenger ID:5 - Coordinate: (1, 17)\n",
      "Passenger ID:6 - Coordinate: (0, 4)\n",
      "Passenger ID:7 - Coordinate: (2, 23)\n",
      "Passenger ID:8 - Coordinate: (6, 2)\n",
      "Passenger ID:9 - Coordinate: (5, 2)\n",
      "Passenger ID:10 - Coordinate: (6, 20)\n",
      "Passenger ID:11 - Coordinate: (2, 5)\n",
      "Passenger ID:12 - Coordinate: (1, 14)\n",
      "Passenger ID:13 - Coordinate: (2, 14)\n",
      "Passenger ID:14 - Coordinate: (1, 1)\n",
      "Passenger ID:15 - Coordinate: (4, 3)\n",
      "Passenger ID:16 - Coordinate: (1, 10)\n",
      "Passenger ID:17 - Coordinate: (0, 10)\n",
      "Passenger ID:18 - Coordinate: (4, 27)\n",
      "Passenger ID:19 - Coordinate: (4, 25)\n",
      "Passenger ID:20 - Coordinate: (2, 4)\n",
      "Passenger ID:21 - Coordinate: (1, 4)\n",
      "Passenger ID:22 - Coordinate: (5, 25)\n",
      "Passenger ID:23 - Coordinate: (6, 6)\n",
      "Passenger ID:24 - Coordinate: (1, 13)\n",
      "Passenger ID:25 - Coordinate: (5, 12)\n",
      "Passenger ID:26 - Coordinate: (1, 12)\n",
      "Passenger ID:27 - Coordinate: (2, 6)\n",
      "Passenger ID:28 - Coordinate: (0, 3)\n",
      "Passenger ID:29 - Coordinate: (2, 7)\n",
      "Passenger ID:30 - Coordinate: (6, 12)\n",
      "Passenger ID:31 - Coordinate: (6, 21)\n",
      "Passenger ID:32 - Coordinate: (5, 21)\n",
      "Passenger ID:33 - Coordinate: (4, 21)\n",
      "Passenger ID:34 - Coordinate: (4, 13)\n",
      "Passenger ID:35 - Coordinate: (2, 0)\n",
      "Passenger ID:36 - Coordinate: (1, 0)\n",
      "Passenger ID:37 - Coordinate: (2, 3)\n",
      "Passenger ID:38 - Coordinate: (1, 3)\n",
      "Passenger ID:39 - Coordinate: (4, 2)\n",
      "Passenger ID:40 - Coordinate: (2, 8)\n",
      "Passenger ID:41 - Coordinate: (6, 0)\n",
      "Passenger ID:42 - Coordinate: (5, 0)\n",
      "Passenger ID:43 - Coordinate: (0, 26)\n",
      "Passenger ID:44 - Coordinate: (5, 19)\n",
      "Passenger ID:45 - Coordinate: (4, 24)\n",
      "Passenger ID:46 - Coordinate: (1, 24)\n",
      "Passenger ID:47 - Coordinate: (0, 24)\n",
      "Passenger ID:48 - Coordinate: (6, 1)\n",
      "Passenger ID:49 - Coordinate: (2, 20)\n",
      "Passenger ID:50 - Coordinate: (0, 18)\n",
      "Passenger ID:51 - Coordinate: (1, 18)\n",
      "Passenger ID:52 - Coordinate: (5, 9)\n",
      "Passenger ID:53 - Coordinate: (6, 9)\n",
      "Passenger ID:54 - Coordinate: (0, 2)\n",
      "Passenger ID:55 - Coordinate: (0, 20)\n",
      "Passenger ID:56 - Coordinate: (5, 16)\n",
      "Passenger ID:57 - Coordinate: (2, 16)\n",
      "Passenger ID:58 - Coordinate: (1, 16)\n",
      "Passenger ID:59 - Coordinate: (4, 8)\n",
      "Passenger ID:60 - Coordinate: (2, 12)\n",
      "Passenger ID:61 - Coordinate: (2, 10)\n",
      "Passenger ID:62 - Coordinate: (6, 4)\n",
      "Passenger ID:63 - Coordinate: (2, 1)\n",
      "Passenger ID:64 - Coordinate: (0, 21)\n",
      "Passenger ID:65 - Coordinate: (1, 21)\n",
      "Passenger ID:66 - Coordinate: (1, 11)\n",
      "Passenger ID:67 - Coordinate: (5, 6)\n",
      "Passenger ID:68 - Coordinate: (4, 10)\n",
      "Passenger ID:69 - Coordinate: (0, 13)\n",
      "Passenger ID:70 - Coordinate: (0, 22)\n",
      "Passenger ID:71 - Coordinate: (0, 7)\n",
      "Passenger ID:72 - Coordinate: (1, 7)\n",
      "Passenger ID:73 - Coordinate: (2, 9)\n",
      "Passenger ID:74 - Coordinate: (4, 4)\n",
      "Passenger ID:75 - Coordinate: (4, 9)\n",
      "Passenger ID:76 - Coordinate: (0, 15)\n",
      "Passenger ID:77 - Coordinate: (1, 15)\n",
      "Passenger ID:78 - Coordinate: (4, 1)\n",
      "Passenger ID:79 - Coordinate: (5, 1)\n",
      "Passenger ID:80 - Coordinate: (6, 14)\n",
      "Passenger ID:81 - Coordinate: (5, 14)\n",
      "Passenger ID:82 - Coordinate: (6, 11)\n",
      "Passenger ID:83 - Coordinate: (4, 11)\n",
      "Passenger ID:84 - Coordinate: (5, 11)\n",
      "Passenger ID:85 - Coordinate: (6, 19)\n",
      "Passenger ID:86 - Coordinate: (0, 6)\n",
      "Passenger ID:87 - Coordinate: (1, 6)\n",
      "Passenger ID:88 - Coordinate: (0, 9)\n",
      "Passenger ID:89 - Coordinate: (6, 24)\n",
      "Passenger ID:90 - Coordinate: (5, 24)\n",
      "Passenger ID:91 - Coordinate: (6, 16)\n",
      "Passenger ID:92 - Coordinate: (5, 7)\n",
      "Passenger ID:93 - Coordinate: (6, 7)\n",
      "Passenger ID:94 - Coordinate: (4, 7)\n",
      "Passenger ID:95 - Coordinate: (2, 26)\n",
      "Passenger ID:96 - Coordinate: (0, 0)\n",
      "Passenger ID:97 - Coordinate: (5, 5)\n",
      "Passenger ID:98 - Coordinate: (6, 5)\n",
      "Passenger ID:99 - Coordinate: (5, 13)\n",
      "Passenger ID:100 - Coordinate: (0, 27)\n",
      "Passenger ID:101 - Coordinate: (2, 22)\n",
      "Passenger ID:102 - Coordinate: (1, 22)\n",
      "Passenger ID:103 - Coordinate: (0, 5)\n",
      "Passenger ID:104 - Coordinate: (4, 23)\n",
      "Passenger ID:105 - Coordinate: (0, 11)\n",
      "Passenger ID:106 - Coordinate: (5, 20)\n",
      "Passenger ID:107 - Coordinate: (5, 26)\n",
      "Passenger ID:108 - Coordinate: (0, 8)\n",
      "Passenger ID:109 - Coordinate: (1, 8)\n",
      "Passenger ID:110 - Coordinate: (0, 14)\n",
      "Passenger ID:111 - Coordinate: (2, 11)\n",
      "Passenger ID:112 - Coordinate: (2, 25)\n",
      "Passenger ID:113 - Coordinate: (6, 25)\n",
      "Passenger ID:114 - Coordinate: (5, 18)\n",
      "Passenger ID:115 - Coordinate: (2, 15)\n",
      "Passenger ID:116 - Coordinate: (2, 24)\n",
      "Passenger ID:117 - Coordinate: (4, 16)\n",
      "Passenger ID:118 - Coordinate: (0, 12)\n",
      "Passenger ID:119 - Coordinate: (6, 17)\n",
      "Passenger ID:120 - Coordinate: (5, 17)\n",
      "Passenger ID:121 - Coordinate: (2, 13)\n",
      "Passenger ID:122 - Coordinate: (6, 23)\n",
      "Passenger ID:123 - Coordinate: (0, 1)\n",
      "Passenger ID:124 - Coordinate: (1, 9)\n",
      "Passenger ID:125 - Coordinate: (6, 3)\n",
      "Passenger ID:126 - Coordinate: (5, 3)\n",
      "Passenger ID:127 - Coordinate: (6, 8)\n",
      "Passenger ID:128 - Coordinate: (5, 8)\n",
      "Passenger ID:129 - Coordinate: (1, 27)\n",
      "Passenger ID:130 - Coordinate: (2, 27)\n",
      "Passenger ID:131 - Coordinate: (4, 19)\n",
      "Passenger ID:132 - Coordinate: (2, 18)\n",
      "Passenger ID:133 - Coordinate: (4, 0)\n",
      "Passenger ID:134 - Coordinate: (4, 17)\n",
      "Passenger ID:135 - Coordinate: (5, 4)\n",
      "Passenger ID:136 - Coordinate: (4, 12)\n",
      "Passenger ID:137 - Coordinate: (1, 26)\n",
      "Passenger ID:138 - Coordinate: (2, 2)\n",
      "Passenger ID:139 - Coordinate: (1, 2)\n",
      "Passenger ID:140 - Coordinate: (6, 10)\n",
      "Passenger ID:141 - Coordinate: (5, 10)\n",
      "Passenger ID:142 - Coordinate: (6, 22)\n",
      "Passenger ID:143 - Coordinate: (2, 21)\n",
      "Passenger ID:144 - Coordinate: (4, 15)\n",
      "Passenger ID:145 - Coordinate: (1, 19)\n",
      "Passenger ID:146 - Coordinate: (0, 19)\n",
      "Passenger ID:147 - Coordinate: (0, 25)\n",
      "Passenger ID:148 - Coordinate: (1, 25)\n",
      "Passenger ID:149 - Coordinate: (1, 23)\n",
      "Passenger ID:150 - Coordinate: (0, 23)\n",
      "Passenger ID:151 - Coordinate: (1, 5)\n"
=======
      "Center of Mass: (0.03, -0.8)\n",
      "Passenger ID:0 - Coordinate: (6, 11)\n",
      "Passenger ID:1 - Coordinate: (0, 9)\n",
      "Passenger ID:2 - Coordinate: (5, 22)\n",
      "Passenger ID:3 - Coordinate: (2, 11)\n",
      "Passenger ID:4 - Coordinate: (1, 24)\n",
      "Passenger ID:5 - Coordinate: (0, 24)\n",
      "Passenger ID:6 - Coordinate: (5, 2)\n",
      "Passenger ID:7 - Coordinate: (0, 21)\n",
      "Passenger ID:8 - Coordinate: (6, 4)\n",
      "Passenger ID:9 - Coordinate: (5, 4)\n",
      "Passenger ID:10 - Coordinate: (6, 16)\n",
      "Passenger ID:11 - Coordinate: (1, 20)\n",
      "Passenger ID:12 - Coordinate: (0, 16)\n",
      "Passenger ID:13 - Coordinate: (1, 16)\n",
      "Passenger ID:14 - Coordinate: (2, 23)\n",
      "Passenger ID:15 - Coordinate: (0, 18)\n",
      "Passenger ID:16 - Coordinate: (5, 10)\n",
      "Passenger ID:17 - Coordinate: (4, 10)\n",
      "Passenger ID:18 - Coordinate: (4, 19)\n",
      "Passenger ID:19 - Coordinate: (6, 19)\n",
      "Passenger ID:20 - Coordinate: (5, 12)\n",
      "Passenger ID:21 - Coordinate: (4, 12)\n",
      "Passenger ID:22 - Coordinate: (1, 23)\n",
      "Passenger ID:23 - Coordinate: (0, 11)\n",
      "Passenger ID:24 - Coordinate: (4, 11)\n",
      "Passenger ID:25 - Coordinate: (5, 11)\n",
      "Passenger ID:26 - Coordinate: (1, 11)\n",
      "Passenger ID:27 - Coordinate: (5, 5)\n",
      "Passenger ID:28 - Coordinate: (6, 5)\n",
      "Passenger ID:29 - Coordinate: (2, 5)\n",
      "Passenger ID:30 - Coordinate: (4, 5)\n",
      "Passenger ID:31 - Coordinate: (1, 8)\n",
      "Passenger ID:32 - Coordinate: (2, 8)\n",
      "Passenger ID:33 - Coordinate: (0, 8)\n",
      "Passenger ID:34 - Coordinate: (0, 6)\n",
      "Passenger ID:35 - Coordinate: (4, 8)\n",
      "Passenger ID:36 - Coordinate: (5, 8)\n",
      "Passenger ID:37 - Coordinate: (1, 3)\n",
      "Passenger ID:38 - Coordinate: (2, 3)\n",
      "Passenger ID:39 - Coordinate: (4, 3)\n",
      "Passenger ID:40 - Coordinate: (2, 12)\n",
      "Passenger ID:41 - Coordinate: (1, 0)\n",
      "Passenger ID:42 - Coordinate: (2, 0)\n",
      "Passenger ID:43 - Coordinate: (4, 22)\n",
      "Passenger ID:44 - Coordinate: (6, 18)\n",
      "Passenger ID:45 - Coordinate: (2, 22)\n",
      "Passenger ID:46 - Coordinate: (6, 15)\n",
      "Passenger ID:47 - Coordinate: (5, 15)\n",
      "Passenger ID:48 - Coordinate: (2, 20)\n",
      "Passenger ID:49 - Coordinate: (5, 19)\n",
      "Passenger ID:50 - Coordinate: (1, 14)\n",
      "Passenger ID:51 - Coordinate: (0, 14)\n",
      "Passenger ID:52 - Coordinate: (2, 1)\n",
      "Passenger ID:53 - Coordinate: (1, 1)\n",
      "Passenger ID:54 - Coordinate: (4, 4)\n",
      "Passenger ID:55 - Coordinate: (0, 27)\n",
      "Passenger ID:56 - Coordinate: (6, 25)\n",
      "Passenger ID:57 - Coordinate: (1, 22)\n",
      "Passenger ID:58 - Coordinate: (0, 22)\n",
      "Passenger ID:59 - Coordinate: (2, 9)\n",
      "Passenger ID:60 - Coordinate: (5, 3)\n",
      "Passenger ID:61 - Coordinate: (6, 8)\n",
      "Passenger ID:62 - Coordinate: (6, 9)\n",
      "Passenger ID:63 - Coordinate: (0, 5)\n",
      "Passenger ID:64 - Coordinate: (1, 19)\n",
      "Passenger ID:65 - Coordinate: (2, 19)\n",
      "Passenger ID:66 - Coordinate: (2, 4)\n",
      "Passenger ID:67 - Coordinate: (6, 1)\n",
      "Passenger ID:68 - Coordinate: (0, 0)\n",
      "Passenger ID:69 - Coordinate: (0, 10)\n",
      "Passenger ID:70 - Coordinate: (5, 25)\n",
      "Passenger ID:71 - Coordinate: (2, 6)\n",
      "Passenger ID:72 - Coordinate: (1, 6)\n",
      "Passenger ID:73 - Coordinate: (1, 9)\n",
      "Passenger ID:74 - Coordinate: (4, 13)\n",
      "Passenger ID:75 - Coordinate: (1, 5)\n",
      "Passenger ID:76 - Coordinate: (5, 24)\n",
      "Passenger ID:77 - Coordinate: (4, 24)\n",
      "Passenger ID:78 - Coordinate: (2, 7)\n",
      "Passenger ID:79 - Coordinate: (1, 7)\n",
      "Passenger ID:80 - Coordinate: (5, 14)\n",
      "Passenger ID:81 - Coordinate: (6, 14)\n",
      "Passenger ID:82 - Coordinate: (4, 7)\n",
      "Passenger ID:83 - Coordinate: (2, 10)\n",
      "Passenger ID:84 - Coordinate: (1, 10)\n",
      "Passenger ID:85 - Coordinate: (5, 16)\n",
      "Passenger ID:86 - Coordinate: (4, 2)\n",
      "Passenger ID:87 - Coordinate: (6, 2)\n",
      "Passenger ID:88 - Coordinate: (0, 3)\n",
      "Passenger ID:89 - Coordinate: (2, 15)\n",
      "Passenger ID:90 - Coordinate: (1, 15)\n",
      "Passenger ID:91 - Coordinate: (1, 17)\n",
      "Passenger ID:92 - Coordinate: (2, 13)\n",
      "Passenger ID:93 - Coordinate: (0, 13)\n",
      "Passenger ID:94 - Coordinate: (1, 13)\n",
      "Passenger ID:95 - Coordinate: (4, 16)\n",
      "Passenger ID:96 - Coordinate: (6, 12)\n",
      "Passenger ID:97 - Coordinate: (4, 6)\n",
      "Passenger ID:98 - Coordinate: (5, 6)\n",
      "Passenger ID:99 - Coordinate: (4, 26)\n",
      "Passenger ID:100 - Coordinate: (1, 4)\n",
      "Passenger ID:101 - Coordinate: (4, 18)\n",
      "Passenger ID:102 - Coordinate: (5, 18)\n",
      "Passenger ID:103 - Coordinate: (6, 3)\n",
      "Passenger ID:104 - Coordinate: (5, 20)\n",
      "Passenger ID:105 - Coordinate: (6, 20)\n",
      "Passenger ID:106 - Coordinate: (4, 27)\n",
      "Passenger ID:107 - Coordinate: (5, 17)\n",
      "Passenger ID:108 - Coordinate: (0, 2)\n",
      "Passenger ID:109 - Coordinate: (1, 2)\n",
      "Passenger ID:110 - Coordinate: (2, 27)\n",
      "Passenger ID:111 - Coordinate: (1, 12)\n",
      "Passenger ID:112 - Coordinate: (0, 19)\n",
      "Passenger ID:113 - Coordinate: (2, 17)\n",
      "Passenger ID:114 - Coordinate: (4, 23)\n",
      "Passenger ID:115 - Coordinate: (4, 21)\n",
      "Passenger ID:116 - Coordinate: (0, 26)\n",
      "Passenger ID:117 - Coordinate: (5, 21)\n",
      "Passenger ID:118 - Coordinate: (6, 0)\n",
      "Passenger ID:119 - Coordinate: (5, 7)\n",
      "Passenger ID:120 - Coordinate: (6, 7)\n",
      "Passenger ID:121 - Coordinate: (6, 10)\n",
      "Passenger ID:122 - Coordinate: (0, 25)\n",
      "Passenger ID:123 - Coordinate: (5, 9)\n",
      "Passenger ID:124 - Coordinate: (4, 9)\n",
      "Passenger ID:125 - Coordinate: (4, 0)\n",
      "Passenger ID:126 - Coordinate: (5, 0)\n",
      "Passenger ID:127 - Coordinate: (0, 1)\n",
      "Passenger ID:128 - Coordinate: (2, 2)\n",
      "Passenger ID:129 - Coordinate: (6, 27)\n",
      "Passenger ID:130 - Coordinate: (5, 27)\n",
      "Passenger ID:131 - Coordinate: (2, 16)\n",
      "Passenger ID:132 - Coordinate: (6, 22)\n",
      "Passenger ID:133 - Coordinate: (0, 4)\n",
      "Passenger ID:134 - Coordinate: (0, 17)\n",
      "Passenger ID:135 - Coordinate: (0, 7)\n",
      "Passenger ID:136 - Coordinate: (6, 6)\n",
      "Passenger ID:137 - Coordinate: (0, 23)\n",
      "Passenger ID:138 - Coordinate: (5, 1)\n",
      "Passenger ID:139 - Coordinate: (4, 1)\n",
      "Passenger ID:140 - Coordinate: (5, 13)\n",
      "Passenger ID:141 - Coordinate: (6, 13)\n",
      "Passenger ID:142 - Coordinate: (4, 17)\n",
      "Passenger ID:143 - Coordinate: (6, 21)\n",
      "Passenger ID:144 - Coordinate: (6, 17)\n",
      "Passenger ID:145 - Coordinate: (1, 26)\n",
      "Passenger ID:146 - Coordinate: (2, 26)\n",
      "Passenger ID:147 - Coordinate: (2, 18)\n",
      "Passenger ID:148 - Coordinate: (1, 18)\n",
      "Passenger ID:149 - Coordinate: (6, 23)\n",
      "Passenger ID:150 - Coordinate: (5, 23)\n",
      "Passenger ID:151 - Coordinate: (0, 12)\n"
>>>>>>> 2cdb63817057e7aeafc94ea8ed9c350c6a113497
     ]
    },
    {
     "data": {
      "text/plain": [
       "(-3.5, 3.5)"
      ]
     },
<<<<<<< HEAD
     "execution_count": 15,
=======
     "execution_count": 40,
>>>>>>> 2cdb63817057e7aeafc94ea8ed9c350c6a113497
     "metadata": {},
     "output_type": "execute_result"
    },
    {
     "data": {
<<<<<<< HEAD
      "image/png": "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",
=======
      "image/png": "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",
>>>>>>> 2cdb63817057e7aeafc94ea8ed9c350c6a113497
      "text/plain": [
       "<Figure size 360x720 with 1 Axes>"
      ]
     },
     "metadata": {
      "needs_background": "light"
     },
     "output_type": "display_data"
    }
   ],
   "source": [
    "cm_x = round(barycenter_X.getValue(),2)\n",
    "cm_y = round(barycenter_Y.getValue(),2)\n",
    "\n",
    "print(f\"Center of Mass: {(cm_x, cm_y)}\")\n",
    "\n",
    "\n",
    "fig = plt.figure(figsize=(5,10));\n",
    "for seat in itertools.product(X,Y):\n",
    "    if seat[0] != 0:\n",
    "        plt.plot(seat[0],seat[1],'s', color=\"gray\", markersize=15)\n",
    "\n",
    "plt.plot([bary_lim_X, bary_lim_X]  , [-bary_lim_Y, bary_lim_Y],   color=\"cyan\")\n",
    "plt.plot([-bary_lim_X, -bary_lim_X], [-bary_lim_Y, bary_lim_Y],   color=\"cyan\")\n",
    "plt.plot([-bary_lim_X, bary_lim_X] , [bary_lim_Y, bary_lim_Y],    color=\"cyan\")\n",
    "plt.plot([-bary_lim_X, bary_lim_X] , [-bary_lim_Y, -bary_lim_Y],   color=\"cyan\")\n",
    "\n",
    "#for g in range(len(groups)):\n",
    "    #print(j_g_max[g].x, j_g_min[g].x)\n",
    "\n",
    "for a in allocation:\n",
    "    if allocation[a].x == 1:\n",
    "        label = \"\"\n",
    "        if len(groups[passenger_from_id[a[0]].group_index].members) == 1:\n",
    "            color = \"green\"\n",
    "        else:\n",
    "            color = \"orange\"\n",
    "            label = label + str(passengers[a[0]].group_index)\n",
    "            \n",
    "\n",
    "        \n",
    "        #plt.plot(X[a[1]],Y[a[2]], 'o',color=colors[passengers[a[0]].group_index-1])\n",
    "        plt.plot(X[a[1]], Y[a[2]], 's', color=color, markersize=15)\n",
    "        plt.text(X[a[1]], Y[a[2]],label+\"*\"*(passenger_from_id[a[0]].transit_time < 90), ha=\"center\", va=\"center\")\n",
    "        print(f\"Passenger ID:{a[0]} - Coordinate: {(a[1], a[2])}\")\n",
    "plt.plot(cm_x,cm_y, \"o\", color=\"red\")\n",
    "plt.ylim([-14.5,14.5])\n",
    "plt.xlim([-3.5,3.5])"
   ]
<<<<<<< HEAD
  },
  {
   "cell_type": "code",
   "execution_count": 16,
   "metadata": {},
   "outputs": [
    {
     "data": {
      "text/plain": [
       "G109: [149: (women, 109), 150: (women, 109)]"
      ]
     },
     "execution_count": 16,
     "metadata": {},
     "output_type": "execute_result"
    }
   ],
   "source": [
    "groups[passenger_from_id[a[0]].group_index-1]"
   ]
  },
  {
   "cell_type": "code",
   "execution_count": 17,
   "metadata": {},
   "outputs": [
    {
     "name": "stdout",
     "output_type": "stream",
     "text": [
      "G0: [0: (men, 0)]\n",
      "G1: [1: (women, 1)]\n",
      "G2: [2: (men, 2)]\n",
      "G3: [3: (women, 3)]\n",
      "G4: [4: (men, 4), 5: (men, 4)]\n",
      "G5: [6: (women, 5)]\n",
      "G6: [7: (women, 6)]\n",
      "G7: [8: (women, 7), 9: (men, 7)]\n",
      "G8: [10: (men, 8)]\n",
      "G9: [11: (women, 9)]\n",
      "G10: [12: (women, 10), 13: (men, 10)]\n",
      "G11: [14: (men, 11)]\n",
      "G12: [15: (men, 12)]\n",
      "G13: [16: (women, 13), 17: (men, 13)]\n",
      "G14: [18: (men, 14)]\n",
      "G15: [19: (men, 15)]\n",
      "G16: [20: (women, 16), 21: (men, 16)]\n",
      "G17: [22: (men, 17)]\n",
      "G18: [23: (women, 18), 24: (women, 18), 25: (men, 18), 26: (men, 18)]\n",
      "G19: [27: (women, 19), 28: (women, 19), 29: (men, 19), 30: (men, 19)]\n",
      "G20: [31: (women, 20), 32: (women, 20), 33: (child, 20)]\n",
      "G21: [34: (women, 21)]\n",
      "G22: [35: (women, 22), 36: (men, 22)]\n",
      "G23: [37: (women, 23), 38: (men, 23)]\n",
      "G24: [39: (men, 24)]\n",
      "G25: [40: (men, 25)]\n",
      "G26: [41: (men, 26), 42: (men, 26)]\n",
      "G27: [43: (men, 27)]\n",
      "G28: [44: (women, 28)]\n",
      "G29: [45: (men, 29)]\n",
      "G30: [46: (women, 30), 47: (men, 30)]\n",
      "G31: [48: (men, 31)]\n",
      "G32: [49: (men, 32)]\n",
      "G33: [50: (women, 33), 51: (men, 33)]\n",
      "G34: [52: (women, 34), 53: (men, 34)]\n",
      "G35: [54: (women, 35)]\n",
      "G36: [55: (men, 36)]\n",
      "G37: [56: (men, 37)]\n",
      "G38: [57: (women, 38), 58: (men, 38)]\n",
      "G39: [59: (men, 39)]\n",
      "G40: [60: (men, 40)]\n",
      "G41: [61: (men, 41)]\n",
      "G42: [62: (men, 42)]\n",
      "G43: [63: (men, 43)]\n",
      "G44: [64: (women, 44), 65: (men, 44)]\n",
      "G45: [66: (men, 45)]\n",
      "G46: [67: (men, 46)]\n",
      "G47: [68: (women, 47)]\n",
      "G48: [69: (men, 48)]\n",
      "G49: [70: (women, 49)]\n",
      "G50: [71: (women, 50), 72: (men, 50)]\n",
      "G51: [73: (women, 51)]\n",
      "G52: [74: (women, 52)]\n",
      "G53: [75: (women, 53)]\n",
      "G54: [76: (women, 54), 77: (men, 54)]\n",
      "G55: [78: (women, 55), 79: (men, 55)]\n",
      "G56: [80: (women, 56), 81: (men, 56)]\n",
      "G57: [82: (men, 57)]\n",
      "G58: [83: (women, 58), 84: (men, 58)]\n",
      "G59: [85: (women, 59)]\n",
      "G60: [86: (women, 60), 87: (men, 60)]\n",
      "G61: [88: (men, 61)]\n",
      "G62: [89: (women, 62), 90: (men, 62)]\n",
      "G63: [91: (men, 63)]\n",
      "G64: [92: (women, 64), 93: (women, 64), 94: (men, 64)]\n",
      "G65: [95: (women, 65)]\n",
      "G66: [96: (men, 66)]\n",
      "G67: [97: (women, 67), 98: (men, 67)]\n",
      "G68: [99: (men, 68)]\n",
      "G69: [100: (women, 69)]\n",
      "G70: [101: (women, 70), 102: (men, 70)]\n",
      "G71: [103: (women, 71)]\n",
      "G72: [104: (men, 72)]\n",
      "G73: [105: (men, 73)]\n",
      "G74: [106: (men, 74)]\n",
      "G75: [107: (women, 75)]\n",
      "G76: [108: (women, 76), 109: (men, 76)]\n",
      "G77: [110: (men, 77)]\n",
      "G78: [111: (men, 78)]\n",
      "G79: [112: (men, 79)]\n",
      "G80: [113: (men, 80)]\n",
      "G81: [114: (men, 81)]\n",
      "G82: [115: (men, 82)]\n",
      "G83: [116: (men, 83)]\n",
      "G84: [117: (men, 84)]\n",
      "G85: [118: (men, 85)]\n",
      "G86: [119: (women, 86), 120: (men, 86)]\n",
      "G87: [121: (women, 87)]\n",
      "G88: [122: (women, 88)]\n",
      "G89: [123: (women, 89)]\n",
      "G90: [124: (men, 90)]\n",
      "G91: [125: (women, 91), 126: (men, 91)]\n",
      "G92: [127: (men, 92)]\n",
      "G93: [128: (men, 93)]\n",
      "G94: [129: (women, 94), 130: (men, 94)]\n",
      "G95: [131: (women, 95)]\n",
      "G96: [132: (men, 96)]\n",
      "G97: [133: (men, 97)]\n",
      "G98: [134: (men, 98)]\n",
      "G99: [135: (women, 99)]\n",
      "G100: [136: (women, 100)]\n",
      "G101: [137: (men, 101)]\n",
      "G102: [138: (women, 102), 139: (men, 102)]\n",
      "G103: [140: (women, 103), 141: (men, 103)]\n",
      "G104: [142: (women, 104)]\n",
      "G105: [143: (men, 105)]\n",
      "G106: [144: (women, 106)]\n",
      "G107: [145: (women, 107), 146: (women, 107)]\n",
      "G108: [147: (women, 108), 148: (women, 108)]\n",
      "G109: [149: (women, 109), 150: (women, 109)]\n",
      "G110: [151: (men, 110)]\n"
     ]
    }
   ],
   "source": [
    "for g in groups:\n",
    "    print(groups[g])"
   ]
=======
>>>>>>> 2cdb63817057e7aeafc94ea8ed9c350c6a113497
  }
 ],
 "metadata": {
  "interpreter": {
   "hash": "4edc6bdd590a5a6b92c48979e9e47f5638d187f6c4ff6a23aa9775e5ee8e38f8"
  },
  "kernelspec": {
   "display_name": "Python 3.9.10 64-bit (windows store)",
   "language": "python",
   "name": "python3"
  },
  "language_info": {
   "codemirror_mode": {
    "name": "ipython",
    "version": 3
   },
   "file_extension": ".py",
   "mimetype": "text/x-python",
   "name": "python",
   "nbconvert_exporter": "python",
   "pygments_lexer": "ipython3",
   "version": "3.9.1"
  },
  "orig_nbformat": 4
 },
 "nbformat": 4,
 "nbformat_minor": 2
}
