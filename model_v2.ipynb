{
 "cells": [
  {
   "cell_type": "code",
   "execution_count": 26,
   "metadata": {},
   "outputs": [],
   "source": [
    "from gurobipy import *\n",
    "#from passenger import *\n",
    "import pandas as pd\n",
    "\n",
    "import matplotlib.pyplot as plt\n",
    "import itertools\n",
    "import random"
   ]
  },
  {
   "cell_type": "markdown",
   "id": "a6dbe531",
   "metadata": {},
   "source": [
    "# Data and Variables"
   ]
  },
  {
   "cell_type": "markdown",
   "id": "8e104ca0",
   "metadata": {},
   "source": [
    "We need to represent and access info for all passengers: gender (weight), which group they belong to, if they need to transfer quickly, etc. For this purpose we created a the class _Passenger_. We also created the class _Group_ to represent each group (numer of women, men, transit time)."
   ]
  },
  {
   "cell_type": "code",
   "execution_count": 27,
   "metadata": {},
   "outputs": [],
   "source": [
    "class Passenger(object):\n",
    "    id_counter = 0\n",
    "    def __init__(self, group_index, description, class_type, transit_time=0):\n",
    "        \"\"\"\n",
    "            group_index : \n",
    "            description : men, women, child, wheelchair, stretcher\n",
    "            transit_time : optional parameter (inf if there is not transit time)\n",
    "        \"\"\"\n",
    "\n",
    "        self.group_index = group_index\n",
    "        self.id = Passenger.id_counter\n",
    "        self.description = description\n",
    "        self.transit_time = transit_time\n",
    "        self.class_type = class_type\n",
    "        self.weight = self.get_weight()\n",
    "\n",
    "        Passenger.id_counter += 1\n",
    "\n",
    "    def get_weight(self):\n",
    "        if self.description == 'women':\n",
    "            return 70\n",
    "        elif self.description == 'men':\n",
    "            return 85\n",
    "        elif self.description == 'child':\n",
    "            return 35\n",
    "        else: \n",
    "            return 100 \n",
    "\n",
    "    def __str__(self):\n",
    "        return f\"{self.id}: ({self.description}, {self.group_index})\" \n",
    "\n",
    "    def __repr__(self):\n",
    "        return str(self)\n",
    "\n",
    "class Group:\n",
    "\n",
    "    def __init__(self, id, people_count, class_type, transit_time=0):\n",
    "        self.id = id\n",
    "        self.class_type = class_type\n",
    "        self.transit_time = transit_time\n",
    "\n",
    "        self.members = []\n",
    "\n",
    "        for desc in people_count:\n",
    "            for _ in range(people_count[desc]):\n",
    "                self.members.append(Passenger(\n",
    "                        self.id,\n",
    "                        desc,\n",
    "                        self.class_type,\n",
    "                        self.transit_time\n",
    "                    )) \n",
    "        \n",
    "    def __getitem__(self, arg):\n",
    "        return self.members[arg]\n",
    "\n",
    "    def __str__(self):\n",
    "        return f\"G{self.id}: \" + str(self.members)\n",
    "\n",
    "    def __repr__(self):\n",
    "        return str(self)\n",
    "    \n",
    "\n",
    "    def __len__(self):\n",
    "        return len(self.members)\n",
    "    \n",
    "\n",
    "\n"
   ]
  },
  {
   "cell_type": "markdown",
   "metadata": {},
   "source": [
    "We then create some functions to import the data from the spreadsheets."
   ]
  },
  {
   "cell_type": "code",
   "execution_count": 28,
   "metadata": {},
   "outputs": [],
   "source": [
    "def read_and_preprocess(file, date):\n",
    "    df = pd.read_excel(file, date)\n",
    "    \n",
    "    df.drop(df.tail(2).index, inplace=True)\n",
    "\n",
    "    df['TransitTime (min)'] = df['TransitTime'].apply(lambda x: float(str(x).split(':')[0])*60+float(str(x).split(':')[1]))\n",
    "\n",
    "    df[['Femmes', 'Hommes', 'Enfants', 'WCHR', 'WCHB']] = df[['Femmes', 'Hommes', 'Enfants', 'WCHR', 'WCHB']].fillna(0)\n",
    "\n",
    "    return df\n",
    "\n",
    "def get_list_passengers(df):\n",
    "    list_groups = {}\n",
    "\n",
    "    for idx, row in df.iterrows():\n",
    "\n",
    "\n",
    "        people_count = {\n",
    "            'women': int(row['Femmes']),\n",
    "            'men': int(row['Hommes']),\n",
    "            'child': int(row['Enfants']),\n",
    "            'wheelchair': int(row['WCHR']),\n",
    "            'stretcher': int(row['WCHB']),\n",
    "        }\n",
    "\n",
    "        list_groups[int(idx)] = Group(\n",
    "            id=int(row[\"Numéro du groupe\"])-1, # -1 temporary fix for ids\n",
    "            people_count = people_count,\n",
    "            class_type = row[\"Classe\"],\n",
    "            transit_time=row['TransitTime (min)']\n",
    "        )\n",
    "    \n",
    "    return list_groups\n",
    "\n",
    "\n"
   ]
  },
  {
   "cell_type": "code",
   "execution_count": 29,
   "metadata": {},
   "outputs": [],
   "source": [
    "# Load Passengers in data\n",
    "\n",
    "df = read_and_preprocess('DataSeating.xlsx', '5Nov')\n",
    "\n",
    "groups = get_list_passengers(df)\n",
    "\n",
    "passengers = list()\n",
    "\n",
    "for g in groups.keys():\n",
    "    passengers += groups[g].members\n",
    "\n",
    "passenger_from_id = {}\n",
    "for p in passengers:\n",
    "    passenger_from_id[p.id] = p\n"
   ]
  },
  {
   "cell_type": "markdown",
   "metadata": {},
   "source": [
    "As a final setup we define some problem parameters."
   ]
  },
  {
   "cell_type": "code",
   "execution_count": 30,
   "metadata": {},
   "outputs": [],
   "source": [
    "\n",
    "passengers_count = len(passengers)\n",
    "\n",
    "width = 6\n",
    "height = 28+4+2\n",
    "X = [-3, -2, -1, 0, 1, 2, 3]\n",
    "Y = list(range(-14-2-1,0)) + list(range(1,14+2+1+1))\n",
    "\n",
    "total_weight = sum(p.weight for p in passengers)\n"
   ]
  },
  {
   "cell_type": "markdown",
   "metadata": {},
   "source": [
    "# Model Definition"
   ]
  },
  {
   "cell_type": "code",
   "execution_count": 31,
   "metadata": {},
   "outputs": [],
   "source": [
    "m = Model(\"model_v1\")"
   ]
  },
  {
   "cell_type": "markdown",
   "metadata": {},
   "source": [
    "The main decision variable here is the allocation $A^p_{(i~,~j)}$ : binary variable that says for each passenger with id $p$ if he is located at the seat in coordinates $(i~,~j)$.\n",
    "\n",
    "\n",
    "This is represented in python by the variable allocation[p, i, j].\n",
    "\n",
    "For instance, if passenger 1 is at the place : (2, 3), then allocation[1,2,3] = 1. Else, it equals 0."
   ]
  },
  {
   "cell_type": "code",
   "execution_count": 32,
   "metadata": {},
   "outputs": [],
   "source": [
    "# Allocation Variables\n",
    "allocation = m.addVars(passengers_count, width+1, height, vtype=GRB.BINARY, name=\"Allocation\")"
   ]
  },
  {
   "cell_type": "markdown",
   "metadata": {},
   "source": [
    "# Constraints"
   ]
  },
  {
   "cell_type": "markdown",
   "id": "3d2f5067",
   "metadata": {},
   "source": [
    "**At most 1 person per seat:** there can't be more than 1 person in each seat.\n",
    "\n",
    "$$\\sum_{p \\in \\text{Passengers}} A^p_{(i~,~j)} \\leq 1~~\\forall (i, j) \\in \\text{Seats}$$"
   ]
  },
  {
   "cell_type": "code",
   "execution_count": 33,
   "metadata": {},
   "outputs": [],
   "source": [
    "# Make sure that there is at most one person per seat\n",
    "C_limited_seat = m.addConstrs((quicksum([allocation[p.id,i,j] for p in passengers]) <= 1 for i in range(width+1) for j in range(height)))"
   ]
  },
  {
   "cell_type": "markdown",
   "id": "3d2f5067",
   "metadata": {},
   "source": [
    "**Every passenger is served:** every passenger should be allocated to precisely one seat.\n",
    "\n",
    "$$\\sum_{(i,j) \\in \\text{Seats}} A^p_{(i~,~j)} == 1~~\\forall p \\in \\text{Passengers}$$"
   ]
  },
  {
   "cell_type": "code",
   "execution_count": 34,
   "metadata": {},
   "outputs": [],
   "source": [
    "# Maker sure that everyone is seated and only in one spot\n",
    "C_serve_all = m.addConstrs((quicksum([allocation[p.id,i,j] for i in range(width+1) for j in range(height) ]) == 1 for p in passengers))"
   ]
  },
  {
   "cell_type": "markdown",
   "metadata": {},
   "source": [
    "**Empty Corridor**: there should be no passenger allocated to the corridor (i=3).\n",
    "$$A^p_{(i,j)}==0~~\\forall (p,i,j) \\in \\text{Passengers} \\times \\text{Seats}$$"
   ]
  },
  {
   "cell_type": "code",
   "execution_count": 35,
   "metadata": {},
   "outputs": [],
   "source": [
    "# Make sure that the corridor is not considered as a possible seat\n",
    "C_empty_corridor = m.addConstrs((0 == allocation[p,3,j] for p in range(passengers_count) for j in range(height)))"
   ]
  },
  {
   "cell_type": "markdown",
   "metadata": {},
   "source": [
    "**Barycenter Constraint:** the center of mass of the passengers must reside within a limited area. For this purpose the barycenter function is divided into its X and Y coordinate and then each constraint is divided into an inferior limit and a superior limit constraint.\n",
    "\n",
    "$$ \\frac{1}{w_t}\\sum_{(p,i,j) \\in \\text{Passengers} \\times \\text{Seats}} A^p_{(i,j)} \\cdot w(p) \\cdot X(i) \\leq B_{max}^X$$\n",
    "\n",
    "$$ \\frac{1}{w_t}\\sum_{(p,i,j) \\in \\text{Passengers} \\times \\text{Seats}} A^p_{(i,j)} \\cdot w(p) \\cdot X(i) \\geq B_{min}^X$$\n",
    "\n",
    "$$ \\frac{1}{w_t}\\sum_{(p,i,j) \\in \\text{Passengers} \\times \\text{Seats}} A^p_{(i,j)} \\cdot w(p) \\cdot Y(j) \\leq B_{max}^Y$$\n",
    "\n",
    "$$ \\frac{1}{w_t}\\sum_{(p,i,j) \\in \\text{Passengers} \\times \\text{Seats}} A^p_{(i,j)} \\cdot w(p) \\cdot Y(j) \\geq B_{min}^Y$$\n",
    "\n",
    "\n",
    "Where :\n",
    "- $w_t$ is the total weight of all passengers.\n",
    "- $w(p)$ is the weight of passenger with id $p$.\n",
    "- $X(i)$ is the distance in meters at coordinate i.\n",
    "- $Y(j)$ is the distance in meters at coordinate j.\n",
    "- $B_{max}^X$ is the upper bound of the barycenter in the X axis.\n",
    "- $B_{min}^X$ is the lower bound of the barycenter in the X axis.\n",
    "- $B_{max}^Y$ is the upper bound of the barycenter in the Y axis.\n",
    "- $B_{min}^Y$ is the lower bound of the barycenter in the Y axis.\n"
   ]
  },
  {
   "cell_type": "code",
   "execution_count": 36,
   "metadata": {},
   "outputs": [],
   "source": [
    "# Center of Mass function\n",
    "barycenter_X = quicksum([p.weight * allocation[p.id,i,j]*X[i] for p in passengers for i in range(width+1) for j in range(height)])/total_weight\n",
    "barycenter_Y = quicksum([p.weight * allocation[p.id,i,j]*Y[j] for p in passengers for i in range(width+1) for j in range(height)])/total_weight\n",
    "\n",
    "# Barycenter limits\n",
    "bary_lim_X = 1\n",
    "bary_lim_Y = 2\n",
    "\n",
    "# Make sure that the center of mass is centralized\n",
    "\n",
    "C_bary_X_p = m.addConstr(barycenter_X <=  bary_lim_X)\n",
    "C_bary_X_m = m.addConstr(barycenter_X >= -bary_lim_X)\n",
    "C_bary_Y_p = m.addConstr(barycenter_Y <=  bary_lim_Y)\n",
    "C_bary_Y_m = m.addConstr(barycenter_Y >= -bary_lim_Y)"
   ]
  },
  {
   "cell_type": "markdown",
   "metadata": {},
   "source": [
    "**Transit Time Constraint**: the people with a transit time inferior to 90 minutes should stay in the front.\n",
    "\n",
    "$$ A^p_{(i,j)} \\leq \\epsilon(p) ~~ \\forall (p,i,j) \\in \\text{Passengers in transit} \\times \\text{Columns} \\times \\text{Upper rows}$$\n",
    "\n",
    "Where $\\epsilon(p)$ is a new auxiliary variable that we want to minimize."
   ]
  },
  {
   "cell_type": "code",
   "execution_count": 37,
   "metadata": {},
   "outputs": [],
   "source": [
    "epsilon = m.addVars([p.id for p in passengers if p.transit_time < 90], vtype=GRB.BINARY)\n",
    "m.addConstrs(allocation[p.id,i,j] <= epsilon[p.id] for i in range(width+1) for j in range(height) for p in passengers if p.transit_time < 90 and (j>17 or j<5));"
   ]
  },
  {
   "cell_type": "markdown",
   "metadata": {},
   "source": [
    "### Childrens not alone constraint\n",
    "\n",
    "#### Every child must be seated next to an adult (no aisle between them) \n",
    "\n",
    "If A(i,j) has a child allocated, then A(i,j+1) or A(i,j-1) must have an adult\n",
    "\n",
    "#### No child near the emergency exits : rows 12, 11 \n",
    "- A(12,j)=adult\n",
    "\n",
    "- A(11,j)=adult\n",
    "\n",
    "for j=1...6"
   ]
  },
  {
   "cell_type": "code",
   "execution_count": 38,
   "metadata": {},
   "outputs": [],
   "source": [
    "def in_grid(i, j):\n",
    "    return i>=0 and j>=0 and j<height and i <= width\n",
    "\n",
    "e_allocation = lambda p, i, j: allocation[p,i,j] if in_grid(i,j) else 0\n",
    "\n",
    "\n",
    "m.addConstrs(\n",
    "    quicksum([e_allocation(adult.id,i-1,j) + e_allocation(adult.id,i+1,j) for adult in passengers if adult.description != \"child\"])\n",
    "    >= allocation[child.id,i,j] for i in range(width+1) for j in range(height) for child in passengers if child.description == \"child\");\n",
    "\n",
    "m.addConstrs(\n",
    "    quicksum([e_allocation(child.id,i,j) for child in passengers if child.description == \"child\"]) == 0 for i in range(width+1) for j in range(11,12+1)\n",
    ");"
   ]
  },
  {
   "cell_type": "markdown",
   "metadata": {},
   "source": [
    "### Wheelchair constraint\n",
    "\n",
    "- 1 wheelchair passenger takes a square of 4 seats next to the aisle. The weight is on the seat in the lower corner of the square blocked by the wheelchair, next to the aisle.\n",
    "\n",
    "- if A(i,j)=wheelchair then A(i,j+1)=A(i+1,j)=A(i+1,j+1)=0, only if i<=25 beacause otherwise there is not enough room to block the necessary number of seats\n",
    "\n",
    "- j=3 or 5 to be next to the aisle."
   ]
  },
  {
   "cell_type": "code",
   "execution_count": 39,
   "metadata": {},
   "outputs": [],
   "source": [
    "m.addConstrs(allocation[wheel.id,0,j] == 0  for j in range(height) for wheel in passengers if wheel.description == \"wheelchair\");\n",
    "m.addConstrs(allocation[wheel.id,1,j] == 0  for j in range(height) for wheel in passengers if wheel.description == \"wheelchair\");\n",
    "m.addConstrs(allocation[wheel.id,5,j] == 0  for j in range(height) for wheel in passengers if wheel.description == \"wheelchair\");\n",
    "m.addConstrs(allocation[wheel.id,6,j] == 0  for j in range(height) for wheel in passengers if wheel.description == \"wheelchair\");\n",
    "m.addConstrs(allocation[wheel.id,i,height-1] == 0  for i in range(width+1) for wheel in passengers if wheel.description == \"wheelchair\");\n",
    "\n",
    "m.addConstrs(\n",
    "    quicksum([e_allocation(p.id,2-1,j) + e_allocation(p.id,2,j+1) + e_allocation(p.id,2-1,j+1) for p in passengers ])\n",
    "    <= 4*(1 - allocation[wheel.id,2,j]) for j in range(height-1) for wheel in passengers if wheel.description == \"wheelchair\");\n",
    "\n",
    "m.addConstrs(\n",
    "    quicksum([e_allocation(p.id,4+1,j) + e_allocation(p.id,4,j+1) + e_allocation(p.id,4+1,j+1) for p in passengers ])\n",
    "    <= 4*(1 - allocation[wheel.id,4,j]) for j in range(height-1) for wheel in passengers if wheel.description == \"wheelchair\");\n"
   ]
  },
  {
   "cell_type": "markdown",
   "metadata": {},
   "source": [
    "### Stretcher constraint\n",
    "\n",
    "- 1 stretcher takes 4 rows of 3 seats. The weight is on the seat next to the aisle, on the \"lower\" end of the rectangle blocked by the strecher\n",
    "\n",
    "- if A(i,j)=stretcher then A(i+l,j+k)=0 for k=1,2 l=0,1,2,3, only if i<=25 beacause otherwise there is not enough room to block the necessary number of seats\n",
    "\n",
    "- j=3 or 5 to be next to the aisle."
   ]
  },
  {
   "cell_type": "code",
   "execution_count": 40,
   "metadata": {},
   "outputs": [],
   "source": [
    "m.addConstrs(allocation[stretch.id,0,j] == 0  for j in range(height) for stretch in passengers if stretch.description == \"stretcher\");\n",
    "m.addConstrs(allocation[stretch.id,1,j] == 0  for j in range(height) for stretch in passengers if stretch.description == \"stretcher\");\n",
    "m.addConstrs(allocation[stretch.id,5,j] == 0  for j in range(height) for stretch in passengers if stretch.description == \"stretcher\");\n",
    "m.addConstrs(allocation[stretch.id,6,j] == 0  for j in range(height) for stretch in passengers if stretch.description == \"stretcher\");\n",
    "m.addConstrs(allocation[stretch.id,i,height-1] == 0  for i in range(width+1) for stretch in passengers if stretch.description == \"stretcher\");\n",
    "m.addConstrs(allocation[stretch.id,i,height-2] == 0  for i in range(width+1) for stretch in passengers if stretch.description == \"stretcher\");\n",
    "m.addConstrs(allocation[stretch.id,i,height-3] == 0  for i in range(width+1) for stretch in passengers if stretch.description == \"stretcher\");\n",
    "\n",
    "m.addConstrs(\n",
    "    quicksum([e_allocation(p.id,0,j) + e_allocation(p.id,1,j) + \n",
    "                e_allocation(p.id,0,j+1) + e_allocation(p.id,1,j+1) + e_allocation(p.id,2,j+1) +\n",
    "                e_allocation(p.id,0,j+2) + e_allocation(p.id,1,j+2) + e_allocation(p.id,2,j+2) +\n",
    "                e_allocation(p.id,0,j+3) + e_allocation(p.id,1,j+3) + e_allocation(p.id,2,j+3)  for p in passengers ])\n",
    "    <= 14*(1 - allocation[stretch.id,2,j]) for j in range(height-3) for stretch in passengers if stretch.description == \"stretcher\");\n",
    "\n",
    "m.addConstrs(\n",
    "    quicksum([e_allocation(p.id,5,j) + e_allocation(p.id,6,j) + \n",
    "                e_allocation(p.id,4,j+1) + e_allocation(p.id,5,j+1) + e_allocation(p.id,6,j+1) +\n",
    "                e_allocation(p.id,4,j+2) + e_allocation(p.id,5,j+2) + e_allocation(p.id,6,j+2) +\n",
    "                e_allocation(p.id,4,j+3) + e_allocation(p.id,5,j+3) + e_allocation(p.id,6,j+3)  for p in passengers ])\n",
    "    <= 14*(1 - allocation[stretch.id,4,j]) for j in range(height-3) for stretch in passengers if stretch.description == \"stretcher\");"
   ]
  },
  {
   "cell_type": "markdown",
   "metadata": {},
   "source": [
    "### Business constraints\n",
    "\n",
    "- A business passenger is seated in the front of the plane and has no one next to him\n",
    "similar of time transit constraint \n",
    "\n",
    "- if A(i,j)=business then A(i,j+1)=0 and A(i, j-1)=0\n",
    "\n",
    "- We cannnot fix a size for the business class. Thus, as in real life, there is a curtain that can be placed according to the number of pasengers in business class, so the size is variable and we take it into consideration in the cells below"
   ]
  },
  {
   "cell_type": "code",
   "execution_count": 44,
   "metadata": {},
   "outputs": [
    {
     "name": "stdout",
     "output_type": "stream",
     "text": [
      "10\n",
      "3\n"
     ]
    }
   ],
   "source": [
    "count_business_class_passengers = 0\n",
    "for p in passengers:\n",
    "    if p.class_type=='J':\n",
    "        count_business_class_passengers+=1\n",
    "\n",
    "\n",
    "if count_business_class_passengers % 4 == 0:\n",
    "    business_class_rows = count_business_class_passengers / 4\n",
    "else:\n",
    "    business_class_rows = count_business_class_passengers // 4 + 1\n",
    "\n",
    "print(business_class_rows)"
   ]
  },
  {
   "cell_type": "code",
   "execution_count": 45,
   "metadata": {},
   "outputs": [],
   "source": [
    "# TODO: make business area size grow dinamically with the number of business clients (instead of being fixed to 5)\n",
    "\n",
    "m.addConstr( quicksum([allocation[p.id,i,j] for i in range(width+1) for j in range(business_class_rows) for p in passengers if groups[p.group_index].class_type == 'Y']) == 0 );\n",
    "m.addConstr( quicksum([allocation[p.id,i,j] for i in range(width+1) for j in range(business_class_rows,height) for p in passengers if groups[p.group_index].class_type == 'J']) == 0 );\n",
    "\n",
    "m.addConstrs( quicksum([e_allocation(p.id,i-1,j) + e_allocation(p.id,i+1,j) for p in passengers if (groups[p.group_index].class_type == 'J' and pp.group_index != p.group_index)]) <= 3*(1-allocation[pp.id, i, j]) for pp in passengers if (groups[pp.group_index].class_type == 'J') for i in range(width+1) for j in range(business_class_rows) );"
   ]
  },
  {
   "cell_type": "markdown",
   "metadata": {},
   "source": [
    "# Objective Function"
   ]
  },
  {
   "cell_type": "markdown",
   "metadata": {},
   "source": [
    "As a precise calculation of the satisfying function leads to a combinatorial explosion, we decided to instead try to reduce the rectangle formed by the distribution of people from the same group, in this way they try to collapse to the same region of the plane.\n",
    "\n",
    "For this we will need the following additional variables:\n",
    "- $i^G_{max}$: highest $i$ coordinate between members of group $G$.\n",
    "- $i^G_{min}$: lowest $i$ coordinate between members of group $G$.\n",
    "- $j^G_{max}$: highest $j$ coordinate between members of group $G$.\n",
    "- $j^G_{min}$: lowest $j$ coordinate between members of group $G$.\n",
    "- $\\Delta i^G$: $i^G_{max}-i^G_{min}$\n",
    "- $\\Delta j^G$: $j^G_{max}-j^G_{min}$\n",
    "\n",
    "The first 4 variables are set by defining inequality constraints based on the coordinates of the members of a group and the 2 last variables are set by defining equality constraints. Thus, our objective function becomes.\n",
    "\n",
    "$$ \\sum_{G \\in \\text{Groups}} \\Delta i^G + \\phi \\cdot \\Delta j^G + \\sum_{p \\in G} \\epsilon(p) $$\n",
    "\n",
    "Where $\\phi$ is a factor for giving priorities to grouping people in the same rows."
   ]
  },
  {
   "cell_type": "code",
   "execution_count": 46,
   "metadata": {},
   "outputs": [],
   "source": [
    "#i_p = m.addVars(passengers_count, vtype=GRB.INTEGER, lb=0, ub=width, name=\"i_p\")\n",
    "#j_p = m.addVars(passengers_count, vtype=GRB.INTEGER, lb=0, ub=height, name=\"j_p\")\n",
    "\n",
    "i_g_max = m.addVars(len(groups), vtype=GRB.INTEGER, lb=0, ub=width, name=\"i_g_max\")\n",
    "i_g_min = m.addVars(len(groups), vtype=GRB.INTEGER, lb=0, ub=width, name=\"i_g_min\")\n",
    "j_g_max = m.addVars(len(groups), vtype=GRB.INTEGER, lb=0, ub=height, name=\"j_g_max\")\n",
    "j_g_min = m.addVars(len(groups), vtype=GRB.INTEGER, lb=0, ub=height, name=\"j_g_min\")\n",
    "\n",
    "#i_g_delta = m.addVars(len(groups), vtype=GRB.INTEGER, lb=1, ub=width, name=\"i_g_delta\")\n",
    "#j_g_delta = m.addVars(len(groups), vtype=GRB.INTEGER, lb=0, ub=height, name=\"j_g_delta\")\n",
    "\n",
    "#m.addConstrs((i_p[p] == quicksum([i*allocation[p,i,j] for i in range(width+1) for j in range(height)]) for p in range(passengers_count)))\n",
    "#m.addConstrs((j_p[p] == quicksum([j*allocation[p,i,j] for i in range(width+1) for j in range(height)]) for p in range(passengers_count)))\n",
    "\n",
    "for g in range(len(groups)):\n",
    "    if len(groups[g].members) > 1 :\n",
    "    \n",
    "        m.addConstrs(( i_g_max[g] >= quicksum([i*allocation[p.id,i,j] for i in range(width+1) for j in range(height)]) for p in groups[g].members ))\n",
    "        m.addConstrs(( i_g_min[g] <= quicksum([i*allocation[p.id,i,j] for i in range(width+1) for j in range(height)]) for p in groups[g].members ))\n",
    "\n",
    "        m.addConstrs(( j_g_max[g] >= quicksum([j*allocation[p.id,i,j] for i in range(width+1) for j in range(height)]) for p in groups[g].members ))\n",
    "        m.addConstrs(( j_g_min[g] <= quicksum([j*allocation[p.id,i,j] for i in range(width+1) for j in range(height)]) for p in groups[g].members ))\n",
    "        \n",
    "        m.addConstr(i_g_max[g] >= i_g_min[g])\n",
    "        m.addConstr(j_g_max[g] >= j_g_min[g])\n",
    "\n",
    "        #m.addConstr(i_g_delta[g] == i_g_max[g] - i_g_min[g])\n",
    "        #m.addConstr(j_g_delta[g] == j_g_max[g] - j_g_min[g])\n",
    "\n",
    "        m.addConstr((i_g_max[g] - i_g_min[g] + j_g_max[g] - j_g_min[g] >= 1))\n",
    "    # else:\n",
    "        \n",
    "    #     m.addConstrs(( i_g_max[g] == 0 for p in groups[g].members ))\n",
    "    #     m.addConstrs(( i_g_min[g] == 0 for p in groups[g].members ))\n",
    "\n",
    "    #     m.addConstrs(( j_g_max[g] == 0 for p in groups[g].members ))\n",
    "    #     m.addConstrs(( j_g_min[g] == 0 for p in groups[g].members ))\n",
    "        \n",
    "\n",
    "\n",
    "e_allocation = lambda p, i, j: allocation[p,i,j] if in_grid(i,j) else 0\n",
    "\n",
    "\n",
    "m.setObjective( i_g_max.sum() - i_g_min.sum() + 50*j_g_max.sum() - 50*j_g_min.sum() + epsilon.sum() \n",
    ", GRB.MINIMIZE)\n"
   ]
  },
  {
   "cell_type": "markdown",
   "metadata": {},
   "source": [
    "**Observation:** unfortunately our objective function couldn't calculate an optimal solution in due time. Thus for this delivery we only considered the $j$ coordinate which is really far away from being a good solution."
   ]
  },
  {
   "cell_type": "code",
   "execution_count": 47,
   "metadata": {},
   "outputs": [
    {
     "name": "stdout",
     "output_type": "stream",
     "text": [
      "Set parameter TimeLimit to value 300\n",
      "Gurobi Optimizer version 9.5.0 build v9.5.0rc5 (mac64[rosetta2])\n",
      "Thread count: 8 physical cores, 8 logical processors, using up to 8 threads\n",
      "Optimize a model with 19960 rows, 22906 columns and 571333 nonzeros\n",
      "Model fingerprint: 0xafcbf13b\n",
      "Variable types: 0 continuous, 22906 integer (22702 binary)\n",
      "Coefficient statistics:\n",
      "  Matrix range     [5e-03, 3e+01]\n",
      "  Objective range  [1e+00, 5e+01]\n",
      "  Bounds range     [1e+00, 3e+01]\n",
      "  RHS range        [1e+00, 1e+01]\n",
      "Presolve removed 17886 rows and 7324 columns\n",
      "Presolve time: 3.03s\n",
      "Presolved: 2074 rows, 15582 columns, 262309 nonzeros\n",
      "Variable types: 4 continuous, 15578 integer (15410 binary)\n",
      "\n",
      "Root simplex log...\n",
      "\n",
      "Iteration    Objective       Primal Inf.    Dual Inf.      Time\n",
      "    4866   -4.0893904e+04   0.000000e+00   0.000000e+00      5s\n",
      "\n",
      "Root relaxation: objective -4.089390e+04, 4866 iterations, 1.55 seconds (0.74 work units)\n",
      "\n",
      "    Nodes    |    Current Node    |     Objective Bounds      |     Work\n",
      " Expl Unexpl |  Obj  Depth IntInf | Incumbent    BestBd   Gap | It/Node Time\n",
      "\n",
      "     0     0 -40893.904    0  236          - -40893.904      -     -    6s\n",
      "H    0     0                    -35916.00000 -40893.904  13.9%     -    7s\n",
      "H    0     0                    -36423.00000 -40893.904  12.3%     -    9s\n",
      "H    0     0                    -36763.00000 -40893.904  11.2%     -   12s\n",
      "H    0     0                    -39576.00000 -40893.796  3.33%     -   14s\n",
      "     0     0 -40893.796    0  352 -39576.000 -40893.796  3.33%     -   16s\n",
      "H    0     0                    -40367.00000 -40893.796  1.31%     -   20s\n",
      "H    0     0                    -40552.00000 -40893.775  0.84%     -   20s\n",
      "     0     0 -40893.685    0  364 -40552.000 -40893.685  0.84%     -   20s\n",
      "     0     0 -40893.685    0  364 -40552.000 -40893.685  0.84%     -   21s\n",
      "     0     0 -40893.685    0  318 -40552.000 -40893.685  0.84%     -   21s\n",
      "H    0     0                    -40573.00000 -40893.648  0.79%     -   23s\n",
      "     0     0 -40893.648    0  357 -40573.000 -40893.648  0.79%     -   23s\n",
      "     0     0 -40893.631    0  359 -40573.000 -40893.631  0.79%     -   24s\n",
      "     0     0 -40893.630    0  362 -40573.000 -40893.630  0.79%     -   24s\n",
      "H    0     0                    -40651.00000 -40893.630  0.60%     -   25s\n",
      "     0     0 -40893.514    0  415 -40651.000 -40893.514  0.60%     -   26s\n",
      "     0     0 -40893.514    0  322 -40651.000 -40893.514  0.60%     -   28s\n",
      "     0     2 -40893.514    0  297 -40651.000 -40893.514  0.60%     -   31s\n",
      "    15    24 -40893.459    4  344 -40651.000 -40893.491  0.60%   322   35s\n",
      "H   31    40                    -40806.00000 -40893.491  0.21%   289   65s\n",
      "H   33    40                    -40812.00000 -40893.491  0.20%   274   65s\n",
      "    86   115 -40893.452   11  329 -40812.000 -40893.491  0.20%   164   77s\n",
      "H  100   115                    -40860.00000 -40893.491  0.08%   155   77s\n",
      "   119   306 -40893.452   14  334 -40860.000 -40893.491  0.08%   148   87s\n",
      "H  349   540                    -40862.00000 -40893.491  0.08%   128  107s\n",
      "H  445   540                    -40863.00000 -40893.491  0.07%   121  107s\n",
      "   643   890 -40892.064   51  278 -40863.000 -40893.491  0.07%   127  137s\n",
      "H  688   890                    -40864.00000 -40893.491  0.07%   121  137s\n",
      "  1135  1562 -40893.453   27  303 -40864.000 -40893.491  0.07%   122  165s\n",
      "  2193  2537 -40890.271   85  261 -40864.000 -40893.491  0.07%   106  183s\n",
      "  3507  2538 -40890.206   76  322 -40864.000 -40893.491  0.07%  91.9  195s\n",
      "  3509  2539 -40890.613   77  260 -40864.000 -40890.613  0.07%  91.9  201s\n",
      "  3510  2540 -40890.427   60  274 -40864.000 -40890.427  0.06%  91.9  213s\n",
      "  3511  2541 -40890.365   39  365 -40864.000 -40890.365  0.06%  91.8  215s\n",
      "  3513  2542 -40886.654  104  291 -40864.000 -40890.328  0.06%  91.8  220s\n",
      "  3515  2543 -40890.323   98  269 -40864.000 -40890.323  0.06%  91.7  226s\n",
      "  3518  2545 -40874.156  173  295 -40864.000 -40890.314  0.06%  91.7  234s\n",
      "  3519  2546 -40890.314  122  295 -40864.000 -40890.314  0.06%  91.6  236s\n",
      "  3523  2550 -40889.328   85  231 -40864.000 -40890.314  0.06%   100  244s\n",
      "  3524  2551 -40889.070   90  280 -40864.000 -40890.314  0.06%   100  256s\n",
      "  3527  2553 -40890.311   18  384 -40864.000 -40890.311  0.06%   100  261s\n",
      "  3528  2554 -40890.307   27  264 -40864.000 -40890.307  0.06%   100  265s\n",
      "  3530  2555 -40873.816  280  336 -40864.000 -40890.302  0.06%   100  271s\n",
      "  3532  2556 -40890.296   34  308 -40864.000 -40890.296  0.06%  99.5  277s\n",
      "  3534  2558 -40884.747   99  333 -40864.000 -40890.286  0.06%  99.4  288s\n",
      "  3535  2558 -40883.256  191  333 -40864.000 -40890.286  0.06%  99.4  290s\n",
      "  3536  2559 -40890.279   11  333 -40864.000 -40890.279  0.06%  99.4  297s\n",
      "\n",
      "Cutting planes:\n",
      "  Gomory: 6\n",
      "  Cover: 1\n",
      "  Projected implied bound: 2\n",
      "  Clique: 6\n",
      "  MIR: 25\n",
      "  StrongCG: 11\n",
      "  Flow cover: 59\n",
      "  GUB cover: 47\n",
      "  Zero half: 11\n",
      "  RLT: 9\n",
      "  Relax-and-lift: 8\n",
      "\n",
      "Explored 3537 nodes (404446 simplex iterations) in 300.13 seconds (117.11 work units)\n",
      "Thread count was 8 (of 8 available processors)\n",
      "\n",
      "Solution count 10: -40864 -40863 -40862 ... -40367\n",
      "\n",
      "Time limit reached\n",
      "Best objective -4.086400000000e+04, best bound -4.089000000000e+04, gap 0.0636%\n"
     ]
    }
   ],
   "source": [
    "#m.setParam(\"MIPFocus\", 3) \n",
    "#m.setParam(\"Cuts\", 2) \n",
    "m.setParam('TimeLimit', 5*60)\n",
    "m.update()\n",
    "m.optimize()"
   ]
  },
  {
   "cell_type": "markdown",
   "metadata": {},
   "source": [
    "# Verifying Results\n",
    "- Green Seats: people travelling alone\n",
    "- Orange Seats: people travelling in group, the printed number corresponds to the group id.\n",
    "- Asterisk: people with transit time inferior to 90 minutes.\n",
    "- Blue Rectangle: limits of the acceptable barycenter.\n",
    "- Red Circle: actual barycenter."
   ]
  },
  {
   "cell_type": "code",
   "execution_count": 48,
   "metadata": {},
   "outputs": [
    {
     "name": "stdout",
     "output_type": "stream",
     "text": [
      "Center of Mass: (0.02, -1.97)\n",
      "Passenger ID:0 - Coordinate: (1, 8)\n",
      "Passenger ID:1 - Coordinate: (0, 8)\n",
      "Passenger ID:2 - Coordinate: (2, 8)\n",
      "Passenger ID:3 - Coordinate: (0, 5)\n",
      "Passenger ID:4 - Coordinate: (4, 31)\n",
      "Passenger ID:5 - Coordinate: (5, 31)\n",
      "Passenger ID:6 - Coordinate: (5, 6)\n",
      "Passenger ID:7 - Coordinate: (4, 6)\n",
      "Passenger ID:8 - Coordinate: (2, 6)\n",
      "Passenger ID:9 - Coordinate: (0, 10)\n",
      "Passenger ID:10 - Coordinate: (2, 10)\n",
      "Passenger ID:11 - Coordinate: (1, 10)\n",
      "Passenger ID:12 - Coordinate: (5, 2)\n",
      "Passenger ID:13 - Coordinate: (4, 2)\n",
      "Passenger ID:14 - Coordinate: (0, 1)\n",
      "Passenger ID:15 - Coordinate: (1, 1)\n",
      "Passenger ID:16 - Coordinate: (6, 6)\n",
      "Passenger ID:17 - Coordinate: (5, 14)\n",
      "Passenger ID:18 - Coordinate: (2, 14)\n",
      "Passenger ID:19 - Coordinate: (6, 14)\n",
      "Passenger ID:20 - Coordinate: (4, 14)\n",
      "Passenger ID:21 - Coordinate: (6, 17)\n",
      "Passenger ID:22 - Coordinate: (6, 11)\n",
      "Passenger ID:23 - Coordinate: (2, 16)\n",
      "Passenger ID:24 - Coordinate: (1, 16)\n",
      "Passenger ID:25 - Coordinate: (6, 16)\n",
      "Passenger ID:26 - Coordinate: (1, 17)\n",
      "Passenger ID:27 - Coordinate: (2, 17)\n",
      "Passenger ID:28 - Coordinate: (0, 17)\n",
      "Passenger ID:29 - Coordinate: (1, 3)\n",
      "Passenger ID:30 - Coordinate: (0, 3)\n",
      "Passenger ID:31 - Coordinate: (2, 12)\n",
      "Passenger ID:32 - Coordinate: (4, 10)\n",
      "Passenger ID:33 - Coordinate: (4, 7)\n",
      "Passenger ID:34 - Coordinate: (5, 7)\n",
      "Passenger ID:35 - Coordinate: (5, 17)\n",
      "Passenger ID:36 - Coordinate: (1, 14)\n",
      "Passenger ID:37 - Coordinate: (0, 14)\n",
      "Passenger ID:38 - Coordinate: (0, 32)\n",
      "Passenger ID:39 - Coordinate: (0, 16)\n",
      "Passenger ID:40 - Coordinate: (6, 12)\n",
      "Passenger ID:41 - Coordinate: (5, 12)\n",
      "Passenger ID:42 - Coordinate: (4, 12)\n",
      "Passenger ID:43 - Coordinate: (1, 13)\n",
      "Passenger ID:44 - Coordinate: (0, 13)\n",
      "Passenger ID:45 - Coordinate: (5, 10)\n",
      "Passenger ID:46 - Coordinate: (6, 10)\n",
      "Passenger ID:47 - Coordinate: (0, 2)\n",
      "Passenger ID:48 - Coordinate: (2, 2)\n",
      "Passenger ID:49 - Coordinate: (4, 17)\n",
      "Passenger ID:50 - Coordinate: (5, 15)\n",
      "Passenger ID:51 - Coordinate: (4, 15)\n",
      "Passenger ID:52 - Coordinate: (5, 9)\n",
      "Passenger ID:53 - Coordinate: (4, 9)\n",
      "Passenger ID:54 - Coordinate: (6, 9)\n",
      "Passenger ID:55 - Coordinate: (2, 9)\n",
      "Passenger ID:56 - Coordinate: (4, 33)\n",
      "Passenger ID:57 - Coordinate: (0, 33)\n",
      "Passenger ID:58 - Coordinate: (5, 33)\n",
      "Passenger ID:59 - Coordinate: (1, 33)\n",
      "Passenger ID:60 - Coordinate: (2, 33)\n",
      "Passenger ID:61 - Coordinate: (5, 32)\n",
      "Passenger ID:62 - Coordinate: (6, 32)\n",
      "Passenger ID:63 - Coordinate: (4, 32)\n",
      "Passenger ID:64 - Coordinate: (2, 32)\n",
      "Passenger ID:65 - Coordinate: (0, 15)\n",
      "Passenger ID:66 - Coordinate: (1, 15)\n",
      "Passenger ID:67 - Coordinate: (5, 13)\n",
      "Passenger ID:68 - Coordinate: (4, 13)\n",
      "Passenger ID:69 - Coordinate: (1, 9)\n",
      "Passenger ID:70 - Coordinate: (0, 9)\n",
      "Passenger ID:71 - Coordinate: (2, 15)\n",
      "Passenger ID:72 - Coordinate: (4, 16)\n",
      "Passenger ID:73 - Coordinate: (6, 29)\n",
      "Passenger ID:74 - Coordinate: (4, 29)\n",
      "Passenger ID:75 - Coordinate: (2, 25)\n",
      "Passenger ID:76 - Coordinate: (4, 25)\n",
      "Passenger ID:77 - Coordinate: (6, 15)\n",
      "Passenger ID:78 - Coordinate: (6, 33)\n",
      "Passenger ID:79 - Coordinate: (4, 11)\n",
      "Passenger ID:80 - Coordinate: (2, 11)\n",
      "Passenger ID:81 - Coordinate: (5, 11)\n",
      "Passenger ID:82 - Coordinate: (0, 11)\n",
      "Passenger ID:83 - Coordinate: (1, 11)\n",
      "Passenger ID:84 - Coordinate: (1, 12)\n",
      "Passenger ID:85 - Coordinate: (0, 12)\n",
      "Passenger ID:86 - Coordinate: (5, 16)\n",
      "Passenger ID:87 - Coordinate: (4, 8)\n",
      "Passenger ID:88 - Coordinate: (5, 8)\n",
      "Passenger ID:89 - Coordinate: (6, 8)\n",
      "Passenger ID:90 - Coordinate: (6, 1)\n",
      "Passenger ID:91 - Coordinate: (6, 0)\n",
      "Passenger ID:92 - Coordinate: (2, 30)\n",
      "Passenger ID:93 - Coordinate: (1, 0)\n",
      "Passenger ID:94 - Coordinate: (4, 1)\n"
     ]
    },
    {
     "data": {
      "text/plain": [
       "(-3.5, 3.5)"
      ]
     },
     "execution_count": 48,
     "metadata": {},
     "output_type": "execute_result"
    },
    {
     "data": {
      "image/png": "[encoded data removed]",
      "text/plain": [
       "<Figure size 360x720 with 1 Axes>"
      ]
     },
     "metadata": {
      "needs_background": "light"
     },
     "output_type": "display_data"
    }
   ],
   "source": [
    "cm_x = round(barycenter_X.getValue(),2)\n",
    "cm_y = round(barycenter_Y.getValue(),2)\n",
    "\n",
    "print(f\"Center of Mass: {(cm_x, cm_y)}\")\n",
    "\n",
    "\n",
    "fig = plt.figure(figsize=(5,10));\n",
    "for seat in itertools.product(X,Y):\n",
    "    if seat[0] != 0:\n",
    "        plt.plot(seat[0],seat[1],'s', color=\"gray\", markersize=15)\n",
    "\n",
    "plt.plot([bary_lim_X, bary_lim_X]  , [-bary_lim_Y, bary_lim_Y],   color=\"cyan\")\n",
    "plt.plot([-bary_lim_X, -bary_lim_X], [-bary_lim_Y, bary_lim_Y],   color=\"cyan\")\n",
    "plt.plot([-bary_lim_X, bary_lim_X] , [bary_lim_Y, bary_lim_Y],    color=\"cyan\")\n",
    "plt.plot([-bary_lim_X, bary_lim_X] , [-bary_lim_Y, -bary_lim_Y],   color=\"cyan\")\n",
    "\n",
    "#for g in range(len(groups)):\n",
    "    #print(j_g_max[g].x, j_g_min[g].x)\n",
    "\n",
    "for a in allocation:\n",
    "    if allocation[a].x == 1:\n",
    "        label = \"\"\n",
    "        if len(groups[passenger_from_id[a[0]].group_index].members) == 1:\n",
    "            color = \"green\"\n",
    "        else:\n",
    "            color = \"orange\"\n",
    "            label = label + str(passengers[a[0]].group_index)\n",
    "            \n",
    "\n",
    "        \n",
    "        #plt.plot(X[a[1]],Y[a[2]], 'o',color=colors[passengers[a[0]].group_index-1])\n",
    "        plt.plot(X[a[1]], Y[a[2]], 's', color=color, markersize=15)\n",
    "        legend = label+\"\"*(passenger_from_id[a[0]].transit_time < 90)\n",
    "        legend = \"c\"*(passenger_from_id[a[0]].description ==\"child\") + legend\n",
    "        legend = \"W\"*(passenger_from_id[a[0]].description ==\"wheelchair\") + legend\n",
    "        legend = \"S\"*(passenger_from_id[a[0]].description ==\"stretcher\") + legend\n",
    "        legend = \"B\"*(groups[passenger_from_id[a[0]].group_index].class_type ==\"J\") + legend\n",
    "        plt.text(X[a[1]], Y[a[2]],legend, ha=\"center\", va=\"center\")\n",
    "        print(f\"Passenger ID:{a[0]} - Coordinate: {(a[1], a[2])}\")\n",
    "plt.plot(cm_x,cm_y, \"o\", color=\"red\")\n",
    "plt.ylim([-17.5,17.5])\n",
    "plt.xlim([-3.5,3.5])"
   ]
  },
  {
   "cell_type": "code",
   "execution_count": 49,
   "metadata": {},
   "outputs": [
    {
     "data": {
      "text/plain": [
       "88792.0"
      ]
     },
     "execution_count": 49,
     "metadata": {},
     "output_type": "execute_result"
    }
   ],
   "source": [
    "m.ObjVal + (width + 50*height)*76"
   ]
  },
  {
   "cell_type": "code",
   "execution_count": null,
   "metadata": {},
   "outputs": [],
   "source": []
  }
 ],
 "metadata": {
  "interpreter": {
   "hash": "4edc6bdd590a5a6b92c48979e9e47f5638d187f6c4ff6a23aa9775e5ee8e38f8"
  },
  "kernelspec": {
   "display_name": "Python 3.9.10 64-bit (windows store)",
   "language": "python",
   "name": "python3"
  },
  "language_info": {
   "codemirror_mode": {
    "name": "ipython",
    "version": 3
   },
   "file_extension": ".py",
   "mimetype": "text/x-python",
   "name": "python",
   "nbconvert_exporter": "python",
   "pygments_lexer": "ipython3",
   "version": "3.9.1"
  },
  "orig_nbformat": 4
 },
 "nbformat": 4,
 "nbformat_minor": 2
}
