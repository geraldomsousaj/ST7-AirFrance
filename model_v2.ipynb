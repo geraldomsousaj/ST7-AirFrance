{
 "cells": [
  {
   "cell_type": "code",
<<<<<<< HEAD
   "execution_count": 108,
=======
   "execution_count": 123,
>>>>>>> 8ae6a1d6cc7568038b7b2acc1601b62395618da2
   "metadata": {},
   "outputs": [],
   "source": [
    "from gurobipy import *\n",
    "#from passenger import *\n",
    "import pandas as pd\n",
    "\n",
    "import matplotlib.pyplot as plt\n",
    "import itertools\n",
    "import random"
   ]
  },
  {
   "cell_type": "markdown",
   "id": "a6dbe531",
   "metadata": {},
   "source": [
    "# Data and Variables"
   ]
  },
  {
   "cell_type": "markdown",
   "id": "8e104ca0",
   "metadata": {},
   "source": [
    "We need to represent and access info for all passengers: gender (weight), which group they belong to, if they need to transfer quickly, etc. For this purpose we created a the class _Passenger_. We also created the class _Group_ to represent each group (numer of women, men, transit time)."
   ]
  },
  {
   "cell_type": "code",
<<<<<<< HEAD
   "execution_count": 109,
=======
   "execution_count": 124,
>>>>>>> 8ae6a1d6cc7568038b7b2acc1601b62395618da2
   "metadata": {},
   "outputs": [],
   "source": [
    "class Passenger(object):\n",
    "    id_counter = 0\n",
    "    def __init__(self, group_index, description, transit_time=0):\n",
    "        \"\"\"\n",
    "            group_index : \n",
    "            description : men, women, child, wheelchair, stretcher\n",
    "            transit_time : optional parameter (inf if there is not transit time)\n",
    "        \"\"\"\n",
    "\n",
    "        self.group_index = group_index\n",
    "        self.id = Passenger.id_counter\n",
    "        self.description = description\n",
    "        self.transit_time = transit_time\n",
    "        self.weight = self.get_weight()\n",
    "\n",
    "        Passenger.id_counter += 1\n",
    "\n",
    "    def get_weight(self):\n",
    "        if self.description == 'women':\n",
    "            return 70\n",
    "        elif self.description == 'men':\n",
    "            return 85\n",
    "        elif self.description == 'child':\n",
    "            return 35\n",
    "        else: \n",
    "            return 100 \n",
    "\n",
    "    def __str__(self):\n",
    "        return f\"{self.id}: ({self.description}, {self.group_index})\" \n",
    "\n",
    "    def __repr__(self):\n",
    "        return str(self)\n",
    "\n",
    "class Group:\n",
    "\n",
    "    def __init__(self, id, people_count, class_type, transit_time=0):\n",
    "        self.id = id\n",
    "        self.class_type = class_type\n",
    "        self.transit_time = transit_time\n",
    "\n",
    "        self.members = []\n",
    "\n",
    "        for desc in people_count:\n",
    "            for _ in range(people_count[desc]):\n",
    "                self.members.append(Passenger(\n",
    "                        self.id,\n",
    "                        desc,\n",
    "                        self.transit_time\n",
    "                    )) \n",
    "        \n",
    "    def __getitem__(self, arg):\n",
    "        return self.members[arg]\n",
    "\n",
    "    def __str__(self):\n",
    "        return f\"G{self.id}: \" + str(self.members)\n",
    "\n",
    "    def __repr__(self):\n",
    "        return str(self)\n",
    "    \n",
    "    def __len__(self):\n",
    "        return len(self.members)\n",
    "    \n"
   ]
  },
  {
   "cell_type": "markdown",
   "metadata": {},
   "source": [
    "We then create some functions to import the data from the spreadsheets."
   ]
  },
  {
   "cell_type": "code",
<<<<<<< HEAD
   "execution_count": 110,
=======
   "execution_count": 125,
>>>>>>> 8ae6a1d6cc7568038b7b2acc1601b62395618da2
   "metadata": {},
   "outputs": [],
   "source": [
    "def read_and_preprocess(file, date):\n",
    "    df = pd.read_excel(file, date)\n",
    "    \n",
    "    df.drop(df.tail(2).index, inplace=True)\n",
    "\n",
    "    df['TransitTime (min)'] = df['TransitTime'].apply(lambda x: float(str(x).split(':')[0])*60+float(str(x).split(':')[1]))\n",
    "\n",
    "    df[['Femmes', 'Hommes', 'Enfants', 'WCHR', 'WCHB']] = df[['Femmes', 'Hommes', 'Enfants', 'WCHR', 'WCHB']].fillna(0)\n",
    "\n",
    "    return df\n",
    "\n",
    "def get_list_passengers(df):\n",
    "    list_groups = {}\n",
    "\n",
    "    for idx, row in df.iterrows():\n",
    "\n",
    "\n",
    "        people_count = {\n",
    "            'women': int(row['Femmes']),\n",
    "            'men': int(row['Hommes']),\n",
    "            'child': int(row['Enfants']),\n",
    "            'wheelchair': int(row['WCHR']),\n",
    "            'stretcher': int(row['WCHB']),\n",
    "        }\n",
    "\n",
    "        list_groups[int(idx)] = Group(\n",
    "            id=int(row[\"Numéro du groupe\"])-1, # -1 temporary fix for ids\n",
    "            people_count = people_count,\n",
    "            class_type = row[\"Classe\"],\n",
    "            transit_time=row['TransitTime (min)']\n",
    "        )\n",
    "    \n",
    "    return list_groups\n"
   ]
  },
  {
   "cell_type": "code",
<<<<<<< HEAD
   "execution_count": 111,
=======
   "execution_count": 126,
>>>>>>> 8ae6a1d6cc7568038b7b2acc1601b62395618da2
   "metadata": {},
   "outputs": [],
   "source": [
    "# Load Passengers\n",
    "\n",
    "df = read_and_preprocess('DataSeating.xlsx', '21Oct')\n",
    "\n",
    "groups = get_list_passengers(df)\n",
    "\n",
    "passengers = list()\n",
    "\n",
    "for g in groups.keys():\n",
    "    passengers += groups[g].members\n",
    "\n",
    "passenger_from_id = {}\n",
    "for p in passengers:\n",
    "    passenger_from_id[p.id] = p"
   ]
  },
  {
   "cell_type": "code",
   "execution_count": 127,
   "metadata": {},
   "outputs": [
    {
     "data": {
      "text/plain": [
       "list"
      ]
     },
     "execution_count": 127,
     "metadata": {},
     "output_type": "execute_result"
    }
   ],
   "source": [
    "type(groups[g].members)"
   ]
  },
  {
   "cell_type": "markdown",
   "metadata": {},
   "source": [
    "As a final setup we define some problem parameters."
   ]
  },
  {
   "cell_type": "code",
<<<<<<< HEAD
   "execution_count": 112,
=======
   "execution_count": 128,
>>>>>>> 8ae6a1d6cc7568038b7b2acc1601b62395618da2
   "metadata": {},
   "outputs": [],
   "source": [
    "\n",
    "passengers_count = len(passengers)\n",
    "\n",
    "width = 6\n",
    "height = 28\n",
    "X = [-3, -2, -1, 0, 1, 2, 3]\n",
    "Y = list(range(-14,0)) + list(range(1,14+1))\n",
    "\n",
    "total_weight = sum(p.weight for p in passengers)\n"
   ]
  },
  {
<<<<<<< HEAD
   "cell_type": "code",
   "execution_count": 113,
   "metadata": {},
   "outputs": [
    {
     "data": {
      "text/plain": [
       "6"
      ]
     },
     "execution_count": 113,
     "metadata": {},
     "output_type": "execute_result"
    }
   ],
   "source": [
    "groups[5].members[0].passenger_id"
   ]
  },
  {
=======
>>>>>>> 8ae6a1d6cc7568038b7b2acc1601b62395618da2
   "cell_type": "markdown",
   "metadata": {},
   "source": [
    "# Model Definition"
   ]
  },
  {
   "cell_type": "code",
<<<<<<< HEAD
   "execution_count": 114,
=======
   "execution_count": 129,
>>>>>>> 8ae6a1d6cc7568038b7b2acc1601b62395618da2
   "metadata": {},
   "outputs": [],
   "source": [
    "m = Model(\"model_v1\")"
   ]
  },
  {
   "cell_type": "markdown",
   "metadata": {},
   "source": [
    "The main decision variable here is the allocation $A^p_{(i~,~j)}$ : binary variable that says for each passenger with id $p$ if he is located at the seat in coordinates $(i~,~j)$.\n",
    "\n",
    "\n",
    "This is represented in python by the variable allocation[p, i, j].\n",
    "\n",
    "For instance, if passenger 1 is at the place : (2, 3), then allocation[1,2,3] = 1. Else, it equals 0."
   ]
  },
  {
   "cell_type": "code",
<<<<<<< HEAD
   "execution_count": 115,
=======
   "execution_count": 130,
>>>>>>> 8ae6a1d6cc7568038b7b2acc1601b62395618da2
   "metadata": {},
   "outputs": [],
   "source": [
    "# Allocation Variables\n",
    "allocation = m.addVars(passengers_count, width+1, height, vtype=GRB.BINARY, name=\"Allocation\")"
   ]
  },
  {
   "cell_type": "markdown",
   "metadata": {},
   "source": [
    "# Constraints"
   ]
  },
  {
   "cell_type": "markdown",
   "id": "3d2f5067",
   "metadata": {},
   "source": [
    "**At most 1 person per seat:** there can't be more than 1 person in each seat.\n",
    "\n",
    "$$\\sum_{p \\in \\text{Passengers}} A^p_{(i~,~j)} \\leq 1~~\\forall (i, j) \\in \\text{Seats}$$"
   ]
  },
  {
   "cell_type": "code",
<<<<<<< HEAD
   "execution_count": 116,
=======
   "execution_count": 131,
>>>>>>> 8ae6a1d6cc7568038b7b2acc1601b62395618da2
   "metadata": {},
   "outputs": [],
   "source": [
    "# Make sure that there is at most one person per seat\n",
    "C_limited_seat = m.addConstrs((quicksum([allocation[p.id,i,j] for p in passengers]) <= 1 for i in range(width+1) for j in range(height)))"
   ]
  },
  {
   "cell_type": "markdown",
   "id": "3d2f5067",
   "metadata": {},
   "source": [
    "**Every passenger is served:** every passenger should be allocated to precisely one seat.\n",
    "\n",
    "$$\\sum_{(i,j) \\in \\text{Seats}} A^p_{(i~,~j)} == 1~~\\forall p \\in \\text{Passengers}$$"
   ]
  },
  {
   "cell_type": "code",
<<<<<<< HEAD
   "execution_count": 117,
=======
   "execution_count": 132,
>>>>>>> 8ae6a1d6cc7568038b7b2acc1601b62395618da2
   "metadata": {},
   "outputs": [],
   "source": [
    "# Maker sure that everyone is seated and only in one spot\n",
    "C_serve_all = m.addConstrs((quicksum([allocation[p.id,i,j] for i in range(width+1) for j in range(height) ]) == 1 for p in passengers))"
   ]
  },
  {
   "cell_type": "markdown",
   "metadata": {},
   "source": [
    "**Empty Corridor**: there should be no passenger allocated to the corridor (i=3).\n",
    "$$A^p_{(i,j)}==0~~\\forall (p,i,j) \\in \\text{Passengers} \\times \\text{Seats}$$"
   ]
  },
  {
   "cell_type": "code",
<<<<<<< HEAD
   "execution_count": 118,
=======
   "execution_count": 133,
>>>>>>> 8ae6a1d6cc7568038b7b2acc1601b62395618da2
   "metadata": {},
   "outputs": [],
   "source": [
    "# Make sure that the corridor is not considered as a possible seat\n",
    "C_empty_corridor = m.addConstrs((0 == allocation[p,3,j] for p in range(passengers_count) for j in range(height)))"
   ]
  },
  {
   "cell_type": "markdown",
   "metadata": {},
   "source": [
    "**Barycenter Constraint:** the center of mass of the passengers must reside within a limited area. For this purpose the barycenter function is divided into its X and Y coordinate and then each constraint is divided into an inferior limit and a superior limit constraint.\n",
    "\n",
    "$$ \\frac{1}{w_t}\\sum_{(p,i,j) \\in \\text{Passengers} \\times \\text{Seats}} A^p_{(i,j)} \\cdot w(p) \\cdot X(i) \\leq B_{max}^X$$\n",
    "\n",
    "$$ \\frac{1}{w_t}\\sum_{(p,i,j) \\in \\text{Passengers} \\times \\text{Seats}} A^p_{(i,j)} \\cdot w(p) \\cdot X(i) \\geq B_{min}^X$$\n",
    "\n",
    "$$ \\frac{1}{w_t}\\sum_{(p,i,j) \\in \\text{Passengers} \\times \\text{Seats}} A^p_{(i,j)} \\cdot w(p) \\cdot Y(j) \\leq B_{max}^Y$$\n",
    "\n",
    "$$ \\frac{1}{w_t}\\sum_{(p,i,j) \\in \\text{Passengers} \\times \\text{Seats}} A^p_{(i,j)} \\cdot w(p) \\cdot Y(j) \\geq B_{min}^Y$$\n",
    "\n",
    "\n",
    "Where :\n",
    "- $w_t$ is the total weight of all passengers.\n",
    "- $w(p)$ is the weight of passenger with id $p$.\n",
    "- $X(i)$ is the distance in meters at coordinate i.\n",
    "- $Y(j)$ is the distance in meters at coordinate j.\n",
    "- $B_{max}^X$ is the upper bound of the barycenter in the X axis.\n",
    "- $B_{min}^X$ is the lower bound of the barycenter in the X axis.\n",
    "- $B_{max}^Y$ is the upper bound of the barycenter in the Y axis.\n",
    "- $B_{min}^Y$ is the lower bound of the barycenter in the Y axis.\n"
   ]
  },
  {
   "cell_type": "code",
<<<<<<< HEAD
   "execution_count": 119,
=======
   "execution_count": 134,
>>>>>>> 8ae6a1d6cc7568038b7b2acc1601b62395618da2
   "metadata": {},
   "outputs": [],
   "source": [
    "# Center of Mass function\n",
    "barycenter_X = quicksum([p.weight * allocation[p.id,i,j]*X[i] for p in passengers for i in range(width+1) for j in range(height)])/total_weight\n",
    "barycenter_Y = quicksum([p.weight * allocation[p.id,i,j]*Y[j] for p in passengers for i in range(width+1) for j in range(height)])/total_weight\n",
    "\n",
    "# Barycenter limits\n",
    "bary_lim_X = 1\n",
    "bary_lim_Y = 2\n",
    "\n",
    "# Make sure that the center of mass is centralized\n",
    "\n",
    "C_bary_X_p = m.addConstr(barycenter_X <=  bary_lim_X)\n",
    "C_bary_X_m = m.addConstr(barycenter_X >= -bary_lim_X)\n",
    "C_bary_Y_p = m.addConstr(barycenter_Y <=  bary_lim_Y)\n",
    "C_bary_Y_m = m.addConstr(barycenter_Y >= -bary_lim_Y)"
   ]
  },
  {
   "cell_type": "markdown",
   "metadata": {},
   "source": [
    "**Transit Time Constraint**: the people with a transit time inferior to 90 minutes should stay in the front.\n",
    "\n",
    "$$ A^p_{(i,j)} \\leq \\epsilon(p) ~~ \\forall (p,i,j) \\in \\text{Passengers in transit} \\times \\text{Columns} \\times \\text{Upper rows}$$\n",
    "\n",
    "Where $\\epsilon(p)$ is a new auxiliary variable that we want to minimize."
   ]
  },
  {
   "cell_type": "code",
<<<<<<< HEAD
   "execution_count": 120,
=======
   "execution_count": 135,
>>>>>>> 8ae6a1d6cc7568038b7b2acc1601b62395618da2
   "metadata": {},
   "outputs": [],
   "source": [
    "epsilon = m.addVars([p.id for p in passengers if p.transit_time < 90], vtype=GRB.BINARY)\n",
    "m.addConstrs(allocation[p.id,i,j] <= epsilon[p.id] for i in range(width+1) for j in range(height) for p in passengers if p.transit_time < 90 and j > 13);"
   ]
  },
  {
   "cell_type": "markdown",
   "metadata": {},
   "source": [
    "**No Child Alone Constraint:**"
   ]
  },
  {
   "cell_type": "markdown",
   "metadata": {},
   "source": [
    "# Objective Function"
   ]
  },
  {
   "cell_type": "markdown",
   "metadata": {},
   "source": [
    "As a precise calculation of the satisfying function leads to a combinatorial explosion, we decided to instead try to reduce the rectangle formed by the distribution of people from the same group, in this way they try to collapse to the same region of the plane.\n",
    "\n",
    "For this we will need the following additional variables:\n",
    "- $i^G_{max}$: highest $i$ coordinate between members of group $G$.\n",
    "- $i^G_{min}$: lowest $i$ coordinate between members of group $G$.\n",
    "- $j^G_{max}$: highest $j$ coordinate between members of group $G$.\n",
    "- $j^G_{min}$: lowest $j$ coordinate between members of group $G$.\n",
    "- $\\Delta i^G$: $i^G_{max}-i^G_{min}$\n",
    "- $\\Delta j^G$: $j^G_{max}-j^G_{min}$\n",
    "\n",
    "The first 4 variables are set by defining inequality constraints based on the coordinates of the members of a group and the 2 last variables are set by defining equality constraints. Thus, our objective function becomes.\n",
    "\n",
    "$$ \\sum_{G \\in \\text{Groups}} \\Delta i^G + \\phi \\cdot \\Delta j^G + \\sum_{p \\in G} \\epsilon(p) $$\n",
    "\n",
    "Where $\\phi$ is a factor for giving priorities to grouping people in the same rows."
   ]
  },
  {
   "cell_type": "code",
<<<<<<< HEAD
   "execution_count": 121,
=======
   "execution_count": 136,
>>>>>>> 8ae6a1d6cc7568038b7b2acc1601b62395618da2
   "metadata": {},
   "outputs": [],
   "source": [
    "#i_p = m.addVars(passengers_count, vtype=GRB.INTEGER, lb=0, ub=width, name=\"i_p\")\n",
    "#j_p = m.addVars(passengers_count, vtype=GRB.INTEGER, lb=0, ub=height, name=\"j_p\")\n",
    "\n",
    "i_g_max = m.addVars(len(groups), vtype=GRB.INTEGER, lb=0, ub=width, name=\"i_g_max\")\n",
    "i_g_min = m.addVars(len(groups), vtype=GRB.INTEGER, lb=0, ub=width, name=\"i_g_min\")\n",
    "j_g_max = m.addVars(len(groups), vtype=GRB.INTEGER, lb=0, ub=height, name=\"j_g_max\")\n",
    "j_g_min = m.addVars(len(groups), vtype=GRB.INTEGER, lb=0, ub=height, name=\"j_g_min\")\n",
    "\n",
    "#i_g_delta = m.addVars(len(groups), vtype=GRB.INTEGER, lb=1, ub=width, name=\"i_g_delta\")\n",
    "#j_g_delta = m.addVars(len(groups), vtype=GRB.INTEGER, lb=0, ub=height, name=\"j_g_delta\")\n",
    "\n",
    "#m.addConstrs((i_p[p] == quicksum([i*allocation[p,i,j] for i in range(width+1) for j in range(height)]) for p in range(passengers_count)))\n",
    "#m.addConstrs((j_p[p] == quicksum([j*allocation[p,i,j] for i in range(width+1) for j in range(height)]) for p in range(passengers_count)))\n",
    "\n",
    "for g in range(len(groups)):\n",
<<<<<<< HEAD
    "    if len(groups[g].members) > 1 :\n",
    "    \n",
    "        m.addConstrs(( i_g_max[g] >= quicksum([i*allocation[p.passenger_id,i,j] for i in range(width+1) for j in range(height)]) for p in groups[g].members ))\n",
    "        m.addConstrs(( i_g_min[g] <= quicksum([i*allocation[p.passenger_id,i,j] for i in range(width+1) for j in range(height)]) for p in groups[g].members ))\n",
    "\n",
    "        m.addConstrs(( j_g_max[g] >= quicksum([j*allocation[p.passenger_id,i,j] for i in range(width+1) for j in range(height)]) for p in groups[g].members ))\n",
    "        m.addConstrs(( j_g_min[g] <= quicksum([j*allocation[p.passenger_id,i,j] for i in range(width+1) for j in range(height)]) for p in groups[g].members ))\n",
=======
    "    if len(groups[g]) > 1 and  len(groups[g])  <= 3:\n",
    "    \n",
    "        m.addConstrs(( i_g_max[g] >= i_p[p.id] for p in groups[g] ))\n",
    "        m.addConstrs(( i_g_min[g] <= i_p[p.id] for p in groups[g] ))\n",
    "\n",
    "        m.addConstrs(( j_g_max[g] >= j_p[p.id] for p in groups[g] ))\n",
    "        m.addConstrs(( j_g_min[g] <= j_p[p.id] for p in groups[g] ))\n",
>>>>>>> 8ae6a1d6cc7568038b7b2acc1601b62395618da2
    "        \n",
    "        m.addConstr(i_g_max[g] >= i_g_min[g])\n",
    "        m.addConstr(j_g_max[g] >= j_g_min[g])\n",
    "\n",
    "        #m.addConstr(i_g_delta[g] == i_g_max[g] - i_g_min[g])\n",
    "        #m.addConstr(j_g_delta[g] == j_g_max[g] - j_g_min[g])\n",
    "\n",
    "        m.addConstr((i_g_max[g] - i_g_min[g] + j_g_max[g] - j_g_min[g] >= 1))\n",
    "\n",
    "\n",
    "def in_grid(i, j):\n",
    "    return i>=0 and j>=0 and j<height and i <= width\n",
    "\n",
    "e_allocation = lambda p, i, j: allocation[p,i,j] if in_grid(i,j) else 0\n",
    "\n",
    "\n",
    "m.setObjective( i_g_max.sum() - i_g_min.sum() + 500*j_g_max.sum() - 500*j_g_min.sum() + epsilon.sum(), GRB.MINIMIZE)\n"
   ]
  },
  {
   "cell_type": "markdown",
   "metadata": {},
   "source": [
    "**Observation:** unfortunately our objective function couldn't calculate an optimal solution in due time. Thus for this delivery we only considered the $j$ coordinate which is really far away from being a good solution."
   ]
  },
  {
   "cell_type": "code",
<<<<<<< HEAD
   "execution_count": 122,
=======
   "execution_count": 137,
>>>>>>> 8ae6a1d6cc7568038b7b2acc1601b62395618da2
   "metadata": {},
   "outputs": [
    {
     "name": "stdout",
     "output_type": "stream",
     "text": [
<<<<<<< HEAD
      "Gurobi Optimizer version 9.5.0 build v9.5.0rc5 (linux64)\n",
      "Thread count: 4 physical cores, 8 logical processors, using up to 8 threads\n",
      "Optimize a model with 14224 rows, 30135 columns and 245958 nonzeros\n",
      "Model fingerprint: 0xc8589cfb\n",
      "Variable types: 0 continuous, 30135 integer (29691 binary)\n",
=======
      "Set parameter MIPGap to value 0.05\n",
      "Gurobi Optimizer version 9.5.0 build v9.5.0rc5 (win64)\n",
      "Thread count: 6 physical cores, 12 logical processors, using up to 12 threads\n",
      "Optimize a model with 14691 rows, 30858 columns and 248688 nonzeros\n",
      "Model fingerprint: 0xe66af2e7\n",
      "Variable types: 0 continuous, 30858 integer (29888 binary)\n",
>>>>>>> 8ae6a1d6cc7568038b7b2acc1601b62395618da2
      "Coefficient statistics:\n",
      "  Matrix range     [3e-03, 3e+01]\n",
      "  Objective range  [1e+00, 5e+02]\n",
      "  Bounds range     [1e+00, 3e+01]\n",
      "  RHS range        [1e+00, 2e+00]\n",
<<<<<<< HEAD
      "Found heuristic solution: objective -894826.0000\n",
      "Presolve removed 13562 rows and 4623 columns\n",
      "Presolve time: 0.61s\n",
      "Presolved: 662 rows, 25512 columns, 142090 nonzeros\n",
      "Variable types: 4 continuous, 25508 integer (25368 binary)\n",
      "\n",
      "Root relaxation: objective -1.064410e+06, 1006 iterations, 0.09 seconds (0.07 work units)\n",
=======
      "Presolve removed 13859 rows and 4986 columns\n",
      "Presolve time: 0.56s\n",
      "Presolved: 832 rows, 25872 columns, 118462 nonzeros\n",
      "Variable types: 2 continuous, 25870 integer (25536 binary)\n",
      "Found heuristic solution: objective 445701.00000\n",
      "Found heuristic solution: objective 43614.000000\n",
      "\n",
      "Root relaxation: objective 4.500000e+01, 1607 iterations, 0.13 seconds (0.17 work units)\n",
>>>>>>> 8ae6a1d6cc7568038b7b2acc1601b62395618da2
      "\n",
      "    Nodes    |    Current Node    |     Objective Bounds      |     Work\n",
      " Expl Unexpl |  Obj  Depth IntInf | Incumbent    BestBd   Gap | It/Node Time\n",
      "\n",
<<<<<<< HEAD
      "     0     0 -1064410.0    0  145 -894826.00 -1064410.0  19.0%     -    1s\n",
      "H    0     0                    -1016410.003 -1064410.0  4.72%     -    1s\n",
      "H    0     0                    -1022405.000 -1064410.0  4.11%     -    2s\n",
      "H    0     0                    -1022407.000 -1064410.0  4.11%     -    2s\n",
      "H    0     0                    -1022411.000 -1064410.0  4.11%     -    2s\n",
      "H    0     0                    -1026413.000 -1064410.0  3.70%     -    2s\n",
      "H    0     0                    -1033393.000 -1064410.0  3.00%     -    2s\n",
      "     0     0 -1064410.0    0  296 -1033393.0 -1064410.0  3.00%     -    2s\n",
      "H    0     0                    -1036883.000 -1064410.0  2.65%     -    3s\n",
      "H    0     0                    -1055389.000 -1064410.0  0.85%     -    4s\n",
      "H    0     0                    -1059394.000 -1064410.0  0.47%     -    4s\n",
      "     0     0 -1064410.0    0  371 -1059394.0 -1064410.0  0.47%     -    4s\n",
      "H    0     0                    -1059894.000 -1064410.0  0.43%     -    6s\n",
      "     0     0 -1064410.0    0  175 -1059894.0 -1064410.0  0.43%     -    6s\n",
      "H    0     0                    -1060388.000 -1064410.0  0.38%     -    7s\n",
      "H    0     0                    -1060392.000 -1064410.0  0.38%     -    7s\n",
      "     0     0 -1064410.0    0  243 -1060392.0 -1064410.0  0.38%     -    7s\n",
      "H    0     0                    -1061393.000 -1064410.0  0.28%     -    7s\n",
      "H    0     0                    -1063884.000 -1064410.0  0.05%     -    9s\n",
      "     0     0 -1064410.0    0  121 -1063884.0 -1064410.0  0.05%     -    9s\n",
      "     0     0 -1064410.0    0  205 -1063884.0 -1064410.0  0.05%     -    9s\n",
      "     0     0 -1064410.0    0  138 -1063884.0 -1064410.0  0.05%     -   11s\n",
      "     0     0 -1064410.0    0  104 -1063884.0 -1064410.0  0.05%     -   11s\n",
      "     0     2 -1064410.0    0  104 -1063884.0 -1064410.0  0.05%     -   12s\n",
      "H   27    32                    -1064389.000 -1064410.0  0.00%   449   18s\n",
      "\n",
      "Cutting planes:\n",
      "  MIR: 61\n",
      "  StrongCG: 18\n",
      "  Zero half: 26\n",
      "  Relax-and-lift: 23\n",
      "\n",
      "Explored 31 nodes (82771 simplex iterations) in 18.09 seconds (18.04 work units)\n",
      "Thread count was 8 (of 8 available processors)\n",
      "\n",
      "Solution count 10: -1.06439e+06 -1.06388e+06 -1.06139e+06 ... -1.03339e+06\n",
      "\n",
      "Optimal solution found (tolerance 1.00e-04)\n",
      "Best objective -1.064389000000e+06, best bound -1.064410000000e+06, gap 0.0020%\n"
=======
      "     0     0   45.00000    0  119 43614.0000   45.00000   100%     -    1s\n",
      "H    0     0                    34542.000000   45.00000   100%     -    1s\n",
      "H    0     0                    34038.000000   45.00000   100%     -    2s\n",
      "H    0     0                    30044.000000   45.00000   100%     -    2s\n",
      "H    0     0                    8553.0000000   45.00000  99.5%     -    2s\n",
      "     0     0   45.00000    0  326 8553.00000   45.00000  99.5%     -    2s\n",
      "H    0     0                    4557.0000000   45.00000  99.0%     -    4s\n",
      "H    0     0                    1550.0000000   45.00000  97.1%     -    5s\n",
      "     0     0   45.00000    0  157 1550.00000   45.00000  97.1%     -    6s\n",
      "H    0     0                    1047.0000000   45.00000  95.7%     -    6s\n",
      "     0     0   45.00000    0  156 1047.00000   45.00000  95.7%     -    6s\n",
      "     0     0   45.00000    0  157 1047.00000   45.00000  95.7%     -    7s\n",
      "     0     0   45.00000    0  191 1047.00000   45.00000  95.7%     -    8s\n",
      "H    0     0                    1046.0000000   45.00000  95.7%     -    9s\n",
      "     0     0   45.00000    0  124 1046.00000   45.00000  95.7%     -    9s\n",
      "     0     0   45.00000    0  124 1046.00000   45.00000  95.7%     -    9s\n",
      "     0     2   45.00000    0  124 1046.00000   45.00000  95.7%     -   10s\n",
      "H   31    38                     546.0000000   45.00000  91.8%   258   13s\n",
      "    80   131   45.00000   10  229  546.00000   45.00000  91.8%   303   15s\n",
      "H  363   472                      75.0000000   45.00000  40.0%   319   18s\n",
      "H  509   615                      54.0000000   45.00000  16.7%   317   20s\n",
      "H  602   573                      51.0000000   45.00000  11.8%   293   20s\n",
      "   685   535     cutoff   77        51.00000   45.00000  11.8%   283   25s\n",
      "H  688   365                      47.0000000   45.00000  4.26%   282   25s\n",
      "\n",
      "Cutting planes:\n",
      "  Cover: 47\n",
      "  Implied bound: 1\n",
      "  Clique: 2\n",
      "  MIR: 6\n",
      "  GUB cover: 15\n",
      "  Zero half: 39\n",
      "  RLT: 4\n",
      "  Relax-and-lift: 12\n",
      "\n",
      "Explored 741 nodes (262320 simplex iterations) in 25.30 seconds (20.24 work units)\n",
      "Thread count was 12 (of 12 available processors)\n",
      "\n",
      "Solution count 10: 47 51 54 ... 8553\n",
      "\n",
      "Optimal solution found (tolerance 5.00e-02)\n",
      "Best objective 4.700000000000e+01, best bound 4.500000000000e+01, gap 4.2553%\n"
>>>>>>> 8ae6a1d6cc7568038b7b2acc1601b62395618da2
     ]
    }
   ],
   "source": [
<<<<<<< HEAD
    "#m.setParam(\"MIPFocus\", 3) \n",
    "#m.setParam(\"Cuts\", 2) \n",
    "#m.setParam('MIPGap', 0.06)\n",
=======
    "m.setParam('MIPGap', 0.05)\n",
>>>>>>> 8ae6a1d6cc7568038b7b2acc1601b62395618da2
    "m.update()\n",
    "m.optimize()"
   ]
  },
  {
   "cell_type": "markdown",
   "metadata": {},
   "source": [
    "# Verifying Results\n",
    "- Green Seats: people travelling alone\n",
    "- Orange Seats: people travelling in group, the printed number corresponds to the group id.\n",
    "- Asterisk: people with transit time inferior to 90 minutes.\n",
    "- Blue Rectangle: limits of the acceptable barycenter.\n",
    "- Red Circle: actual barycenter."
   ]
  },
  {
   "cell_type": "code",
<<<<<<< HEAD
   "execution_count": 123,
=======
   "execution_count": 138,
>>>>>>> 8ae6a1d6cc7568038b7b2acc1601b62395618da2
   "metadata": {},
   "outputs": [
    {
     "name": "stdout",
     "output_type": "stream",
     "text": [
<<<<<<< HEAD
      "Center of Mass: (0.03, -0.79)\n",
      "Passenger ID:0 - Coordinate: (6, 6)\n",
      "Passenger ID:1 - Coordinate: (5, 10)\n",
      "Passenger ID:2 - Coordinate: (0, 2)\n",
      "Passenger ID:3 - Coordinate: (6, 11)\n",
      "Passenger ID:4 - Coordinate: (6, 20)\n",
      "Passenger ID:5 - Coordinate: (5, 20)\n",
      "Passenger ID:6 - Coordinate: (6, 13)\n",
      "Passenger ID:7 - Coordinate: (2, 20)\n",
      "Passenger ID:8 - Coordinate: (0, 0)\n",
      "Passenger ID:9 - Coordinate: (1, 0)\n",
      "Passenger ID:10 - Coordinate: (1, 26)\n",
      "Passenger ID:11 - Coordinate: (4, 3)\n",
      "Passenger ID:12 - Coordinate: (5, 22)\n",
      "Passenger ID:13 - Coordinate: (4, 22)\n",
      "Passenger ID:14 - Coordinate: (4, 10)\n",
      "Passenger ID:15 - Coordinate: (2, 9)\n",
      "Passenger ID:16 - Coordinate: (1, 4)\n",
      "Passenger ID:17 - Coordinate: (0, 4)\n",
      "Passenger ID:18 - Coordinate: (6, 15)\n",
      "Passenger ID:19 - Coordinate: (1, 16)\n",
      "Passenger ID:20 - Coordinate: (5, 9)\n",
      "Passenger ID:21 - Coordinate: (6, 9)\n",
      "Passenger ID:22 - Coordinate: (4, 15)\n",
      "Passenger ID:23 - Coordinate: (4, 13)\n",
      "Passenger ID:24 - Coordinate: (5, 13)\n",
      "Passenger ID:25 - Coordinate: (2, 13)\n",
      "Passenger ID:26 - Coordinate: (1, 13)\n",
      "Passenger ID:27 - Coordinate: (1, 21)\n",
      "Passenger ID:28 - Coordinate: (2, 21)\n",
      "Passenger ID:29 - Coordinate: (5, 21)\n",
      "Passenger ID:30 - Coordinate: (6, 21)\n",
      "Passenger ID:31 - Coordinate: (1, 2)\n",
      "Passenger ID:32 - Coordinate: (2, 2)\n",
      "Passenger ID:33 - Coordinate: (6, 10)\n",
      "Passenger ID:34 - Coordinate: (4, 14)\n",
      "Passenger ID:35 - Coordinate: (5, 14)\n",
      "Passenger ID:36 - Coordinate: (2, 11)\n",
      "Passenger ID:37 - Coordinate: (4, 11)\n",
      "Passenger ID:38 - Coordinate: (1, 7)\n",
      "Passenger ID:39 - Coordinate: (0, 10)\n",
      "Passenger ID:40 - Coordinate: (2, 3)\n",
      "Passenger ID:41 - Coordinate: (1, 3)\n",
      "Passenger ID:42 - Coordinate: (1, 19)\n",
      "Passenger ID:43 - Coordinate: (2, 24)\n",
      "Passenger ID:44 - Coordinate: (5, 16)\n",
      "Passenger ID:45 - Coordinate: (6, 18)\n",
      "Passenger ID:46 - Coordinate: (5, 18)\n",
      "Passenger ID:47 - Coordinate: (1, 10)\n",
      "Passenger ID:48 - Coordinate: (4, 19)\n",
      "Passenger ID:49 - Coordinate: (6, 25)\n",
      "Passenger ID:50 - Coordinate: (5, 25)\n",
      "Passenger ID:51 - Coordinate: (5, 3)\n",
      "Passenger ID:52 - Coordinate: (6, 3)\n",
      "Passenger ID:53 - Coordinate: (2, 5)\n",
      "Passenger ID:54 - Coordinate: (5, 17)\n",
      "Passenger ID:55 - Coordinate: (0, 20)\n",
      "Passenger ID:56 - Coordinate: (4, 23)\n",
      "Passenger ID:57 - Coordinate: (1, 23)\n",
      "Passenger ID:58 - Coordinate: (1, 20)\n",
      "Passenger ID:59 - Coordinate: (0, 9)\n",
      "Passenger ID:60 - Coordinate: (2, 0)\n",
      "Passenger ID:61 - Coordinate: (1, 11)\n",
      "Passenger ID:62 - Coordinate: (4, 5)\n",
      "Passenger ID:63 - Coordinate: (5, 8)\n",
      "Passenger ID:64 - Coordinate: (6, 8)\n",
      "Passenger ID:65 - Coordinate: (4, 7)\n",
      "Passenger ID:66 - Coordinate: (0, 13)\n",
      "Passenger ID:67 - Coordinate: (4, 0)\n",
      "Passenger ID:68 - Coordinate: (2, 10)\n",
      "Passenger ID:69 - Coordinate: (6, 4)\n",
      "Passenger ID:70 - Coordinate: (4, 2)\n",
      "Passenger ID:71 - Coordinate: (5, 2)\n",
      "Passenger ID:72 - Coordinate: (0, 8)\n",
      "Passenger ID:73 - Coordinate: (6, 5)\n",
      "Passenger ID:74 - Coordinate: (2, 8)\n",
      "Passenger ID:75 - Coordinate: (4, 1)\n",
      "Passenger ID:76 - Coordinate: (5, 1)\n",
      "Passenger ID:77 - Coordinate: (0, 15)\n",
      "Passenger ID:78 - Coordinate: (1, 15)\n",
      "Passenger ID:79 - Coordinate: (6, 19)\n",
      "Passenger ID:80 - Coordinate: (5, 19)\n",
      "Passenger ID:81 - Coordinate: (1, 5)\n",
      "Passenger ID:82 - Coordinate: (5, 0)\n",
      "Passenger ID:83 - Coordinate: (6, 0)\n",
      "Passenger ID:84 - Coordinate: (6, 22)\n",
      "Passenger ID:85 - Coordinate: (6, 12)\n",
      "Passenger ID:86 - Coordinate: (5, 12)\n",
      "Passenger ID:87 - Coordinate: (2, 4)\n",
      "Passenger ID:88 - Coordinate: (4, 21)\n",
      "Passenger ID:89 - Coordinate: (0, 21)\n",
      "Passenger ID:90 - Coordinate: (1, 22)\n",
      "Passenger ID:91 - Coordinate: (6, 26)\n",
      "Passenger ID:92 - Coordinate: (2, 26)\n",
      "Passenger ID:93 - Coordinate: (4, 26)\n",
      "Passenger ID:94 - Coordinate: (0, 24)\n",
      "Passenger ID:95 - Coordinate: (6, 2)\n",
      "Passenger ID:96 - Coordinate: (0, 7)\n",
      "Passenger ID:97 - Coordinate: (2, 7)\n",
      "Passenger ID:98 - Coordinate: (6, 1)\n",
      "Passenger ID:99 - Coordinate: (6, 7)\n",
      "Passenger ID:100 - Coordinate: (0, 17)\n",
      "Passenger ID:101 - Coordinate: (1, 17)\n",
      "Passenger ID:102 - Coordinate: (4, 9)\n",
      "Passenger ID:103 - Coordinate: (4, 16)\n",
      "Passenger ID:104 - Coordinate: (2, 12)\n",
      "Passenger ID:105 - Coordinate: (5, 26)\n",
      "Passenger ID:106 - Coordinate: (1, 24)\n",
      "Passenger ID:107 - Coordinate: (4, 4)\n",
      "Passenger ID:108 - Coordinate: (5, 4)\n",
      "Passenger ID:109 - Coordinate: (6, 14)\n",
      "Passenger ID:110 - Coordinate: (5, 5)\n",
      "Passenger ID:111 - Coordinate: (2, 23)\n",
      "Passenger ID:112 - Coordinate: (0, 14)\n",
      "Passenger ID:113 - Coordinate: (4, 20)\n",
      "Passenger ID:114 - Coordinate: (6, 16)\n",
      "Passenger ID:115 - Coordinate: (2, 22)\n",
      "Passenger ID:116 - Coordinate: (0, 18)\n",
      "Passenger ID:117 - Coordinate: (1, 9)\n",
      "Passenger ID:118 - Coordinate: (0, 12)\n",
      "Passenger ID:119 - Coordinate: (1, 12)\n",
      "Passenger ID:120 - Coordinate: (1, 8)\n",
      "Passenger ID:121 - Coordinate: (2, 16)\n",
      "Passenger ID:122 - Coordinate: (4, 8)\n",
      "Passenger ID:123 - Coordinate: (2, 6)\n",
      "Passenger ID:124 - Coordinate: (0, 1)\n",
      "Passenger ID:125 - Coordinate: (1, 1)\n",
      "Passenger ID:126 - Coordinate: (4, 12)\n",
      "Passenger ID:127 - Coordinate: (2, 1)\n",
      "Passenger ID:128 - Coordinate: (2, 27)\n",
      "Passenger ID:129 - Coordinate: (6, 27)\n",
      "Passenger ID:130 - Coordinate: (0, 25)\n",
      "Passenger ID:131 - Coordinate: (2, 19)\n",
      "Passenger ID:132 - Coordinate: (0, 5)\n",
      "Passenger ID:133 - Coordinate: (5, 24)\n",
      "Passenger ID:134 - Coordinate: (0, 3)\n",
      "Passenger ID:135 - Coordinate: (5, 11)\n",
      "Passenger ID:136 - Coordinate: (4, 24)\n",
      "Passenger ID:137 - Coordinate: (5, 6)\n",
      "Passenger ID:138 - Coordinate: (4, 6)\n",
      "Passenger ID:139 - Coordinate: (1, 6)\n",
      "Passenger ID:140 - Coordinate: (0, 6)\n",
      "Passenger ID:141 - Coordinate: (0, 22)\n",
      "Passenger ID:142 - Coordinate: (2, 15)\n",
      "Passenger ID:143 - Coordinate: (0, 27)\n",
      "Passenger ID:144 - Coordinate: (1, 25)\n",
      "Passenger ID:145 - Coordinate: (2, 25)\n",
      "Passenger ID:146 - Coordinate: (4, 27)\n",
      "Passenger ID:147 - Coordinate: (5, 27)\n",
      "Passenger ID:148 - Coordinate: (1, 14)\n",
      "Passenger ID:149 - Coordinate: (2, 14)\n",
      "Passenger ID:150 - Coordinate: (5, 7)\n"
=======
      "Center of Mass: (-0.06, -0.95)\n",
      "Passenger ID:0 - Coordinate: (4, 2)\n",
      "Passenger ID:1 - Coordinate: (2, 2)\n",
      "Passenger ID:2 - Coordinate: (5, 12)\n",
      "Passenger ID:3 - Coordinate: (6, 10)\n",
      "Passenger ID:4 - Coordinate: (0, 21)\n",
      "Passenger ID:5 - Coordinate: (1, 21)\n",
      "Passenger ID:6 - Coordinate: (5, 6)\n",
      "Passenger ID:7 - Coordinate: (2, 16)\n",
      "Passenger ID:8 - Coordinate: (6, 9)\n",
      "Passenger ID:9 - Coordinate: (5, 9)\n",
      "Passenger ID:10 - Coordinate: (1, 23)\n",
      "Passenger ID:11 - Coordinate: (2, 4)\n",
      "Passenger ID:12 - Coordinate: (5, 18)\n",
      "Passenger ID:13 - Coordinate: (4, 18)\n",
      "Passenger ID:14 - Coordinate: (2, 9)\n",
      "Passenger ID:15 - Coordinate: (0, 6)\n",
      "Passenger ID:16 - Coordinate: (0, 18)\n",
      "Passenger ID:17 - Coordinate: (1, 18)\n",
      "Passenger ID:18 - Coordinate: (4, 20)\n",
      "Passenger ID:19 - Coordinate: (0, 15)\n",
      "Passenger ID:20 - Coordinate: (5, 0)\n",
      "Passenger ID:21 - Coordinate: (6, 0)\n",
      "Passenger ID:22 - Coordinate: (6, 14)\n",
      "Passenger ID:23 - Coordinate: (0, 11)\n",
      "Passenger ID:24 - Coordinate: (2, 1)\n",
      "Passenger ID:25 - Coordinate: (4, 9)\n",
      "Passenger ID:26 - Coordinate: (2, 11)\n",
      "Passenger ID:27 - Coordinate: (4, 1)\n",
      "Passenger ID:28 - Coordinate: (2, 8)\n",
      "Passenger ID:29 - Coordinate: (1, 11)\n",
      "Passenger ID:30 - Coordinate: (4, 6)\n",
      "Passenger ID:31 - Coordinate: (6, 11)\n",
      "Passenger ID:32 - Coordinate: (5, 11)\n",
      "Passenger ID:33 - Coordinate: (4, 11)\n",
      "Passenger ID:34 - Coordinate: (2, 12)\n",
      "Passenger ID:35 - Coordinate: (0, 2)\n",
      "Passenger ID:36 - Coordinate: (1, 2)\n",
      "Passenger ID:37 - Coordinate: (1, 12)\n",
      "Passenger ID:38 - Coordinate: (0, 12)\n",
      "Passenger ID:39 - Coordinate: (5, 2)\n",
      "Passenger ID:40 - Coordinate: (0, 7)\n",
      "Passenger ID:41 - Coordinate: (6, 8)\n",
      "Passenger ID:42 - Coordinate: (5, 8)\n",
      "Passenger ID:43 - Coordinate: (6, 16)\n",
      "Passenger ID:44 - Coordinate: (4, 17)\n",
      "Passenger ID:45 - Coordinate: (2, 23)\n",
      "Passenger ID:46 - Coordinate: (1, 22)\n",
      "Passenger ID:47 - Coordinate: (0, 22)\n",
      "Passenger ID:48 - Coordinate: (6, 1)\n",
      "Passenger ID:49 - Coordinate: (2, 14)\n",
      "Passenger ID:50 - Coordinate: (4, 14)\n",
      "Passenger ID:51 - Coordinate: (5, 14)\n",
      "Passenger ID:52 - Coordinate: (0, 8)\n",
      "Passenger ID:53 - Coordinate: (1, 8)\n",
      "Passenger ID:54 - Coordinate: (0, 23)\n",
      "Passenger ID:55 - Coordinate: (4, 26)\n",
      "Passenger ID:56 - Coordinate: (0, 16)\n",
      "Passenger ID:57 - Coordinate: (1, 25)\n",
      "Passenger ID:58 - Coordinate: (0, 25)\n",
      "Passenger ID:59 - Coordinate: (2, 5)\n",
      "Passenger ID:60 - Coordinate: (4, 4)\n",
      "Passenger ID:61 - Coordinate: (0, 0)\n",
      "Passenger ID:62 - Coordinate: (4, 13)\n",
      "Passenger ID:63 - Coordinate: (2, 13)\n",
      "Passenger ID:64 - Coordinate: (2, 15)\n",
      "Passenger ID:65 - Coordinate: (1, 15)\n",
      "Passenger ID:66 - Coordinate: (0, 3)\n",
      "Passenger ID:67 - Coordinate: (1, 10)\n",
      "Passenger ID:68 - Coordinate: (2, 0)\n",
      "Passenger ID:69 - Coordinate: (1, 0)\n",
      "Passenger ID:70 - Coordinate: (4, 12)\n",
      "Passenger ID:71 - Coordinate: (1, 6)\n",
      "Passenger ID:72 - Coordinate: (2, 6)\n",
      "Passenger ID:73 - Coordinate: (6, 7)\n",
      "Passenger ID:74 - Coordinate: (6, 5)\n",
      "Passenger ID:75 - Coordinate: (5, 13)\n",
      "Passenger ID:76 - Coordinate: (0, 5)\n",
      "Passenger ID:77 - Coordinate: (1, 5)\n",
      "Passenger ID:78 - Coordinate: (5, 24)\n",
      "Passenger ID:79 - Coordinate: (4, 24)\n",
      "Passenger ID:80 - Coordinate: (5, 27)\n",
      "Passenger ID:81 - Coordinate: (6, 27)\n",
      "Passenger ID:82 - Coordinate: (6, 6)\n",
      "Passenger ID:83 - Coordinate: (5, 5)\n",
      "Passenger ID:84 - Coordinate: (4, 5)\n",
      "Passenger ID:85 - Coordinate: (5, 16)\n",
      "Passenger ID:86 - Coordinate: (0, 4)\n",
      "Passenger ID:87 - Coordinate: (1, 4)\n",
      "Passenger ID:88 - Coordinate: (2, 7)\n",
      "Passenger ID:89 - Coordinate: (0, 20)\n",
      "Passenger ID:90 - Coordinate: (1, 20)\n",
      "Passenger ID:91 - Coordinate: (0, 17)\n",
      "Passenger ID:92 - Coordinate: (2, 27)\n",
      "Passenger ID:93 - Coordinate: (0, 27)\n",
      "Passenger ID:94 - Coordinate: (1, 27)\n",
      "Passenger ID:95 - Coordinate: (4, 22)\n",
      "Passenger ID:96 - Coordinate: (5, 3)\n",
      "Passenger ID:97 - Coordinate: (6, 4)\n",
      "Passenger ID:98 - Coordinate: (5, 4)\n",
      "Passenger ID:99 - Coordinate: (4, 0)\n",
      "Passenger ID:100 - Coordinate: (4, 8)\n",
      "Passenger ID:101 - Coordinate: (0, 26)\n",
      "Passenger ID:102 - Coordinate: (1, 26)\n",
      "Passenger ID:103 - Coordinate: (6, 12)\n",
      "Passenger ID:104 - Coordinate: (6, 21)\n",
      "Passenger ID:105 - Coordinate: (1, 1)\n",
      "Passenger ID:106 - Coordinate: (5, 17)\n",
      "Passenger ID:107 - Coordinate: (1, 16)\n",
      "Passenger ID:108 - Coordinate: (1, 13)\n",
      "Passenger ID:109 - Coordinate: (0, 13)\n",
      "Passenger ID:110 - Coordinate: (2, 18)\n",
      "Passenger ID:111 - Coordinate: (4, 19)\n",
      "Passenger ID:112 - Coordinate: (4, 23)\n",
      "Passenger ID:113 - Coordinate: (6, 18)\n",
      "Passenger ID:114 - Coordinate: (6, 25)\n",
      "Passenger ID:115 - Coordinate: (6, 20)\n",
      "Passenger ID:116 - Coordinate: (6, 23)\n",
      "Passenger ID:117 - Coordinate: (2, 25)\n",
      "Passenger ID:118 - Coordinate: (0, 19)\n",
      "Passenger ID:119 - Coordinate: (5, 10)\n",
      "Passenger ID:120 - Coordinate: (4, 10)\n",
      "Passenger ID:121 - Coordinate: (4, 3)\n",
      "Passenger ID:122 - Coordinate: (6, 17)\n",
      "Passenger ID:123 - Coordinate: (0, 10)\n",
      "Passenger ID:124 - Coordinate: (0, 1)\n",
      "Passenger ID:125 - Coordinate: (1, 3)\n",
      "Passenger ID:126 - Coordinate: (2, 3)\n",
      "Passenger ID:127 - Coordinate: (6, 13)\n",
      "Passenger ID:128 - Coordinate: (6, 2)\n",
      "Passenger ID:129 - Coordinate: (4, 15)\n",
      "Passenger ID:130 - Coordinate: (5, 15)\n",
      "Passenger ID:131 - Coordinate: (1, 17)\n",
      "Passenger ID:132 - Coordinate: (6, 19)\n",
      "Passenger ID:133 - Coordinate: (2, 10)\n",
      "Passenger ID:134 - Coordinate: (5, 26)\n",
      "Passenger ID:135 - Coordinate: (1, 7)\n",
      "Passenger ID:136 - Coordinate: (6, 3)\n",
      "Passenger ID:137 - Coordinate: (2, 17)\n",
      "Passenger ID:138 - Coordinate: (5, 7)\n",
      "Passenger ID:139 - Coordinate: (4, 7)\n",
      "Passenger ID:140 - Coordinate: (0, 9)\n",
      "Passenger ID:141 - Coordinate: (1, 9)\n",
      "Passenger ID:142 - Coordinate: (2, 20)\n",
      "Passenger ID:143 - Coordinate: (6, 24)\n",
      "Passenger ID:144 - Coordinate: (6, 15)\n",
      "Passenger ID:145 - Coordinate: (0, 14)\n",
      "Passenger ID:146 - Coordinate: (1, 14)\n",
      "Passenger ID:147 - Coordinate: (6, 22)\n",
      "Passenger ID:148 - Coordinate: (5, 22)\n",
      "Passenger ID:149 - Coordinate: (1, 24)\n",
      "Passenger ID:150 - Coordinate: (0, 24)\n",
      "Passenger ID:151 - Coordinate: (5, 1)\n"
>>>>>>> 8ae6a1d6cc7568038b7b2acc1601b62395618da2
     ]
    },
    {
     "data": {
      "text/plain": [
       "(-3.5, 3.5)"
      ]
     },
<<<<<<< HEAD
     "execution_count": 123,
=======
     "execution_count": 138,
>>>>>>> 8ae6a1d6cc7568038b7b2acc1601b62395618da2
     "metadata": {},
     "output_type": "execute_result"
    },
    {
     "data": {
<<<<<<< HEAD
      "image/png": "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",
=======
      "image/png": "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",
>>>>>>> 8ae6a1d6cc7568038b7b2acc1601b62395618da2
      "text/plain": [
       "<Figure size 360x720 with 1 Axes>"
      ]
     },
     "metadata": {
      "needs_background": "light"
     },
     "output_type": "display_data"
    }
   ],
   "source": [
    "cm_x = round(barycenter_X.getValue(),2)\n",
    "cm_y = round(barycenter_Y.getValue(),2)\n",
    "\n",
    "print(f\"Center of Mass: {(cm_x, cm_y)}\")\n",
    "\n",
    "\n",
    "fig = plt.figure(figsize=(5,10));\n",
    "for seat in itertools.product(X,Y):\n",
    "    if seat[0] != 0:\n",
    "        plt.plot(seat[0],seat[1],'s', color=\"gray\", markersize=15)\n",
    "\n",
    "plt.plot([bary_lim_X, bary_lim_X]  , [-bary_lim_Y, bary_lim_Y],   color=\"cyan\")\n",
    "plt.plot([-bary_lim_X, -bary_lim_X], [-bary_lim_Y, bary_lim_Y],   color=\"cyan\")\n",
    "plt.plot([-bary_lim_X, bary_lim_X] , [bary_lim_Y, bary_lim_Y],    color=\"cyan\")\n",
    "plt.plot([-bary_lim_X, bary_lim_X] , [-bary_lim_Y, -bary_lim_Y],   color=\"cyan\")\n",
    "\n",
    "#for g in range(len(groups)):\n",
    "    #print(j_g_max[g].x, j_g_min[g].x)\n",
    "\n",
    "for a in allocation:\n",
    "    if allocation[a].x == 1:\n",
    "        label = \"\"\n",
    "        if len(groups[passenger_from_id[a[0]].group_index]) == 1:\n",
    "            color = \"green\"\n",
    "        else:\n",
    "            color = \"orange\"\n",
    "            label = label + str(passengers[a[0]].group_index)\n",
    "            \n",
    "\n",
    "        \n",
    "        #plt.plot(X[a[1]],Y[a[2]], 'o',color=colors[passengers[a[0]].group_index-1])\n",
    "        plt.plot(X[a[1]], Y[a[2]], 's', color=color, markersize=15)\n",
    "        plt.text(X[a[1]], Y[a[2]],label+\"*\"*(passenger_from_id[a[0]].transit_time < 90), ha=\"center\", va=\"center\")\n",
    "        print(f\"Passenger ID:{a[0]} - Coordinate: {(a[1], a[2])}\")\n",
    "plt.plot(cm_x,cm_y, \"o\", color=\"red\")\n",
    "plt.ylim([-14.5,14.5])\n",
    "plt.xlim([-3.5,3.5])"
   ]
  },
  {
   "cell_type": "code",
<<<<<<< HEAD
   "execution_count": 124,
=======
   "execution_count": 139,
>>>>>>> 8ae6a1d6cc7568038b7b2acc1601b62395618da2
   "metadata": {},
   "outputs": [
    {
     "data": {
      "text/plain": [
<<<<<<< HEAD
       "{0: <gurobi.Var *Awaiting Model Update*>,\n",
       " 1: <gurobi.Var *Awaiting Model Update*>,\n",
       " 2: <gurobi.Var *Awaiting Model Update*>,\n",
       " 3: <gurobi.Var *Awaiting Model Update*>,\n",
       " 4: <gurobi.Var *Awaiting Model Update*>,\n",
       " 5: <gurobi.Var *Awaiting Model Update*>,\n",
       " 6: <gurobi.Var *Awaiting Model Update*>,\n",
       " 7: <gurobi.Var *Awaiting Model Update*>,\n",
       " 8: <gurobi.Var *Awaiting Model Update*>,\n",
       " 9: <gurobi.Var *Awaiting Model Update*>,\n",
       " 10: <gurobi.Var *Awaiting Model Update*>,\n",
       " 11: <gurobi.Var *Awaiting Model Update*>,\n",
       " 12: <gurobi.Var *Awaiting Model Update*>,\n",
       " 13: <gurobi.Var *Awaiting Model Update*>,\n",
       " 14: <gurobi.Var *Awaiting Model Update*>,\n",
       " 15: <gurobi.Var *Awaiting Model Update*>,\n",
       " 16: <gurobi.Var *Awaiting Model Update*>,\n",
       " 17: <gurobi.Var *Awaiting Model Update*>,\n",
       " 18: <gurobi.Var *Awaiting Model Update*>,\n",
       " 19: <gurobi.Var *Awaiting Model Update*>,\n",
       " 20: <gurobi.Var *Awaiting Model Update*>,\n",
       " 21: <gurobi.Var *Awaiting Model Update*>,\n",
       " 22: <gurobi.Var *Awaiting Model Update*>,\n",
       " 23: <gurobi.Var *Awaiting Model Update*>,\n",
       " 24: <gurobi.Var *Awaiting Model Update*>,\n",
       " 25: <gurobi.Var *Awaiting Model Update*>,\n",
       " 26: <gurobi.Var *Awaiting Model Update*>,\n",
       " 27: <gurobi.Var *Awaiting Model Update*>,\n",
       " 28: <gurobi.Var *Awaiting Model Update*>,\n",
       " 29: <gurobi.Var *Awaiting Model Update*>,\n",
       " 30: <gurobi.Var *Awaiting Model Update*>,\n",
       " 31: <gurobi.Var *Awaiting Model Update*>,\n",
       " 32: <gurobi.Var *Awaiting Model Update*>,\n",
       " 33: <gurobi.Var *Awaiting Model Update*>,\n",
       " 34: <gurobi.Var *Awaiting Model Update*>,\n",
       " 35: <gurobi.Var *Awaiting Model Update*>,\n",
       " 36: <gurobi.Var *Awaiting Model Update*>,\n",
       " 37: <gurobi.Var *Awaiting Model Update*>,\n",
       " 38: <gurobi.Var *Awaiting Model Update*>,\n",
       " 39: <gurobi.Var *Awaiting Model Update*>,\n",
       " 40: <gurobi.Var *Awaiting Model Update*>,\n",
       " 41: <gurobi.Var *Awaiting Model Update*>,\n",
       " 42: <gurobi.Var *Awaiting Model Update*>,\n",
       " 43: <gurobi.Var *Awaiting Model Update*>,\n",
       " 44: <gurobi.Var *Awaiting Model Update*>,\n",
       " 45: <gurobi.Var *Awaiting Model Update*>,\n",
       " 46: <gurobi.Var *Awaiting Model Update*>,\n",
       " 47: <gurobi.Var *Awaiting Model Update*>,\n",
       " 48: <gurobi.Var *Awaiting Model Update*>,\n",
       " 49: <gurobi.Var *Awaiting Model Update*>,\n",
       " 50: <gurobi.Var *Awaiting Model Update*>,\n",
       " 51: <gurobi.Var *Awaiting Model Update*>,\n",
       " 52: <gurobi.Var *Awaiting Model Update*>,\n",
       " 53: <gurobi.Var *Awaiting Model Update*>,\n",
       " 54: <gurobi.Var *Awaiting Model Update*>,\n",
       " 55: <gurobi.Var *Awaiting Model Update*>,\n",
       " 56: <gurobi.Var *Awaiting Model Update*>,\n",
       " 57: <gurobi.Var *Awaiting Model Update*>,\n",
       " 58: <gurobi.Var *Awaiting Model Update*>,\n",
       " 59: <gurobi.Var *Awaiting Model Update*>,\n",
       " 60: <gurobi.Var *Awaiting Model Update*>,\n",
       " 61: <gurobi.Var *Awaiting Model Update*>,\n",
       " 62: <gurobi.Var *Awaiting Model Update*>,\n",
       " 63: <gurobi.Var *Awaiting Model Update*>,\n",
       " 64: <gurobi.Var *Awaiting Model Update*>,\n",
       " 65: <gurobi.Var *Awaiting Model Update*>,\n",
       " 66: <gurobi.Var *Awaiting Model Update*>,\n",
       " 67: <gurobi.Var *Awaiting Model Update*>,\n",
       " 68: <gurobi.Var *Awaiting Model Update*>,\n",
       " 69: <gurobi.Var *Awaiting Model Update*>,\n",
       " 70: <gurobi.Var *Awaiting Model Update*>,\n",
       " 71: <gurobi.Var *Awaiting Model Update*>,\n",
       " 72: <gurobi.Var *Awaiting Model Update*>,\n",
       " 73: <gurobi.Var *Awaiting Model Update*>,\n",
       " 74: <gurobi.Var *Awaiting Model Update*>,\n",
       " 75: <gurobi.Var *Awaiting Model Update*>,\n",
       " 76: <gurobi.Var *Awaiting Model Update*>,\n",
       " 77: <gurobi.Var *Awaiting Model Update*>,\n",
       " 78: <gurobi.Var *Awaiting Model Update*>,\n",
       " 79: <gurobi.Var *Awaiting Model Update*>,\n",
       " 80: <gurobi.Var *Awaiting Model Update*>,\n",
       " 81: <gurobi.Var *Awaiting Model Update*>,\n",
       " 82: <gurobi.Var *Awaiting Model Update*>,\n",
       " 83: <gurobi.Var *Awaiting Model Update*>,\n",
       " 84: <gurobi.Var *Awaiting Model Update*>,\n",
       " 85: <gurobi.Var *Awaiting Model Update*>,\n",
       " 86: <gurobi.Var *Awaiting Model Update*>,\n",
       " 87: <gurobi.Var *Awaiting Model Update*>,\n",
       " 88: <gurobi.Var *Awaiting Model Update*>,\n",
       " 89: <gurobi.Var *Awaiting Model Update*>,\n",
       " 90: <gurobi.Var *Awaiting Model Update*>,\n",
       " 91: <gurobi.Var *Awaiting Model Update*>,\n",
       " 92: <gurobi.Var *Awaiting Model Update*>,\n",
       " 93: <gurobi.Var *Awaiting Model Update*>,\n",
       " 94: <gurobi.Var *Awaiting Model Update*>,\n",
       " 95: <gurobi.Var *Awaiting Model Update*>,\n",
       " 96: <gurobi.Var *Awaiting Model Update*>,\n",
       " 97: <gurobi.Var *Awaiting Model Update*>,\n",
       " 98: <gurobi.Var *Awaiting Model Update*>,\n",
       " 99: <gurobi.Var *Awaiting Model Update*>,\n",
       " 100: <gurobi.Var *Awaiting Model Update*>,\n",
       " 101: <gurobi.Var *Awaiting Model Update*>,\n",
       " 102: <gurobi.Var *Awaiting Model Update*>,\n",
       " 103: <gurobi.Var *Awaiting Model Update*>,\n",
       " 104: <gurobi.Var *Awaiting Model Update*>,\n",
       " 105: <gurobi.Var *Awaiting Model Update*>,\n",
       " 106: <gurobi.Var *Awaiting Model Update*>,\n",
       " 107: <gurobi.Var *Awaiting Model Update*>,\n",
       " 108: <gurobi.Var *Awaiting Model Update*>,\n",
       " 109: <gurobi.Var *Awaiting Model Update*>,\n",
       " 110: <gurobi.Var *Awaiting Model Update*>}"
      ]
     },
     "execution_count": 124,
=======
       "G109: [149: (women, 109), 150: (women, 109)]"
      ]
     },
     "execution_count": 139,
>>>>>>> 8ae6a1d6cc7568038b7b2acc1601b62395618da2
     "metadata": {},
     "output_type": "execute_result"
    }
   ],
   "source": [
    "groups[passenger_from_id[a[0]].group_index-1]"
   ]
  },
  {
   "cell_type": "code",
   "execution_count": 140,
   "metadata": {},
   "outputs": [
    {
     "name": "stdout",
     "output_type": "stream",
     "text": [
      "G0: [0: (men, 0)]\n",
      "G1: [1: (women, 1)]\n",
      "G2: [2: (men, 2)]\n",
      "G3: [3: (women, 3)]\n",
      "G4: [4: (men, 4), 5: (men, 4)]\n",
      "G5: [6: (women, 5)]\n",
      "G6: [7: (women, 6)]\n",
      "G7: [8: (women, 7), 9: (men, 7)]\n",
      "G8: [10: (men, 8)]\n",
      "G9: [11: (women, 9)]\n",
      "G10: [12: (women, 10), 13: (men, 10)]\n",
      "G11: [14: (men, 11)]\n",
      "G12: [15: (men, 12)]\n",
      "G13: [16: (women, 13), 17: (men, 13)]\n",
      "G14: [18: (men, 14)]\n",
      "G15: [19: (men, 15)]\n",
      "G16: [20: (women, 16), 21: (men, 16)]\n",
      "G17: [22: (men, 17)]\n",
      "G18: [23: (women, 18), 24: (women, 18), 25: (men, 18), 26: (men, 18)]\n",
      "G19: [27: (women, 19), 28: (women, 19), 29: (men, 19), 30: (men, 19)]\n",
      "G20: [31: (women, 20), 32: (women, 20), 33: (child, 20)]\n",
      "G21: [34: (women, 21)]\n",
      "G22: [35: (women, 22), 36: (men, 22)]\n",
      "G23: [37: (women, 23), 38: (men, 23)]\n",
      "G24: [39: (men, 24)]\n",
      "G25: [40: (men, 25)]\n",
      "G26: [41: (men, 26), 42: (men, 26)]\n",
      "G27: [43: (men, 27)]\n",
      "G28: [44: (women, 28)]\n",
      "G29: [45: (men, 29)]\n",
      "G30: [46: (women, 30), 47: (men, 30)]\n",
      "G31: [48: (men, 31)]\n",
      "G32: [49: (men, 32)]\n",
      "G33: [50: (women, 33), 51: (men, 33)]\n",
      "G34: [52: (women, 34), 53: (men, 34)]\n",
      "G35: [54: (women, 35)]\n",
      "G36: [55: (men, 36)]\n",
      "G37: [56: (men, 37)]\n",
      "G38: [57: (women, 38), 58: (men, 38)]\n",
      "G39: [59: (men, 39)]\n",
      "G40: [60: (men, 40)]\n",
      "G41: [61: (men, 41)]\n",
      "G42: [62: (men, 42)]\n",
      "G43: [63: (men, 43)]\n",
      "G44: [64: (women, 44), 65: (men, 44)]\n",
      "G45: [66: (men, 45)]\n",
      "G46: [67: (men, 46)]\n",
      "G47: [68: (women, 47)]\n",
      "G48: [69: (men, 48)]\n",
      "G49: [70: (women, 49)]\n",
      "G50: [71: (women, 50), 72: (men, 50)]\n",
      "G51: [73: (women, 51)]\n",
      "G52: [74: (women, 52)]\n",
      "G53: [75: (women, 53)]\n",
      "G54: [76: (women, 54), 77: (men, 54)]\n",
      "G55: [78: (women, 55), 79: (men, 55)]\n",
      "G56: [80: (women, 56), 81: (men, 56)]\n",
      "G57: [82: (men, 57)]\n",
      "G58: [83: (women, 58), 84: (men, 58)]\n",
      "G59: [85: (women, 59)]\n",
      "G60: [86: (women, 60), 87: (men, 60)]\n",
      "G61: [88: (men, 61)]\n",
      "G62: [89: (women, 62), 90: (men, 62)]\n",
      "G63: [91: (men, 63)]\n",
      "G64: [92: (women, 64), 93: (women, 64), 94: (men, 64)]\n",
      "G65: [95: (women, 65)]\n",
      "G66: [96: (men, 66)]\n",
      "G67: [97: (women, 67), 98: (men, 67)]\n",
      "G68: [99: (men, 68)]\n",
      "G69: [100: (women, 69)]\n",
      "G70: [101: (women, 70), 102: (men, 70)]\n",
      "G71: [103: (women, 71)]\n",
      "G72: [104: (men, 72)]\n",
      "G73: [105: (men, 73)]\n",
      "G74: [106: (men, 74)]\n",
      "G75: [107: (women, 75)]\n",
      "G76: [108: (women, 76), 109: (men, 76)]\n",
      "G77: [110: (men, 77)]\n",
      "G78: [111: (men, 78)]\n",
      "G79: [112: (men, 79)]\n",
      "G80: [113: (men, 80)]\n",
      "G81: [114: (men, 81)]\n",
      "G82: [115: (men, 82)]\n",
      "G83: [116: (men, 83)]\n",
      "G84: [117: (men, 84)]\n",
      "G85: [118: (men, 85)]\n",
      "G86: [119: (women, 86), 120: (men, 86)]\n",
      "G87: [121: (women, 87)]\n",
      "G88: [122: (women, 88)]\n",
      "G89: [123: (women, 89)]\n",
      "G90: [124: (men, 90)]\n",
      "G91: [125: (women, 91), 126: (men, 91)]\n",
      "G92: [127: (men, 92)]\n",
      "G93: [128: (men, 93)]\n",
      "G94: [129: (women, 94), 130: (men, 94)]\n",
      "G95: [131: (women, 95)]\n",
      "G96: [132: (men, 96)]\n",
      "G97: [133: (men, 97)]\n",
      "G98: [134: (men, 98)]\n",
      "G99: [135: (women, 99)]\n",
      "G100: [136: (women, 100)]\n",
      "G101: [137: (men, 101)]\n",
      "G102: [138: (women, 102), 139: (men, 102)]\n",
      "G103: [140: (women, 103), 141: (men, 103)]\n",
      "G104: [142: (women, 104)]\n",
      "G105: [143: (men, 105)]\n",
      "G106: [144: (women, 106)]\n",
      "G107: [145: (women, 107), 146: (women, 107)]\n",
      "G108: [147: (women, 108), 148: (women, 108)]\n",
      "G109: [149: (women, 109), 150: (women, 109)]\n",
      "G110: [151: (men, 110)]\n"
     ]
    }
   ],
   "source": [
    "for g in groups:\n",
    "    print(groups[g])"
   ]
  }
 ],
 "metadata": {
  "interpreter": {
   "hash": "4edc6bdd590a5a6b92c48979e9e47f5638d187f6c4ff6a23aa9775e5ee8e38f8"
  },
  "kernelspec": {
   "display_name": "Python 3.9.10 64-bit (windows store)",
   "language": "python",
   "name": "python3"
  },
  "language_info": {
   "codemirror_mode": {
    "name": "ipython",
    "version": 3
   },
   "file_extension": ".py",
   "mimetype": "text/x-python",
   "name": "python",
   "nbconvert_exporter": "python",
   "pygments_lexer": "ipython3",
   "version": "3.10.2"
  },
  "orig_nbformat": 4
 },
 "nbformat": 4,
 "nbformat_minor": 2
}
