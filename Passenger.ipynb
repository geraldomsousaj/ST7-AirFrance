{
 "cells": [
  {
   "cell_type": "markdown",
   "metadata": {},
   "source": [
    "# Data Preparation\n",
    "\n",
    "We need to represent and access info for all passengers: gender(weight), which group they belong to, if they have to transfert. We created a class Passenger to represent this data. We also created a class Group to reprenent each group (numer of women, men, transit time).\n",
    "\n",
    "The main decision variable here is the allocation A : binary variable that says for each passenger where he is located : \n",
    "\n",
    "A[x, y, p.passenger_id]\n",
    "\n",
    "For instance, if Passenger 1 is at the place : width=2, height=3, then allocation[2,3,1]=1. Else, it equals 0.\n",
    "\n",
    "There are also the satisfaction variables: depends on the number of neighbors of the same group you have [to be completed]"
   ]
  },
  {
   "cell_type": "code",
   "execution_count": 2,
   "metadata": {},
   "outputs": [],
   "source": [
    "class Passenger:\n",
    "    def __init__(self, group_index, passenger_id, description, transit_time=0):\n",
    "        \"\"\"\n",
    "            group_index : \n",
    "            passenger_id : \n",
    "            description : men, women, wheelchair, child\n",
    "            business_economic : class (Business, Economic)\n",
    "            transit_time : optional parameter (inf if there is not transit time)\n",
    "        \n",
    "        \"\"\"\n",
    "        self.group_index = group_index\n",
    "        self.passenger_id = passenger_id\n",
    "        self.description = description\n",
    "        # self.business_economic = business_economic\n",
    "        self.transit_time = transit_time\n",
    "        self.weight()\n",
    "    \n",
    "    def weight(self):\n",
    "        if self.description == 'women':\n",
    "            self.weight = 70\n",
    "        elif self.description == 'men':\n",
    "            self.weight = 85\n",
    "        elif self.description == 'child':\n",
    "            self.weight = 35\n",
    "        else: \n",
    "            self.weight = 70 # need to check this value"
   ]
  },
  {
   "cell_type": "code",
   "execution_count": 3,
   "metadata": {},
   "outputs": [],
   "source": [
    "import pandas as pd\n",
    "import numpy as np\n",
    "import os"
   ]
  },
  {
   "cell_type": "code",
   "execution_count": 4,
   "metadata": {},
   "outputs": [],
   "source": [
    "passenger_id = 0"
   ]
  },
  {
   "cell_type": "code",
   "execution_count": 5,
   "metadata": {},
   "outputs": [],
   "source": [
    "class Group:\n",
    "\n",
    "    def __init__(self, id_group, num_women, num_men, transit_time=0):\n",
    "        self.id_group = id_group\n",
    "        self.num_women = num_women\n",
    "        self.num_men = num_men\n",
    "        self.transit_time = transit_time\n",
    "\n",
    "        self.members = []\n",
    "\n",
    "        global passenger_id\n",
    "\n",
    "        for i in range(self.num_women):\n",
    "            self.members.append(Passenger(\n",
    "                self.id_group,\n",
    "                passenger_id,\n",
    "                'women',\n",
    "                self.transit_time\n",
    "            ))\n",
    "            passenger_id+=1\n",
    "        \n",
    "        for i in range(self.num_men):\n",
    "            self.members.append(Passenger(\n",
    "                self.id_group,\n",
    "                passenger_id,\n",
    "                'men',\n",
    "                self.transit_time\n",
    "            ))\n",
    "            passenger_id+=1\n",
    "        \n",
    "        return\n",
    "    \n",
    "    \n",
    "        "
   ]
  },
  {
   "cell_type": "code",
   "execution_count": 6,
   "metadata": {},
   "outputs": [],
   "source": [
    "def read_and_preprocess(file, date):\n",
    "    df = pd.read_excel(file, date)\n",
    "    \n",
    "    df['TransitTime (min)'] = df['TransitTime'].apply(lambda x: float(str(x).split(':')[0])*60+float(str(x).split(':')[1]))\n",
    "\n",
    "    df[['Femmes', 'Hommes', 'Enfants', 'WCHR', 'WCHB']] = df[['Femmes', 'Hommes', 'Enfants', 'WCHR', 'WCHB']].fillna(0)\n",
    "\n",
    "    return df\n",
    "\n",
    "def get_list_passengers(df):\n",
    "    list_groups = {}\n",
    "\n",
    "    for idx, row in df.iterrows():\n",
    "\n",
    "        list_groups[int(idx)] = Group(\n",
    "            id_group=int(idx),\n",
    "            num_women=int(row['Femmes']),\n",
    "            num_men=int(row['Hommes']),\n",
    "            transit_time=row['TransitTime (min)']\n",
    "        )\n",
    "    \n",
    "    return list_groups"
   ]
  },
  {
   "cell_type": "code",
   "execution_count": 7,
   "metadata": {},
   "outputs": [],
   "source": [
    "df = read_and_preprocess('DataSeating - V3.xls', '21Oct')"
   ]
  },
  {
   "cell_type": "code",
   "execution_count": 8,
   "metadata": {},
   "outputs": [
    {
     "data": {
      "text/html": [
       "<div>\n",
       "<style scoped>\n",
       "    .dataframe tbody tr th:only-of-type {\n",
       "        vertical-align: middle;\n",
       "    }\n",
       "\n",
       "    .dataframe tbody tr th {\n",
       "        vertical-align: top;\n",
       "    }\n",
       "\n",
       "    .dataframe thead th {\n",
       "        text-align: right;\n",
       "    }\n",
       "</style>\n",
       "<table border=\"1\" class=\"dataframe\">\n",
       "  <thead>\n",
       "    <tr style=\"text-align: right;\">\n",
       "      <th></th>\n",
       "      <th>Numéro du groupe</th>\n",
       "      <th>Femmes</th>\n",
       "      <th>Hommes</th>\n",
       "      <th>Enfants</th>\n",
       "      <th>WCHR</th>\n",
       "      <th>WCHB</th>\n",
       "      <th>Classe</th>\n",
       "      <th>TransitTime</th>\n",
       "      <th>TransitTime (min)</th>\n",
       "    </tr>\n",
       "  </thead>\n",
       "  <tbody>\n",
       "    <tr>\n",
       "      <th>0</th>\n",
       "      <td>1</td>\n",
       "      <td>0.0</td>\n",
       "      <td>1.0</td>\n",
       "      <td>0.0</td>\n",
       "      <td>0.0</td>\n",
       "      <td>0.0</td>\n",
       "      <td>Y</td>\n",
       "      <td>01:15:00</td>\n",
       "      <td>75.0</td>\n",
       "    </tr>\n",
       "    <tr>\n",
       "      <th>1</th>\n",
       "      <td>2</td>\n",
       "      <td>1.0</td>\n",
       "      <td>0.0</td>\n",
       "      <td>0.0</td>\n",
       "      <td>0.0</td>\n",
       "      <td>0.0</td>\n",
       "      <td>Y</td>\n",
       "      <td>00:00:00</td>\n",
       "      <td>0.0</td>\n",
       "    </tr>\n",
       "    <tr>\n",
       "      <th>2</th>\n",
       "      <td>3</td>\n",
       "      <td>0.0</td>\n",
       "      <td>1.0</td>\n",
       "      <td>0.0</td>\n",
       "      <td>0.0</td>\n",
       "      <td>0.0</td>\n",
       "      <td>Y</td>\n",
       "      <td>00:00:00</td>\n",
       "      <td>0.0</td>\n",
       "    </tr>\n",
       "    <tr>\n",
       "      <th>3</th>\n",
       "      <td>4</td>\n",
       "      <td>1.0</td>\n",
       "      <td>0.0</td>\n",
       "      <td>0.0</td>\n",
       "      <td>0.0</td>\n",
       "      <td>0.0</td>\n",
       "      <td>Y</td>\n",
       "      <td>00:00:00</td>\n",
       "      <td>0.0</td>\n",
       "    </tr>\n",
       "    <tr>\n",
       "      <th>4</th>\n",
       "      <td>5</td>\n",
       "      <td>0.0</td>\n",
       "      <td>2.0</td>\n",
       "      <td>0.0</td>\n",
       "      <td>0.0</td>\n",
       "      <td>0.0</td>\n",
       "      <td>Y</td>\n",
       "      <td>05:25:00</td>\n",
       "      <td>325.0</td>\n",
       "    </tr>\n",
       "  </tbody>\n",
       "</table>\n",
       "</div>"
      ],
      "text/plain": [
       "   Numéro du groupe  Femmes  Hommes  Enfants  WCHR  WCHB Classe TransitTime  \\\n",
       "0                 1     0.0     1.0      0.0   0.0   0.0      Y    01:15:00   \n",
       "1                 2     1.0     0.0      0.0   0.0   0.0      Y    00:00:00   \n",
       "2                 3     0.0     1.0      0.0   0.0   0.0      Y    00:00:00   \n",
       "3                 4     1.0     0.0      0.0   0.0   0.0      Y    00:00:00   \n",
       "4                 5     0.0     2.0      0.0   0.0   0.0      Y    05:25:00   \n",
       "\n",
       "   TransitTime (min)  \n",
       "0               75.0  \n",
       "1                0.0  \n",
       "2                0.0  \n",
       "3                0.0  \n",
       "4              325.0  "
      ]
     },
     "execution_count": 8,
     "metadata": {},
     "output_type": "execute_result"
    }
   ],
   "source": [
    "df.head()"
   ]
  },
  {
   "cell_type": "code",
   "execution_count": 9,
   "metadata": {},
   "outputs": [],
   "source": [
    "groups_list = get_list_passengers(df)"
   ]
  },
  {
   "cell_type": "code",
   "execution_count": 10,
   "metadata": {},
   "outputs": [],
   "source": [
    "passengers_list = list()\n",
    "\n",
    "for g in groups_list.keys():\n",
    "    passengers_list += groups_list[g].members"
   ]
  },
  {
   "cell_type": "code",
   "execution_count": 11,
   "metadata": {},
   "outputs": [
    {
     "data": {
      "text/plain": [
       "151"
      ]
     },
     "execution_count": 11,
     "metadata": {},
     "output_type": "execute_result"
    }
   ],
   "source": [
    "len(passengers_list)"
   ]
  },
  {
   "cell_type": "code",
   "execution_count": 12,
   "metadata": {},
   "outputs": [
    {
     "data": {
      "text/plain": [
       "[<__main__.Passenger at 0x7f9f78cf9580>,\n",
       " <__main__.Passenger at 0x7f9f78cf9a00>,\n",
       " <__main__.Passenger at 0x7f9f78cf9b20>,\n",
       " <__main__.Passenger at 0x7f9f78cf9490>,\n",
       " <__main__.Passenger at 0x7f9fa84a5430>,\n",
       " <__main__.Passenger at 0x7f9fa84a53a0>,\n",
       " <__main__.Passenger at 0x7f9fa84a5730>,\n",
       " <__main__.Passenger at 0x7f9fa84a5d30>,\n",
       " <__main__.Passenger at 0x7f9fa84a5580>,\n",
       " <__main__.Passenger at 0x7f9fa84a5670>,\n",
       " <__main__.Passenger at 0x7f9fa84a5e20>,\n",
       " <__main__.Passenger at 0x7f9fa84a5eb0>,\n",
       " <__main__.Passenger at 0x7f9fa84a5ca0>,\n",
       " <__main__.Passenger at 0x7f9fa84a5d60>,\n",
       " <__main__.Passenger at 0x7f9fa84916a0>,\n",
       " <__main__.Passenger at 0x7f9fa8491b50>,\n",
       " <__main__.Passenger at 0x7f9fa84914f0>,\n",
       " <__main__.Passenger at 0x7f9fa8491730>,\n",
       " <__main__.Passenger at 0x7f9fa8491880>,\n",
       " <__main__.Passenger at 0x7f9fa84914c0>,\n",
       " <__main__.Passenger at 0x7f9fa8491820>,\n",
       " <__main__.Passenger at 0x7f9fa8491100>,\n",
       " <__main__.Passenger at 0x7f9fa8491b80>,\n",
       " <__main__.Passenger at 0x7f9fa8491040>,\n",
       " <__main__.Passenger at 0x7f9fa8491220>,\n",
       " <__main__.Passenger at 0x7f9fa8491340>,\n",
       " <__main__.Passenger at 0x7f9fa8491a90>,\n",
       " <__main__.Passenger at 0x7f9fa8491370>,\n",
       " <__main__.Passenger at 0x7f9fa8491700>,\n",
       " <__main__.Passenger at 0x7f9fa8491a30>,\n",
       " <__main__.Passenger at 0x7f9fa8491760>,\n",
       " <__main__.Passenger at 0x7f9fa84916d0>,\n",
       " <__main__.Passenger at 0x7f9fa8491eb0>,\n",
       " <__main__.Passenger at 0x7f9fa8491e50>,\n",
       " <__main__.Passenger at 0x7f9fa8491d30>,\n",
       " <__main__.Passenger at 0x7f9fa8491d60>,\n",
       " <__main__.Passenger at 0x7f9fa8491f10>,\n",
       " <__main__.Passenger at 0x7f9fa84910a0>,\n",
       " <__main__.Passenger at 0x7f9f989ab100>,\n",
       " <__main__.Passenger at 0x7f9f989ab1c0>,\n",
       " <__main__.Passenger at 0x7f9f989ab280>,\n",
       " <__main__.Passenger at 0x7f9f989ab2e0>,\n",
       " <__main__.Passenger at 0x7f9f989ab3a0>,\n",
       " <__main__.Passenger at 0x7f9f989ab040>,\n",
       " <__main__.Passenger at 0x7f9f989ab520>,\n",
       " <__main__.Passenger at 0x7f9f989ab4c0>,\n",
       " <__main__.Passenger at 0x7f9f989ab5e0>,\n",
       " <__main__.Passenger at 0x7f9f989ab700>,\n",
       " <__main__.Passenger at 0x7f9f989ab7c0>,\n",
       " <__main__.Passenger at 0x7f9f989ab640>,\n",
       " <__main__.Passenger at 0x7f9f989ab880>,\n",
       " <__main__.Passenger at 0x7f9f989ab8e0>,\n",
       " <__main__.Passenger at 0x7f9f989ab9a0>,\n",
       " <__main__.Passenger at 0x7f9f989aba00>,\n",
       " <__main__.Passenger at 0x7f9f989abb80>,\n",
       " <__main__.Passenger at 0x7f9f989abc40>,\n",
       " <__main__.Passenger at 0x7f9f989abb20>,\n",
       " <__main__.Passenger at 0x7f9f989abd00>,\n",
       " <__main__.Passenger at 0x7f9f989abe20>,\n",
       " <__main__.Passenger at 0x7f9f989abee0>,\n",
       " <__main__.Passenger at 0x7f9f989abfa0>,\n",
       " <__main__.Passenger at 0x7f9f989abd60>,\n",
       " <__main__.Passenger at 0x7f9f989b5160>,\n",
       " <__main__.Passenger at 0x7f9f989b50a0>,\n",
       " <__main__.Passenger at 0x7f9f989b5220>,\n",
       " <__main__.Passenger at 0x7f9f989b5340>,\n",
       " <__main__.Passenger at 0x7f9f989b5400>,\n",
       " <__main__.Passenger at 0x7f9f989b5280>,\n",
       " <__main__.Passenger at 0x7f9f989b5580>,\n",
       " <__main__.Passenger at 0x7f9f989b5520>,\n",
       " <__main__.Passenger at 0x7f9f989b56a0>,\n",
       " <__main__.Passenger at 0x7f9f989b5700>,\n",
       " <__main__.Passenger at 0x7f9f989b5760>,\n",
       " <__main__.Passenger at 0x7f9f989b5880>,\n",
       " <__main__.Passenger at 0x7f9f989b5940>,\n",
       " <__main__.Passenger at 0x7f9f989b5a00>,\n",
       " <__main__.Passenger at 0x7f9f989b5a60>,\n",
       " <__main__.Passenger at 0x7f9f989b5ac0>,\n",
       " <__main__.Passenger at 0x7f9f989b5b80>,\n",
       " <__main__.Passenger at 0x7f9f989b5be0>,\n",
       " <__main__.Passenger at 0x7f9f989b5ca0>,\n",
       " <__main__.Passenger at 0x7f9f989b5dc0>,\n",
       " <__main__.Passenger at 0x7f9f989b5d00>,\n",
       " <__main__.Passenger at 0x7f9f989b5e80>,\n",
       " <__main__.Passenger at 0x7f9f989b5ee0>,\n",
       " <__main__.Passenger at 0x7f9f989b5fa0>,\n",
       " <__main__.Passenger at 0x7f9f989b10a0>,\n",
       " <__main__.Passenger at 0x7f9f989b11c0>,\n",
       " <__main__.Passenger at 0x7f9f989b1100>,\n",
       " <__main__.Passenger at 0x7f9f989b1280>,\n",
       " <__main__.Passenger at 0x7f9f989b13a0>,\n",
       " <__main__.Passenger at 0x7f9f989b12e0>,\n",
       " <__main__.Passenger at 0x7f9f989b14c0>,\n",
       " <__main__.Passenger at 0x7f9f989b1460>,\n",
       " <__main__.Passenger at 0x7f9f989b1520>,\n",
       " <__main__.Passenger at 0x7f9f989b16a0>,\n",
       " <__main__.Passenger at 0x7f9f989b1640>,\n",
       " <__main__.Passenger at 0x7f9f989b1760>,\n",
       " <__main__.Passenger at 0x7f9f989b1880>,\n",
       " <__main__.Passenger at 0x7f9f989b17c0>,\n",
       " <__main__.Passenger at 0x7f9f989b19a0>,\n",
       " <__main__.Passenger at 0x7f9f989b1a00>,\n",
       " <__main__.Passenger at 0x7f9f989b1a60>,\n",
       " <__main__.Passenger at 0x7f9f989b1be0>,\n",
       " <__main__.Passenger at 0x7f9f989b1ca0>,\n",
       " <__main__.Passenger at 0x7f9f989b1d60>,\n",
       " <__main__.Passenger at 0x7f9f989b1b80>,\n",
       " <__main__.Passenger at 0x7f9f989b1e80>,\n",
       " <__main__.Passenger at 0x7f9f989b1ee0>,\n",
       " <__main__.Passenger at 0x7f9f989b1f40>,\n",
       " <__main__.Passenger at 0x7f9f989ae100>,\n",
       " <__main__.Passenger at 0x7f9f989ae1c0>,\n",
       " <__main__.Passenger at 0x7f9f989ae280>,\n",
       " <__main__.Passenger at 0x7f9f989ae340>,\n",
       " <__main__.Passenger at 0x7f9f989ae400>,\n",
       " <__main__.Passenger at 0x7f9f989ae4c0>,\n",
       " <__main__.Passenger at 0x7f9f989ae580>,\n",
       " <__main__.Passenger at 0x7f9f989ae640>,\n",
       " <__main__.Passenger at 0x7f9f989ae040>,\n",
       " <__main__.Passenger at 0x7f9f989ae700>,\n",
       " <__main__.Passenger at 0x7f9f989ae760>,\n",
       " <__main__.Passenger at 0x7f9f989ae880>,\n",
       " <__main__.Passenger at 0x7f9f989ae940>,\n",
       " <__main__.Passenger at 0x7f9f989aea60>,\n",
       " <__main__.Passenger at 0x7f9f989aea00>,\n",
       " <__main__.Passenger at 0x7f9f989aeb20>,\n",
       " <__main__.Passenger at 0x7f9f989aec40>,\n",
       " <__main__.Passenger at 0x7f9f989aed00>,\n",
       " <__main__.Passenger at 0x7f9f989aeb80>,\n",
       " <__main__.Passenger at 0x7f9f989aedc0>,\n",
       " <__main__.Passenger at 0x7f9f989aee20>,\n",
       " <__main__.Passenger at 0x7f9f989aefa0>,\n",
       " <__main__.Passenger at 0x7f9f989aef40>,\n",
       " <__main__.Passenger at 0x7f9f989b6160>,\n",
       " <__main__.Passenger at 0x7f9f989b60a0>,\n",
       " <__main__.Passenger at 0x7f9f989b6280>,\n",
       " <__main__.Passenger at 0x7f9f989b63a0>,\n",
       " <__main__.Passenger at 0x7f9f989b6340>,\n",
       " <__main__.Passenger at 0x7f9f989b6460>,\n",
       " <__main__.Passenger at 0x7f9f989b64c0>,\n",
       " <__main__.Passenger at 0x7f9f989b6580>,\n",
       " <__main__.Passenger at 0x7f9f989b65e0>,\n",
       " <__main__.Passenger at 0x7f9f989b6760>,\n",
       " <__main__.Passenger at 0x7f9f989b6700>,\n",
       " <__main__.Passenger at 0x7f9f989b6880>,\n",
       " <__main__.Passenger at 0x7f9f989b6940>,\n",
       " <__main__.Passenger at 0x7f9f989b69a0>,\n",
       " <__main__.Passenger at 0x7f9f989b6a60>,\n",
       " <__main__.Passenger at 0x7f9f989b6ac0>,\n",
       " <__main__.Passenger at 0x7f9f989b6b80>,\n",
       " <__main__.Passenger at 0x7f9f989b6c40>]"
      ]
     },
     "execution_count": 12,
     "metadata": {},
     "output_type": "execute_result"
    }
   ],
   "source": [
    "passengers_list"
   ]
  },
  {
   "cell_type": "markdown",
   "metadata": {},
   "source": [
    "# Creating the Airplane"
   ]
  },
  {
   "cell_type": "code",
   "execution_count": 24,
   "metadata": {},
   "outputs": [
    {
     "name": "stdout",
     "output_type": "stream",
     "text": [
      "{'xmax': 28, 'ymax': 7, 'corridor_y': 4, 'max_transition_row': 13, 'seats': {'real': [[1, 1], [1, 2], [1, 3], [1, 5], [1, 6], [1, 7], [2, 1], [2, 2], [2, 3], [2, 5], [2, 6], [2, 7], [3, 1], [3, 2], [3, 3], [3, 5], [3, 6], [3, 7], [4, 1], [4, 2], [4, 3], [4, 5], [4, 6], [4, 7], [5, 1], [5, 2], [5, 3], [5, 5], [5, 6], [5, 7], [6, 1], [6, 2], [6, 3], [6, 5], [6, 6], [6, 7], [7, 1], [7, 2], [7, 3], [7, 5], [7, 6], [7, 7], [8, 1], [8, 2], [8, 3], [8, 5], [8, 6], [8, 7], [9, 1], [9, 2], [9, 3], [9, 5], [9, 6], [9, 7], [10, 1], [10, 2], [10, 3], [10, 5], [10, 6], [10, 7], [11, 1], [11, 2], [11, 3], [11, 5], [11, 6], [11, 7], [12, 1], [12, 2], [12, 3], [12, 5], [12, 6], [12, 7], [13, 1], [13, 2], [13, 3], [13, 5], [13, 6], [13, 7], [14, 1], [14, 2], [14, 3], [14, 5], [14, 6], [14, 7], [15, 1], [15, 2], [15, 3], [15, 5], [15, 6], [15, 7], [16, 1], [16, 2], [16, 3], [16, 5], [16, 6], [16, 7], [17, 1], [17, 2], [17, 3], [17, 5], [17, 6], [17, 7], [18, 1], [18, 2], [18, 3], [18, 5], [18, 6], [18, 7], [19, 1], [19, 2], [19, 3], [19, 5], [19, 6], [19, 7], [20, 1], [20, 2], [20, 3], [20, 5], [20, 6], [20, 7], [21, 1], [21, 2], [21, 3], [21, 5], [21, 6], [21, 7], [22, 1], [22, 2], [22, 3], [22, 5], [22, 6], [22, 7], [23, 1], [23, 2], [23, 3], [23, 5], [23, 6], [23, 7], [24, 1], [24, 2], [24, 3], [24, 5], [24, 6], [24, 7], [25, 1], [25, 2], [25, 3], [25, 5], [25, 6], [25, 7], [26, 1], [26, 2], [26, 3], [26, 5], [26, 6], [26, 7], [27, 1], [27, 2], [27, 3], [27, 5], [27, 6], [27, 7], [28, 1], [28, 2], [28, 3], [28, 5], [28, 6], [28, 7]], 'corridor': [[1, 4], [2, 4], [3, 4], [4, 4], [5, 4], [6, 4], [7, 4], [8, 4], [9, 4], [10, 4], [11, 4], [12, 4], [13, 4], [14, 4], [15, 4], [16, 4], [17, 4], [18, 4], [19, 4], [20, 4], [21, 4], [22, 4], [23, 4], [24, 4], [25, 4], [26, 4], [27, 4], [28, 4]], 'transition_possible_seats': [[1, 1], [1, 2], [1, 3], [1, 5], [1, 6], [1, 7], [2, 1], [2, 2], [2, 3], [2, 5], [2, 6], [2, 7], [3, 1], [3, 2], [3, 3], [3, 5], [3, 6], [3, 7], [4, 1], [4, 2], [4, 3], [4, 5], [4, 6], [4, 7], [5, 1], [5, 2], [5, 3], [5, 5], [5, 6], [5, 7], [6, 1], [6, 2], [6, 3], [6, 5], [6, 6], [6, 7], [7, 1], [7, 2], [7, 3], [7, 5], [7, 6], [7, 7], [8, 1], [8, 2], [8, 3], [8, 5], [8, 6], [8, 7], [9, 1], [9, 2], [9, 3], [9, 5], [9, 6], [9, 7], [10, 1], [10, 2], [10, 3], [10, 5], [10, 6], [10, 7], [11, 1], [11, 2], [11, 3], [11, 5], [11, 6], [11, 7], [12, 1], [12, 2], [12, 3], [12, 5], [12, 6], [12, 7], [13, 1], [13, 2], [13, 3], [13, 5], [13, 6], [13, 7]]}}\n"
     ]
    }
   ],
   "source": [
    "airplane = dict()\n",
    "\n",
    "airplane['xmax'] = 28\n",
    "airplane['ymax'] = 7\n",
    "airplane['corridor_y'] = 4\n",
    "airplane['max_transition_row'] = 13\n",
    "\n",
    "airplane['seats'] = dict()\n",
    "\n",
    "# considering there is only business class\n",
    "real_seats = []\n",
    "corridor_seats = []\n",
    "transition_seats = []\n",
    "\n",
    "for x in range(1, airplane['xmax']+1):\n",
    "    for y  in range(1, airplane['ymax']+1):\n",
    "        if y != airplane['corridor_y']:\n",
    "            real_seats.append([x, y])\n",
    "        if y == airplane['corridor_y']:\n",
    "            corridor_seats.append([x, y])\n",
    "        if x <= airplane['max_transition_row'] and y != airplane['corridor_y']:\n",
    "            transition_seats.append([x, y])\n",
    "\n",
    "airplane['seats']['real'] = real_seats\n",
    "airplane['seats']['corridor'] = corridor_seats\n",
    "airplane['seats']['transition_possible_seats'] = transition_seats\n",
    "\n",
    "del real_seats, corridor_seats, transition_seats\n",
    "\n",
    "print(airplane)\n",
    "\n"
   ]
  },
  {
   "cell_type": "markdown",
   "metadata": {},
   "source": [
    "# Defining the model"
   ]
  },
  {
   "cell_type": "code",
   "execution_count": 14,
   "metadata": {},
   "outputs": [],
   "source": [
    "from gurobipy import *"
   ]
  },
  {
   "cell_type": "code",
   "execution_count": 15,
   "metadata": {},
   "outputs": [
    {
     "name": "stdout",
     "output_type": "stream",
     "text": [
      "Set parameter Username\n",
      "Academic license - for non-commercial use only - expires 2023-01-26\n"
     ]
    }
   ],
   "source": [
    "m = Model('First Try')"
   ]
  },
  {
   "cell_type": "markdown",
   "metadata": {},
   "source": [
    "## Decision Variables"
   ]
  },
  {
   "cell_type": "code",
   "execution_count": 16,
   "metadata": {},
   "outputs": [],
   "source": [
    "A = dict()\n",
    "\n",
    "for x in range(airplane['xmax']+1):\n",
    "    for y in range(airplane['ymax']+1):\n",
    "        for p in passengers_list:\n",
    "            A[x, y, p.passenger_id] = m.addVar(vtype=GRB.BINARY, name=\"A_{},{},{}\".format(x,y,p.passenger_id))"
   ]
  },
  {
   "cell_type": "markdown",
   "metadata": {},
   "source": [
    "## Constraints"
   ]
  },
  {
   "cell_type": "markdown",
   "metadata": {},
   "source": [
    "### Barycenter\n",
    "\n",
    "Separate the X and Y axis. Then separate each axis into 2 constraints: 1 lower constraint, 1 upper constraint, to fit into the defined barycenter area : 13<X<17 and 3<Y<5. To calculate the barycenter, we multipliy for each person its weight by its distance to the center of the airplane, multiplied by the allocation. The sum is then divided by the total weight (of every passengers). \n",
    "\n",
    "$$\\sum_{passenger = 1}^{p}[weight * A[x, y, p.passenger_id]*x  /total_{weight} \\leq  1$$ for i in range(width) for j in range(height)\n",
    "\n",
    "$$\\sum_{passenger = 1}^{p}[weight * A[x, y, p.passenger_id]*x  /total_{weight} \\geq -1$$ for i in range(width) for j in range(height)\n",
    "\n",
    "$$\\sum_{passenger = 1}^{p}[weight * A[x, y, p.passenger_id]*y  /total_{weight} \\leq 2$$ for i in range(width) for j in range(height)\n",
    "\n",
    "$$\\sum_{passenger = 1}^{p}[weight * A[x, y, p.passenger_id]*y  /total_{weight} \\geq -2$$ for i in range(width) for j in range(height)\n",
    "\n",
    "With x being the distance from the passenger to the center on the X axis and y being the distance from the passenger to the center on the Y axis\n"
   ]
  },
  {
   "cell_type": "code",
   "execution_count": 17,
   "metadata": {},
   "outputs": [],
   "source": [
    "# Barycenter: x \\in [13,17], y \\in [3,5]\n",
    "total_weight_passengers = sum(p.weight for p in passengers_list)\n",
    "\n",
    "barycenter = dict()\n",
    "\n",
    "barycenter['xinf'] = m.addConstr(quicksum(p.weight*x*A[x, y, p.passenger_id] for x,y in airplane['seats']['real'] for p in passengers_list) >= 13*total_weight_passengers, name=\"barycenter_x_inf\")\n",
    "barycenter['xsup'] = m.addConstr(quicksum(p.weight*x*A[x, y, p.passenger_id] for x,y in airplane['seats']['real'] for p in passengers_list) <= 17*total_weight_passengers, name=\"barycenter_x_sup\")\n",
    "barycenter['yinf'] = m.addConstr(quicksum(p.weight*y*A[x, y, p.passenger_id] for x,y in airplane['seats']['real'] for p in passengers_list) >= 3*total_weight_passengers, name=\"barycenter_y_inf\")\n",
    "barycenter['ysup'] = m.addConstr(quicksum(p.weight*y*A[x, y, p.passenger_id] for x,y in airplane['seats']['real'] for p in passengers_list) <= 5*total_weight_passengers, name=\"barycenter_y_sup\")\n"
   ]
  },
  {
   "cell_type": "markdown",
   "metadata": {},
   "source": [
    "### No passenger in the corridor"
   ]
  },
  {
   "cell_type": "code",
   "execution_count": 18,
   "metadata": {},
   "outputs": [],
   "source": [
    "corridor = m.addConstr(quicksum(A[x,y,p.passenger_id] for x, y in airplane['seats']['corridor'] for p in passengers_list) == 0)"
   ]
  },
  {
   "cell_type": "markdown",
   "metadata": {},
   "source": [
    "### At most 1 person per seat constraint: in the plane, there can't be more than 1 person in each seat.\n",
    "\n",
    "$$\\sum_{passenger = 1}^{p}allocation[p.passenger_id,i,j]  \\leq 1 $$for i in range(width) for j in range(height)\n",
    "\n",
    "p being the number of passengers"
   ]
  },
  {
   "cell_type": "code",
   "execution_count": 19,
   "metadata": {},
   "outputs": [],
   "source": [
    "passenger_seat_constr = dict()\n",
    "\n",
    "for x, y in airplane['seats']['real']:\n",
    "    passenger_seat_constr[(x,y)] = m.addConstr(quicksum(A[x, y, p.passenger_id] for p in passengers_list) <= 1, name='1 passenger at most at seat {},{}'.format(x,y))\n"
   ]
  },
  {
   "cell_type": "markdown",
   "metadata": {},
   "source": [
    "### One seat per passenger\n",
    "\n",
    "Everyone has 1 and only 1 seat constraint: each passenger has to be seated in only one place.\n",
    "\n",
    "$$\\sum_{i,j = 1}^{w,h}allocation[p.passenger_id,i,j] =1 $$\n",
    "\n",
    "for p in passengers\n",
    "\n",
    "With w the width (X), h the height (Y)"
   ]
  },
  {
   "cell_type": "code",
   "execution_count": 20,
   "metadata": {},
   "outputs": [],
   "source": [
    "seat_passenger_constr = dict()\n",
    "\n",
    "for x,y in airplane['seats']['real']:\n",
    "    seat_passenger_constr[(x, y)] = m.addConstr(quicksum(A[x, y, p.passenger_id] for p in passengers_list) == 1, name='1 seat per passenger {}'.format(p.passenger_id))"
   ]
  },
  {
   "cell_type": "markdown",
   "metadata": {},
   "source": [
    "### Passengers in transition\n",
    "\n",
    "Constraint of transfert passenger : if a passenger has to transfert, he needs to be in approximately the first third of the plane (X axis). We chose row 13, to be a bit more flexible. No constraint on the Y axis. If there is no transfert, the passenger can be anywhere.\n",
    "\n",
    "\n",
    " For p in passengers,  $$  p.transfert=1 \\rightarrow allocation[p.passenger_{id}][x] \\leq 13 \\;\\;\\;\\;  \\;\\;\\;$$\n",
    "\n",
    "This will be implemented with an if condition before the constraint creation."
   ]
  },
  {
   "cell_type": "code",
   "execution_count": 25,
   "metadata": {},
   "outputs": [],
   "source": [
    "transition_constr = dict()\n",
    "\n",
    "for p in passengers_list:\n",
    "    if p.transit_time > 0:\n",
    "        transition_constr[(p.passenger_id, x, y)] = m.addConstr(quicksum(A[x, y, p.passenger_id] for x, y in airplane['seats']['transition_possible_seats'] for p in passengers_list) == 1, name='passenger {} in transition'.format(p.passenger_id))"
   ]
  }
 ],
 "metadata": {
  "interpreter": {
   "hash": "aee8b7b246df8f9039afb4144a1f6fd8d2ca17a180786b69acc140d282b71a49"
  },
  "kernelspec": {
   "display_name": "Python 3.9.1 64-bit",
   "language": "python",
   "name": "python3"
  },
  "language_info": {
   "codemirror_mode": {
    "name": "ipython",
    "version": 3
   },
   "file_extension": ".py",
   "mimetype": "text/x-python",
   "name": "python",
   "nbconvert_exporter": "python",
   "pygments_lexer": "ipython3",
   "version": "3.9.1"
  },
  "orig_nbformat": 4
 },
 "nbformat": 4,
 "nbformat_minor": 2
}
