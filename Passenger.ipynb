{
 "cells": [
  {
   "cell_type": "code",
   "execution_count": 1,
   "metadata": {},
   "outputs": [],
   "source": [
    "class Passenger:\n",
    "    def __init__(self, group_index, passenger_id, description, transit_time=0):\n",
    "        \"\"\"\n",
    "            group_index : \n",
    "            passenger_id : \n",
    "            description : men, women, wheelchair, child\n",
    "            business_economic : class (Business, Economic)\n",
    "            transit_time : optional parameter (inf if there is not transit time)\n",
    "        \n",
    "        \"\"\"\n",
    "        self.group_index = group_index\n",
    "        self.passenger_id = passenger_id\n",
    "        self.description = description\n",
    "        # self.business_economic = business_economic\n",
    "        self.transit_time = transit_time\n",
    "        self.weight()\n",
    "    \n",
    "    def weight(self):\n",
    "        if self.description == 'women':\n",
    "            self.weight = 70\n",
    "        elif self.description == 'men':\n",
    "            self.weight = 85\n",
    "        elif self.description == 'child':\n",
    "            self.weight = 35\n",
    "        else: \n",
    "            self.weight = 70 # need to check this value"
   ]
  },
  {
   "cell_type": "code",
   "execution_count": 3,
   "metadata": {},
   "outputs": [],
   "source": [
    "import pandas as pd\n",
    "import numpy as np\n",
    "import os"
   ]
  },
  {
   "cell_type": "code",
   "execution_count": 4,
   "metadata": {},
   "outputs": [],
   "source": [
    "passenger_id = 0"
   ]
  },
  {
   "cell_type": "code",
   "execution_count": 5,
   "metadata": {},
   "outputs": [],
   "source": [
    "class Group:\n",
    "\n",
    "    def __init__(self, id_group, num_women, num_men, transit_time=0):\n",
    "        self.id_group = id_group\n",
    "        self.num_women = num_women\n",
    "        self.num_men = num_men\n",
    "        self.transit_time = transit_time\n",
    "\n",
    "        self.members = []\n",
    "\n",
    "        global passenger_id\n",
    "\n",
    "        for i in range(self.num_women):\n",
    "            self.members.append(Passenger(\n",
    "                self.id_group,\n",
    "                passenger_id,\n",
    "                'women',\n",
    "                self.transit_time\n",
    "            ))\n",
    "            passenger_id+=1\n",
    "        \n",
    "        for i in range(self.num_men):\n",
    "            self.members.append(Passenger(\n",
    "                self.id_group,\n",
    "                passenger_id,\n",
    "                'men',\n",
    "                self.transit_time\n",
    "            ))\n",
    "            passenger_id+=1\n",
    "        \n",
    "        return\n",
    "    \n",
    "    \n",
    "        "
   ]
  },
  {
   "cell_type": "code",
   "execution_count": 6,
   "metadata": {},
   "outputs": [],
   "source": [
    "def read_and_preprocess(file, date):\n",
    "    df = pd.read_excel(file, date)\n",
    "    \n",
    "    df['TransitTime (min)'] = df['TransitTime'].apply(lambda x: float(str(x).split(':')[0])*60+float(str(x).split(':')[1]))\n",
    "\n",
    "    df[['Femmes', 'Hommes', 'Enfants', 'WCHR', 'WCHB']] = df[['Femmes', 'Hommes', 'Enfants', 'WCHR', 'WCHB']].fillna(0)\n",
    "\n",
    "    return df\n",
    "\n",
    "def get_list_passengers(df):\n",
    "    list_groups = {}\n",
    "\n",
    "    for idx, row in df.iterrows():\n",
    "\n",
    "        list_groups[int(idx)] = Group(\n",
    "            id_group=int(idx),\n",
    "            num_women=int(row['Femmes']),\n",
    "            num_men=int(row['Hommes']),\n",
    "            transit_time=row['TransitTime (min)']\n",
    "        )\n",
    "    \n",
    "    return list_groups"
   ]
  },
  {
   "cell_type": "code",
   "execution_count": 9,
   "metadata": {},
   "outputs": [],
   "source": [
    "df = read_and_preprocess('DataSeating - V3.xlsx', '21Oct')"
   ]
  },
  {
   "cell_type": "code",
   "execution_count": 10,
   "metadata": {},
   "outputs": [
    {
     "data": {
      "text/html": [
       "<div>\n",
       "<style scoped>\n",
       "    .dataframe tbody tr th:only-of-type {\n",
       "        vertical-align: middle;\n",
       "    }\n",
       "\n",
       "    .dataframe tbody tr th {\n",
       "        vertical-align: top;\n",
       "    }\n",
       "\n",
       "    .dataframe thead th {\n",
       "        text-align: right;\n",
       "    }\n",
       "</style>\n",
       "<table border=\"1\" class=\"dataframe\">\n",
       "  <thead>\n",
       "    <tr style=\"text-align: right;\">\n",
       "      <th></th>\n",
       "      <th>Numéro du groupe</th>\n",
       "      <th>Femmes</th>\n",
       "      <th>Hommes</th>\n",
       "      <th>Enfants</th>\n",
       "      <th>WCHR</th>\n",
       "      <th>WCHB</th>\n",
       "      <th>Classe</th>\n",
       "      <th>TransitTime</th>\n",
       "      <th>TransitTime (min)</th>\n",
       "    </tr>\n",
       "  </thead>\n",
       "  <tbody>\n",
       "    <tr>\n",
       "      <th>0</th>\n",
       "      <td>1</td>\n",
       "      <td>0.0</td>\n",
       "      <td>1.0</td>\n",
       "      <td>0.0</td>\n",
       "      <td>0.0</td>\n",
       "      <td>0.0</td>\n",
       "      <td>Y</td>\n",
       "      <td>01:15:00</td>\n",
       "      <td>75.0</td>\n",
       "    </tr>\n",
       "    <tr>\n",
       "      <th>1</th>\n",
       "      <td>2</td>\n",
       "      <td>1.0</td>\n",
       "      <td>0.0</td>\n",
       "      <td>0.0</td>\n",
       "      <td>0.0</td>\n",
       "      <td>0.0</td>\n",
       "      <td>Y</td>\n",
       "      <td>00:00:00</td>\n",
       "      <td>0.0</td>\n",
       "    </tr>\n",
       "    <tr>\n",
       "      <th>2</th>\n",
       "      <td>3</td>\n",
       "      <td>0.0</td>\n",
       "      <td>1.0</td>\n",
       "      <td>0.0</td>\n",
       "      <td>0.0</td>\n",
       "      <td>0.0</td>\n",
       "      <td>Y</td>\n",
       "      <td>00:00:00</td>\n",
       "      <td>0.0</td>\n",
       "    </tr>\n",
       "    <tr>\n",
       "      <th>3</th>\n",
       "      <td>4</td>\n",
       "      <td>1.0</td>\n",
       "      <td>0.0</td>\n",
       "      <td>0.0</td>\n",
       "      <td>0.0</td>\n",
       "      <td>0.0</td>\n",
       "      <td>Y</td>\n",
       "      <td>00:00:00</td>\n",
       "      <td>0.0</td>\n",
       "    </tr>\n",
       "    <tr>\n",
       "      <th>4</th>\n",
       "      <td>5</td>\n",
       "      <td>0.0</td>\n",
       "      <td>2.0</td>\n",
       "      <td>0.0</td>\n",
       "      <td>0.0</td>\n",
       "      <td>0.0</td>\n",
       "      <td>Y</td>\n",
       "      <td>05:25:00</td>\n",
       "      <td>325.0</td>\n",
       "    </tr>\n",
       "  </tbody>\n",
       "</table>\n",
       "</div>"
      ],
      "text/plain": [
       "   Numéro du groupe  Femmes  Hommes  Enfants  WCHR  WCHB Classe TransitTime  \\\n",
       "0                 1     0.0     1.0      0.0   0.0   0.0      Y    01:15:00   \n",
       "1                 2     1.0     0.0      0.0   0.0   0.0      Y    00:00:00   \n",
       "2                 3     0.0     1.0      0.0   0.0   0.0      Y    00:00:00   \n",
       "3                 4     1.0     0.0      0.0   0.0   0.0      Y    00:00:00   \n",
       "4                 5     0.0     2.0      0.0   0.0   0.0      Y    05:25:00   \n",
       "\n",
       "   TransitTime (min)  \n",
       "0               75.0  \n",
       "1                0.0  \n",
       "2                0.0  \n",
       "3                0.0  \n",
       "4              325.0  "
      ]
     },
     "execution_count": 10,
     "metadata": {},
     "output_type": "execute_result"
    }
   ],
   "source": [
    "df.head()"
   ]
  },
  {
   "cell_type": "code",
   "execution_count": 11,
   "metadata": {},
   "outputs": [],
   "source": [
    "groups_list = get_list_passengers(df)"
   ]
  },
  {
   "cell_type": "code",
   "execution_count": 12,
   "metadata": {},
   "outputs": [],
   "source": [
    "passengers_list = list()\n",
    "\n",
    "for g in groups_list.keys():\n",
    "    passengers_list += groups_list[g].members"
   ]
  },
  {
   "cell_type": "code",
   "execution_count": 13,
   "metadata": {},
   "outputs": [
    {
     "data": {
      "text/plain": [
       "151"
      ]
     },
     "execution_count": 13,
     "metadata": {},
     "output_type": "execute_result"
    }
   ],
   "source": [
    "len(passengers_list)"
   ]
  },
  {
   "cell_type": "code",
   "execution_count": 14,
   "metadata": {},
   "outputs": [
    {
     "data": {
      "text/plain": [
       "[<__main__.Passenger at 0x7fa8bc5066b0>,\n",
       " <__main__.Passenger at 0x7fa8bc505de0>,\n",
       " <__main__.Passenger at 0x7fa8bc5062c0>,\n",
       " <__main__.Passenger at 0x7fa8bc5050c0>,\n",
       " <__main__.Passenger at 0x7fa8bc506170>,\n",
       " <__main__.Passenger at 0x7fa8bc505ea0>,\n",
       " <__main__.Passenger at 0x7fa8bc506290>,\n",
       " <__main__.Passenger at 0x7fa8bc505cc0>,\n",
       " <__main__.Passenger at 0x7fa8bc506740>,\n",
       " <__main__.Passenger at 0x7fa8bc5065c0>,\n",
       " <__main__.Passenger at 0x7fa8bc5048b0>,\n",
       " <__main__.Passenger at 0x7fa8bc505c60>,\n",
       " <__main__.Passenger at 0x7fa8bc504be0>,\n",
       " <__main__.Passenger at 0x7fa8bc506080>,\n",
       " <__main__.Passenger at 0x7fa8bc506410>,\n",
       " <__main__.Passenger at 0x7fa8bc506680>,\n",
       " <__main__.Passenger at 0x7fa8bc505150>,\n",
       " <__main__.Passenger at 0x7fa8bc505120>,\n",
       " <__main__.Passenger at 0x7fa8bc5051e0>,\n",
       " <__main__.Passenger at 0x7fa8bc505300>,\n",
       " <__main__.Passenger at 0x7fa8bc5053f0>,\n",
       " <__main__.Passenger at 0x7fa8bc5053c0>,\n",
       " <__main__.Passenger at 0x7fa8bc504100>,\n",
       " <__main__.Passenger at 0x7fa8bc5062f0>,\n",
       " <__main__.Passenger at 0x7fa8bc507040>,\n",
       " <__main__.Passenger at 0x7fa8bc506500>,\n",
       " <__main__.Passenger at 0x7fa8bc507100>,\n",
       " <__main__.Passenger at 0x7fa8bc506f20>,\n",
       " <__main__.Passenger at 0x7fa8bc507220>,\n",
       " <__main__.Passenger at 0x7fa8bc506fe0>,\n",
       " <__main__.Passenger at 0x7fa8bc5072e0>,\n",
       " <__main__.Passenger at 0x7fa8bc507160>,\n",
       " <__main__.Passenger at 0x7fa8bc507400>,\n",
       " <__main__.Passenger at 0x7fa8bc507340>,\n",
       " <__main__.Passenger at 0x7fa8bc507190>,\n",
       " <__main__.Passenger at 0x7fa8bc507490>,\n",
       " <__main__.Passenger at 0x7fa8bc507370>,\n",
       " <__main__.Passenger at 0x7fa8bc507550>,\n",
       " <__main__.Passenger at 0x7fa8bc507670>,\n",
       " <__main__.Passenger at 0x7fa8bc507790>,\n",
       " <__main__.Passenger at 0x7fa8bc507850>,\n",
       " <__main__.Passenger at 0x7fa8bc5079a0>,\n",
       " <__main__.Passenger at 0x7fa8bc507910>,\n",
       " <__main__.Passenger at 0x7fa8bc507a00>,\n",
       " <__main__.Passenger at 0x7fa8bc507af0>,\n",
       " <__main__.Passenger at 0x7fa8bc507a30>,\n",
       " <__main__.Passenger at 0x7fa8bc507bb0>,\n",
       " <__main__.Passenger at 0x7fa8bc507c70>,\n",
       " <__main__.Passenger at 0x7fa8bc507d90>,\n",
       " <__main__.Passenger at 0x7fa8bc507e20>,\n",
       " <__main__.Passenger at 0x7fa8bc507e50>,\n",
       " <__main__.Passenger at 0x7fa8bc507ee0>,\n",
       " <__main__.Passenger at 0x7fa8bc507f10>,\n",
       " <__main__.Passenger at 0x7fa8bc584040>,\n",
       " <__main__.Passenger at 0x7fa8bc584190>,\n",
       " <__main__.Passenger at 0x7fa8bc584250>,\n",
       " <__main__.Passenger at 0x7fa8bc5842e0>,\n",
       " <__main__.Passenger at 0x7fa8bc584310>,\n",
       " <__main__.Passenger at 0x7fa8bc5843d0>,\n",
       " <__main__.Passenger at 0x7fa8bc5844f0>,\n",
       " <__main__.Passenger at 0x7fa8bc5845b0>,\n",
       " <__main__.Passenger at 0x7fa8bc584670>,\n",
       " <__main__.Passenger at 0x7fa8bc584730>,\n",
       " <__main__.Passenger at 0x7fa8bc5847c0>,\n",
       " <__main__.Passenger at 0x7fa8bc5847f0>,\n",
       " <__main__.Passenger at 0x7fa8bc5848b0>,\n",
       " <__main__.Passenger at 0x7fa8bc5849d0>,\n",
       " <__main__.Passenger at 0x7fa8bc584a60>,\n",
       " <__main__.Passenger at 0x7fa8bc584b50>,\n",
       " <__main__.Passenger at 0x7fa8bc584a90>,\n",
       " <__main__.Passenger at 0x7fa8bc584ca0>,\n",
       " <__main__.Passenger at 0x7fa8bc584cd0>,\n",
       " <__main__.Passenger at 0x7fa8bc584c10>,\n",
       " <__main__.Passenger at 0x7fa8bc584e80>,\n",
       " <__main__.Passenger at 0x7fa8bc584d90>,\n",
       " <__main__.Passenger at 0x7fa8bc584eb0>,\n",
       " <__main__.Passenger at 0x7fa8bc585030>,\n",
       " <__main__.Passenger at 0x7fa8bc584f70>,\n",
       " <__main__.Passenger at 0x7fa8bc5850f0>,\n",
       " <__main__.Passenger at 0x7fa8bc5851e0>,\n",
       " <__main__.Passenger at 0x7fa8bc585210>,\n",
       " <__main__.Passenger at 0x7fa8bc585330>,\n",
       " <__main__.Passenger at 0x7fa8bc585420>,\n",
       " <__main__.Passenger at 0x7fa8bc585450>,\n",
       " <__main__.Passenger at 0x7fa8bc5854e0>,\n",
       " <__main__.Passenger at 0x7fa8bc585600>,\n",
       " <__main__.Passenger at 0x7fa8bc585630>,\n",
       " <__main__.Passenger at 0x7fa8bc5856f0>,\n",
       " <__main__.Passenger at 0x7fa8bc5857e0>,\n",
       " <__main__.Passenger at 0x7fa8bc585810>,\n",
       " <__main__.Passenger at 0x7fa8bc5858d0>,\n",
       " <__main__.Passenger at 0x7fa8bc5859c0>,\n",
       " <__main__.Passenger at 0x7fa8bc585b40>,\n",
       " <__main__.Passenger at 0x7fa8bc5859f0>,\n",
       " <__main__.Passenger at 0x7fa8bc585a80>,\n",
       " <__main__.Passenger at 0x7fa8bc585c30>,\n",
       " <__main__.Passenger at 0x7fa8bc585ab0>,\n",
       " <__main__.Passenger at 0x7fa8bc585cf0>,\n",
       " <__main__.Passenger at 0x7fa8bc585db0>,\n",
       " <__main__.Passenger at 0x7fa8bc585ea0>,\n",
       " <__main__.Passenger at 0x7fa8bc585f60>,\n",
       " <__main__.Passenger at 0x7fa8bc585f90>,\n",
       " <__main__.Passenger at 0x7fa8bc585ed0>,\n",
       " <__main__.Passenger at 0x7fa8bc586170>,\n",
       " <__main__.Passenger at 0x7fa8bc586230>,\n",
       " <__main__.Passenger at 0x7fa8bc5862f0>,\n",
       " <__main__.Passenger at 0x7fa8bc586500>,\n",
       " <__main__.Passenger at 0x7fa8bc586440>,\n",
       " <__main__.Passenger at 0x7fa8bc586470>,\n",
       " <__main__.Passenger at 0x7fa8bc5865c0>,\n",
       " <__main__.Passenger at 0x7fa8bc5866e0>,\n",
       " <__main__.Passenger at 0x7fa8bc5867a0>,\n",
       " <__main__.Passenger at 0x7fa8bc586860>,\n",
       " <__main__.Passenger at 0x7fa8bc586920>,\n",
       " <__main__.Passenger at 0x7fa8bc5869e0>,\n",
       " <__main__.Passenger at 0x7fa8bc586aa0>,\n",
       " <__main__.Passenger at 0x7fa8bc586b60>,\n",
       " <__main__.Passenger at 0x7fa8bc586c20>,\n",
       " <__main__.Passenger at 0x7fa8bc586cb0>,\n",
       " <__main__.Passenger at 0x7fa8bc586ce0>,\n",
       " <__main__.Passenger at 0x7fa8bc586d70>,\n",
       " <__main__.Passenger at 0x7fa8bc586e90>,\n",
       " <__main__.Passenger at 0x7fa8bc586da0>,\n",
       " <__main__.Passenger at 0x7fa8bc587040>,\n",
       " <__main__.Passenger at 0x7fa8bc586f80>,\n",
       " <__main__.Passenger at 0x7fa8bc587100>,\n",
       " <__main__.Passenger at 0x7fa8bc5871c0>,\n",
       " <__main__.Passenger at 0x7fa8bc5872e0>,\n",
       " <__main__.Passenger at 0x7fa8bc587370>,\n",
       " <__main__.Passenger at 0x7fa8bc5873a0>,\n",
       " <__main__.Passenger at 0x7fa8bc587430>,\n",
       " <__main__.Passenger at 0x7fa8bc587580>,\n",
       " <__main__.Passenger at 0x7fa8bc587640>,\n",
       " <__main__.Passenger at 0x7fa8bc587700>,\n",
       " <__main__.Passenger at 0x7fa8bc587790>,\n",
       " <__main__.Passenger at 0x7fa8bc587850>,\n",
       " <__main__.Passenger at 0x7fa8bc587940>,\n",
       " <__main__.Passenger at 0x7fa8bc587880>,\n",
       " <__main__.Passenger at 0x7fa8bc587a00>,\n",
       " <__main__.Passenger at 0x7fa8bc587a90>,\n",
       " <__main__.Passenger at 0x7fa8bc587ac0>,\n",
       " <__main__.Passenger at 0x7fa8bc587bb0>,\n",
       " <__main__.Passenger at 0x7fa8bc587d00>,\n",
       " <__main__.Passenger at 0x7fa8bc587be0>,\n",
       " <__main__.Passenger at 0x7fa8bc587e50>,\n",
       " <__main__.Passenger at 0x7fa8bc587fd0>,\n",
       " <__main__.Passenger at 0x7fa8bc587dc0>,\n",
       " <__main__.Passenger at 0x7fa8bc5c0130>,\n",
       " <__main__.Passenger at 0x7fa8bc5c0100>,\n",
       " <__main__.Passenger at 0x7fa8bc5c0250>,\n",
       " <__main__.Passenger at 0x7fa8bc5c01c0>]"
      ]
     },
     "execution_count": 14,
     "metadata": {},
     "output_type": "execute_result"
    }
   ],
   "source": [
    "passengers_list"
   ]
  },
  {
   "cell_type": "markdown",
   "metadata": {},
   "source": [
    "# Creating the Airplane"
   ]
  },
  {
   "cell_type": "code",
   "execution_count": 15,
   "metadata": {},
   "outputs": [
    {
     "name": "stdout",
     "output_type": "stream",
     "text": [
      "{'xmax': 28, 'ymax': 7, 'corridor_y': 4, 'seats': {'real': [[1, 1], [1, 2], [1, 3], [1, 5], [1, 6], [1, 7], [2, 1], [2, 2], [2, 3], [2, 5], [2, 6], [2, 7], [3, 1], [3, 2], [3, 3], [3, 5], [3, 6], [3, 7], [4, 1], [4, 2], [4, 3], [4, 5], [4, 6], [4, 7], [5, 1], [5, 2], [5, 3], [5, 5], [5, 6], [5, 7], [6, 1], [6, 2], [6, 3], [6, 5], [6, 6], [6, 7], [7, 1], [7, 2], [7, 3], [7, 5], [7, 6], [7, 7], [8, 1], [8, 2], [8, 3], [8, 5], [8, 6], [8, 7], [9, 1], [9, 2], [9, 3], [9, 5], [9, 6], [9, 7], [10, 1], [10, 2], [10, 3], [10, 5], [10, 6], [10, 7], [11, 1], [11, 2], [11, 3], [11, 5], [11, 6], [11, 7], [12, 1], [12, 2], [12, 3], [12, 5], [12, 6], [12, 7], [13, 1], [13, 2], [13, 3], [13, 5], [13, 6], [13, 7], [14, 1], [14, 2], [14, 3], [14, 5], [14, 6], [14, 7], [15, 1], [15, 2], [15, 3], [15, 5], [15, 6], [15, 7], [16, 1], [16, 2], [16, 3], [16, 5], [16, 6], [16, 7], [17, 1], [17, 2], [17, 3], [17, 5], [17, 6], [17, 7], [18, 1], [18, 2], [18, 3], [18, 5], [18, 6], [18, 7], [19, 1], [19, 2], [19, 3], [19, 5], [19, 6], [19, 7], [20, 1], [20, 2], [20, 3], [20, 5], [20, 6], [20, 7], [21, 1], [21, 2], [21, 3], [21, 5], [21, 6], [21, 7], [22, 1], [22, 2], [22, 3], [22, 5], [22, 6], [22, 7], [23, 1], [23, 2], [23, 3], [23, 5], [23, 6], [23, 7], [24, 1], [24, 2], [24, 3], [24, 5], [24, 6], [24, 7], [25, 1], [25, 2], [25, 3], [25, 5], [25, 6], [25, 7], [26, 1], [26, 2], [26, 3], [26, 5], [26, 6], [26, 7], [27, 1], [27, 2], [27, 3], [27, 5], [27, 6], [27, 7], [28, 1], [28, 2], [28, 3], [28, 5], [28, 6], [28, 7]], 'corridor': [[1, 4], [2, 4], [3, 4], [4, 4], [5, 4], [6, 4], [7, 4], [8, 4], [9, 4], [10, 4], [11, 4], [12, 4], [13, 4], [14, 4], [15, 4], [16, 4], [17, 4], [18, 4], [19, 4], [20, 4], [21, 4], [22, 4], [23, 4], [24, 4], [25, 4], [26, 4], [27, 4], [28, 4]]}}\n"
     ]
    }
   ],
   "source": [
    "airplane = dict()\n",
    "\n",
    "airplane['xmax'] = 28\n",
    "airplane['ymax'] = 7\n",
    "airplane['corridor_y'] = 4\n",
    "\n",
    "airplane['seats'] = dict()\n",
    "\n",
    "# considering there is only business class\n",
    "real_seats = []\n",
    "corridor_seats = []\n",
    "for x in range(1, airplane['xmax']+1):\n",
    "    for y  in range(1, airplane['ymax']+1):\n",
    "        if y != airplane['corridor_y']:\n",
    "            real_seats.append([x, y])\n",
    "        else:\n",
    "            corridor_seats.append([x, y])\n",
    "\n",
    "airplane['seats']['real'] = real_seats\n",
    "airplane['seats']['corridor'] = corridor_seats\n",
    "\n",
    "del real_seats, corridor_seats\n",
    "\n",
    "print(airplane)\n",
    "\n"
   ]
  },
  {
   "cell_type": "markdown",
   "metadata": {},
   "source": [
    "# Defining the model"
   ]
  },
  {
   "cell_type": "code",
   "execution_count": 16,
   "metadata": {},
   "outputs": [],
   "source": [
    "from gurobipy import *"
   ]
  },
  {
   "cell_type": "code",
   "execution_count": 17,
   "metadata": {},
   "outputs": [
    {
     "name": "stdout",
     "output_type": "stream",
     "text": [
      "Restricted license - for non-production use only - expires 2023-10-25\n"
     ]
    }
   ],
   "source": [
    "m = Model('First Try')"
   ]
  },
  {
   "cell_type": "markdown",
   "metadata": {},
   "source": [
    "## Decision Variables"
   ]
  },
  {
   "cell_type": "code",
   "execution_count": 18,
   "metadata": {},
   "outputs": [],
   "source": [
    "A = dict()\n",
    "\n",
    "# todo - add zeroes on the border of the plane using extreme As defined as zeroes by constraints\n",
    "for x in range(airplane['xmax']+1):\n",
    "    for y in range(airplane['ymax']+1):\n",
    "        for p in passengers_list:\n",
    "            A[x, y, p.passenger_id] = m.addVar(vtype=GRB.BINARY, name=\"A_{},{},{}\".format(x,y,p.passenger_id))"
   ]
  },
  {
   "cell_type": "markdown",
   "metadata": {},
   "source": [
    "## Constraints"
   ]
  },
  {
   "cell_type": "markdown",
   "metadata": {},
   "source": [
    "### Barycenter"
   ]
  },
  {
   "cell_type": "code",
   "execution_count": 19,
   "metadata": {},
   "outputs": [],
   "source": [
    "# Barycenter: x \\in [13,17], y \\in [3,5]\n",
    "total_weight_passengers = sum(p.weight for p in passengers_list)\n",
    "\n",
    "barycenter = dict()\n",
    "\n",
    "barycenter['xinf'] = m.addConstr(quicksum(p.weight*x*A[x, y, p.passenger_id] for x,y in airplane['seats']['real'] for p in passengers_list) >= 13*total_weight_passengers, name=\"barycenter_x_inf\")\n",
    "barycenter['xsup'] = m.addConstr(quicksum(p.weight*x*A[x, y, p.passenger_id] for x,y in airplane['seats']['real'] for p in passengers_list) <= 17*total_weight_passengers, name=\"barycenter_x_sup\")\n",
    "barycenter['yinf'] = m.addConstr(quicksum(p.weight*x*A[x, y, p.passenger_id] for x,y in airplane['seats']['real'] for p in passengers_list) >= 3*total_weight_passengers, name=\"barycenter_y_inf\")\n",
    "barycenter['ysup'] = m.addConstr(quicksum(p.weight*x*A[x, y, p.passenger_id] for x,y in airplane['seats']['real'] for p in passengers_list) <= 5*total_weight_passengers, name=\"barycenter_y_sup\")\n"
   ]
  },
  {
   "cell_type": "markdown",
   "metadata": {},
   "source": [
    "### No passenger in the corridor"
   ]
  },
  {
   "cell_type": "code",
   "execution_count": 20,
   "metadata": {},
   "outputs": [],
   "source": [
    "corridor = m.addConstr(quicksum(A[x,y,p.passenger_id] for x, y in airplane['seats']['corridor'] for p in passengers_list) == 0)"
   ]
  },
  {
   "cell_type": "markdown",
   "metadata": {},
   "source": [
    "### At most one passenger per seat"
   ]
  },
  {
   "cell_type": "code",
   "execution_count": 21,
   "metadata": {},
   "outputs": [],
   "source": [
    "passenger_seat_constr = dict()\n",
    "\n",
    "for x, y in airplane['seats']['real']:\n",
    "    passenger_seat_constr[(x,y)] = m.addConstr(quicksum(A[x, y, p.passenger_id] for p in passengers_list) <= 1, name='1 passenger at most at seat {},{}'.format(x,y))\n"
   ]
  },
  {
   "cell_type": "markdown",
   "metadata": {},
   "source": [
    "### One seat per passenger"
   ]
  },
  {
   "cell_type": "code",
   "execution_count": 22,
   "metadata": {},
   "outputs": [],
   "source": [
    "seat_passenger_constr = dict()\n",
    "\n",
    "for p in passengers_list:\n",
    "    seat_passenger_constr[p] = m.addConstr(quicksum(A[x, y, p.passenger_id] for x, y in airplane['seats']['real']) == 1, name='1 seat per passenger {}'.format(p.passenger_id))"
   ]
  },
  {
   "cell_type": "markdown",
   "metadata": {},
   "source": [
    "## Satisfaction variables"
   ]
  },
  {
   "cell_type": "code",
   "execution_count": 35,
   "metadata": {},
   "outputs": [],
   "source": [
    "S = dict()\n",
    "is_pair_y_the_same_group = dict() \n",
    "is_pair_x_the_same_group = dict()\n",
    "aux1 = dict()\n",
    "aux2 = dict()\n",
    "c1 = dict()\n",
    "c2 = dict()\n",
    "\n",
    "for x, y in airplane['seats']['real']:\n",
    "    S[(x,y)] = m.addVar(vtype=GRB.CONTINUOUS, name=\"satisfaction_{}_{}\".format(x, y))\n",
    "    aux1 [(x,y)] = m.addVar(vtype=GRB.BINARY, name=\"aux1_{}_{}\".format(x, y))\n",
    "    aux2 [(x,y)] = m.addVar(vtype=GRB.BINARY, name=\"aux2_{}_{}\".format(x, y))\n",
    "    c1 [(x,y)] = m.addVar(vtype=GRB.BINARY, name=\"c1_{}_{}\".format(x, y))\n",
    "    c2 [(x,y)] = m.addVar(vtype=GRB.BINARY, name=\"c2_{}_{}\".format(x, y))\n",
    "    \n",
    "    if y != 7:\n",
    "        is_pair_y_the_same_group [(x,y)] = m.addVar(vtype=GRB.BINARY, name=\"y_pair_{}_{}\".format(x, y))\n",
    "    \n",
    "    if x != 28:\n",
    "        is_pair_x_the_same_group [(x,y)] = m.addVar(vtype=GRB.BINARY, name=\"x_pair_{}_{}\".format(x, y))\n"
   ]
  },
  {
   "cell_type": "markdown",
   "metadata": {},
   "source": [
    "## Objective function"
   ]
  },
  {
   "cell_type": "code",
   "execution_count": 36,
   "metadata": {},
   "outputs": [],
   "source": [
    "m.setObjective(quicksum(S[(x,y)] for x, y in airplane['seats']['real']), GRB.MAXIMIZE)"
   ]
  },
  {
   "cell_type": "markdown",
   "metadata": {},
   "source": [
    "### constraints for the satisfaction levels"
   ]
  },
  {
   "cell_type": "code",
   "execution_count": 39,
   "metadata": {},
   "outputs": [],
   "source": [
    "s_passenger_constr = dict()\n",
    "is_pair_y1_the_same_group_constr = dict()\n",
    "is_pair_x1_the_same_group_constr = dict()\n",
    "is_pair_y2_the_same_group_constr = dict()\n",
    "is_pair_x2_the_same_group_constr = dict()\n",
    "is_pair_y3_the_same_group_constr = dict()\n",
    "is_pair_x3_the_same_group_constr = dict()\n",
    "is_pair_y4_the_same_group_constr = dict()\n",
    "is_pair_x4_the_same_group_constr = dict()\n",
    "is_pair_y5_the_same_group_constr = dict()\n",
    "is_pair_x5_the_same_group_constr = dict()\n",
    "is_pair_y6_the_same_group_constr = dict()\n",
    "is_pair_x6_the_same_group_constr = dict()\n",
    "is_pair_y7_the_same_group_constr = dict()\n",
    "is_pair_x7_the_same_group_constr = dict()\n",
    "\n",
    "cy1_constr = dict()\n",
    "cy2_constr = dict()\n",
    "cx1_constr = dict()\n",
    "cx2_constr = dict()\n",
    "\n",
    "\n",
    "for x, y in airplane['seats']['real']:\n",
    "    if y != 7 and x != 28 and y != 3:\n",
    "        \n",
    "        # if (x,y) and (x,y+1) are from the same group and are occupied, then is_pair_y_the_same_group(x,y) = 1 and is 0 otherwise\n",
    "        is_pair_y1_the_same_group_constr[(x,y)] = m.addConstr(quicksum(A[x, y, p.passenger_id] * p.group_index for p in passengers_list) - quicksum(A[x, y+1, p.passenger_id] * p.group_index for p in passengers_list) + 0.5 <= 100 * aux1[(x,y)], name='pair y definition1 {}_{}'.format(x, y))\n",
    "        is_pair_y2_the_same_group_constr[(x,y)] = m.addConstr(quicksum(A[x, y+1, p.passenger_id] * p.group_index for p in passengers_list) - quicksum(A[x, y, p.passenger_id] * p.group_index for p in passengers_list) - 0.5 <= 100 *(1 - aux1[(x,y)]), name='pair y definition2 {}_{}'.format(x, y))\n",
    "        is_pair_y4_the_same_group_constr[(x,y)] = m.addConstr(quicksum(A[x, y+1, p.passenger_id] * p.group_index for p in passengers_list) - quicksum(A[x, y, p.passenger_id] * p.group_index for p in passengers_list) + 0.5 <= 100 * aux2[(x,y)], name='pair y definition4 {}_{}'.format(x, y))\n",
    "        is_pair_y5_the_same_group_constr[(x,y)] = m.addConstr(quicksum(A[x, y, p.passenger_id] * p.group_index for p in passengers_list) - quicksum(A[x, y+1, p.passenger_id] * p.group_index for p in passengers_list) - 0.5 <= 100 *(1 - aux2[(x,y)]), name='pair y definition5 {}_{}'.format(x, y))\n",
    "        is_pair_y6_the_same_group_constr[(x,y)] = m.addConstr(aux1[(x,y)] + aux2[(x,y)] - 1 <= is_pair_y_the_same_group[(x,y)] + 100*(1 - c1[(x,y)]), name='pair y definition6 {}_{}'.format(x, y))\n",
    "        is_pair_y7_the_same_group_constr[(x,y)] = m.addConstr(c1[(x,y)] >= is_pair_y_the_same_group[(x,y)], name='pair y definition7 {}_{}'.format(x, y))\n",
    "        cy1_constr[(x,y)] = m.addConstr(100*quicksum(A[x, y, p.passenger_id] * p.group_index for p in passengers_list) + 100*quicksum(A[x, y+1, p.passenger_id] * p.group_index for p in passengers_list)  >= c1[(x,y)], name='cy definition1 {}_{}'.format(x, y))\n",
    "        cy2_constr[(x,y)] = m.addConstr(quicksum(A[x, y, p.passenger_id] * p.group_index for p in passengers_list) + quicksum(A[x, y+1, p.passenger_id] * p.group_index for p in passengers_list)  <= 100*c1[(x,y)], name='cy definition2 {}_{}'.format(x, y))\n",
    "\n",
    "        # if (x,y) and (x+1,y) are from the same group and are occupied, then is_pair_x_the_same_group(x,y) = 1 and is 0 otherwise\n",
    "        is_pair_x1_the_same_group_constr[(x,y)] = m.addConstr(quicksum(A[x, y, p.passenger_id] * p.group_index for p in passengers_list) - quicksum(A[x+1, y, p.passenger_id] * p.group_index for p in passengers_list) + 0.5 <= 100 * aux1[(x,y)], name='pair x definition1 {}_{}'.format(x, y))\n",
    "        is_pair_x2_the_same_group_constr[(x,y)] = m.addConstr(quicksum(A[x+1, y, p.passenger_id] * p.group_index for p in passengers_list) - quicksum(A[x, y, p.passenger_id] * p.group_index for p in passengers_list) - 0.5 <= 100 *(1 - aux1[(x,y)]), name='pair x definition2 {}_{}'.format(x, y))\n",
    "        is_pair_x4_the_same_group_constr[(x,y)] = m.addConstr(quicksum(A[x+1, y, p.passenger_id] * p.group_index for p in passengers_list) - quicksum(A[x, y, p.passenger_id] * p.group_index for p in passengers_list) + 0.5 <= 100 * aux2[(x,y)], name='pair x definition4 {}_{}'.format(x, y))\n",
    "        is_pair_x5_the_same_group_constr[(x,y)] = m.addConstr(quicksum(A[x, y, p.passenger_id] * p.group_index for p in passengers_list) - quicksum(A[x+1, y, p.passenger_id] * p.group_index for p in passengers_list) - 0.5 <= 100 *(1 - aux2[(x,y)]), name='pair x definition5 {}_{}'.format(x, y))\n",
    "        is_pair_y6_the_same_group_constr[(x,y)] = m.addConstr(aux1[(x,y)] + aux2[(x,y)] - 1 <= is_pair_x_the_same_group[(x,y)] + 100*(1 - c2[(x,y)]), name='pair x definition6 {}_{}'.format(x, y))\n",
    "        is_pair_x7_the_same_group_constr[(x,y)] = m.addConstr(c2[(x,y)] >= is_pair_x_the_same_group[(x,y)], name='pair x definition7 {}_{}'.format(x, y))\n",
    "        cx1_constr[(x,y)] = m.addConstr(100*quicksum(A[x, y, p.passenger_id] * p.group_index for p in passengers_list) + 100*quicksum(A[x+1, y, p.passenger_id] * p.group_index for p in passengers_list)  >= c2[(x,y)], name='cx definition1 {}_{}'.format(x, y))\n",
    "        cx2_constr[(x,y)] = m.addConstr(quicksum(A[x, y, p.passenger_id] * p.group_index for p in passengers_list) + quicksum(A[x+1, y, p.passenger_id] * p.group_index for p in passengers_list)  <= 100*c2[(x,y)], name='cx definition2 {}_{}'.format(x, y))\n",
    "\n",
    "\n",
    "    elif y == 3 and x != 28:\n",
    "        # if (x,y) and (x,y+1) are separated by a corridor\n",
    "        is_pair_y1_the_same_group_constr[(x,y)] = m.addConstr(quicksum(A[x, y, p.passenger_id] * p.group_index for p in passengers_list) - quicksum(A[x, y+2, p.passenger_id] * p.group_index for p in passengers_list) + 0.5 <= 100 * aux1[(x,y)], name='pair y definition1 {}_{}'.format(x, y))\n",
    "        is_pair_y2_the_same_group_constr[(x,y)] = m.addConstr(quicksum(A[x, y+2, p.passenger_id] * p.group_index for p in passengers_list) - quicksum(A[x, y, p.passenger_id] * p.group_index for p in passengers_list) - 0.5 <= 100 *(1 - aux1[(x,y)]), name='pair y definition2 {}_{}'.format(x, y))\n",
    "        is_pair_y4_the_same_group_constr[(x,y)] = m.addConstr(quicksum(A[x, y+2, p.passenger_id] * p.group_index for p in passengers_list) - quicksum(A[x, y, p.passenger_id] * p.group_index for p in passengers_list) + 0.5 <= 100 * aux2[(x,y)], name='pair y definition4 {}_{}'.format(x, y))\n",
    "        is_pair_y5_the_same_group_constr[(x,y)] = m.addConstr(quicksum(A[x, y, p.passenger_id] * p.group_index for p in passengers_list) - quicksum(A[x, y+2, p.passenger_id] * p.group_index for p in passengers_list) - 0.5 <= 100 *(1 - aux2[(x,y)]), name='pair y definition5 {}_{}'.format(x, y))\n",
    "        is_pair_y6_the_same_group_constr[(x,y)] = m.addConstr(aux1[(x,y)] + aux2[(x,y)] - 1 <= is_pair_y_the_same_group[(x,y)] + 100*(1 - c1[(x,y)]), name='pair y definition6 {}_{}'.format(x, y))\n",
    "        is_pair_y7_the_same_group_constr[(x,y)] = m.addConstr(c1[(x,y)] >= is_pair_y_the_same_group[(x,y)], name='pair y definition7 {}_{}'.format(x, y))\n",
    "        cy1_constr[(x,y)] = m.addConstr(100*quicksum(A[x, y, p.passenger_id] * p.group_index for p in passengers_list) + 100*quicksum(A[x, y+2, p.passenger_id] * p.group_index for p in passengers_list)  >= c1[(x,y)], name='cy definition1 {}_{}'.format(x, y))\n",
    "        cy2_constr[(x,y)] = m.addConstr(quicksum(A[x, y, p.passenger_id] * p.group_index for p in passengers_list) + quicksum(A[x, y+2, p.passenger_id] * p.group_index for p in passengers_list)  <= 100*c1[(x,y)], name='cy definition2 {}_{}'.format(x, y))\n",
    "\n",
    "        \n",
    "for x, y in airplane['seats']['real']:\n",
    "    if y == 1:\n",
    "        if x == 1:\n",
    "            s_passenger_constr[(x,y)] = m.addConstr(S[(x,y)] == is_pair_y_the_same_group[(x,y)] + 0.5*(is_pair_x_the_same_group[(x,y)]))\n",
    "        else:\n",
    "            if x == 28:\n",
    "                s_passenger_constr[(x,y)] = m.addConstr(S[(x,y)] == is_pair_y_the_same_group[(x,y)] + 0.5*(is_pair_x_the_same_group[(x-1,y)]))\n",
    "            else:\n",
    "                s_passenger_constr[(x,y)] = m.addConstr(S[(x,y)] == is_pair_y_the_same_group[(x,y)] + 0.5*(is_pair_x_the_same_group[(x,y)] + is_pair_x_the_same_group[(x-1,y)]))\n",
    "    else:\n",
    "        if x == 1:\n",
    "            if y == 7:\n",
    "                s_passenger_constr[(x,y)] = m.addConstr(S[(x,y)] == is_pair_y_the_same_group[(x,y-1)] + 0.5*(is_pair_x_the_same_group[(x,y)] ))\n",
    "            else:\n",
    "                if y == 5:\n",
    "                    s_passenger_constr[(x,y)] = m.addConstr(S[(x,y)] == is_pair_y_the_same_group[(x,y)] + is_pair_y_the_same_group[(x,y-2)] + 0.5*(is_pair_x_the_same_group[(x,y)] ))\n",
    "                else:\n",
    "                    s_passenger_constr[(x,y)] = m.addConstr(S[(x,y)] == is_pair_y_the_same_group[(x,y)] + is_pair_y_the_same_group[(x,y-1)] + 0.5*(is_pair_x_the_same_group[(x,y)] ))\n",
    "        else:\n",
    "            if y == 7:\n",
    "                if x == 28:\n",
    "                    s_passenger_constr[(x,y)] = m.addConstr(S[(x,y)] == is_pair_y_the_same_group[(x,y-1)] + 0.5*( is_pair_x_the_same_group[(x-1,y)]))\n",
    "                else:\n",
    "                    s_passenger_constr[(x,y)] = m.addConstr(S[(x,y)] == is_pair_y_the_same_group[(x,y-1)] + 0.5*(is_pair_x_the_same_group[(x,y)] + is_pair_x_the_same_group[(x-1,y)]))\n",
    "            else:\n",
    "                if x == 28:\n",
    "                    if y == 5:\n",
    "                        s_passenger_constr[(x,y)] = m.addConstr(S[(x,y)] == is_pair_y_the_same_group[(x,y)] + is_pair_y_the_same_group[(x,y-2)] + 0.5*( is_pair_x_the_same_group[(x-1,y)]))\n",
    "                    else:\n",
    "                        s_passenger_constr[(x,y)] = m.addConstr(S[(x,y)] == is_pair_y_the_same_group[(x,y)] + is_pair_y_the_same_group[(x,y-1)] + 0.5*( is_pair_x_the_same_group[(x-1,y)]))\n",
    "                else:\n",
    "                    if y == 5:\n",
    "                        s_passenger_constr[(x,y)] = m.addConstr(S[(x,y)] == is_pair_y_the_same_group[(x,y)] + is_pair_y_the_same_group[(x,y-2)] + 0.5*(is_pair_x_the_same_group[(x,y)] + is_pair_x_the_same_group[(x-1,y)]))\n",
    "                    else:\n",
    "                        s_passenger_constr[(x,y)] = m.addConstr(S[(x,y)] == is_pair_y_the_same_group[(x,y)] + is_pair_y_the_same_group[(x,y-1)] + 0.5*(is_pair_x_the_same_group[(x,y)] + is_pair_x_the_same_group[(x-1,y)]))\n",
    "        \n",
    "    "
   ]
  },
  {
   "cell_type": "code",
   "execution_count": 40,
   "metadata": {},
   "outputs": [
    {
     "name": "stdout",
     "output_type": "stream",
     "text": [
      "Gurobi Optimizer version 9.5.1 build v9.5.1rc2 (linux64)\n",
      "Thread count: 4 physical cores, 8 logical processors, using up to 8 threads\n"
     ]
    },
    {
     "ename": "GurobiError",
     "evalue": "Model too large for size-limited license; visit https://www.gurobi.com/free-trial for a full license",
     "output_type": "error",
     "traceback": [
      "\u001b[0;31m---------------------------------------------------------------------------\u001b[0m",
      "\u001b[0;31mGurobiError\u001b[0m                               Traceback (most recent call last)",
      "\u001b[1;32m/home/lucasgb/ST7-AirFrance/Passenger.ipynb Cell 34'\u001b[0m in \u001b[0;36m<module>\u001b[0;34m\u001b[0m\n\u001b[1;32m      <a href='vscode-notebook-cell:/home/lucasgb/ST7-AirFrance/Passenger.ipynb#ch0000033?line=0'>1</a>\u001b[0m m\u001b[39m.\u001b[39mupdate()\n\u001b[0;32m----> <a href='vscode-notebook-cell:/home/lucasgb/ST7-AirFrance/Passenger.ipynb#ch0000033?line=2'>3</a>\u001b[0m m\u001b[39m.\u001b[39;49moptimize()\n",
      "File \u001b[0;32msrc/gurobipy/model.pxi:864\u001b[0m, in \u001b[0;36mgurobipy.Model.optimize\u001b[0;34m()\u001b[0m\n",
      "\u001b[0;31mGurobiError\u001b[0m: Model too large for size-limited license; visit https://www.gurobi.com/free-trial for a full license"
     ]
    }
   ],
   "source": [
    "m.update()\n",
    "\n",
    "m.optimize()"
   ]
  }
 ],
 "metadata": {
  "interpreter": {
   "hash": "aee8b7b246df8f9039afb4144a1f6fd8d2ca17a180786b69acc140d282b71a49"
  },
  "kernelspec": {
   "display_name": "Python 3.9.1 64-bit",
   "language": "python",
   "name": "python3"
  },
  "language_info": {
   "codemirror_mode": {
    "name": "ipython",
    "version": 3
   },
   "file_extension": ".py",
   "mimetype": "text/x-python",
   "name": "python",
   "nbconvert_exporter": "python",
   "pygments_lexer": "ipython3",
   "version": "3.10.2"
  },
  "orig_nbformat": 4
 },
 "nbformat": 4,
 "nbformat_minor": 2
}
