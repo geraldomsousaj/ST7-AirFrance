{
 "cells": [
  {
   "cell_type": "markdown",
   "metadata": {},
   "source": [
    "# Data Preparation\n",
    "\n",
    "We need to represent and access info for all passengers: gender(weight), which group they belong to, if they have to transfert. We created a class Passenger to represent this data. We also created a class Group to reprenent each group (numer of women, men, transit time).\n",
    "\n"
   ]
  },
  {
   "cell_type": "code",
   "execution_count": 31,
   "metadata": {},
   "outputs": [],
   "source": [
    "class Passenger:\n",
    "    def __init__(self, group_index, passenger_id, description, transit_time=0):\n",
    "        \"\"\"\n",
    "            group_index : \n",
    "            passenger_id : \n",
    "            description : men, women, wheelchair, child\n",
    "            business_economic : class (Business, Economic)\n",
    "            transit_time : optional parameter (inf if there is not transit time)\n",
    "        \n",
    "        \"\"\"\n",
    "        self.group_index = group_index\n",
    "        self.passenger_id = passenger_id\n",
    "        self.description = description\n",
    "        # self.business_economic = business_economic\n",
    "        self.transit_time = transit_time\n",
    "        self.weight()\n",
    "    \n",
    "    def weight(self):\n",
    "        if self.description == 'women':\n",
    "            self.weight = 70\n",
    "        elif self.description == 'men':\n",
    "            self.weight = 85\n",
    "        elif self.description == 'child':\n",
    "            self.weight = 35\n",
    "        else: \n",
    "            self.weight = 70 # need to check this value"
   ]
  },
  {
   "cell_type": "code",
   "execution_count": 32,
   "metadata": {},
   "outputs": [],
   "source": [
    "import pandas as pd\n",
    "import numpy as np\n",
    "import os"
   ]
  },
  {
   "cell_type": "code",
   "execution_count": 33,
   "metadata": {},
   "outputs": [],
   "source": [
    "passenger_id = 0"
   ]
  },
  {
   "cell_type": "code",
   "execution_count": 34,
   "metadata": {},
   "outputs": [],
   "source": [
    "class Group:\n",
    "\n",
    "    def __init__(self, id_group, num_women, num_men, transit_time=0):\n",
    "        self.id_group = id_group\n",
    "        self.num_women = num_women\n",
    "        self.num_men = num_men\n",
    "        self.transit_time = transit_time\n",
    "\n",
    "        self.members = []\n",
    "\n",
    "        global passenger_id\n",
    "\n",
    "        for i in range(self.num_women):\n",
    "            self.members.append(Passenger(\n",
    "                self.id_group,\n",
    "                passenger_id,\n",
    "                'women',\n",
    "                self.transit_time\n",
    "            ))\n",
    "            passenger_id+=1\n",
    "        \n",
    "        for i in range(self.num_men):\n",
    "            self.members.append(Passenger(\n",
    "                self.id_group,\n",
    "                passenger_id,\n",
    "                'men',\n",
    "                self.transit_time\n",
    "            ))\n",
    "            passenger_id+=1\n",
    "        \n",
    "        return\n",
    "    \n",
    "    \n",
    "        "
   ]
  },
  {
   "cell_type": "code",
   "execution_count": 35,
   "metadata": {},
   "outputs": [],
   "source": [
    "def read_and_preprocess(file, date):\n",
    "    df = pd.read_excel(file, date)\n",
    "    \n",
    "    df['TransitTime (min)'] = df['TransitTime'].apply(lambda x: float(str(x).split(':')[0])*60+float(str(x).split(':')[1]))\n",
    "\n",
    "    df[['Femmes', 'Hommes', 'Enfants', 'WCHR', 'WCHB']] = df[['Femmes', 'Hommes', 'Enfants', 'WCHR', 'WCHB']].fillna(0)\n",
    "\n",
    "    return df\n",
    "\n",
    "def get_list_passengers(df):\n",
    "    list_groups = {}\n",
    "\n",
    "    for idx, row in df.iterrows():\n",
    "\n",
    "        list_groups[int(idx)] = Group(\n",
    "            id_group=int(idx),\n",
    "            num_women=int(row['Femmes']),\n",
    "            num_men=int(row['Hommes']),\n",
    "            transit_time=row['TransitTime (min)']\n",
    "        )\n",
    "    \n",
    "    return list_groups"
   ]
  },
  {
   "cell_type": "code",
   "execution_count": 36,
   "metadata": {},
   "outputs": [],
   "source": [
    "df = read_and_preprocess('DataSeating - V3.xlsx', '21Oct')"
   ]
  },
  {
   "cell_type": "code",
   "execution_count": 37,
   "metadata": {},
   "outputs": [
    {
     "data": {
      "text/html": [
       "<div>\n",
       "<style scoped>\n",
       "    .dataframe tbody tr th:only-of-type {\n",
       "        vertical-align: middle;\n",
       "    }\n",
       "\n",
       "    .dataframe tbody tr th {\n",
       "        vertical-align: top;\n",
       "    }\n",
       "\n",
       "    .dataframe thead th {\n",
       "        text-align: right;\n",
       "    }\n",
       "</style>\n",
       "<table border=\"1\" class=\"dataframe\">\n",
       "  <thead>\n",
       "    <tr style=\"text-align: right;\">\n",
       "      <th></th>\n",
       "      <th>Numéro du groupe</th>\n",
       "      <th>Femmes</th>\n",
       "      <th>Hommes</th>\n",
       "      <th>Enfants</th>\n",
       "      <th>WCHR</th>\n",
       "      <th>WCHB</th>\n",
       "      <th>Classe</th>\n",
       "      <th>TransitTime</th>\n",
       "      <th>TransitTime (min)</th>\n",
       "    </tr>\n",
       "  </thead>\n",
       "  <tbody>\n",
       "    <tr>\n",
       "      <th>0</th>\n",
       "      <td>1</td>\n",
       "      <td>0.0</td>\n",
       "      <td>1.0</td>\n",
       "      <td>0.0</td>\n",
       "      <td>0.0</td>\n",
       "      <td>0.0</td>\n",
       "      <td>Y</td>\n",
       "      <td>01:15:00</td>\n",
       "      <td>75.0</td>\n",
       "    </tr>\n",
       "    <tr>\n",
       "      <th>1</th>\n",
       "      <td>2</td>\n",
       "      <td>1.0</td>\n",
       "      <td>0.0</td>\n",
       "      <td>0.0</td>\n",
       "      <td>0.0</td>\n",
       "      <td>0.0</td>\n",
       "      <td>Y</td>\n",
       "      <td>00:00:00</td>\n",
       "      <td>0.0</td>\n",
       "    </tr>\n",
       "    <tr>\n",
       "      <th>2</th>\n",
       "      <td>3</td>\n",
       "      <td>0.0</td>\n",
       "      <td>1.0</td>\n",
       "      <td>0.0</td>\n",
       "      <td>0.0</td>\n",
       "      <td>0.0</td>\n",
       "      <td>Y</td>\n",
       "      <td>00:00:00</td>\n",
       "      <td>0.0</td>\n",
       "    </tr>\n",
       "    <tr>\n",
       "      <th>3</th>\n",
       "      <td>4</td>\n",
       "      <td>1.0</td>\n",
       "      <td>0.0</td>\n",
       "      <td>0.0</td>\n",
       "      <td>0.0</td>\n",
       "      <td>0.0</td>\n",
       "      <td>Y</td>\n",
       "      <td>00:00:00</td>\n",
       "      <td>0.0</td>\n",
       "    </tr>\n",
       "    <tr>\n",
       "      <th>4</th>\n",
       "      <td>5</td>\n",
       "      <td>0.0</td>\n",
       "      <td>2.0</td>\n",
       "      <td>0.0</td>\n",
       "      <td>0.0</td>\n",
       "      <td>0.0</td>\n",
       "      <td>Y</td>\n",
       "      <td>05:25:00</td>\n",
       "      <td>325.0</td>\n",
       "    </tr>\n",
       "  </tbody>\n",
       "</table>\n",
       "</div>"
      ],
      "text/plain": [
       "   Numéro du groupe  Femmes  Hommes  Enfants  WCHR  WCHB Classe TransitTime  \\\n",
       "0                 1     0.0     1.0      0.0   0.0   0.0      Y    01:15:00   \n",
       "1                 2     1.0     0.0      0.0   0.0   0.0      Y    00:00:00   \n",
       "2                 3     0.0     1.0      0.0   0.0   0.0      Y    00:00:00   \n",
       "3                 4     1.0     0.0      0.0   0.0   0.0      Y    00:00:00   \n",
       "4                 5     0.0     2.0      0.0   0.0   0.0      Y    05:25:00   \n",
       "\n",
       "   TransitTime (min)  \n",
       "0               75.0  \n",
       "1                0.0  \n",
       "2                0.0  \n",
       "3                0.0  \n",
       "4              325.0  "
      ]
     },
     "execution_count": 37,
     "metadata": {},
     "output_type": "execute_result"
    }
   ],
   "source": [
    "df.head()"
   ]
  },
  {
   "cell_type": "code",
   "execution_count": 38,
   "metadata": {},
   "outputs": [],
   "source": [
    "groups_list = get_list_passengers(df)"
   ]
  },
  {
   "cell_type": "code",
   "execution_count": 39,
   "metadata": {},
   "outputs": [],
   "source": [
    "passengers_list = list()\n",
    "\n",
    "for g in groups_list.keys():\n",
    "    passengers_list += groups_list[g].members"
   ]
  },
  {
   "cell_type": "code",
   "execution_count": 40,
   "metadata": {},
   "outputs": [
    {
     "data": {
      "text/plain": [
       "151"
      ]
     },
     "execution_count": 40,
     "metadata": {},
     "output_type": "execute_result"
    }
   ],
   "source": [
    "len(passengers_list)"
   ]
  },
  {
   "cell_type": "code",
   "execution_count": 41,
   "metadata": {},
   "outputs": [
    {
     "data": {
      "text/plain": [
       "[<__main__.Passenger at 0x7fce8e6da1d0>,\n",
       " <__main__.Passenger at 0x7fce8e6d9210>,\n",
       " <__main__.Passenger at 0x7fce8e6d9150>,\n",
       " <__main__.Passenger at 0x7fce8e6d8a90>,\n",
       " <__main__.Passenger at 0x7fce8e6da650>,\n",
       " <__main__.Passenger at 0x7fce8e6da860>,\n",
       " <__main__.Passenger at 0x7fce8e6dac80>,\n",
       " <__main__.Passenger at 0x7fce8e6d8ac0>,\n",
       " <__main__.Passenger at 0x7fce8e6d9e70>,\n",
       " <__main__.Passenger at 0x7fce8e6d8670>,\n",
       " <__main__.Passenger at 0x7fce8e6da260>,\n",
       " <__main__.Passenger at 0x7fce8e6d8af0>,\n",
       " <__main__.Passenger at 0x7fce8e6d8640>,\n",
       " <__main__.Passenger at 0x7fce8e6da470>,\n",
       " <__main__.Passenger at 0x7fce8e6d8a60>,\n",
       " <__main__.Passenger at 0x7fce8e6dac20>,\n",
       " <__main__.Passenger at 0x7fce8e6d80d0>,\n",
       " <__main__.Passenger at 0x7fce8e6da7d0>,\n",
       " <__main__.Passenger at 0x7fce8e6dabf0>,\n",
       " <__main__.Passenger at 0x7fce8e6d9f90>,\n",
       " <__main__.Passenger at 0x7fce8e6dbc10>,\n",
       " <__main__.Passenger at 0x7fce8e6d90f0>,\n",
       " <__main__.Passenger at 0x7fce8e6d8e50>,\n",
       " <__main__.Passenger at 0x7fce8e6d80a0>,\n",
       " <__main__.Passenger at 0x7fce8e6cc3a0>,\n",
       " <__main__.Passenger at 0x7fce8e6d89d0>,\n",
       " <__main__.Passenger at 0x7fce8e6cc4c0>,\n",
       " <__main__.Passenger at 0x7fce8e6cca60>,\n",
       " <__main__.Passenger at 0x7fce8e6ccac0>,\n",
       " <__main__.Passenger at 0x7fce8e6cc430>,\n",
       " <__main__.Passenger at 0x7fce8e6cc850>,\n",
       " <__main__.Passenger at 0x7fce8e6cc6d0>,\n",
       " <__main__.Passenger at 0x7fce8e6ceb00>,\n",
       " <__main__.Passenger at 0x7fce8e6ccb80>,\n",
       " <__main__.Passenger at 0x7fce8e6ccc40>,\n",
       " <__main__.Passenger at 0x7fce8e6cd390>,\n",
       " <__main__.Passenger at 0x7fce8e6cc790>,\n",
       " <__main__.Passenger at 0x7fce8e6ce710>,\n",
       " <__main__.Passenger at 0x7fce8e6cdae0>,\n",
       " <__main__.Passenger at 0x7fce8e6cdea0>,\n",
       " <__main__.Passenger at 0x7fce8e6cfd00>,\n",
       " <__main__.Passenger at 0x7fce8e6ccd30>,\n",
       " <__main__.Passenger at 0x7fce8e6ccaf0>,\n",
       " <__main__.Passenger at 0x7fce8e6ccd00>,\n",
       " <__main__.Passenger at 0x7fce8e6cd720>,\n",
       " <__main__.Passenger at 0x7fce8e6cd180>,\n",
       " <__main__.Passenger at 0x7fce8e6cc1f0>,\n",
       " <__main__.Passenger at 0x7fce8e6cc6a0>,\n",
       " <__main__.Passenger at 0x7fce8e6cd750>,\n",
       " <__main__.Passenger at 0x7fce8e6cdab0>,\n",
       " <__main__.Passenger at 0x7fce8e6ccfd0>,\n",
       " <__main__.Passenger at 0x7fce8e6cd780>,\n",
       " <__main__.Passenger at 0x7fce8e6cd000>,\n",
       " <__main__.Passenger at 0x7fce8e6ccdf0>,\n",
       " <__main__.Passenger at 0x7fce8e6881c0>,\n",
       " <__main__.Passenger at 0x7fce8e689570>,\n",
       " <__main__.Passenger at 0x7fce8e688b20>,\n",
       " <__main__.Passenger at 0x7fce8e688a90>,\n",
       " <__main__.Passenger at 0x7fce8e688d30>,\n",
       " <__main__.Passenger at 0x7fce8e689180>,\n",
       " <__main__.Passenger at 0x7fce8e688310>,\n",
       " <__main__.Passenger at 0x7fce8e68a230>,\n",
       " <__main__.Passenger at 0x7fce8e688fa0>,\n",
       " <__main__.Passenger at 0x7fce8e688850>,\n",
       " <__main__.Passenger at 0x7fce8e688400>,\n",
       " <__main__.Passenger at 0x7fce8e688b50>,\n",
       " <__main__.Passenger at 0x7fce8e689210>,\n",
       " <__main__.Passenger at 0x7fce8e688ee0>,\n",
       " <__main__.Passenger at 0x7fce8e688eb0>,\n",
       " <__main__.Passenger at 0x7fce8e688be0>,\n",
       " <__main__.Passenger at 0x7fce8e68abf0>,\n",
       " <__main__.Passenger at 0x7fce8e68aaa0>,\n",
       " <__main__.Passenger at 0x7fce8e689030>,\n",
       " <__main__.Passenger at 0x7fce8e6892a0>,\n",
       " <__main__.Passenger at 0x7fce8e688910>,\n",
       " <__main__.Passenger at 0x7fce8e689750>,\n",
       " <__main__.Passenger at 0x7fce8e6895a0>,\n",
       " <__main__.Passenger at 0x7fce8e689b10>,\n",
       " <__main__.Passenger at 0x7fce8e689630>,\n",
       " <__main__.Passenger at 0x7fce8e689990>,\n",
       " <__main__.Passenger at 0x7fce8e689870>,\n",
       " <__main__.Passenger at 0x7fce8e689960>,\n",
       " <__main__.Passenger at 0x7fce8e6898d0>,\n",
       " <__main__.Passenger at 0x7fce8e689a50>,\n",
       " <__main__.Passenger at 0x7fce8e689900>,\n",
       " <__main__.Passenger at 0x7fce8e6889d0>,\n",
       " <__main__.Passenger at 0x7fce8e6888e0>,\n",
       " <__main__.Passenger at 0x7fce8e689c60>,\n",
       " <__main__.Passenger at 0x7fce8e689c90>,\n",
       " <__main__.Passenger at 0x7fce8e6892d0>,\n",
       " <__main__.Passenger at 0x7fce8e6889a0>,\n",
       " <__main__.Passenger at 0x7fce8e68ab00>,\n",
       " <__main__.Passenger at 0x7fce8e55d5a0>,\n",
       " <__main__.Passenger at 0x7fce8e688fd0>,\n",
       " <__main__.Passenger at 0x7fce8e55d630>,\n",
       " <__main__.Passenger at 0x7fce8e55d570>,\n",
       " <__main__.Passenger at 0x7fce8e55d660>,\n",
       " <__main__.Passenger at 0x7fce8e55d420>,\n",
       " <__main__.Passenger at 0x7fce8e55d690>,\n",
       " <__main__.Passenger at 0x7fce8e55ff10>,\n",
       " <__main__.Passenger at 0x7fce8e6d8e20>,\n",
       " <__main__.Passenger at 0x7fce8e6d9270>,\n",
       " <__main__.Passenger at 0x7fce8e562740>,\n",
       " <__main__.Passenger at 0x7fce8e562530>,\n",
       " <__main__.Passenger at 0x7fce8e562680>,\n",
       " <__main__.Passenger at 0x7fce8e563f10>,\n",
       " <__main__.Passenger at 0x7fce8e563ac0>,\n",
       " <__main__.Passenger at 0x7fce8e5602e0>,\n",
       " <__main__.Passenger at 0x7fce8e560280>,\n",
       " <__main__.Passenger at 0x7fce8e560460>,\n",
       " <__main__.Passenger at 0x7fce8e560070>,\n",
       " <__main__.Passenger at 0x7fce8e560160>,\n",
       " <__main__.Passenger at 0x7fce8e5638e0>,\n",
       " <__main__.Passenger at 0x7fce8e5607c0>,\n",
       " <__main__.Passenger at 0x7fce8e560970>,\n",
       " <__main__.Passenger at 0x7fce8e560610>,\n",
       " <__main__.Passenger at 0x7fce8e561c90>,\n",
       " <__main__.Passenger at 0x7fce8e561c00>,\n",
       " <__main__.Passenger at 0x7fce8e561480>,\n",
       " <__main__.Passenger at 0x7fce8e561300>,\n",
       " <__main__.Passenger at 0x7fce8e5613c0>,\n",
       " <__main__.Passenger at 0x7fce8e561510>,\n",
       " <__main__.Passenger at 0x7fce8e561360>,\n",
       " <__main__.Passenger at 0x7fce8e5616f0>,\n",
       " <__main__.Passenger at 0x7fce8e561450>,\n",
       " <__main__.Passenger at 0x7fce8e561180>,\n",
       " <__main__.Passenger at 0x7fce8e5624d0>,\n",
       " <__main__.Passenger at 0x7fce8e5613f0>,\n",
       " <__main__.Passenger at 0x7fce8e5615a0>,\n",
       " <__main__.Passenger at 0x7fce8e560e50>,\n",
       " <__main__.Passenger at 0x7fce8e560ca0>,\n",
       " <__main__.Passenger at 0x7fce8e561630>,\n",
       " <__main__.Passenger at 0x7fce8e561ed0>,\n",
       " <__main__.Passenger at 0x7fce8e562260>,\n",
       " <__main__.Passenger at 0x7fce8e561f00>,\n",
       " <__main__.Passenger at 0x7fce8e561f30>,\n",
       " <__main__.Passenger at 0x7fce8e5620b0>,\n",
       " <__main__.Passenger at 0x7fce8e561d50>,\n",
       " <__main__.Passenger at 0x7fce8e561bd0>,\n",
       " <__main__.Passenger at 0x7fce8e561b10>,\n",
       " <__main__.Passenger at 0x7fce8e561c60>,\n",
       " <__main__.Passenger at 0x7fce8e561d80>,\n",
       " <__main__.Passenger at 0x7fce8e561990>,\n",
       " <__main__.Passenger at 0x7fce8e5618a0>,\n",
       " <__main__.Passenger at 0x7fce8e562860>,\n",
       " <__main__.Passenger at 0x7fce8e562920>,\n",
       " <__main__.Passenger at 0x7fce8e561780>,\n",
       " <__main__.Passenger at 0x7fce8e6a37c0>,\n",
       " <__main__.Passenger at 0x7fce8e5617b0>,\n",
       " <__main__.Passenger at 0x7fce8e54c340>,\n",
       " <__main__.Passenger at 0x7fce8e54c430>]"
      ]
     },
     "execution_count": 41,
     "metadata": {},
     "output_type": "execute_result"
    }
   ],
   "source": [
    "passengers_list"
   ]
  },
  {
   "cell_type": "markdown",
   "metadata": {},
   "source": [
    "# Creating the Airplane"
   ]
  },
  {
   "cell_type": "code",
   "execution_count": 42,
   "metadata": {},
   "outputs": [
    {
     "name": "stdout",
     "output_type": "stream",
     "text": [
      "{'xmax': 28, 'ymax': 7, 'corridor_y': 4, 'max_transition_row': 13, 'seats': {'real': [[1, 1], [1, 2], [1, 3], [1, 5], [1, 6], [1, 7], [2, 1], [2, 2], [2, 3], [2, 5], [2, 6], [2, 7], [3, 1], [3, 2], [3, 3], [3, 5], [3, 6], [3, 7], [4, 1], [4, 2], [4, 3], [4, 5], [4, 6], [4, 7], [5, 1], [5, 2], [5, 3], [5, 5], [5, 6], [5, 7], [6, 1], [6, 2], [6, 3], [6, 5], [6, 6], [6, 7], [7, 1], [7, 2], [7, 3], [7, 5], [7, 6], [7, 7], [8, 1], [8, 2], [8, 3], [8, 5], [8, 6], [8, 7], [9, 1], [9, 2], [9, 3], [9, 5], [9, 6], [9, 7], [10, 1], [10, 2], [10, 3], [10, 5], [10, 6], [10, 7], [11, 1], [11, 2], [11, 3], [11, 5], [11, 6], [11, 7], [12, 1], [12, 2], [12, 3], [12, 5], [12, 6], [12, 7], [13, 1], [13, 2], [13, 3], [13, 5], [13, 6], [13, 7], [14, 1], [14, 2], [14, 3], [14, 5], [14, 6], [14, 7], [15, 1], [15, 2], [15, 3], [15, 5], [15, 6], [15, 7], [16, 1], [16, 2], [16, 3], [16, 5], [16, 6], [16, 7], [17, 1], [17, 2], [17, 3], [17, 5], [17, 6], [17, 7], [18, 1], [18, 2], [18, 3], [18, 5], [18, 6], [18, 7], [19, 1], [19, 2], [19, 3], [19, 5], [19, 6], [19, 7], [20, 1], [20, 2], [20, 3], [20, 5], [20, 6], [20, 7], [21, 1], [21, 2], [21, 3], [21, 5], [21, 6], [21, 7], [22, 1], [22, 2], [22, 3], [22, 5], [22, 6], [22, 7], [23, 1], [23, 2], [23, 3], [23, 5], [23, 6], [23, 7], [24, 1], [24, 2], [24, 3], [24, 5], [24, 6], [24, 7], [25, 1], [25, 2], [25, 3], [25, 5], [25, 6], [25, 7], [26, 1], [26, 2], [26, 3], [26, 5], [26, 6], [26, 7], [27, 1], [27, 2], [27, 3], [27, 5], [27, 6], [27, 7], [28, 1], [28, 2], [28, 3], [28, 5], [28, 6], [28, 7]], 'corridor': [[1, 4], [2, 4], [3, 4], [4, 4], [5, 4], [6, 4], [7, 4], [8, 4], [9, 4], [10, 4], [11, 4], [12, 4], [13, 4], [14, 4], [15, 4], [16, 4], [17, 4], [18, 4], [19, 4], [20, 4], [21, 4], [22, 4], [23, 4], [24, 4], [25, 4], [26, 4], [27, 4], [28, 4]], 'transition_possible_seats': [[1, 1], [1, 2], [1, 3], [1, 5], [1, 6], [1, 7], [2, 1], [2, 2], [2, 3], [2, 5], [2, 6], [2, 7], [3, 1], [3, 2], [3, 3], [3, 5], [3, 6], [3, 7], [4, 1], [4, 2], [4, 3], [4, 5], [4, 6], [4, 7], [5, 1], [5, 2], [5, 3], [5, 5], [5, 6], [5, 7], [6, 1], [6, 2], [6, 3], [6, 5], [6, 6], [6, 7], [7, 1], [7, 2], [7, 3], [7, 5], [7, 6], [7, 7], [8, 1], [8, 2], [8, 3], [8, 5], [8, 6], [8, 7], [9, 1], [9, 2], [9, 3], [9, 5], [9, 6], [9, 7], [10, 1], [10, 2], [10, 3], [10, 5], [10, 6], [10, 7], [11, 1], [11, 2], [11, 3], [11, 5], [11, 6], [11, 7], [12, 1], [12, 2], [12, 3], [12, 5], [12, 6], [12, 7], [13, 1], [13, 2], [13, 3], [13, 5], [13, 6], [13, 7]]}}\n"
     ]
    }
   ],
   "source": [
    "airplane = dict()\n",
    "\n",
    "airplane['xmax'] = 28\n",
    "airplane['ymax'] = 7\n",
    "airplane['corridor_y'] = 4\n",
    "airplane['max_transition_row'] = 13\n",
    "\n",
    "airplane['seats'] = dict()\n",
    "\n",
    "# considering there is only business class\n",
    "real_seats = []\n",
    "corridor_seats = []\n",
    "transition_seats = []\n",
    "\n",
    "for x in range(1, airplane['xmax']+1):\n",
    "    for y  in range(1, airplane['ymax']+1):\n",
    "        if y != airplane['corridor_y']:\n",
    "            real_seats.append([x, y])\n",
    "        if y == airplane['corridor_y']:\n",
    "            corridor_seats.append([x, y])\n",
    "        if x <= airplane['max_transition_row'] and y != airplane['corridor_y']:\n",
    "            transition_seats.append([x, y])\n",
    "\n",
    "airplane['seats']['real'] = real_seats\n",
    "airplane['seats']['corridor'] = corridor_seats\n",
    "airplane['seats']['transition_possible_seats'] = transition_seats\n",
    "\n",
    "del real_seats, corridor_seats, transition_seats\n",
    "\n",
    "print(airplane)\n",
    "\n"
   ]
  },
  {
   "cell_type": "markdown",
   "metadata": {},
   "source": [
    "# Defining the model"
   ]
  },
  {
   "cell_type": "code",
   "execution_count": 43,
   "metadata": {},
   "outputs": [],
   "source": [
    "from gurobipy import *"
   ]
  },
  {
   "cell_type": "code",
   "execution_count": 44,
   "metadata": {},
   "outputs": [
    {
     "name": "stdout",
     "output_type": "stream",
     "text": [
      "Discarded solution information\n",
      "Set parameter DualReductions to value 0\n"
     ]
    }
   ],
   "source": [
    "m = Model('First Try')\n",
    "m.reset(0)\n",
    "m.setParam(\"DualReductions\", 0)"
   ]
  },
  {
   "cell_type": "markdown",
   "metadata": {},
   "source": [
    "## Decision Variables\n",
    "The main decision variable here is the allocation A : binary variable that says for each passenger where he is located : \n",
    "\n",
    "A[x, y, p.passenger_id]\n",
    "\n",
    "For instance, if Passenger 1 is at the place : width=2, height=3, then allocation[2,3,1]=1. Else, it equals 0.\n",
    "\n",
    "There are also the satisfaction variables: depends on the number of neighbors of the same group you have [to be completed]"
   ]
  },
  {
   "cell_type": "code",
   "execution_count": 45,
   "metadata": {},
   "outputs": [],
   "source": [
    "A = dict()\n",
    "\n",
    "for x in range(airplane['xmax']+1):\n",
    "    for y in range(airplane['ymax']+1):\n",
    "        for p in passengers_list:\n",
    "            A[x, y, p.passenger_id] = m.addVar(vtype=GRB.BINARY, name=\"A_{},{},{}\".format(x,y,p.passenger_id))"
   ]
  },
  {
   "cell_type": "markdown",
   "metadata": {},
   "source": [
    "## Constraints"
   ]
  },
  {
   "cell_type": "markdown",
   "metadata": {},
   "source": [
    "### Barycenter\n",
    "\n",
    "Separate the X and Y axis. Then separate each axis into 2 constraints: 1 lower constraint, 1 upper constraint, to fit into the defined barycenter area : 13<X<17 and 3<Y<5. To calculate the barycenter, we multipliy for each person its weight by its distance to the center of the airplane, multiplied by the allocation. The sum is then divided by the total weight (of every passengers). \n",
    "\n",
    "$\\sum_{passenger = 1}^{p}[weight * A[x, y, p.passenger_id]*x  /total_{weight} \\leq  1$ for i in range(width) for j in range(height)\n",
    "\n",
    "$\\sum_{passenger = 1}^{p}[weight * A[x, y, p.passenger_id]*x  /total_{weight} \\geq -1$ for i in range(width) for j in range(height)\n",
    "\n",
    "$\\sum_{passenger = 1}^{p}[weight * A[x, y, p.passenger_id]*y  /total_{weight} \\leq 2$ for i in range(width) for j in range(height)\n",
    "\n",
    "$\\sum_{passenger = 1}^{p}[weight * A[x, y, p.passenger_id]*y  /total_{weight} \\geq -2$ for i in range(width) for j in range(height)\n",
    "\n",
    "With x being the distance from the passenger to the center on the X axis and y being the distance from the passenger to the center on the Y axis\n"
   ]
  },
  {
   "cell_type": "code",
   "execution_count": 46,
   "metadata": {},
   "outputs": [],
   "source": [
    "# Barycenter: x \\in [13,17], y \\in [3,5]\n",
    "total_weight_passengers = sum(p.weight for p in passengers_list)\n",
    "\n",
    "barycenter = dict()\n",
    "\n",
    "barycenter['xinf'] = m.addConstr(quicksum(p.weight*x*A[x, y, p.passenger_id] for x,y in airplane['seats']['real'] for p in passengers_list) >= 13*total_weight_passengers, name=\"barycenter_x_inf\")\n",
    "barycenter['xsup'] = m.addConstr(quicksum(p.weight*x*A[x, y, p.passenger_id] for x,y in airplane['seats']['real'] for p in passengers_list) <= 17*total_weight_passengers, name=\"barycenter_x_sup\")\n",
    "barycenter['yinf'] = m.addConstr(quicksum(p.weight*y*A[x, y, p.passenger_id] for x,y in airplane['seats']['real'] for p in passengers_list) >= 3*total_weight_passengers, name=\"barycenter_y_inf\")\n",
    "barycenter['ysup'] = m.addConstr(quicksum(p.weight*y*A[x, y, p.passenger_id] for x,y in airplane['seats']['real'] for p in passengers_list) <= 5*total_weight_passengers, name=\"barycenter_y_sup\")\n"
   ]
  },
  {
   "cell_type": "markdown",
   "metadata": {},
   "source": [
    "### No passenger in the corridor"
   ]
  },
  {
   "cell_type": "code",
   "execution_count": 47,
   "metadata": {},
   "outputs": [],
   "source": [
    "corridor = m.addConstr(quicksum(A[x,y,p.passenger_id] for x, y in airplane['seats']['corridor'] for p in passengers_list) == 0)"
   ]
  },
  {
   "cell_type": "markdown",
   "metadata": {},
   "source": [
    "### At most 1 person per seat constraint: in the plane, there can't be more than 1 person in each seat.\n",
    "\n",
    "$\\sum_{passenger = 1}^{p}A[x, y, p.passenger_id]  \\leq 1 $\n",
    "for i in range(width) for j in range(height)\n",
    "\n",
    "p being the number of passengers"
   ]
  },
  {
   "cell_type": "code",
   "execution_count": 48,
   "metadata": {},
   "outputs": [],
   "source": [
    "passenger_seat_constr = dict()\n",
    "\n",
    "for x, y in airplane['seats']['real']:\n",
    "    passenger_seat_constr[(x,y)] = m.addConstr(quicksum(A[x, y, p.passenger_id] for p in passengers_list) <= 1, name='1 passenger at most at seat {},{}'.format(x,y))\n"
   ]
  },
  {
   "cell_type": "markdown",
   "metadata": {},
   "source": [
    "### One seat per passenger\n",
    "\n",
    "Everyone has 1 and only 1 seat constraint: each passenger has to be seated in only one place.\n",
    "\n",
    "$$\\sum_{i,j = 1}^{w,h}A[x, y, p.passenger_id] =1 $$\n",
    "\n",
    "for p in passengers\n",
    "\n",
    "With w the width (X), h the height (Y)"
   ]
  },
  {
   "cell_type": "code",
   "execution_count": 49,
   "metadata": {},
   "outputs": [],
   "source": [
    "seat_passenger_constr = dict()\n",
    "\n",
    "for x,y in airplane['seats']['real']:\n",
    "    seat_passenger_constr[(x, y)] = m.addConstr(quicksum(A[x, y, p.passenger_id] for p in passengers_list) == 1, name='1 seat per passenger {}'.format(p.passenger_id))"
   ]
  },
  {
   "cell_type": "markdown",
   "metadata": {},
   "source": [
    "### Passengers in transition\n",
    "\n",
    "Constraint of transfert passenger : if a passenger has to transfert, he needs to be in approximately the first third of the plane (X axis). We chose row 13, to be a bit more flexible. No constraint on the Y axis. If there is no transfert, the passenger can be anywhere.\n",
    "\n",
    "\n",
    " For p in passengers,  $$  p.transfert=1 \\rightarrow A[x, y, p.passenger\\_id][x] \\leq 13 \\;\\;\\;\\;  \\;\\;\\;$$\n",
    "\n",
    "This will be implemented with an if condition before the constraint creation."
   ]
  },
  {
   "cell_type": "code",
   "execution_count": 50,
   "metadata": {},
   "outputs": [],
   "source": [
    "# transition_constr = dict()\n",
    "\n",
    "# for p in passengers_list:\n",
    "#     if p.transit_time > 0:\n",
    "#         transition_constr[(p.passenger_id, x, y)] = m.addConstr(quicksum(A[x, y, p.passenger_id] for x, y in airplane['seats']['transition_possible_seats'] for p in passengers_list) == 1, name='passenger {} in transition'.format(p.passenger_id))"
   ]
  },
  {
   "cell_type": "markdown",
   "metadata": {},
   "source": [
    "### Satisfaction variables"
   ]
  },
  {
   "cell_type": "code",
   "execution_count": 51,
   "metadata": {},
   "outputs": [],
   "source": [
    "S = dict()\n",
    "is_pair_y_the_same_group = dict() \n",
    "is_pair_x_the_same_group = dict()\n",
    "aux1 = dict()\n",
    "aux2 = dict()\n",
    "c1 = dict()\n",
    "c2 = dict()\n",
    "\n",
    "for x, y in airplane['seats']['real']:\n",
    "    S[(x,y)] = m.addVar(vtype=GRB.CONTINUOUS, name=\"satisfaction_{}_{}\".format(x, y))\n",
    "    aux1 [(x,y)] = m.addVar(vtype=GRB.BINARY, name=\"aux1_{}_{}\".format(x, y))\n",
    "    aux2 [(x,y)] = m.addVar(vtype=GRB.BINARY, name=\"aux2_{}_{}\".format(x, y))\n",
    "    c1 [(x,y)] = m.addVar(vtype=GRB.BINARY, name=\"c1_{}_{}\".format(x, y))\n",
    "    c2 [(x,y)] = m.addVar(vtype=GRB.BINARY, name=\"c2_{}_{}\".format(x, y))\n",
    "    \n",
    "    if y != 7:\n",
    "        is_pair_y_the_same_group [(x,y)] = m.addVar(vtype=GRB.BINARY, name=\"y_pair_{}_{}\".format(x, y))\n",
    "    \n",
    "    if x != 28:\n",
    "        is_pair_x_the_same_group [(x,y)] = m.addVar(vtype=GRB.BINARY, name=\"x_pair_{}_{}\".format(x, y))"
   ]
  },
  {
   "cell_type": "markdown",
   "metadata": {},
   "source": [
    "### constraints for the satisfaction levels"
   ]
  },
  {
   "cell_type": "code",
   "execution_count": 52,
   "metadata": {},
   "outputs": [],
   "source": [
    "s_passenger_constr = dict()\n",
    "is_pair_y1_the_same_group_constr = dict()\n",
    "is_pair_x1_the_same_group_constr = dict()\n",
    "is_pair_y2_the_same_group_constr = dict()\n",
    "is_pair_x2_the_same_group_constr = dict()\n",
    "is_pair_y3_the_same_group_constr = dict()\n",
    "is_pair_x3_the_same_group_constr = dict()\n",
    "is_pair_y4_the_same_group_constr = dict()\n",
    "is_pair_x4_the_same_group_constr = dict()\n",
    "is_pair_y5_the_same_group_constr = dict()\n",
    "is_pair_x5_the_same_group_constr = dict()\n",
    "is_pair_y6_the_same_group_constr = dict()\n",
    "is_pair_x6_the_same_group_constr = dict()\n",
    "is_pair_y7_the_same_group_constr = dict()\n",
    "is_pair_x7_the_same_group_constr = dict()\n",
    "\n",
    "cy1_constr = dict()\n",
    "cy2_constr = dict()\n",
    "cx1_constr = dict()\n",
    "cx2_constr = dict()\n",
    "\n",
    "\n",
    "for x, y in airplane['seats']['real']:\n",
    "    if y != 7 and x != 28 and y != 3:\n",
    "        \n",
    "        # if (x,y) and (x,y+1) are from the same group and are occupied, then is_pair_y_the_same_group(x,y) = 1 and is 0 otherwise\n",
    "        is_pair_y1_the_same_group_constr[(x,y)] = m.addConstr(quicksum(A[x, y, p.passenger_id] * p.group_index for p in passengers_list) - quicksum(A[x, y+1, p.passenger_id] * p.group_index for p in passengers_list) + 0.5 <= 100 * aux1[(x,y)], name='pair y definition1 {}_{}'.format(x, y))\n",
    "        is_pair_y2_the_same_group_constr[(x,y)] = m.addConstr(quicksum(A[x, y+1, p.passenger_id] * p.group_index for p in passengers_list) - quicksum(A[x, y, p.passenger_id] * p.group_index for p in passengers_list) - 0.5 <= 100 *(1 - aux1[(x,y)]), name='pair y definition2 {}_{}'.format(x, y))\n",
    "        is_pair_y4_the_same_group_constr[(x,y)] = m.addConstr(quicksum(A[x, y+1, p.passenger_id] * p.group_index for p in passengers_list) - quicksum(A[x, y, p.passenger_id] * p.group_index for p in passengers_list) + 0.5 <= 100 * aux2[(x,y)], name='pair y definition4 {}_{}'.format(x, y))\n",
    "        is_pair_y5_the_same_group_constr[(x,y)] = m.addConstr(quicksum(A[x, y, p.passenger_id] * p.group_index for p in passengers_list) - quicksum(A[x, y+1, p.passenger_id] * p.group_index for p in passengers_list) - 0.5 <= 100 *(1 - aux2[(x,y)]), name='pair y definition5 {}_{}'.format(x, y))\n",
    "        is_pair_y6_the_same_group_constr[(x,y)] = m.addConstr(aux1[(x,y)] + aux2[(x,y)] - 1 <= is_pair_y_the_same_group[(x,y)] + 100*(1 - c1[(x,y)]), name='pair y definition6 {}_{}'.format(x, y))\n",
    "        is_pair_y7_the_same_group_constr[(x,y)] = m.addConstr(c1[(x,y)] >= is_pair_y_the_same_group[(x,y)], name='pair y definition7 {}_{}'.format(x, y))\n",
    "        cy1_constr[(x,y)] = m.addConstr(100*quicksum(A[x, y, p.passenger_id] * p.group_index for p in passengers_list) + 100*quicksum(A[x, y+1, p.passenger_id] * p.group_index for p in passengers_list)  >= c1[(x,y)], name='cy definition1 {}_{}'.format(x, y))\n",
    "        cy2_constr[(x,y)] = m.addConstr(quicksum(A[x, y, p.passenger_id] * p.group_index for p in passengers_list) + quicksum(A[x, y+1, p.passenger_id] * p.group_index for p in passengers_list)  <= 100*c1[(x,y)], name='cy definition2 {}_{}'.format(x, y))\n",
    "\n",
    "        # if (x,y) and (x+1,y) are from the same group and are occupied, then is_pair_x_the_same_group(x,y) = 1 and is 0 otherwise\n",
    "        is_pair_x1_the_same_group_constr[(x,y)] = m.addConstr(quicksum(A[x, y, p.passenger_id] * p.group_index for p in passengers_list) - quicksum(A[x+1, y, p.passenger_id] * p.group_index for p in passengers_list) + 0.5 <= 100 * aux1[(x,y)], name='pair x definition1 {}_{}'.format(x, y))\n",
    "        is_pair_x2_the_same_group_constr[(x,y)] = m.addConstr(quicksum(A[x+1, y, p.passenger_id] * p.group_index for p in passengers_list) - quicksum(A[x, y, p.passenger_id] * p.group_index for p in passengers_list) - 0.5 <= 100 *(1 - aux1[(x,y)]), name='pair x definition2 {}_{}'.format(x, y))\n",
    "        is_pair_x4_the_same_group_constr[(x,y)] = m.addConstr(quicksum(A[x+1, y, p.passenger_id] * p.group_index for p in passengers_list) - quicksum(A[x, y, p.passenger_id] * p.group_index for p in passengers_list) + 0.5 <= 100 * aux2[(x,y)], name='pair x definition4 {}_{}'.format(x, y))\n",
    "        is_pair_x5_the_same_group_constr[(x,y)] = m.addConstr(quicksum(A[x, y, p.passenger_id] * p.group_index for p in passengers_list) - quicksum(A[x+1, y, p.passenger_id] * p.group_index for p in passengers_list) - 0.5 <= 100 *(1 - aux2[(x,y)]), name='pair x definition5 {}_{}'.format(x, y))\n",
    "        is_pair_y6_the_same_group_constr[(x,y)] = m.addConstr(aux1[(x,y)] + aux2[(x,y)] - 1 <= is_pair_x_the_same_group[(x,y)] + 100*(1 - c2[(x,y)]), name='pair x definition6 {}_{}'.format(x, y))\n",
    "        is_pair_x7_the_same_group_constr[(x,y)] = m.addConstr(c2[(x,y)] >= is_pair_x_the_same_group[(x,y)], name='pair x definition7 {}_{}'.format(x, y))\n",
    "        cx1_constr[(x,y)] = m.addConstr(100*quicksum(A[x, y, p.passenger_id] * p.group_index for p in passengers_list) + 100*quicksum(A[x+1, y, p.passenger_id] * p.group_index for p in passengers_list)  >= c2[(x,y)], name='cx definition1 {}_{}'.format(x, y))\n",
    "        cx2_constr[(x,y)] = m.addConstr(quicksum(A[x, y, p.passenger_id] * p.group_index for p in passengers_list) + quicksum(A[x+1, y, p.passenger_id] * p.group_index for p in passengers_list)  <= 100*c2[(x,y)], name='cx definition2 {}_{}'.format(x, y))\n",
    "\n",
    "\n",
    "    elif y == 3 and x != 28:\n",
    "        # if (x,y) and (x,y+1) are separated by a corridor\n",
    "        is_pair_y1_the_same_group_constr[(x,y)] = m.addConstr(quicksum(A[x, y, p.passenger_id] * p.group_index for p in passengers_list) - quicksum(A[x, y+2, p.passenger_id] * p.group_index for p in passengers_list) + 0.5 <= 100 * aux1[(x,y)], name='pair y definition1 {}_{}'.format(x, y))\n",
    "        is_pair_y2_the_same_group_constr[(x,y)] = m.addConstr(quicksum(A[x, y+2, p.passenger_id] * p.group_index for p in passengers_list) - quicksum(A[x, y, p.passenger_id] * p.group_index for p in passengers_list) - 0.5 <= 100 *(1 - aux1[(x,y)]), name='pair y definition2 {}_{}'.format(x, y))\n",
    "        is_pair_y4_the_same_group_constr[(x,y)] = m.addConstr(quicksum(A[x, y+2, p.passenger_id] * p.group_index for p in passengers_list) - quicksum(A[x, y, p.passenger_id] * p.group_index for p in passengers_list) + 0.5 <= 100 * aux2[(x,y)], name='pair y definition4 {}_{}'.format(x, y))\n",
    "        is_pair_y5_the_same_group_constr[(x,y)] = m.addConstr(quicksum(A[x, y, p.passenger_id] * p.group_index for p in passengers_list) - quicksum(A[x, y+2, p.passenger_id] * p.group_index for p in passengers_list) - 0.5 <= 100 *(1 - aux2[(x,y)]), name='pair y definition5 {}_{}'.format(x, y))\n",
    "        is_pair_y6_the_same_group_constr[(x,y)] = m.addConstr(aux1[(x,y)] + aux2[(x,y)] - 1 <= is_pair_y_the_same_group[(x,y)] + 100*(1 - c1[(x,y)]), name='pair y definition6 {}_{}'.format(x, y))\n",
    "        is_pair_y7_the_same_group_constr[(x,y)] = m.addConstr(c1[(x,y)] >= is_pair_y_the_same_group[(x,y)], name='pair y definition7 {}_{}'.format(x, y))\n",
    "        cy1_constr[(x,y)] = m.addConstr(100*quicksum(A[x, y, p.passenger_id] * p.group_index for p in passengers_list) + 100*quicksum(A[x, y+2, p.passenger_id] * p.group_index for p in passengers_list)  >= c1[(x,y)], name='cy definition1 {}_{}'.format(x, y))\n",
    "        cy2_constr[(x,y)] = m.addConstr(quicksum(A[x, y, p.passenger_id] * p.group_index for p in passengers_list) + quicksum(A[x, y+2, p.passenger_id] * p.group_index for p in passengers_list)  <= 100*c1[(x,y)], name='cy definition2 {}_{}'.format(x, y))\n",
    "\n",
    "        \n",
    "for x, y in airplane['seats']['real']:\n",
    "    if y == 1:\n",
    "        if x == 1:\n",
    "            s_passenger_constr[(x,y)] = m.addConstr(S[(x,y)] == is_pair_y_the_same_group[(x,y)] + 0.5*(is_pair_x_the_same_group[(x,y)]))\n",
    "        else:\n",
    "            if x == 28:\n",
    "                s_passenger_constr[(x,y)] = m.addConstr(S[(x,y)] == is_pair_y_the_same_group[(x,y)] + 0.5*(is_pair_x_the_same_group[(x-1,y)]))\n",
    "            else:\n",
    "                s_passenger_constr[(x,y)] = m.addConstr(S[(x,y)] == is_pair_y_the_same_group[(x,y)] + 0.5*(is_pair_x_the_same_group[(x,y)] + is_pair_x_the_same_group[(x-1,y)]))\n",
    "    else:\n",
    "        if x == 1:\n",
    "            if y == 7:\n",
    "                s_passenger_constr[(x,y)] = m.addConstr(S[(x,y)] == is_pair_y_the_same_group[(x,y-1)] + 0.5*(is_pair_x_the_same_group[(x,y)] ))\n",
    "            else:\n",
    "                if y == 5:\n",
    "                    s_passenger_constr[(x,y)] = m.addConstr(S[(x,y)] == is_pair_y_the_same_group[(x,y)] + is_pair_y_the_same_group[(x,y-2)] + 0.5*(is_pair_x_the_same_group[(x,y)] ))\n",
    "                else:\n",
    "                    s_passenger_constr[(x,y)] = m.addConstr(S[(x,y)] == is_pair_y_the_same_group[(x,y)] + is_pair_y_the_same_group[(x,y-1)] + 0.5*(is_pair_x_the_same_group[(x,y)] ))\n",
    "        else:\n",
    "            if y == 7:\n",
    "                if x == 28:\n",
    "                    s_passenger_constr[(x,y)] = m.addConstr(S[(x,y)] == is_pair_y_the_same_group[(x,y-1)] + 0.5*( is_pair_x_the_same_group[(x-1,y)]))\n",
    "                else:\n",
    "                    s_passenger_constr[(x,y)] = m.addConstr(S[(x,y)] == is_pair_y_the_same_group[(x,y-1)] + 0.5*(is_pair_x_the_same_group[(x,y)] + is_pair_x_the_same_group[(x-1,y)]))\n",
    "            else:\n",
    "                if x == 28:\n",
    "                    if y == 5:\n",
    "                        s_passenger_constr[(x,y)] = m.addConstr(S[(x,y)] == is_pair_y_the_same_group[(x,y)] + is_pair_y_the_same_group[(x,y-2)] + 0.5*( is_pair_x_the_same_group[(x-1,y)]))\n",
    "                    else:\n",
    "                        s_passenger_constr[(x,y)] = m.addConstr(S[(x,y)] == is_pair_y_the_same_group[(x,y)] + is_pair_y_the_same_group[(x,y-1)] + 0.5*( is_pair_x_the_same_group[(x-1,y)]))\n",
    "                else:\n",
    "                    if y == 5:\n",
    "                        s_passenger_constr[(x,y)] = m.addConstr(S[(x,y)] == is_pair_y_the_same_group[(x,y)] + is_pair_y_the_same_group[(x,y-2)] + 0.5*(is_pair_x_the_same_group[(x,y)] + is_pair_x_the_same_group[(x-1,y)]))\n",
    "                    else:\n",
    "                        s_passenger_constr[(x,y)] = m.addConstr(S[(x,y)] == is_pair_y_the_same_group[(x,y)] + is_pair_y_the_same_group[(x,y-1)] + 0.5*(is_pair_x_the_same_group[(x,y)] + is_pair_x_the_same_group[(x-1,y)]))\n",
    "        \n",
    "    "
   ]
  },
  {
   "cell_type": "markdown",
   "metadata": {},
   "source": [
    "## Objective function"
   ]
  },
  {
   "cell_type": "code",
   "execution_count": 53,
   "metadata": {},
   "outputs": [],
   "source": [
    "m.setObjective(quicksum(S[(x,y)] for x, y in airplane['seats']['real']), GRB.MAXIMIZE)"
   ]
  },
  {
   "cell_type": "markdown",
   "metadata": {},
   "source": [
    "## Optimization"
   ]
  },
  {
   "cell_type": "code",
   "execution_count": 54,
   "metadata": {},
   "outputs": [
    {
     "name": "stdout",
     "output_type": "stream",
     "text": [
      "Gurobi Optimizer version 9.5.0 build v9.5.0rc5 (linux64)\n",
      "Thread count: 4 physical cores, 8 logical processors, using up to 8 threads\n",
      "Optimize a model with 2453 rows, 36174 columns and 597524 nonzeros\n",
      "Model fingerprint: 0xdc027435\n",
      "Variable types: 168 continuous, 36006 integer (36006 binary)\n",
      "Coefficient statistics:\n",
      "  Matrix range     [5e-01, 1e+04]\n",
      "  Objective range  [1e+00, 1e+00]\n",
      "  Bounds range     [1e+00, 1e+00]\n",
      "  RHS range        [5e-01, 2e+05]\n",
      "Found heuristic solution: objective -0.0000000\n",
      "Presolve added 41 rows and 0 columns\n",
      "Presolve removed 0 rows and 6584 columns\n",
      "Presolve time: 0.84s\n",
      "Presolved: 2494 rows, 29590 columns, 254332 nonzeros\n",
      "Variable types: 0 continuous, 29590 integer (29210 binary)\n",
      "Found heuristic solution: objective 442.0000000\n",
      "\n",
      "Explored 0 nodes (0 simplex iterations) in 0.97 seconds (1.49 work units)\n",
      "Thread count was 8 (of 8 available processors)\n",
      "\n",
      "Solution count 2: 442 -0 \n",
      "\n",
      "Optimal solution found (tolerance 1.00e-04)\n",
      "Best objective 4.420000000000e+02, best bound 4.420000000000e+02, gap 0.0000%\n"
     ]
    }
   ],
   "source": [
    "m.update()\n",
    "\n",
    "m.optimize()"
   ]
  }
 ],
 "metadata": {
  "interpreter": {
   "hash": "aee8b7b246df8f9039afb4144a1f6fd8d2ca17a180786b69acc140d282b71a49"
  },
  "kernelspec": {
   "display_name": "Python 3.9.1 64-bit",
   "language": "python",
   "name": "python3"
  },
  "language_info": {
   "codemirror_mode": {
    "name": "ipython",
    "version": 3
   },
   "file_extension": ".py",
   "mimetype": "text/x-python",
   "name": "python",
   "nbconvert_exporter": "python",
   "pygments_lexer": "ipython3",
   "version": "3.10.2"
  },
  "orig_nbformat": 4
 },
 "nbformat": 4,
 "nbformat_minor": 2
}
