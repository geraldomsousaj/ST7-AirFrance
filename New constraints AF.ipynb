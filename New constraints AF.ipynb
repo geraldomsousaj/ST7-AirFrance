{
 "cells": [
  {
   "cell_type": "markdown",
   "id": "f6f1bb28",
   "metadata": {},
   "source": [
    "## Children\n",
    "- Every child must be seated next to an adult (no aisle between them) \n",
    "\n",
    "if A(i,j)=child then A(i,j+1) or 1(i,j-1)=adult\n",
    "- No child near the emergency exits : rows 12, 11 \n",
    "\n",
    "\n",
    "A(12,j)=adult\n",
    "\n",
    "\n",
    "A(11,j)=adult\n",
    "\n",
    "\n",
    "for j=1...6\n",
    "\n",
    "\n",
    "\n",
    "## Wheelchair\n",
    "- 1 wheelchair passenger takes a square of 4 seats next to the aisle\n",
    "\n",
    "if A(i,j)=wheelchair then A(i,j+1)=A(i+1,j)=A(i+1,j+1)=0\n",
    "\n",
    "## Stretchers\n",
    "- 1 stretcher takes 4 rows of 3 seats\n",
    "\n",
    "if A(i,j)=stretcher then A(i+1,j+k)=A(i+2,j+k)=A(i-1,j+k)=0 for k=-1...1\n",
    "+add constraints on the borders\n",
    "## Business\n",
    "- A business passenger is seated in the front of the plane and has no one next to him\n",
    "similar of time transit constraint \n",
    "if A(i,j)=business then A(i,j+1)=0 and A(i, j-1)=0"
   ]
  },
  {
   "cell_type": "code",
   "execution_count": null,
   "id": "f5aa43ef",
   "metadata": {},
   "outputs": [],
   "source": []
  }
 ],
 "metadata": {
  "kernelspec": {
   "display_name": "Python 3 (ipykernel)",
   "language": "python",
   "name": "python3"
  },
  "language_info": {
   "codemirror_mode": {
    "name": "ipython",
    "version": 3
   },
   "file_extension": ".py",
   "mimetype": "text/x-python",
   "name": "python",
   "nbconvert_exporter": "python",
   "pygments_lexer": "ipython3",
   "version": "3.9.7"
  }
 },
 "nbformat": 4,
 "nbformat_minor": 5
}
