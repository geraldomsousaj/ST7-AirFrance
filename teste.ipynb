{
 "cells": [
  {
   "cell_type": "code",
   "execution_count": 1,
   "metadata": {},
   "outputs": [],
   "source": [
    "from gurobipy import *"
   ]
  },
  {
   "cell_type": "code",
   "execution_count": 51,
   "metadata": {},
   "outputs": [],
   "source": [
    "m = Model()\n",
    "\n",
    "allocation = m.addVars(12, 6+1, 12, vtype=GRB.BINARY, name=\"Allocation\")\n",
    "i_p = m.addVars(12, vtype=GRB.INTEGER, name=\"i\")\n",
    "j_p = m.addVars(12, vtype=GRB.INTEGER, name=\"j\")\n",
    "Sp = m.addVars(12, vtype=GRB.INTEGER, name=\"Sp\")\n",
    "\n",
    "m.addConstrs((i_p[p] == sum([i*allocation[p,i,j] for i in range(7) for j in range(12)]) for p in range(12)))\n",
    "m.addConstrs((j_p[p] == sum([j*allocation[p,i,j] for i in range(7) for j in range(12)]) for p in range(12)))\n",
    "m.addConstrs((Sp[p] == sum([ -(i_p[p] - i_p[p_g])**2 - (j_p[p] - j_p[p_g])**2 for p_g in range(p)]) for p in range(12)))\n",
    "\n",
    "C_limited_seat = m.addConstrs((sum([allocation[p,i,j] for p in range(12)]) <= 1 for i in range(6+1) for j in range(12)))\n",
    "\n",
    "# Maker sure that everyone is seated and only in one spot\n",
    "C_serve_all = m.addConstrs((sum([allocation[p,i,j] for i in range(6+1) for j in range(12) ]) == 1 for p in range(12)))\n",
    "\n"
   ]
  },
  {
   "cell_type": "code",
   "execution_count": 52,
   "metadata": {},
   "outputs": [
    {
     "name": "stdout",
     "output_type": "stream",
     "text": [
      "Gurobi Optimizer version 9.5.0 build v9.5.0rc5 (win64)\n",
      "Thread count: 6 physical cores, 12 logical processors, using up to 12 threads\n",
      "Optimize a model with 121 rows, 1044 columns and 3829 nonzeros\n",
      "Model fingerprint: 0xe29b45b6\n",
      "Model has 11 quadratic constraints\n",
      "Variable types: 0 continuous, 1044 integer (1008 binary)\n",
      "Coefficient statistics:\n",
      "  Matrix range     [1e+00, 1e+01]\n",
      "  QMatrix range    [1e+00, 1e+01]\n",
      "  QLMatrix range   [1e+00, 1e+00]\n",
      "  Objective range  [1e+00, 1e+00]\n",
      "  Bounds range     [1e+00, 1e+00]\n",
      "  RHS range        [1e+00, 1e+00]\n",
      "Presolve removed 1 rows and 1 columns\n",
      "Presolve time: 0.02s\n",
      "\n",
      "Explored 0 nodes (0 simplex iterations) in 0.02 seconds (0.01 work units)\n",
      "Thread count was 1 (of 12 available processors)\n",
      "\n",
      "Solution count 0\n",
      "\n",
      "Best objective -, best bound -, gap -\n"
     ]
    },
    {
     "ename": "GurobiError",
     "evalue": "Quadratic equality constraints are non-convex. Set NonConvex parameter to 2 to solve model.",
     "output_type": "error",
     "traceback": [
      "\u001b[1;31m---------------------------------------------------------------------------\u001b[0m",
      "\u001b[1;31mGurobiError\u001b[0m                               Traceback (most recent call last)",
      "\u001b[1;32m<ipython-input-52-949db2c0c134>\u001b[0m in \u001b[0;36m<module>\u001b[1;34m\u001b[0m\n\u001b[0;32m      8\u001b[0m \u001b[0mm\u001b[0m\u001b[1;33m.\u001b[0m\u001b[0mupdate\u001b[0m\u001b[1;33m(\u001b[0m\u001b[1;33m)\u001b[0m\u001b[1;33m\u001b[0m\u001b[1;33m\u001b[0m\u001b[0m\n\u001b[0;32m      9\u001b[0m \u001b[1;33m\u001b[0m\u001b[0m\n\u001b[1;32m---> 10\u001b[1;33m \u001b[0mm\u001b[0m\u001b[1;33m.\u001b[0m\u001b[0moptimize\u001b[0m\u001b[1;33m(\u001b[0m\u001b[1;33m)\u001b[0m\u001b[1;33m\u001b[0m\u001b[1;33m\u001b[0m\u001b[0m\n\u001b[0m\u001b[0;32m     11\u001b[0m \u001b[1;33m\u001b[0m\u001b[0m\n",
      "\u001b[1;32msrc\\gurobipy\\model.pxi\u001b[0m in \u001b[0;36mgurobipy.Model.optimize\u001b[1;34m()\u001b[0m\n",
      "\u001b[1;31mGurobiError\u001b[0m: Quadratic equality constraints are non-convex. Set NonConvex parameter to 2 to solve model."
     ]
    }
   ],
   "source": [
    "\n",
    "\n",
    "#f = [ for p in range(12)]\n",
    "\n",
    "f = sum([sum([allocation[p,i,j] * (j-i) for i in range(7) for j in range(12)]) for p in range(12)])\n",
    "\n",
    "\n",
    "m.setObjective(Sp.sum(), GRB.MAXIMIZE)\n",
    "\n",
    "m.update()\n",
    "\n",
    "m.optimize()\n",
    "\n"
   ]
  },
  {
   "cell_type": "code",
   "execution_count": 45,
   "metadata": {},
   "outputs": [
    {
     "name": "stdout",
     "output_type": "stream",
     "text": [
      "104.0\n",
      "(0, 0, 11) 0.0 11.0\n",
      "(1, 0, 10) 0.0 10.0\n",
      "(2, 1, 11) 1.0 11.0\n",
      "(3, 0, 9) 0.0 9.0\n",
      "(4, 1, 10) 1.0 10.0\n",
      "(5, 2, 11) 2.0 11.0\n",
      "(6, 0, 8) 0.0 8.0\n",
      "(7, 1, 9) 1.0 9.0\n",
      "(8, 2, 10) 2.0 10.0\n",
      "(9, 3, 11) 3.0 11.0\n",
      "(10, 0, 7) 0.0 7.0\n",
      "(11, 1, 8) 1.0 8.0\n"
     ]
    }
   ],
   "source": [
    "print(m.objVal)\n",
    "for a in allocation:\n",
    "    if allocation[a].x == 1:\n",
    "        print(a,i_p[a[0]].x,j_p[a[0]].x)"
   ]
  }
 ],
 "metadata": {
  "interpreter": {
   "hash": "4edc6bdd590a5a6b92c48979e9e47f5638d187f6c4ff6a23aa9775e5ee8e38f8"
  },
  "kernelspec": {
   "display_name": "Python 3.9.10 64-bit (windows store)",
   "language": "python",
   "name": "python3"
  },
  "language_info": {
   "codemirror_mode": {
    "name": "ipython",
    "version": 3
   },
   "file_extension": ".py",
   "mimetype": "text/x-python",
   "name": "python",
   "nbconvert_exporter": "python",
   "pygments_lexer": "ipython3",
   "version": "3.9.10"
  },
  "orig_nbformat": 4
 },
 "nbformat": 4,
 "nbformat_minor": 2
}
