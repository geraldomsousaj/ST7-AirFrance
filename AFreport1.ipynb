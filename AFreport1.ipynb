{
 "cells": [
  {
   "cell_type": "markdown",
   "id": "a6dbe531",
   "metadata": {},
   "source": [
    "# Data and Variables"
   ]
  },
  {
   "cell_type": "markdown",
   "id": "8e104ca0",
   "metadata": {},
   "source": [
    "We need to represent and access info for all passengers: gender(weight), which group they belong to, if they have to transfert. We created a class Passenger to represent this data.\n",
    "\n",
    "The main variable here is the allocation : binary variable that says for each passenger where he is located : \n",
    "\n",
    "allocation = m.addVars(len(passengers), width, height, vtype=GRB.BINARY, name=\"Allocation\")\n",
    "\n",
    "There are $$len(passengers)*width*heigh$$ variables. For instance, if Passenger 1 is at the place : width=2, height=3, then allocation[1,2,3]=1. Else, it equals 0.\n",
    "\n",
    "There are also the satisfaction variables: depends on the number of neighbors of the same group you have [to be completed]"
   ]
  },
  {
   "cell_type": "markdown",
   "id": "32a649ef",
   "metadata": {},
   "source": [
    "# Constraints"
   ]
  },
  {
   "cell_type": "markdown",
   "id": "3d2f5067",
   "metadata": {},
   "source": [
    "### At most 1 person per seat constraint: in the plane, there can't be more than 1 person in each seat.\n",
    "\n",
    "for p in passengers,\n",
    "$$\\sum_{passenger = 1}^{p}allocation[p.passenger_id,i,j]  <= 1 $$for i in range(width) for j in range(height)"
   ]
  },
  {
   "cell_type": "markdown",
   "id": "b8077d83",
   "metadata": {},
   "source": [
    "### Everyone has 1 and only 1 seat constraint: each passenger has to be seated in only one place.\n",
    "$$\\sum_{i,j = 1}^{w,h}allocation[p.passenger_id,i,j] ==1 $$\n",
    "\n",
    "for p in passengers\n",
    "\n",
    "With w the width (X), h the height (Y)"
   ]
  },
  {
   "cell_type": "markdown",
   "id": "ab0da926",
   "metadata": {},
   "source": [
    "### Barycenter constraint : separate the X and Y axis. Then separate each axis into 2 constraints: 1 lower constraint, 1 upper constraint, to fit into the defined barycenter area. \n",
    "\n",
    "$$\\sum_{passenger = 1}^{p}[p.weight * allocation[p.passenger_id,i,j]*X[i]  /total_{weight} <= 1$$ for i in range(width) for j in range(height)\n",
    "\n",
    "$$\\sum_{passenger = 1}^{p}[p.weight * allocation[p.passenger_id,i,j]*X[i]  /total_{weight} >= -1$$ for i in range(width) for j in range(height)\n",
    "\n",
    "$$\\sum_{passenger = 1}^{p}[p.weight * allocation[p.passenger_id,i,j]*Y[i]  /total_{weight} <= 2$$ for i in range(width) for j in range(height)\n",
    "\n",
    "$$\\sum_{passenger = 1}^{p}[p.weight * allocation[p.passenger_id,i,j]*Y[i]  /total_{weight} >= -2$$ for i in range(width) for j in range(height)\n",
    "\n",
    "##### With X[i] being the distance from the passenger to the barycenter on the X axis and Y[i] being the distance from the passenger to the barycenter on the Y axis\n"
   ]
  },
  {
   "cell_type": "markdown",
   "id": "501073d8",
   "metadata": {},
   "source": [
    "### Constraint of transfert passenger : if a passenger has to transfert, he needs to be in the first third of the plane (Y axis). No constraint on the X axis. If there is no transfert, the passenger can be anywhere.\n",
    "\n",
    "\n",
    " For p in passengers, if $$ p.transfert=1$$  $$allocation[p.passenger_{id}][y] \\leq height/3 \\;\\;\\;\\;  \\;\\;\\;$$\n"
   ]
  },
  {
   "cell_type": "markdown",
   "id": "d6d5c5af",
   "metadata": {},
   "source": [
    "# Constraints relative to the objective function"
   ]
  },
  {
   "cell_type": "markdown",
   "id": "f4d144d3",
   "metadata": {},
   "source": [
    "The constraints were nonlinear at the beginning, it worked for small groups of passengers but we then had to linearize them in order to make it work for all cases."
   ]
  },
  {
   "cell_type": "markdown",
   "id": "e6725baa",
   "metadata": {},
   "source": [
    "# Objective function"
   ]
  },
  {
   "cell_type": "markdown",
   "id": "130cb574",
   "metadata": {},
   "source": [
    "The objective here is to maximize the satisfaction of the passengers. The satisfaction depends on the number of neighbors of the same group each passenger has, and is calculated like this:\n",
    "- For groups of 3 passengers or less:\n",
    "    1 point for each neighbor of the same group in the same row, not separated by the aisle or a passenger of another group\n",
    "- For groups of 4 passengers or more:\n",
    "    - 1 point for each neighbor of the same group in the same row, not separated by a passenger of another group\n",
    "    - 0.5 points for each neighbor of the same group behind or in front, only and only if you already have 1 neighbor of your group on one of your sides\n",
    "    \n",
    "In general, we will try to add points if the passengers of the same group are close together even if they're not exact neighbors.\n",
    "We created a satisfaction coefficient for the groups of less than 3 passengers and another one for the groups with more than 3 passengers. \n",
    "\n",
    "The objective function sums up all the satisfaction coefficients for all passengers and has to be maximized.\n",
    "\n",
    "$$\\mbox{Maximize} \\;\\;\\; \\sum_{passenger = 1}^{p} S1_^p + S2_p$$\n"
   ]
  },
  {
   "cell_type": "code",
   "execution_count": null,
   "id": "55052825",
   "metadata": {},
   "outputs": [],
   "source": []
  }
 ],
 "metadata": {
  "kernelspec": {
   "display_name": "Python 3 (ipykernel)",
   "language": "python",
   "name": "python3"
  },
  "language_info": {
   "codemirror_mode": {
    "name": "ipython",
    "version": 3
   },
   "file_extension": ".py",
   "mimetype": "text/x-python",
   "name": "python",
   "nbconvert_exporter": "python",
   "pygments_lexer": "ipython3",
   "version": "3.9.7"
  }
 },
 "nbformat": 4,
 "nbformat_minor": 5
}
