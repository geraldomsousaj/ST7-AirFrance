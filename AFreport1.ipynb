{
 "cells": [
  {
   "cell_type": "markdown",
   "id": "8f424d83",
   "metadata": {},
   "source": [
    "# Constraints"
   ]
  },
  {
   "cell_type": "markdown",
   "id": "0db43a32",
   "metadata": {},
   "source": [
    "### At most 1 person per seat constraint: in the plane, there can't be more than 1 person in each seat.\n",
    "\n",
    "for p in passengers,\n",
    "$$\\sum_{passenger = 1}^{p}allocation[p.passenger_id,i,j]  <= 1 $$for i in range(width) for j in range(height)"
   ]
  },
  {
   "cell_type": "markdown",
   "id": "b6df9fe5",
   "metadata": {},
   "source": [
    "### Everyone has 1 and only 1 seat constraint: each passenger has to be seated in only one place.\n",
    "$$\\sum_{i,j = 1}^{w,h}allocation[p.passenger_id,i,j] ==1 $$\n",
    "\n",
    "for p in passengers\n",
    "\n",
    "With w the width (X), h the height (Y)"
   ]
  },
  {
   "cell_type": "markdown",
   "id": "c1f34afe",
   "metadata": {},
   "source": [
    "### Barycenter constraint : separate the X and Y axis. Then separate each axis into 2 constraints: 1 lower constraint, 1 upper constraint, to fit into the defined barycenter area. \n",
    "\n",
    "$$\\sum_{passenger = 1}^{p}[p.weight * allocation[p.passenger_id,i,j]*X[i]  /total_{weight} <= 1$$ for i in range(width) for j in range(height)\n",
    "\n",
    "$$\\sum_{passenger = 1}^{p}[p.weight * allocation[p.passenger_id,i,j]*X[i]  /total_{weight} >= -1$$ for i in range(width) for j in range(height)\n",
    "\n",
    "$$\\sum_{passenger = 1}^{p}[p.weight * allocation[p.passenger_id,i,j]*Y[i]  /total_{weight} <= 2$$ for i in range(width) for j in range(height)\n",
    "\n",
    "$$\\sum_{passenger = 1}^{p}[p.weight * allocation[p.passenger_id,i,j]*Y[i]  /total_{weight} >= -2$$ for i in range(width) for j in range(height)\n",
    "\n",
    "##### With X[i] being the distance from the passenger to the barycenter on the X axis and Y[i] being the distance from the passenger to the barycenter on the Y axis\n"
   ]
  },
  {
   "cell_type": "markdown",
   "id": "177c5ed9",
   "metadata": {},
   "source": [
    "### Constraint of transfert passenger : if a passenger has to transfert, he needs to be in the first third of the plane (Y axis). No constraint on the X axis. If there is no transfert, the passenger can be anywhere.\n",
    "\n",
    "\n",
    " For p in passengers, if $$ p.transfert=1$$  $$allocation[p.passenger_{id}][y] \\leq height/3 \\;\\;\\;\\;  \\;\\;\\;$$\n"
   ]
  },
  {
   "cell_type": "code",
   "execution_count": null,
   "id": "4ab8eb77",
   "metadata": {},
   "outputs": [],
   "source": []
  }
 ],
 "metadata": {
  "kernelspec": {
   "display_name": "Python 3 (ipykernel)",
   "language": "python",
   "name": "python3"
  },
  "language_info": {
   "codemirror_mode": {
    "name": "ipython",
    "version": 3
   },
   "file_extension": ".py",
   "mimetype": "text/x-python",
   "name": "python",
   "nbconvert_exporter": "python",
   "pygments_lexer": "ipython3",
   "version": "3.9.7"
  }
 },
 "nbformat": 4,
 "nbformat_minor": 5
}
