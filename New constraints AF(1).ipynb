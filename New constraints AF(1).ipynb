{
 "cells": [
  {
   "cell_type": "markdown",
   "id": "f6f1bb28",
   "metadata": {},
   "source": [
    "## Children\n",
    "- Every child must be seated next to an adult (no aisle between them) \n",
    "\n",
    "if A(i,j)=child then A(i,j+1) or 1(i,j-1)=adult\n",
    "- No child near the emergency exits : rows 12, 11 \n",
    "\n",
    "\n",
    "A(12,j)=adult\n",
    "\n",
    "\n",
    "A(11,j)=adult\n",
    "\n",
    "\n",
    "for j=1...6\n",
    "\n",
    "\n",
    "\n",
    "## Wheelchair\n",
    "- 1 wheelchair passenger takes a square of 4 seats next to the aisle? The weight is on the seat in the lower corner of the square blocked by the wheelchair, next to the aisle.\n",
    "\n",
    "if A(i,j)=wheelchair then A(i,j+1)=A(i+1,j)=A(i+1,j+1)=0\n",
    "\n",
    "## Stretchers\n",
    "- 1 stretcher takes 4 rows of 3 seats. The weight is on the seat next to the aisle, on the \"lower\" end of the rectangle blocked by the strecher\n",
    "\n",
    "if A(i,j)=stretcher then A(i+1,j+k)=A(i+2,j+k)=A(i-1,j+k)=0 for k=-1...1\n",
    "+add constraints on the borders\n",
    "## Business\n",
    "- A business passenger is seated in the front of the plane and has no one next to him\n",
    "similar of time transit constraint \n",
    "if A(i,j)=business then A(i,j+1)=0 and A(i, j-1)=0"
   ]
  },
  {
   "cell_type": "code",
   "execution_count": 1,
   "id": "f5aa43ef",
   "metadata": {},
   "outputs": [
    {
     "ename": "SyntaxError",
     "evalue": "invalid syntax (Temp/ipykernel_3272/2718424752.py, line 1)",
     "output_type": "error",
     "traceback": [
      "\u001b[1;36m  File \u001b[1;32m\"C:\\Users\\Luisa\\AppData\\Local\\Temp/ipykernel_3272/2718424752.py\"\u001b[1;36m, line \u001b[1;32m1\u001b[0m\n\u001b[1;33m    wheelchair_constr= m.addConstr(allocation[p.id,i,j+1]==allocation[p.id,i+1,j+1]==allocation[p.id,i+1,j]==0 for p in passengers if p.wheelchair=1 )\u001b[0m\n\u001b[1;37m                                                                                                                                                  ^\u001b[0m\n\u001b[1;31mSyntaxError\u001b[0m\u001b[1;31m:\u001b[0m invalid syntax\n"
     ]
    }
   ],
   "source": [
    "wheelchair_constr_left= m.addConstr(allocation[p.id,i,j-1]==allocation[p.id,i+1,j-1]==allocation[p.id,i+1,j]==0 for p in passengers if p.wheelchair=1 and j=3)\n",
    "wheelchair_constr_right= m.addConstr(allocation[p.id,i,j+1]==allocation[p.id,i+1,j+1]==allocation[p.id,i+1,j]==0 for p in passengers if p.wheelchair=1 and j=5)"
   ]
  },
  {
   "cell_type": "code",
   "execution_count": 2,
   "id": "bf674400",
   "metadata": {},
   "outputs": [
    {
     "ename": "SyntaxError",
     "evalue": "invalid syntax (Temp/ipykernel_3272/1146046299.py, line 1)",
     "output_type": "error",
     "traceback": [
      "\u001b[1;36m  File \u001b[1;32m\"C:\\Users\\Luisa\\AppData\\Local\\Temp/ipykernel_3272/1146046299.py\"\u001b[1;36m, line \u001b[1;32m1\u001b[0m\n\u001b[1;33m    stretcher_constr_left= m.addConstr(allocation[p.id,i+l,j-k]==0 for k in range(1,3)for l in range(4) for p in passengers if p.stretcher=1 and j=3)\u001b[0m\n\u001b[1;37m                                                                                                                                          ^\u001b[0m\n\u001b[1;31mSyntaxError\u001b[0m\u001b[1;31m:\u001b[0m invalid syntax\n"
     ]
    }
   ],
   "source": [
    "stretcher_constr_left= m.addConstr(allocation[p.id,i+l,j-k]==0 for k in range(1,3)for l in range(4) for p in passengers if p.stretcher=1 and j=3)\n",
    "stretcher_constr_right= m.addConstr(allocation[p.id,i+l,j+k]==0 for k in range(1,3)for l in range(4) for p in passengers if p.stretcher=1 and j=5)"
   ]
  }
 ],
 "metadata": {
  "kernelspec": {
   "display_name": "Python 3 (ipykernel)",
   "language": "python",
   "name": "python3"
  },
  "language_info": {
   "codemirror_mode": {
    "name": "ipython",
    "version": 3
   },
   "file_extension": ".py",
   "mimetype": "text/x-python",
   "name": "python",
   "nbconvert_exporter": "python",
   "pygments_lexer": "ipython3",
   "version": "3.9.7"
  }
 },
 "nbformat": 4,
 "nbformat_minor": 5
}
