{
 "cells": [
  {
   "cell_type": "code",
   "execution_count": null,
   "metadata": {},
   "outputs": [],
   "source": [
    "from gurobipy import *\n",
    "from passenger import Passenger\n",
    "import pandas as pd"
   ]
  },
  {
   "cell_type": "code",
   "execution_count": null,
   "metadata": {},
   "outputs": [],
   "source": [
    "# Load passengers\n",
    "\n",
    "data_seating = pd.ExcelFile(r'DataSeating.xlsx')\n",
    "flight_dates = data_seating.sheet_names\n",
    "\n",
    "flight_data = data_seating.parse(sheet_name = flight_dates[0])\n",
    "flight_data.drop(flight_data.tail(2).index, inplace=True)\n",
    "flight_data = flight_data.fillna(0)"
   ]
  },
  {
   "cell_type": "code",
   "execution_count": null,
   "metadata": {},
   "outputs": [],
   "source": [
    "for group in flight_data.iterrows():\n",
    "    people = group[1][[\"Femmes\",\"Hommes\",\"Enfants\", \"WCHR\", \"WCHB\"]]\n",
    "    \n",
    "    for p in people.index:\n",
    "        print(p,people[p],\"\\n\")"
   ]
  },
  {
   "cell_type": "code",
   "execution_count": 105,
   "metadata": {},
   "outputs": [],
   "source": [
    "passengers = []\n",
    "passengers.append(Passenger(1,1,\"men\",\"Economic\"))\n",
    "passengers.append(Passenger(1,2,\"men\",\"Economic\"))\n",
    "passengers.append(Passenger(1,3,\"women\",\"Economic\"))\n",
    "passengers.append(Passenger(2,0,\"women\",\"Economic\"))\n",
    "passengers.append(Passenger(2,4,\"women\",\"Economic\"))\n",
    "passengers.append(Passenger(2,5,\"women\",\"Economic\"))\n",
    "\n",
    "width = 6\n",
    "height = 28\n",
    "X = [-3, -2, 1, 1, 2, 3]\n",
    "Y = list(range(-14,0)) + list(range(1,14+1))\n",
    "Y\n",
    "\n",
    "total_weight = sum([p.weight for p in passengers])\n"
   ]
  },
  {
   "cell_type": "code",
   "execution_count": 115,
   "metadata": {},
   "outputs": [
    {
     "name": "stdout",
     "output_type": "stream",
     "text": [
      "Gurobi Optimizer version 9.5.0 build v9.5.0rc5 (win64)\n",
      "Thread count: 6 physical cores, 12 logical processors, using up to 12 threads\n",
      "Optimize a model with 178 rows, 1008 columns and 6048 nonzeros\n",
      "Model fingerprint: 0x1316a275\n",
      "Variable types: 0 continuous, 1008 integer (1008 binary)\n",
      "Coefficient statistics:\n",
      "  Matrix range     [2e-01, 3e+00]\n",
      "  Objective range  [1e+00, 1e+00]\n",
      "  Bounds range     [1e+00, 1e+00]\n",
      "  RHS range        [1e+00, 2e+00]\n",
      "Found heuristic solution: objective 6.0000000\n",
      "Presolve added 4 rows and 4 columns\n",
      "Presolve time: 0.02s\n",
      "Presolved: 182 rows, 1012 columns, 3672 nonzeros\n",
      "Variable types: 1 continuous, 1011 integer (1008 binary)\n",
      "\n",
      "Explored 0 nodes (0 simplex iterations) in 0.04 seconds (0.02 work units)\n",
      "Thread count was 12 (of 12 available processors)\n",
      "\n",
      "Solution count 1: 6 \n",
      "\n",
      "Optimal solution found (tolerance 1.00e-04)\n",
      "Best objective 6.000000000000e+00, best bound 6.000000000000e+00, gap 0.0000%\n"
     ]
    }
   ],
   "source": [
    "m = Model(\"model_v1\")\n",
    "\n",
    "allocation = m.addVars(len(passengers), width, height, vtype=GRB.BINARY, name=\"Allocation\")\n",
    "\n",
    "# Make sure that there is at most one person per seat\n",
    "C_limited_seat = m.addConstrs((sum([allocation[p.passenger_id,i,j] for p in passengers]) <= 1 for i in range(width) for j in range(height)))\n",
    "\n",
    "# Maker sure that everyone is seated and only in one spot\n",
    "C_serve_all = m.addConstrs((sum([allocation[p.passenger_id,i,j] for i in range(width) for j in range(height) ]) == 1 for p in passengers))\n",
    "\n",
    "# Make sure that the center of mass is centralized\n",
    "C_bary_X_p = m.addConstr(sum([p.weight * allocation[p.passenger_id,i,j]*X[i] for p in passengers for i in range(width) for j in range(height)])/total_weight <= 1)\n",
    "C_bary_X_m = m.addConstr(sum([p.weight * allocation[p.passenger_id,i,j]*X[i] for p in passengers for i in range(width) for j in range(height)])/total_weight >= -1)\n",
    "C_bary_Y_p = m.addConstr(sum([p.weight * allocation[p.passenger_id,i,j]*Y[j] for p in passengers for i in range(width) for j in range(height)])/total_weight <= 2)\n",
    "C_bary_Y_m = m.addConstr(sum([p.weight * allocation[p.passenger_id,i,j]*Y[j] for p in passengers for i in range(width) for j in range(height)])/total_weight >= -2)\n",
    "\n",
    "\n",
    "m.update()\n",
    "\n",
    "m.setObjective(allocation.sum(), GRB.MAXIMIZE)\n",
    "\n",
    "m.optimize()"
   ]
  },
  {
   "cell_type": "code",
   "execution_count": 116,
   "metadata": {},
   "outputs": [
    {
     "name": "stdout",
     "output_type": "stream",
     "text": [
      "0 3 6\n",
      "1 2 -9\n",
      "2 1 5\n",
      "3 -2 7\n",
      "4 -3 -7\n",
      "5 -3 -14\n"
     ]
    }
   ],
   "source": [
    "for a in allocation:\n",
    "    if allocation[a].x == 1:\n",
    "        print(a[0], X[a[1]], Y[a[2]])\n"
   ]
  }
 ],
 "metadata": {
  "interpreter": {
   "hash": "4edc6bdd590a5a6b92c48979e9e47f5638d187f6c4ff6a23aa9775e5ee8e38f8"
  },
  "kernelspec": {
   "display_name": "Python 3.9.10 64-bit (windows store)",
   "language": "python",
   "name": "python3"
  },
  "language_info": {
   "codemirror_mode": {
    "name": "ipython",
    "version": 3
   },
   "file_extension": ".py",
   "mimetype": "text/x-python",
   "name": "python",
   "nbconvert_exporter": "python",
   "pygments_lexer": "ipython3",
   "version": "3.9.10"
  },
  "orig_nbformat": 4
 },
 "nbformat": 4,
 "nbformat_minor": 2
}
