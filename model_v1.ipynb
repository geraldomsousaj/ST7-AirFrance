{
 "cells": [
  {
   "cell_type": "code",
   "execution_count": 140,
   "metadata": {},
   "outputs": [],
   "source": [
    "from gurobipy import *\n",
    "from passenger import Passenger\n",
    "import pandas as pd\n",
    "\n",
    "import matplotlib.pyplot as plt\n",
    "import itertools\n",
    "import random"
   ]
  },
  {
   "cell_type": "code",
   "execution_count": 132,
   "metadata": {},
   "outputs": [],
   "source": [
    "# Load passengers\n",
    "\n",
    "data_seating = pd.ExcelFile(r'DataSeating.xlsx')\n",
    "flight_dates = data_seating.sheet_names\n",
    "\n",
    "flight_data = data_seating.parse(sheet_name = flight_dates[0])\n",
    "flight_data.drop(flight_data.tail(2).index, inplace=True)\n",
    "flight_data = flight_data.fillna(0)"
   ]
  },
  {
   "cell_type": "code",
   "execution_count": 133,
   "metadata": {},
   "outputs": [],
   "source": [
    "#for group in flight_data.iterrows():\n",
    "    #people = group[1][[\"Femmes\",\"Hommes\",\"Enfants\", \"WCHR\", \"WCHB\"]]\n",
    "    \n",
    "    #for p in people.index:\n",
    "        #print(p,people[p],\"\\n\")"
   ]
  },
  {
   "cell_type": "code",
   "execution_count": 232,
   "metadata": {},
   "outputs": [],
   "source": [
    "passengers = []\n",
    "passengers.append(Passenger(1,0,\"men\",\"Economic\"))\n",
    "passengers.append(Passenger(1,1,\"men\",\"Economic\"))\n",
    "passengers.append(Passenger(1,2,\"women\",\"Economic\"))\n",
    "\n",
    "passengers.append(Passenger(2,3,\"women\",\"Economic\"))\n",
    "passengers.append(Passenger(2,4,\"women\",\"Economic\"))\n",
    "passengers.append(Passenger(2,5,\"women\",\"Economic\"))\n",
    "\n",
    "passengers.append(Passenger(2,6,\"women\",\"Economic\"))\n",
    "\n",
    "groups = {}\n",
    "for p in passengers:\n",
    "    if p.group_index in groups.keys():\n",
    "        groups[p.group_index] = groups[p.group_index] + [p]\n",
    "    else:\n",
    "        groups[p.group_index] = [p]\n",
    "        \n",
    "\n",
    "passengers_count = len(passengers)\n",
    "\n",
    "width = 6\n",
    "height = 28\n",
    "X = [-3, -2, -1, 0, 1, 2, 3]\n",
    "Y = list(range(-14,0)) + list(range(1,14+1))\n",
    "\n",
    "total_weight = sum([p.weight for p in passengers])\n"
   ]
  },
  {
   "cell_type": "code",
   "execution_count": 237,
   "metadata": {},
   "outputs": [
    {
     "data": {
      "text/plain": [
       "{<passenger.Passenger at 0x1b974ae59d0>: <gurobi.QConstr Not Yet Added>,\n",
       " <passenger.Passenger at 0x1b974ae5e20>: <gurobi.QConstr Not Yet Added>,\n",
       " <passenger.Passenger at 0x1b9738a6d60>: <gurobi.QConstr Not Yet Added>,\n",
       " <passenger.Passenger at 0x1b9747b7190>: <gurobi.QConstr Not Yet Added>}"
      ]
     },
     "execution_count": 237,
     "metadata": {},
     "output_type": "execute_result"
    }
   ],
   "source": [
    "m = Model(\"model_v1\")\n",
    "\n",
    "# Allocation Variables\n",
    "allocation = m.addVars(len(passengers), width+1, height, vtype=GRB.BINARY, name=\"Allocation\")\n",
    "\n",
    "satisfaction = m.addVars(len(passengers), vtype=GRB.CONTINUOUS, name=\"Satisfaction\")\n",
    "\n",
    "#satisfaction_small = (satisfaction[p_id] == sum([ allocation[p_g.passenger_id, i+1, j] * allocation[p_id, i, j] for p_g in groups[p_id] for i in range(width) for j in range(height) ]) for p_id in range(len(passengers)))\n",
    "\n",
    "def in_grid(i, j):\n",
    "    return i>=0 and j>=0 and j<height and i <= width\n",
    "\n",
    "e_allocation = lambda p, i, j: allocation[p,i,j] if in_grid(i,j) else 0\n",
    "\n",
    "m.addConstrs((satisfaction[p.passenger_id] == \n",
    "                sum([e_allocation(p.passenger_id,i,j) * (e_allocation(p_g.passenger_id,i-1,j)+e_allocation(p_g.passenger_id,i+1,j)) \n",
    "                for p_g in groups[p.group_index] for i in range(width+1) for j in range(height)])\n",
    "                for p in passengers if len(groups[p.group_index]) <=3))\n",
    "\n",
    "m.addConstrs((satisfaction[p.passenger_id] == \n",
    "                sum([e_allocation(p.passenger_id,i,j) * \n",
    "                (e_allocation(p_g.passenger_id,i-1,j)+e_allocation(p_g.passenger_id,i+1,j) ) \n",
    "                for p_g in groups[p.group_index] for i in range(width+1) for j in range(height)])\n",
    "                for p in passengers if len(groups[p.group_index]) > 3))\n"
   ]
  },
  {
   "cell_type": "code",
   "execution_count": 229,
   "metadata": {},
   "outputs": [
    {
     "name": "stdout",
     "output_type": "stream",
     "text": [
      "Gurobi Optimizer version 9.5.0 build v9.5.0rc5 (win64)\n",
      "Thread count: 6 physical cores, 12 logical processors, using up to 12 threads\n",
      "Optimize a model with 403 rows, 1379 columns and 8036 nonzeros\n",
      "Model fingerprint: 0xe9f43378\n",
      "Model has 7 quadratic constraints\n",
      "Variable types: 7 continuous, 1372 integer (1372 binary)\n",
      "Coefficient statistics:\n",
      "  Matrix range     [1e-01, 2e+00]\n",
      "  QMatrix range    [1e+00, 2e+00]\n",
      "  QLMatrix range   [1e+00, 1e+00]\n",
      "  Objective range  [1e+00, 1e+00]\n",
      "  Bounds range     [1e+00, 1e+00]\n",
      "  RHS range        [1e+00, 2e+00]\n",
      "Presolve removed 220 rows and 192 columns\n",
      "Presolve time: 0.02s\n",
      "Presolved: 6574 rows, 3315 columns, 22853 nonzeros\n",
      "Variable types: 4 continuous, 3311 integer (3304 binary)\n",
      "Found heuristic solution: objective -0.0000000\n",
      "\n",
      "Root relaxation: objective -1.600000e+01, 2448 iterations, 0.06 seconds (0.05 work units)\n",
      "\n",
      "    Nodes    |    Current Node    |     Objective Bounds      |     Work\n",
      " Expl Unexpl |  Obj  Depth IntInf | Incumbent    BestBd   Gap | It/Node Time\n",
      "\n",
      "     0     0   16.00000    0   66   -0.00000   16.00000      -     -    0s\n",
      "H    0     0                       8.0000000   16.00000   100%     -    0s\n",
      "     0     0   16.00000    0   86    8.00000   16.00000   100%     -    0s\n",
      "     0     0   16.00000    0   67    8.00000   16.00000   100%     -    1s\n",
      "     0     0   16.00000    0   42    8.00000   16.00000   100%     -    1s\n",
      "     0     0   16.00000    0   42    8.00000   16.00000   100%     -    1s\n",
      "     0     0   16.00000    0   65    8.00000   16.00000   100%     -    1s\n",
      "     0     0   16.00000    0   49    8.00000   16.00000   100%     -    1s\n",
      "     0     0   16.00000    0   42    8.00000   16.00000   100%     -    1s\n",
      "     0     0   16.00000    0   42    8.00000   16.00000   100%     -    1s\n",
      "     0     2   16.00000    0   42    8.00000   16.00000   100%     -    2s\n",
      "    39    23   15.69231    9  130    8.00000   15.69231  96.2%   229    5s\n",
      "   374   222   14.75000   70   78    8.00000   15.69231  96.2%   113   10s\n",
      "  1318   874   15.69231   12   63    8.00000   15.69231  96.2%   101   15s\n",
      "  1623   920   15.40000   29   63    8.00000   15.40000  92.5%   109   20s\n",
      "  3647  1528   15.00000   72   63    8.00000   15.00000  87.5%   106   25s\n",
      "  5684  2684   10.00000  116   38    8.00000   14.00000  75.0%   110   30s\n",
      "  8193  3046   10.00000  173   52    8.00000   12.00000  50.0%   112   36s\n",
      " 11324  1821   10.00000   43   45    8.00000   11.28483  41.1%   106   40s\n",
      " 14682  1636   10.00000  201   24    8.00000   10.00000  25.0%  93.6   46s\n",
      "\n",
      "Cutting planes:\n",
      "  Gomory: 2\n",
      "  Zero half: 2\n",
      "  RLT: 12\n",
      "  BQP: 4\n",
      "\n",
      "Explored 19860 nodes (1585962 simplex iterations) in 49.91 seconds (42.20 work units)\n",
      "Thread count was 12 (of 12 available processors)\n",
      "\n",
      "Solution count 2: 8 -0 \n",
      "\n",
      "Optimal solution found (tolerance 1.00e-04)\n",
      "Best objective 8.000000000000e+00, best bound 8.000000000000e+00, gap 0.0000%\n"
     ]
    }
   ],
   "source": [
    "\n",
    "# Make sure that there is at most one person per seat\n",
    "C_limited_seat = m.addConstrs((sum([allocation[p.passenger_id,i,j] for p in passengers]) <= 1 for i in range(width+1) for j in range(height)))\n",
    "\n",
    "# Maker sure that everyone is seated and only in one spot\n",
    "C_serve_all = m.addConstrs((sum([allocation[p.passenger_id,i,j] for i in range(width+1) for j in range(height) ]) == 1 for p in passengers))\n",
    "\n",
    "C_empty_corridor = m.addConstrs((0 == allocation[p,3,j] for p in range(passengers_count) for j in range(height)))\n",
    "\n",
    "\n",
    "# Center of Mass function\n",
    "barycenter_X = sum([p.weight * allocation[p.passenger_id,i,j]*X[i] for p in passengers for i in range(width+1) for j in range(height)])/total_weight\n",
    "barycenter_Y = sum([p.weight * allocation[p.passenger_id,i,j]*Y[j] for p in passengers for i in range(width+1) for j in range(height)])/total_weight\n",
    "\n",
    "# Barycenter limits\n",
    "bary_lim_X = 1\n",
    "bary_lim_Y = 2\n",
    "\n",
    "# Make sure that the center of mass is centralized\n",
    "\n",
    "C_bary_X_p = m.addConstr( barycenter_X <= bary_lim_X)\n",
    "C_bary_X_m = m.addConstr(barycenter_X >= -bary_lim_X)\n",
    "C_bary_Y_p = m.addConstr( barycenter_Y <= bary_lim_Y)\n",
    "C_bary_Y_m = m.addConstr(barycenter_Y >= -bary_lim_Y)\n",
    "\n",
    "\n",
    "m.setObjective(satisfaction.sum(), GRB.MAXIMIZE)\n",
    "\n",
    "m.update()\n",
    "\n",
    "\n",
    "m.optimize()"
   ]
  },
  {
   "cell_type": "code",
   "execution_count": 230,
   "metadata": {},
   "outputs": [
    {
     "name": "stdout",
     "output_type": "stream",
     "text": [
      "Center of Mass: (-0.25, -0.38)\n",
      "ID:0 - (-1, 5)/(2, 18) Sats: 1.0\n",
      "ID:1 - (-3, 5)/(0, 18) Sats: 1.0\n",
      "ID:2 - (-2, 5)/(1, 18) Sats: 2.0\n",
      "ID:3 - (1, -10)/(4, 4) Sats: 1.0\n",
      "ID:4 - (3, -10)/(6, 4) Sats: 1.0\n",
      "ID:5 - (2, -10)/(5, 4) Sats: 2.0\n",
      "ID:6 - (-1, 10)/(2, 23) Sats: 0.0\n"
     ]
    },
    {
     "data": {
      "text/plain": [
       "(-3.5, 3.5)"
      ]
     },
     "execution_count": 230,
     "metadata": {},
     "output_type": "execute_result"
    },
    {
     "data": {
      "image/png": "[encoded data removed]",
      "text/plain": [
       "<Figure size 432x288 with 1 Axes>"
      ]
     },
     "metadata": {
      "needs_background": "light"
     },
     "output_type": "display_data"
    }
   ],
   "source": [
    "cm_x = round(barycenter_X.getValue(),2)\n",
    "cm_y = round(barycenter_Y.getValue(),2)\n",
    "\n",
    "print(f\"Center of Mass: {(cm_x, cm_y)}\")\n",
    "\n",
    "#for p in range(passengers_count):\n",
    "    #print(f\"Satisfaction of {p}: {satisfaction[p].x}\")\n",
    "\n",
    "fig = plt.figure();\n",
    "for seat in itertools.product(X,Y):\n",
    "    if seat[0] != 0:\n",
    "        plt.plot(seat[0],seat[1],'s', color=\"gray\")\n",
    "\n",
    "plt.plot([bary_lim_X, bary_lim_X],[-bary_lim_Y, bary_lim_Y], color=\"cyan\")\n",
    "plt.plot([-bary_lim_X, -bary_lim_X],[-bary_lim_Y, bary_lim_Y], color=\"cyan\")\n",
    "plt.plot([-bary_lim_X, bary_lim_X],[bary_lim_Y, bary_lim_Y], color=\"cyan\")\n",
    "plt.plot([-bary_lim_X, bary_lim_X],[-bary_lim_Y, -bary_lim_Y], color=\"cyan\")\n",
    "\n",
    "for a in allocation:\n",
    "    if allocation[a].x == 1:\n",
    "        #random.seed(passengers[a[0]].group_index*4)\n",
    "        colors = [\"black\", \"blue\", \"yellow\"]\n",
    "\n",
    "        \n",
    "        plt.plot(X[a[1]],Y[a[2]], 'o',color=colors[passengers[a[0]].group_index-1])\n",
    "        print(f\"ID:{a[0]} - {(X[a[1]], Y[a[2]])}/{(a[1], a[2])} Sats: {satisfaction[a[0]].x}\")\n",
    "plt.plot(cm_x,cm_y, \"*\", color=\"red\")\n",
    "plt.ylim([-14.5,14.5])\n",
    "plt.xlim([-3.5,3.5])"
   ]
  },
  {
   "cell_type": "code",
   "execution_count": 226,
   "metadata": {},
   "outputs": [
    {
     "name": "stdout",
     "output_type": "stream",
     "text": [
      "0\n",
      "<gurobi.Var Allocation[0,1,12] (value -0.0)>\n",
      "0\n",
      "<gurobi.Var Allocation[1,1,12] (value 0.0)>\n",
      "1 1.0\n",
      "2 1.0\n",
      "3 0.0\n"
     ]
    }
   ],
   "source": [
    "print(e_allocation(0,-1, 12))\n",
    "print(e_allocation(0, 1, 12))\n",
    "print(e_allocation(1,-1, 12))\n",
    "print(e_allocation(1, 1, 12))\n",
    "    \n",
    "p = passengers[2]\n",
    "\n",
    "\n",
    "for p_g in groups[p.group_index]:\n",
    "    if True or p_g.passenger_id != p.passenger_id:\n",
    "        s = sum([e_allocation(p.passenger_id,i,j) * (e_allocation(p_g.passenger_id,i-1,j)+e_allocation(p_g.passenger_id,i+1,j)) \n",
    "                for i in range(width+1) for j in range(height)])\n",
    "\n",
    "        print(f\"{p_g.passenger_id} {s.getValue()}\")"
   ]
  },
  {
   "cell_type": "code",
   "execution_count": 182,
   "metadata": {},
   "outputs": [
    {
     "ename": "SyntaxError",
     "evalue": "closing parenthesis ')' does not match opening parenthesis '[' (<ipython-input-182-92d9fe606b56>, line 2)",
     "output_type": "error",
     "traceback": [
      "\u001b[1;36m  File \u001b[1;32m\"<ipython-input-182-92d9fe606b56>\"\u001b[1;36m, line \u001b[1;32m2\u001b[0m\n\u001b[1;33m    sum([allocation[0,5,27], allocation[0,6,0])\u001b[0m\n\u001b[1;37m                                              ^\u001b[0m\n\u001b[1;31mSyntaxError\u001b[0m\u001b[1;31m:\u001b[0m closing parenthesis ')' does not match opening parenthesis '['\n"
     ]
    }
   ],
   "source": [
    "\n",
    "\n",
    "#e_allocation = lambda p, i, j: allocation[p,i,j] if in_grid(i,j) else 0\n",
    "\n",
    "m.addConstrs((satisfaction[p.passenger_id] == \n",
    "                sum([e_allocation(p.passenger_id,i,j) * (e_allocation(p_g.passenger_id,i-1,j)+e_allocation(p_g.passenger_id,i+1,j)) \n",
    "                for p_g in groups[p.group_index] for i in range(width+1) for j in range(height)])\n",
    "                for p in passengers))\n"
   ]
  }
 ],
 "metadata": {
  "interpreter": {
   "hash": "4edc6bdd590a5a6b92c48979e9e47f5638d187f6c4ff6a23aa9775e5ee8e38f8"
  },
  "kernelspec": {
   "display_name": "Python 3.9.10 64-bit (windows store)",
   "language": "python",
   "name": "python3"
  },
  "language_info": {
   "codemirror_mode": {
    "name": "ipython",
    "version": 3
   },
   "file_extension": ".py",
   "mimetype": "text/x-python",
   "name": "python",
   "nbconvert_exporter": "python",
   "pygments_lexer": "ipython3",
   "version": "3.9.10"
  },
  "orig_nbformat": 4
 },
 "nbformat": 4,
 "nbformat_minor": 2
}
