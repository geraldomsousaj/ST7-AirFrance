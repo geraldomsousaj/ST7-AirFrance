{
 "cells": [
  {
   "cell_type": "code",
   "execution_count": 3,
   "metadata": {},
   "outputs": [],
   "source": [
    "from gurobipy import *\n",
    "#from passenger import *\n",
    "import pandas as pd\n",
    "\n",
    "import matplotlib.pyplot as plt\n",
    "import itertools\n",
    "import random"
   ]
  },
  {
   "cell_type": "markdown",
   "id": "a6dbe531",
   "metadata": {},
   "source": [
    "# Data and Variables"
   ]
  },
  {
   "cell_type": "markdown",
   "id": "8e104ca0",
   "metadata": {},
   "source": [
    "We need to represent and access info for all passengers: gender (weight), which group they belong to, if they need to transfer quickly, etc. For this purpose we created a the class _Passenger_. We also created the class _Group_ to represent each group (numer of women, men, transit time)."
   ]
  },
  {
   "cell_type": "code",
   "execution_count": 4,
   "metadata": {},
   "outputs": [],
   "source": [
    "passenger_id = 0\n",
    "\n",
    "class Passenger:\n",
    "    def __init__(self, group_index, passenger_id, description, transit_time=0):\n",
    "        \"\"\"\n",
    "            group_index : \n",
    "            passenger_id : \n",
    "            description : men, women, wheelchair, child\n",
    "            business_economic : class (Business, Economic)\n",
    "            transit_time : optional parameter (inf if there is not transit time)\n",
    "        \n",
    "        \"\"\"\n",
    "        self.group_index = group_index\n",
    "        self.passenger_id = passenger_id\n",
    "        self.description = description\n",
    "        # self.business_economic = business_economic\n",
    "        self.transit_time = transit_time\n",
    "        self.weight()\n",
    "    \n",
    "    def weight(self):\n",
    "        if self.description == 'women':\n",
    "            self.weight = 70\n",
    "        elif self.description == 'men':\n",
    "            self.weight = 85\n",
    "        elif self.description == 'child':\n",
    "            self.weight = 35\n",
    "        else: \n",
    "            self.weight = 70 # need to check this value\n",
    "\n",
    "class Group:\n",
    "\n",
    "    def __init__(self, id_group, num_women, num_men, transit_time=0):\n",
    "        self.id_group = id_group\n",
    "        self.num_women = num_women\n",
    "        self.num_men = num_men\n",
    "        self.transit_time = transit_time\n",
    "\n",
    "        self.members = []\n",
    "\n",
    "        global passenger_id\n",
    "\n",
    "        for i in range(self.num_women):\n",
    "            self.members.append(Passenger(\n",
    "                self.id_group,\n",
    "                passenger_id,\n",
    "                'women',\n",
    "                self.transit_time\n",
    "            ))\n",
    "            passenger_id+=1\n",
    "        \n",
    "        for i in range(self.num_men):\n",
    "            self.members.append(Passenger(\n",
    "                self.id_group,\n",
    "                passenger_id,\n",
    "                'men',\n",
    "                self.transit_time\n",
    "            ))\n",
    "            passenger_id+=1\n",
    "        \n",
    "        return\n",
    "    \n",
    "    \n"
   ]
  },
  {
   "cell_type": "markdown",
   "metadata": {},
   "source": [
    "We then create some functions to import the data from the spreadsheets."
   ]
  },
  {
   "cell_type": "code",
   "execution_count": 5,
   "metadata": {},
   "outputs": [],
   "source": [
    "def read_and_preprocess(file, date):\n",
    "    df = pd.read_excel(file, date)\n",
    "    \n",
    "    df['TransitTime (min)'] = df['TransitTime'].apply(lambda x: float(str(x).split(':')[0])*60+float(str(x).split(':')[1]))\n",
    "\n",
    "    df[['Femmes', 'Hommes', 'Enfants', 'WCHR', 'WCHB']] = df[['Femmes', 'Hommes', 'Enfants', 'WCHR', 'WCHB']].fillna(0)\n",
    "\n",
    "    return df\n",
    "\n",
    "def get_list_passengers(df):\n",
    "    list_groups = {}\n",
    "\n",
    "    for idx, row in df.iterrows():\n",
    "\n",
    "        list_groups[int(idx)] = Group(\n",
    "            id_group=int(idx),\n",
    "            num_women=int(row['Femmes']),\n",
    "            num_men=int(row['Hommes']),\n",
    "            transit_time=row['TransitTime (min)']\n",
    "        )\n",
    "    \n",
    "    return list_groups\n"
   ]
  },
  {
   "cell_type": "code",
   "execution_count": 6,
   "metadata": {},
   "outputs": [],
   "source": [
    "# Load Passengers\n",
    "\n",
    "df = read_and_preprocess('DataSeating - V3.xlsx', '21Oct')\n",
    "\n",
    "groups = get_list_passengers(df)\n",
    "\n",
    "passengers = list()\n",
    "\n",
    "for g in groups.keys():\n",
    "    passengers += groups[g].members\n",
    "\n",
    "passenger_from_id = {}\n",
    "for p in passengers:\n",
    "    passenger_from_id[p.passenger_id] = p"
   ]
  },
  {
   "cell_type": "markdown",
   "metadata": {},
   "source": [
    "As a final setup we define some problem parameters."
   ]
  },
  {
   "cell_type": "code",
   "execution_count": 7,
   "metadata": {},
   "outputs": [],
   "source": [
    "\n",
    "passengers_count = len(passengers)\n",
    "\n",
    "width = 6\n",
    "height = 28\n",
    "X = [-3, -2, -1, 0, 1, 2, 3]\n",
    "Y = list(range(-14,0)) + list(range(1,14+1))\n",
    "\n",
    "total_weight = sum(p.weight for p in passengers)\n"
   ]
  },
  {
   "cell_type": "markdown",
   "metadata": {},
   "source": [
    "# Model Definition"
   ]
  },
  {
   "cell_type": "code",
   "execution_count": 76,
   "metadata": {},
   "outputs": [],
   "source": [
    "m = Model(\"model_v1\")"
   ]
  },
  {
   "cell_type": "markdown",
   "metadata": {},
   "source": [
    "The main decision variable here is the allocation $A^p_{(i~,~j)}$ : binary variable that says for each passenger with id $p$ if he is located at the seat in coordinates $(i~,~j)$.\n",
    "\n",
    "\n",
    "This is represented in python by the variable allocation[p, i, j].\n",
    "\n",
    "For instance, if passenger 1 is at the place : (2, 3), then allocation[1,2,3] = 1. Else, it equals 0."
   ]
  },
  {
   "cell_type": "code",
   "execution_count": 77,
   "metadata": {},
   "outputs": [],
   "source": [
    "# Allocation Variables\n",
    "allocation = m.addVars(passengers_count, width+1, height, vtype=GRB.BINARY, name=\"Allocation\")"
   ]
  },
  {
   "cell_type": "markdown",
   "metadata": {},
   "source": [
    "# Constraints"
   ]
  },
  {
   "cell_type": "markdown",
   "id": "3d2f5067",
   "metadata": {},
   "source": [
    "**At most 1 person per seat:** there can't be more than 1 person in each seat.\n",
    "\n",
    "$$\\sum_{p \\in \\text{Passengers}} A^p_{(i~,~j)} \\leq 1~~\\forall (i, j) \\in \\text{Seats}$$"
   ]
  },
  {
   "cell_type": "code",
   "execution_count": 78,
   "metadata": {},
   "outputs": [],
   "source": [
    "# Make sure that there is at most one person per seat\n",
    "C_limited_seat = m.addConstrs((quicksum([allocation[p.passenger_id,i,j] for p in passengers]) <= 1 for i in range(width+1) for j in range(height)))"
   ]
  },
  {
   "cell_type": "markdown",
   "id": "3d2f5067",
   "metadata": {},
   "source": [
    "**Every passenger is served:** every passenger should be allocated to precisely one seat.\n",
    "\n",
    "$$\\sum_{(i,j) \\in \\text{Seats}} A^p_{(i~,~j)} == 1~~\\forall p \\in \\text{Passengers}$$"
   ]
  },
  {
   "cell_type": "code",
   "execution_count": 79,
   "metadata": {},
   "outputs": [],
   "source": [
    "# Maker sure that everyone is seated and only in one spot\n",
    "C_serve_all = m.addConstrs((quicksum([allocation[p.passenger_id,i,j] for i in range(width+1) for j in range(height) ]) == 1 for p in passengers))"
   ]
  },
  {
   "cell_type": "markdown",
   "metadata": {},
   "source": [
    "**Empty Corridor**: there should be no passenger allocated to the corridor (i=3).\n",
    "$$A^p_{(i,j)}==0~~\\forall (p,i,j) \\in \\text{Passengers} \\times \\text{Seats}$$"
   ]
  },
  {
   "cell_type": "code",
   "execution_count": 80,
   "metadata": {},
   "outputs": [],
   "source": [
    "# Make sure that the corridor is not considered as a possible seat\n",
    "C_empty_corridor = m.addConstrs((0 == allocation[p,3,j] for p in range(passengers_count) for j in range(height)))"
   ]
  },
  {
   "cell_type": "markdown",
   "metadata": {},
   "source": [
    "**Barycenter Constraint:** the center of mass of the passengers must reside within a limited area. For this purpose the barycenter function is divided into its X and Y coordinate and then each constraint is divided into an inferior limit and a superior limit constraint.\n",
    "\n",
    "$$ \\frac{1}{w_t}\\sum_{(p,i,j) \\in \\text{Passengers} \\times \\text{Seats}} A^p_{(i,j)} \\cdot w(p) \\cdot X(i) \\leq B_{max}^X$$\n",
    "\n",
    "$$ \\frac{1}{w_t}\\sum_{(p,i,j) \\in \\text{Passengers} \\times \\text{Seats}} A^p_{(i,j)} \\cdot w(p) \\cdot X(i) \\geq B_{min}^X$$\n",
    "\n",
    "$$ \\frac{1}{w_t}\\sum_{(p,i,j) \\in \\text{Passengers} \\times \\text{Seats}} A^p_{(i,j)} \\cdot w(p) \\cdot Y(j) \\leq B_{max}^Y$$\n",
    "\n",
    "$$ \\frac{1}{w_t}\\sum_{(p,i,j) \\in \\text{Passengers} \\times \\text{Seats}} A^p_{(i,j)} \\cdot w(p) \\cdot Y(j) \\geq B_{min}^Y$$\n",
    "\n",
    "\n",
    "Where :\n",
    "- $w_t$ is the total weight of all passengers.\n",
    "- $w(p)$ is the weight of passenger with id $p$.\n",
    "- $X(i)$ is the distance in meters at coordinate i.\n",
    "- $Y(j)$ is the distance in meters at coordinate j.\n",
    "- $B_{max}^X$ is the upper bound of the barycenter in the X axis.\n",
    "- $B_{min}^X$ is the lower bound of the barycenter in the X axis.\n",
    "- $B_{max}^Y$ is the upper bound of the barycenter in the Y axis.\n",
    "- $B_{min}^Y$ is the lower bound of the barycenter in the Y axis.\n"
   ]
  },
  {
   "cell_type": "code",
   "execution_count": 81,
   "metadata": {},
   "outputs": [],
   "source": [
    "# Center of Mass function\n",
    "barycenter_X = quicksum([p.weight * allocation[p.passenger_id,i,j]*X[i] for p in passengers for i in range(width+1) for j in range(height)])/total_weight\n",
    "barycenter_Y = quicksum([p.weight * allocation[p.passenger_id,i,j]*Y[j] for p in passengers for i in range(width+1) for j in range(height)])/total_weight\n",
    "\n",
    "# Barycenter limits\n",
    "bary_lim_X = 1\n",
    "bary_lim_Y = 2\n",
    "\n",
    "# Make sure that the center of mass is centralized\n",
    "\n",
    "C_bary_X_p = m.addConstr(barycenter_X <=  bary_lim_X)\n",
    "C_bary_X_m = m.addConstr(barycenter_X >= -bary_lim_X)\n",
    "C_bary_Y_p = m.addConstr(barycenter_Y <=  bary_lim_Y)\n",
    "C_bary_Y_m = m.addConstr(barycenter_Y >= -bary_lim_Y)"
   ]
  },
  {
   "cell_type": "markdown",
   "metadata": {},
   "source": [
    "**Transit Time Constraint**: the people with a transit time inferior to 90 minutes should stay in the front.\n",
    "\n",
    "$$ A^p_{(i,j)} \\leq \\epsilon(p) ~~ \\forall (p,i,j) \\in \\text{Passengers in transit} \\times \\text{Columns} \\times \\text{Upper rows}$$\n",
    "\n",
    "Where $\\epsilon(p)$ is a new auxiliary variable that we want to minimize."
   ]
  },
  {
   "cell_type": "code",
   "execution_count": 92,
   "metadata": {},
   "outputs": [],
   "source": [
    "epsilon = m.addVars([p.passenger_id for p in passengers if p.transit_time < 90], vtype=GRB.BINARY)\n",
    "m.addConstrs(allocation[p.passenger_id,i,j] <= epsilon[p.passenger_id] for i in range(width+1) for j in range(height) for p in passengers if p.transit_time < 90 and j > 13);"
   ]
  },
  {
   "cell_type": "markdown",
   "metadata": {},
   "source": [
    "# Objective Function"
   ]
  },
  {
   "cell_type": "code",
   "execution_count": 96,
   "metadata": {},
   "outputs": [],
   "source": [
    "i_p = m.addVars(passengers_count, vtype=GRB.INTEGER, lb=0, ub=width, name=\"i_p\")\n",
    "j_p = m.addVars(passengers_count, vtype=GRB.INTEGER, lb=0, ub=height, name=\"j_p\")\n",
    "\n",
    "i_g_max = m.addVars(len(groups), vtype=GRB.INTEGER, lb=0, ub=width, name=\"i_g_max\")\n",
    "i_g_min = m.addVars(len(groups), vtype=GRB.INTEGER, lb=0, ub=width, name=\"i_g_min\")\n",
    "j_g_max = m.addVars(len(groups), vtype=GRB.INTEGER, lb=0, ub=height, name=\"j_g_max\")\n",
    "j_g_min = m.addVars(len(groups), vtype=GRB.INTEGER, lb=0, ub=height, name=\"j_g_min\")\n",
    "\n",
    "i_g_delta = m.addVars(len(groups), vtype=GRB.INTEGER, lb=0, ub=width, name=\"i_g_delta\")\n",
    "j_g_delta = m.addVars(len(groups), vtype=GRB.INTEGER, lb=0, ub=height, name=\"j_g_delta\")\n",
    "\n",
    "m.addConstrs((i_p[p] == quicksum([i*allocation[p,i,j] for i in range(width+1) for j in range(height)]) for p in range(passengers_count)))\n",
    "m.addConstrs((j_p[p] == quicksum([j*allocation[p,i,j] for i in range(width+1) for j in range(height)]) for p in range(passengers_count)))\n",
    "\n",
    "for g in range(len(groups)):\n",
    "    if len(groups[g].members) > 1 and  len(groups[g].members)  <= 3:\n",
    "    \n",
    "        m.addConstrs(( i_g_max[g] >= i_p[p.passenger_id] for p in groups[g].members ))\n",
    "        m.addConstrs(( i_g_min[g] <= i_p[p.passenger_id] for p in groups[g].members ))\n",
    "        m.addConstrs(( j_g_max[g] >= j_p[p.passenger_id] for p in groups[g].members ))\n",
    "        m.addConstrs(( j_g_min[g] <= j_p[p.passenger_id] for p in groups[g].members ))\n",
    "        \n",
    "        m.addConstr(i_g_delta[g] == i_g_max[g] - i_g_min[g])\n",
    "        m.addConstr(j_g_delta[g] == j_g_max[g] - j_g_min[g])\n",
    "\n",
    "\n",
    "def in_grid(i, j):\n",
    "    return i>=0 and j>=0 and j<height and i <= width\n",
    "\n",
    "e_allocation = lambda p, i, j: allocation[p,i,j] if in_grid(i,j) else 0\n",
    "\n",
    "\n",
    "m.setObjective( j_g_delta.sum() + epsilon.sum(), GRB.MINIMIZE)\n"
   ]
  },
  {
   "cell_type": "code",
   "execution_count": 97,
   "metadata": {},
   "outputs": [
    {
     "name": "stdout",
     "output_type": "stream",
     "text": [
      "Gurobi Optimizer version 9.5.0 build v9.5.0rc5 (win64)\n",
      "Thread count: 6 physical cores, 12 logical processors, using up to 12 threads\n",
      "Optimize a model with 24442 rows, 32690 columns and 374087 nonzeros\n",
      "Model fingerprint: 0x15e377e0\n",
      "Variable types: 0 continuous, 32690 integer (29786 binary)\n",
      "Coefficient statistics:\n",
      "  Matrix range     [6e-03, 3e+01]\n",
      "  Objective range  [1e+00, 1e+00]\n",
      "  Bounds range     [1e+00, 3e+01]\n",
      "  RHS range        [1e+00, 2e+00]\n",
      "\n",
      "MIP start from previous solve produced solution with objective 109 (0.07s)\n",
      "Loaded MIP start from previous solve with objective 109\n",
      "\n",
      "Presolve removed 23650 rows and 7054 columns\n",
      "Presolve time: 0.46s\n",
      "Presolved: 792 rows, 25636 columns, 117380 nonzeros\n",
      "Variable types: 2 continuous, 25634 integer (25368 binary)\n",
      "\n",
      "Root relaxation: objective 1.100000e+01, 1476 iterations, 0.12 seconds (0.16 work units)\n",
      "\n",
      "    Nodes    |    Current Node    |     Objective Bounds      |     Work\n",
      " Expl Unexpl |  Obj  Depth IntInf | Incumbent    BestBd   Gap | It/Node Time\n",
      "\n",
      "     0     0   11.00000    0  204  109.00000   11.00000  89.9%     -    1s\n",
      "H    0     0                     108.0000000   11.00000  89.8%     -    1s\n",
      "H    0     0                      99.0000000   11.00000  88.9%     -    1s\n",
      "H    0     0                      88.0000000   11.00000  87.5%     -    2s\n",
      "H    0     0                      66.0000000   11.00000  83.3%     -    2s\n",
      "     0     0   11.00000    0  491   66.00000   11.00000  83.3%     -    3s\n",
      "H    0     0                      49.0000000   11.00000  77.6%     -    7s\n",
      "     0     0   11.00000    0  490   49.00000   11.00000  77.6%     -    7s\n",
      "     0     0   11.00000    0  213   49.00000   11.00000  77.6%     -    8s\n",
      "     0     0   11.00000    0  270   49.00000   11.00000  77.6%     -    9s\n",
      "     0     0   11.00000    0  172   49.00000   11.00000  77.6%     -   10s\n",
      "     0     0   11.00000    0  307   49.00000   11.00000  77.6%     -   11s\n",
      "     0     0   11.00000    0  178   49.00000   11.00000  77.6%     -   12s\n",
      "     0     0   11.00000    0  327   49.00000   11.00000  77.6%     -   12s\n",
      "     0     0   11.00000    0  183   49.00000   11.00000  77.6%     -   13s\n",
      "     0     0   11.00000    0  183   49.00000   11.00000  77.6%     -   14s\n",
      "     0     2   11.00000    0  124   49.00000   11.00000  77.6%     -   15s\n",
      "H   33    38                      48.0000000   11.00000  77.1%   304   17s\n",
      "H   34    38                      47.0000000   11.00000  76.6%   295   17s\n"
     ]
    }
   ],
   "source": [
    "m.update()\n",
    "m.optimize()"
   ]
  },
  {
   "cell_type": "code",
   "execution_count": 95,
   "metadata": {},
   "outputs": [
    {
     "name": "stdout",
     "output_type": "stream",
     "text": [
      "Center of Mass: (-0.07, -0.94)\n"
     ]
    },
    {
     "data": {
      "text/plain": [
       "(-3.5, 3.5)"
      ]
     },
     "execution_count": 95,
     "metadata": {},
     "output_type": "execute_result"
    },
    {
     "data": {
      "image/png": "[encoded data removed]",
      "text/plain": [
       "<Figure size 360x720 with 1 Axes>"
      ]
     },
     "metadata": {
      "needs_background": "light"
     },
     "output_type": "display_data"
    }
   ],
   "source": [
    "cm_x = round(barycenter_X.getValue(),2)\n",
    "cm_y = round(barycenter_Y.getValue(),2)\n",
    "\n",
    "print(f\"Center of Mass: {(cm_x, cm_y)}\")\n",
    "\n",
    "\n",
    "fig = plt.figure(figsize=(5,10));\n",
    "for seat in itertools.product(X,Y):\n",
    "    if seat[0] != 0:\n",
    "        plt.plot(seat[0],seat[1],'s', color=\"gray\", markersize=15)\n",
    "\n",
    "plt.plot([bary_lim_X, bary_lim_X]  , [-bary_lim_Y, bary_lim_Y],   color=\"cyan\")\n",
    "plt.plot([-bary_lim_X, -bary_lim_X], [-bary_lim_Y, bary_lim_Y],   color=\"cyan\")\n",
    "plt.plot([-bary_lim_X, bary_lim_X] , [bary_lim_Y, bary_lim_Y],    color=\"cyan\")\n",
    "plt.plot([-bary_lim_X, bary_lim_X] , [-bary_lim_Y, -bary_lim_Y],   color=\"cyan\")\n",
    "\n",
    "#for g in range(len(groups)):\n",
    "    #print(j_g_max[g].x, j_g_min[g].x)\n",
    "\n",
    "for a in allocation:\n",
    "    if allocation[a].x == 1:\n",
    "        \n",
    "        if len(groups[passenger_from_id[a[0]].group_index].members) == 1:\n",
    "            color = \"green\"\n",
    "        else:\n",
    "            color = \"blue\"\n",
    "\n",
    "        \n",
    "        #plt.plot(X[a[1]],Y[a[2]], 'o',color=colors[passengers[a[0]].group_index-1])\n",
    "        plt.plot(X[a[1]], Y[a[2]], 's', color=color, markersize=15)\n",
    "        #plt.text(X[a[1]], Y[a[2]],passengers[a[0]].group_index, ha=\"center\", va=\"center\")\n",
    "        plt.text(X[a[1]], Y[a[2]],passenger_from_id[a[0]].transit_time < 90, ha=\"center\", va=\"center\")\n",
    "        #print(f\"ID:{a[0]} - {(X[a[1]], Y[a[2]])}/{(a[1], a[2])} Sats: satisfaction[a[0]].x\")\n",
    "plt.plot(cm_x,cm_y, \"*\", color=\"red\")\n",
    "plt.ylim([-14.5,14.5])\n",
    "plt.xlim([-3.5,3.5])"
   ]
  }
 ],
 "metadata": {
  "interpreter": {
   "hash": "4edc6bdd590a5a6b92c48979e9e47f5638d187f6c4ff6a23aa9775e5ee8e38f8"
  },
  "kernelspec": {
   "display_name": "Python 3.9.10 64-bit (windows store)",
   "language": "python",
   "name": "python3"
  },
  "language_info": {
   "codemirror_mode": {
    "name": "ipython",
    "version": 3
   },
   "file_extension": ".py",
   "mimetype": "text/x-python",
   "name": "python",
   "nbconvert_exporter": "python",
   "pygments_lexer": "ipython3",
   "version": "3.9.10"
  },
  "orig_nbformat": 4
 },
 "nbformat": 4,
 "nbformat_minor": 2
}
